{
 "cells": [
  {
   "attachments": {},
   "cell_type": "markdown",
   "metadata": {},
   "source": [
    "### How we can use **correlation based method** to decide which lags we could use."
   ]
  },
  {
   "cell_type": "code",
   "execution_count": 57,
   "metadata": {},
   "outputs": [],
   "source": [
    "import pandas as pd\n",
    "import numpy as np\n",
    "import matplotlib.pyplot as plt\n",
    "from matplotlib.gridspec import GridSpec\n",
    "from matplotlib.ticker import MaxNLocator\n",
    "\n",
    "from statsmodels.graphics.tsaplots import plot_acf, plot_pacf\n",
    "from statsmodels.tsa.seasonal import MSTL\n",
    "from statsmodels.tsa.stattools import ccf"
   ]
  },
  {
   "attachments": {},
   "cell_type": "markdown",
   "metadata": {},
   "source": [
    "### Data\n",
    "Air Quality Dataset from the [UCI Machine Learning Repository](https://archive.ics.uci.edu/ml/datasets/Air+Quality)."
   ]
  },
  {
   "cell_type": "code",
   "execution_count": 3,
   "metadata": {},
   "outputs": [],
   "source": [
    "df = pd.read_csv('../../Datasets/AirQualityUCI_ready.csv', parse_dates=['Date_Time'], index_col=['Date_Time'])\n",
    "# keep only quality data\n",
    "df = df.query(' index>=\"2004-04-01\" and index<=\"2005-04-30\" ')\n",
    "# resample the data, freq=1H\n",
    "df = df.asfreq('1H')\n",
    "\n",
    "# Remove measurements from fixed stations.\n",
    "# We'll only be using sensor data.\n",
    "remove = [f for f in df.columns if '_true' in f]\n",
    "# Remove adjusted humidity.\n",
    "remove.append('AH')\n",
    "df.drop(columns=remove, inplace=True)\n",
    "\n",
    "# remove negative inputs\n",
    "df[df<0]=np.nan\n",
    "\n",
    "# Fill missing data\n",
    "df = df.fillna(method=\"ffill\")"
   ]
  },
  {
   "attachments": {},
   "cell_type": "markdown",
   "metadata": {},
   "source": [
    "#### Utils"
   ]
  },
  {
   "cell_type": "code",
   "execution_count": 14,
   "metadata": {},
   "outputs": [],
   "source": [
    "# util for plotting ACF and PACF\n",
    "def plot_acf_and_pacf(feature, lags=168, figsize=(15,4)):\n",
    "    fig, ax = plt.subplots(nrows=1, ncols=2, figsize=figsize)\n",
    "    plot_acf(df[feature], lags=lags, ax=ax[0], auto_ylims=True);\n",
    "    plot_pacf(df[feature], lags=lags, ax=ax[1], auto_ylims=True);\n",
    "    fig.suptitle(t=feature, size=20)\n"
   ]
  },
  {
   "attachments": {},
   "cell_type": "markdown",
   "metadata": {},
   "source": [
    "### lets create lags upto 168 -- a week -- 7 Days\n",
    "\n",
    "#### ACF shows peaks at multiples of 24Hr , this indicates daily seasonality. This is corroborated with the PACF showing a peak at 24 hours."
   ]
  },
  {
   "cell_type": "code",
   "execution_count": 18,
   "metadata": {},
   "outputs": [],
   "source": [
    "for feat in df.columns:\n",
    "    plot_acf_and_pacf(feature=feat)"
   ]
  },
  {
   "attachments": {},
   "cell_type": "markdown",
   "metadata": {},
   "source": [
    "<img src='./plots/ACF-plot-CO_sensor.png'>\n",
    "<img src='./plots/ACF-plot-NMHC_sensor.png'>\n",
    "<img src='./plots/ACF-plot-NOX_sensor.png'>\n",
    "<img src='./plots/ACF-plot-NO2_sensor.png'>\n",
    "<img src='./plots/ACF-plot-O3_sensor.png'>\n",
    "<img src='./plots/ACF-plot-T_sensor.png'>\n",
    "<img src='./plots/ACF-plot-RH_sensor.png'>"
   ]
  },
  {
   "attachments": {},
   "cell_type": "markdown",
   "metadata": {},
   "source": [
    "### Let's zoom in and look at the plots over a smaller set of lags to confirm what we see.\n",
    "\n",
    "### Lag of 3days "
   ]
  },
  {
   "cell_type": "code",
   "execution_count": 26,
   "metadata": {},
   "outputs": [],
   "source": [
    "for feat in df.columns:\n",
    "    plot_acf_and_pacf(feature=feat, lags=3*24)"
   ]
  },
  {
   "attachments": {},
   "cell_type": "markdown",
   "metadata": {},
   "source": [
    "<img src='./plots/ACF-plot-CO_sensor--3-day-lag.png'>\n",
    "<img src='./plots/ACF-plot-NMHC_sensor--3-day-lag.png'>\n",
    "<img src='./plots/ACF-plot-NOX_sensor--3-day-lag.png'>\n",
    "<img src='./plots/ACF-plot-NO2_sensor--3-day-lag.png'>\n",
    "<img src='./plots/ACF-plot-O3_sensor--3-day-lag.png'>\n",
    "<img src='./plots/ACF-plot-T_sensor--3-day-lag.png'>\n",
    "<img src='./plots/ACF-plot-RH_sensor--3-day-lag.png'>"
   ]
  },
  {
   "attachments": {},
   "cell_type": "markdown",
   "metadata": {},
   "source": [
    "### The ACF definitely has peaks at 12 hour periods for some sensors. This is confirmed in the PACF where we see a little peak close to a lag of 12 or 13. The PACF shows that typically it is the most recent lags (e.g., 1 or 2 hours) that matter the most and that there is some seasonality potentially with periods 12 and 24. This confirms what we have so far seen in this dataset using domain knowledge and feature selection methods."
   ]
  },
  {
   "attachments": {},
   "cell_type": "markdown",
   "metadata": {},
   "source": [
    "#### Let's look at the ACF at just over 2 weeks worth of lags to see if there is any weekly seasonality visible. We'll also look at the PACF and see if there are any peaks close to 1 week.\n",
    "\n",
    "* If there is a weekly pattern we should see a spike near lag of 168"
   ]
  },
  {
   "cell_type": "code",
   "execution_count": 29,
   "metadata": {},
   "outputs": [],
   "source": [
    "for feat in df.columns:\n",
    "    plot_acf_and_pacf(feature=feat, lags=15*24)"
   ]
  },
  {
   "attachments": {},
   "cell_type": "markdown",
   "metadata": {},
   "source": [
    "<img src='./plots/ACF-plot-CO_sensor--weekly-pattern.png'>\n",
    "<img src='./plots/ACF-plot-NMHC_sensor--weekly-pattern.png'>\n",
    "<img src='./plots/ACF-plot-NOX_sensor--weekly-pattern.png'>\n",
    "<img src='./plots/ACF-plot-NO2_sensor--weekly-pattern.png'>\n",
    "<img src='./plots/ACF-plot-O3_sensor--weekly-pattern.png'>\n",
    "<img src='./plots/ACF-plot-T_sensor--weekly-pattern.png'>\n",
    "<img src='./plots/ACF-plot-RH_sensor--weekly-pattern.png'>"
   ]
  },
  {
   "attachments": {},
   "cell_type": "markdown",
   "metadata": {},
   "source": [
    "#### The ACF suggests there could be another peak occuring at 168 hours (i.e., 1 week). This is hinted at in the PACF but isn't always clear.\n",
    "\n",
    "#### So far from looking at the ACF and PACF we would use recent lags (1 or 2 hours) and seasonal lags (12, 24, and 168 hours)."
   ]
  },
  {
   "attachments": {},
   "cell_type": "markdown",
   "metadata": {},
   "source": [
    "#### PACF assumes timeseries data to be stationary\n",
    "\n",
    "#### As the time series has multiple seasonal components we shall use MSTL to decompose the time series into trend and multiple seasonal components. The residual is equivalent to subtracting the original series by the trend and seasonal components. So we shall look at the ACF and PACF of the residuals of the decomposition."
   ]
  },
  {
   "cell_type": "code",
   "execution_count": 34,
   "metadata": {},
   "outputs": [],
   "source": [
    "mstl = {}\n",
    "for feat in df.columns:\n",
    "    res = MSTL(endog=df[feat], periods=[24, 7*24]).fit()\n",
    "    mstl[feat] = res"
   ]
  },
  {
   "cell_type": "code",
   "execution_count": 51,
   "metadata": {},
   "outputs": [],
   "source": [
    "def mstl_resid_plot_acf_pacf(feat, lags=48, figsize=(18, 6)):\n",
    "    plt.figure(figsize=(18,6))\n",
    "    grid = GridSpec(nrows=2, ncols=2)\n",
    "    ax_1 = plt.subplot(grid[0,:])\n",
    "    ax_2 = plt.subplot(grid[1,0])\n",
    "    ax_3 = plt.subplot(grid[1,1])\n",
    "\n",
    "    ax_1.plot(mstl[feat].resid);\n",
    "    plot_acf(mstl[feat].resid, ax=ax_2, auto_ylims=True, lags=lags);\n",
    "    plot_pacf(mstl[feat].resid, ax=ax_3, auto_ylims=True, lags=lags);\n",
    "    plt.suptitle(f'{feat} with trend & seasonality removed', size=20)\n",
    "    plt.tight_layout();\n",
    "\n"
   ]
  },
  {
   "cell_type": "code",
   "execution_count": 54,
   "metadata": {},
   "outputs": [],
   "source": [
    "\n",
    "for feat in df.columns:\n",
    "    mstl_resid_plot_acf_pacf(feat)"
   ]
  },
  {
   "attachments": {},
   "cell_type": "markdown",
   "metadata": {},
   "source": [
    "<img src='./plots/MSTL-CO_sensor-ACF-PACF.png'>\n",
    "<img src='./plots/MSTL-NMHC_sensor-ACF-PACF.png'>\n",
    "<img src='./plots/MSTL-NOX_sensor-ACF-PACF.png'>\n",
    "<img src='./plots/MSTL-NO2_sensor-ACF-PACF.png'>\n",
    "<img src='./plots/MSTL-O3_sensor-ACF-PACF.png'>\n",
    "<img src='./plots/MSTL-T_sensor-ACF-PACF.png'>\n",
    "<img src='./plots/MSTL-RH_sensor-ACF-PACF.png'>"
   ]
  },
  {
   "attachments": {},
   "cell_type": "markdown",
   "metadata": {},
   "source": [
    "#### CROSS CORRELATION\n",
    "\n",
    "Let's see if there is any cross-correlation between any of the variables and `NO2_sensor`."
   ]
  },
  {
   "cell_type": "code",
   "execution_count": 84,
   "metadata": {},
   "outputs": [],
   "source": [
    "def plot_ccf(x, y, lags=25, ax=None, title='CROSS CORRELATION'):\n",
    "    res = ccf(x, y)\n",
    "    ci = 2 / np.sqrt(len(y))\n",
    "    if ax is None:\n",
    "        ax = plt.subplot()\n",
    "    ax.stem(res[:lags+1])\n",
    "    ax.fill_between(range(lags+2), -ci, ci, alpha=0.5, color='steelblue')\n",
    "    ax.set(title=title)"
   ]
  },
  {
   "cell_type": "code",
   "execution_count": 95,
   "metadata": {},
   "outputs": [],
   "source": [
    "ccf_x =[x for x in df.columns if x not in ['NO2_sensor']]\n",
    "ccf_y='NO2_sensor'"
   ]
  },
  {
   "cell_type": "code",
   "execution_count": 99,
   "metadata": {},
   "outputs": [],
   "source": [
    "fig, ax = plt.subplots(nrows=6, ncols=1, figsize=(10,16))\n",
    "ax = ax.ravel()\n",
    "for frame, feat in zip(ax, ccf_x):\n",
    "    plot_ccf(x=mstl[feat].resid, y=mstl[ccf_y].resid, lags=168, ax=frame, title=f'CROSS CORRELATION {feat} vs {ccf_y}')\n",
    "\n",
    "plt.tight_layout()"
   ]
  },
  {
   "attachments": {},
   "cell_type": "markdown",
   "metadata": {},
   "source": [
    "<img src='./plots/CROSS-CORRELATION-air-pollution-data.png'>"
   ]
  }
 ],
 "metadata": {
  "kernelspec": {
   "display_name": "timeseries-env",
   "language": "python",
   "name": "python3"
  },
  "language_info": {
   "codemirror_mode": {
    "name": "ipython",
    "version": 3
   },
   "file_extension": ".py",
   "mimetype": "text/x-python",
   "name": "python",
   "nbconvert_exporter": "python",
   "pygments_lexer": "ipython3",
   "version": "3.9.13"
  },
  "orig_nbformat": 4,
  "vscode": {
   "interpreter": {
    "hash": "5344483434f8feb0f4e4edbcac037dc40f14ec44f0a8519da7d24204004147d4"
   }
  }
 },
 "nbformat": 4,
 "nbformat_minor": 2
}
