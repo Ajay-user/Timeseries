{
 "cells": [
  {
   "cell_type": "code",
   "execution_count": 97,
   "metadata": {},
   "outputs": [],
   "source": [
    "import pandas as pd\n",
    "import numpy as np\n",
    "import matplotlib.pyplot as plt\n",
    "import seaborn as sns"
   ]
  },
  {
   "attachments": {},
   "cell_type": "markdown",
   "metadata": {},
   "source": [
    "## Load data\n",
    "\n",
    "Air Quality Dataset from the [UCI Machine Learning Repository](https://archive.ics.uci.edu/ml/datasets/Air+Quality)."
   ]
  },
  {
   "cell_type": "code",
   "execution_count": 15,
   "metadata": {},
   "outputs": [
    {
     "data": {
      "text/html": [
       "<div>\n",
       "<style scoped>\n",
       "    .dataframe tbody tr th:only-of-type {\n",
       "        vertical-align: middle;\n",
       "    }\n",
       "\n",
       "    .dataframe tbody tr th {\n",
       "        vertical-align: top;\n",
       "    }\n",
       "\n",
       "    .dataframe thead th {\n",
       "        text-align: right;\n",
       "    }\n",
       "</style>\n",
       "<table border=\"1\" class=\"dataframe\">\n",
       "  <thead>\n",
       "    <tr style=\"text-align: right;\">\n",
       "      <th></th>\n",
       "      <th>CO_true</th>\n",
       "      <th>CO_sensor</th>\n",
       "      <th>NMHC_true</th>\n",
       "      <th>C6H6_true</th>\n",
       "      <th>NMHC_sensor</th>\n",
       "      <th>NOX_true</th>\n",
       "      <th>NOX_sensor</th>\n",
       "      <th>NO2_true</th>\n",
       "      <th>NO2_sensor</th>\n",
       "      <th>O3_sensor</th>\n",
       "      <th>T</th>\n",
       "      <th>RH</th>\n",
       "      <th>AH</th>\n",
       "    </tr>\n",
       "    <tr>\n",
       "      <th>Date_Time</th>\n",
       "      <th></th>\n",
       "      <th></th>\n",
       "      <th></th>\n",
       "      <th></th>\n",
       "      <th></th>\n",
       "      <th></th>\n",
       "      <th></th>\n",
       "      <th></th>\n",
       "      <th></th>\n",
       "      <th></th>\n",
       "      <th></th>\n",
       "      <th></th>\n",
       "      <th></th>\n",
       "    </tr>\n",
       "  </thead>\n",
       "  <tbody>\n",
       "    <tr>\n",
       "      <th>2004-10-03 18:00:00</th>\n",
       "      <td>2.6</td>\n",
       "      <td>1360.0</td>\n",
       "      <td>150.0</td>\n",
       "      <td>11.9</td>\n",
       "      <td>1046.0</td>\n",
       "      <td>166.0</td>\n",
       "      <td>1056.0</td>\n",
       "      <td>113.0</td>\n",
       "      <td>1692.0</td>\n",
       "      <td>1268.0</td>\n",
       "      <td>13.6</td>\n",
       "      <td>48.9</td>\n",
       "      <td>0.7578</td>\n",
       "    </tr>\n",
       "    <tr>\n",
       "      <th>2004-10-03 19:00:00</th>\n",
       "      <td>2.0</td>\n",
       "      <td>1292.0</td>\n",
       "      <td>112.0</td>\n",
       "      <td>9.4</td>\n",
       "      <td>955.0</td>\n",
       "      <td>103.0</td>\n",
       "      <td>1174.0</td>\n",
       "      <td>92.0</td>\n",
       "      <td>1559.0</td>\n",
       "      <td>972.0</td>\n",
       "      <td>13.3</td>\n",
       "      <td>47.7</td>\n",
       "      <td>0.7255</td>\n",
       "    </tr>\n",
       "    <tr>\n",
       "      <th>2004-10-03 20:00:00</th>\n",
       "      <td>2.2</td>\n",
       "      <td>1402.0</td>\n",
       "      <td>88.0</td>\n",
       "      <td>9.0</td>\n",
       "      <td>939.0</td>\n",
       "      <td>131.0</td>\n",
       "      <td>1140.0</td>\n",
       "      <td>114.0</td>\n",
       "      <td>1555.0</td>\n",
       "      <td>1074.0</td>\n",
       "      <td>11.9</td>\n",
       "      <td>54.0</td>\n",
       "      <td>0.7502</td>\n",
       "    </tr>\n",
       "    <tr>\n",
       "      <th>2004-10-03 21:00:00</th>\n",
       "      <td>2.2</td>\n",
       "      <td>1376.0</td>\n",
       "      <td>80.0</td>\n",
       "      <td>9.2</td>\n",
       "      <td>948.0</td>\n",
       "      <td>172.0</td>\n",
       "      <td>1092.0</td>\n",
       "      <td>122.0</td>\n",
       "      <td>1584.0</td>\n",
       "      <td>1203.0</td>\n",
       "      <td>11.0</td>\n",
       "      <td>60.0</td>\n",
       "      <td>0.7867</td>\n",
       "    </tr>\n",
       "    <tr>\n",
       "      <th>2004-10-03 22:00:00</th>\n",
       "      <td>1.6</td>\n",
       "      <td>1272.0</td>\n",
       "      <td>51.0</td>\n",
       "      <td>6.5</td>\n",
       "      <td>836.0</td>\n",
       "      <td>131.0</td>\n",
       "      <td>1205.0</td>\n",
       "      <td>116.0</td>\n",
       "      <td>1490.0</td>\n",
       "      <td>1110.0</td>\n",
       "      <td>11.2</td>\n",
       "      <td>59.6</td>\n",
       "      <td>0.7888</td>\n",
       "    </tr>\n",
       "  </tbody>\n",
       "</table>\n",
       "</div>"
      ],
      "text/plain": [
       "                     CO_true  CO_sensor  NMHC_true  C6H6_true  NMHC_sensor  \\\n",
       "Date_Time                                                                    \n",
       "2004-10-03 18:00:00      2.6     1360.0      150.0       11.9       1046.0   \n",
       "2004-10-03 19:00:00      2.0     1292.0      112.0        9.4        955.0   \n",
       "2004-10-03 20:00:00      2.2     1402.0       88.0        9.0        939.0   \n",
       "2004-10-03 21:00:00      2.2     1376.0       80.0        9.2        948.0   \n",
       "2004-10-03 22:00:00      1.6     1272.0       51.0        6.5        836.0   \n",
       "\n",
       "                     NOX_true  NOX_sensor  NO2_true  NO2_sensor  O3_sensor  \\\n",
       "Date_Time                                                                    \n",
       "2004-10-03 18:00:00     166.0      1056.0     113.0      1692.0     1268.0   \n",
       "2004-10-03 19:00:00     103.0      1174.0      92.0      1559.0      972.0   \n",
       "2004-10-03 20:00:00     131.0      1140.0     114.0      1555.0     1074.0   \n",
       "2004-10-03 21:00:00     172.0      1092.0     122.0      1584.0     1203.0   \n",
       "2004-10-03 22:00:00     131.0      1205.0     116.0      1490.0     1110.0   \n",
       "\n",
       "                        T    RH      AH  \n",
       "Date_Time                                \n",
       "2004-10-03 18:00:00  13.6  48.9  0.7578  \n",
       "2004-10-03 19:00:00  13.3  47.7  0.7255  \n",
       "2004-10-03 20:00:00  11.9  54.0  0.7502  \n",
       "2004-10-03 21:00:00  11.0  60.0  0.7867  \n",
       "2004-10-03 22:00:00  11.2  59.6  0.7888  "
      ]
     },
     "execution_count": 15,
     "metadata": {},
     "output_type": "execute_result"
    }
   ],
   "source": [
    "df = pd.read_csv('../../Datasets/AirQualityUCI_ready.csv', parse_dates=['Date_Time'], index_col=['Date_Time'])\n",
    "df.head()"
   ]
  },
  {
   "cell_type": "code",
   "execution_count": 10,
   "metadata": {},
   "outputs": [],
   "source": [
    "df.plot(subplots=True, figsize=(25, 25));"
   ]
  },
  {
   "attachments": {},
   "cell_type": "markdown",
   "metadata": {},
   "source": [
    "\n",
    "<img src='./plots/air-pollution-raw-data-plot.png'>"
   ]
  },
  {
   "attachments": {},
   "cell_type": "markdown",
   "metadata": {},
   "source": [
    "Due to data quality issues we will for this demo:\n",
    "\n",
    "- reduce the data to the span between March 2004 and April 2005 (best quality).\n",
    "\n",
    "- resample the time series to ensure that the time between each row is one hour.\n",
    "\n",
    "- work only with the sensor values.\n",
    "\n",
    "- remove negative values, that is, remove outliers.\n"
   ]
  },
  {
   "cell_type": "code",
   "execution_count": 17,
   "metadata": {},
   "outputs": [
    {
     "name": "stdout",
     "output_type": "stream",
     "text": [
      "Start date : 2004-04-04 00:00:00 End date : 2005-04-04 14:00:00\n"
     ]
    }
   ],
   "source": [
    "# reduce the data : April 2004 - April-2005\n",
    "\n",
    "data = df.query(\"index >= '2004-04-01' and index <= '2005-04-30' \")\n",
    "print('Start date :',data.index.min(), 'End date :', data.index.max())"
   ]
  },
  {
   "cell_type": "code",
   "execution_count": 18,
   "metadata": {},
   "outputs": [],
   "source": [
    "# Resample the data\n",
    "# if there are any gaps larger than 1hr they will be represented as NaN\n",
    "\n",
    "data = data.asfreq(freq='1H')"
   ]
  },
  {
   "cell_type": "code",
   "execution_count": 21,
   "metadata": {},
   "outputs": [],
   "source": [
    "# Remove measurements from fixed stations.\n",
    "# We'll only be using sensor data.\n",
    "cols_to_remove = [f for f in data.columns if '_true' in f ]\n",
    "# Remove adjusted humidity.\n",
    "cols_to_remove.append('AH')\n",
    "\n",
    "data.drop(columns=cols_to_remove, inplace=True)"
   ]
  },
  {
   "cell_type": "code",
   "execution_count": 30,
   "metadata": {},
   "outputs": [],
   "source": [
    "# Impute negative values with NaN\n",
    "data[data < 0]=np.nan"
   ]
  },
  {
   "cell_type": "code",
   "execution_count": 31,
   "metadata": {},
   "outputs": [
    {
     "data": {
      "text/plain": [
       "CO_sensor      1382\n",
       "NMHC_sensor    1382\n",
       "NOX_sensor     1382\n",
       "NO2_sensor     1382\n",
       "O3_sensor      1382\n",
       "T              1395\n",
       "RH             1382\n",
       "dtype: int64"
      ]
     },
     "execution_count": 31,
     "metadata": {},
     "output_type": "execute_result"
    }
   ],
   "source": [
    "data.isna().sum()"
   ]
  },
  {
   "cell_type": "code",
   "execution_count": 121,
   "metadata": {},
   "outputs": [],
   "source": [
    "data.plot(subplots=True, figsize=(25,25));"
   ]
  },
  {
   "attachments": {},
   "cell_type": "markdown",
   "metadata": {},
   "source": [
    "<img src='./plots/air-pollution-working-data.png'>"
   ]
  },
  {
   "attachments": {},
   "cell_type": "markdown",
   "metadata": {},
   "source": [
    "## Lets look for patterns "
   ]
  },
  {
   "cell_type": "code",
   "execution_count": 41,
   "metadata": {},
   "outputs": [],
   "source": [
    "data['date'] = data.index.date\n",
    "data['hour_of_day'] = data.index.hour\n",
    "data['day_of_week'] = data.index.day_of_week\n",
    "data['month'] = data.index.month\n",
    "data['week_of_year'] = data.index.isocalendar().week "
   ]
  },
  {
   "attachments": {},
   "cell_type": "markdown",
   "metadata": {},
   "source": [
    "## Daily pattern"
   ]
  },
  {
   "cell_type": "code",
   "execution_count": 119,
   "metadata": {},
   "outputs": [],
   "source": [
    "cols = [c for c in data.columns if '_sensor' in c]\n",
    "data.groupby(by='hour_of_day').mean()[cols].plot(subplots=True, figsize=(10, 8));"
   ]
  },
  {
   "attachments": {},
   "cell_type": "markdown",
   "metadata": {},
   "source": [
    "<img src='./plots/daily pattern - mean.png'>"
   ]
  },
  {
   "cell_type": "code",
   "execution_count": 120,
   "metadata": {},
   "outputs": [],
   "source": [
    "fig, ax = plt.subplots(nrows=5, ncols=1, figsize=(10, 20), sharex=True)\n",
    "ax = ax.ravel()\n",
    "for i, c in enumerate(cols):\n",
    "    data.pivot_table(values=c, index='hour_of_day', columns='date').plot(legend=False, color='lightblue', alpha=0.5, title=c, ax=ax[i])\n",
    "    data.groupby('hour_of_day').mean()[c].plot(ax=ax[i], color='b')\n",
    "plt.tight_layout()"
   ]
  },
  {
   "attachments": {},
   "cell_type": "markdown",
   "metadata": {},
   "source": [
    "<img src='./plots/daily pattern.png'>"
   ]
  },
  {
   "cell_type": "code",
   "execution_count": 118,
   "metadata": {},
   "outputs": [],
   "source": [
    "data.groupby(by='hour_of_day').mean()[['T','RH']].plot(subplots=True, figsize=(10, 8), \n",
    "title=['Temperature', 'Relative Humidity']);"
   ]
  },
  {
   "attachments": {},
   "cell_type": "markdown",
   "metadata": {},
   "source": [
    "<img src='./plots/daily pattern - Temp and RH - mean.png'>"
   ]
  },
  {
   "cell_type": "code",
   "execution_count": 117,
   "metadata": {},
   "outputs": [],
   "source": [
    "fig, ax = plt.subplots(nrows=1, ncols=2, figsize=(15,4))\n",
    "ax = ax.ravel()\n",
    "title = {'T':'Temperature','RH':'Relative Humidity'}\n",
    "for i, c in enumerate(['T','RH']):\n",
    "    data.pivot_table(values=c, index='hour_of_day', columns='date').plot(color='lightblue', alpha=0.5, title=title[c], legend=False, ax=ax[i])\n",
    "    data.groupby('hour_of_day').mean()[c].plot(color='b', ax=ax[i])"
   ]
  },
  {
   "attachments": {},
   "cell_type": "markdown",
   "metadata": {},
   "source": [
    "<img src='./plots/daily pattern - Temp and RH.png'>"
   ]
  },
  {
   "attachments": {},
   "cell_type": "markdown",
   "metadata": {},
   "source": [
    "## Weekly pattern"
   ]
  },
  {
   "cell_type": "code",
   "execution_count": 113,
   "metadata": {},
   "outputs": [],
   "source": [
    "fig, ax = plt.subplots(nrows=5, ncols=2, figsize=(20, 25))\n",
    "ax = ax.ravel()\n",
    "for i, c in enumerate(cols):\n",
    "    sns.lineplot(x='hour_of_day', y=c, hue='day_of_week', data=data, ax=ax[2*i])\n",
    "    data.groupby('day_of_week').mean()[c].plot(ax=ax[2*i+1])"
   ]
  },
  {
   "attachments": {},
   "cell_type": "markdown",
   "metadata": {},
   "source": [
    "<img src='./plots/Weekly pattern.png'>"
   ]
  },
  {
   "cell_type": "code",
   "execution_count": 128,
   "metadata": {},
   "outputs": [],
   "source": [
    "# weekly pattern for Temp and RH\n",
    "fig, ax = plt.subplots(nrows=2, ncols=2, figsize=(20,15))\n",
    "ax = ax.ravel()\n",
    "title = {'T':'Temperature','RH':'Relative Humidity'}\n",
    "for i, c in enumerate(['T', 'RH']):\n",
    "    sns.lineplot(x='hour_of_day', y=c, hue='day_of_week', data=data, ax=ax[2*i])\n",
    "    sns.lineplot(x='day_of_week', y=c, data=data, ax=ax[2*i+1])"
   ]
  },
  {
   "attachments": {},
   "cell_type": "markdown",
   "metadata": {},
   "source": [
    "<img src='./plots/Weekly pattern - Temp and RH.png'>"
   ]
  },
  {
   "attachments": {},
   "cell_type": "markdown",
   "metadata": {},
   "source": [
    "## Yearly pattern"
   ]
  },
  {
   "cell_type": "code",
   "execution_count": 132,
   "metadata": {},
   "outputs": [],
   "source": [
    "fig, ax = plt.subplots(nrows=5, ncols=2, figsize=(20, 25))\n",
    "ax = ax.ravel()\n",
    "for i, c in enumerate(cols):\n",
    "    sns.lineplot(x='hour_of_day', y=c, hue='month', data=data, ax=ax[2*i])\n",
    "    data.groupby('month').mean()[c].plot(ax=ax[2*i+1])"
   ]
  },
  {
   "attachments": {},
   "cell_type": "markdown",
   "metadata": {},
   "source": [
    "<img src='./plots/Yearly pattern.png'>"
   ]
  },
  {
   "cell_type": "code",
   "execution_count": 131,
   "metadata": {},
   "outputs": [],
   "source": [
    "# weekly pattern for Temp and RH\n",
    "fig, ax = plt.subplots(nrows=2, ncols=2, figsize=(20,15))\n",
    "ax = ax.ravel()\n",
    "title = {'T':'Temperature','RH':'Relative Humidity'}\n",
    "for i, c in enumerate(['T', 'RH']):\n",
    "    sns.lineplot(x='hour_of_day', y=c, hue='month', data=data, ax=ax[2*i])\n",
    "    sns.lineplot(x='month', y=c, data=data, ax=ax[2*i+1])"
   ]
  },
  {
   "attachments": {},
   "cell_type": "markdown",
   "metadata": {},
   "source": [
    "<img src='./plots/Yearly pattern Temp and RH.png'>"
   ]
  },
  {
   "cell_type": "code",
   "execution_count": null,
   "metadata": {},
   "outputs": [],
   "source": []
  }
 ],
 "metadata": {
  "kernelspec": {
   "display_name": "timeseries-env",
   "language": "python",
   "name": "python3"
  },
  "language_info": {
   "codemirror_mode": {
    "name": "ipython",
    "version": 3
   },
   "file_extension": ".py",
   "mimetype": "text/x-python",
   "name": "python",
   "nbconvert_exporter": "python",
   "pygments_lexer": "ipython3",
   "version": "3.9.13"
  },
  "orig_nbformat": 4,
  "vscode": {
   "interpreter": {
    "hash": "5344483434f8feb0f4e4edbcac037dc40f14ec44f0a8519da7d24204004147d4"
   }
  }
 },
 "nbformat": 4,
 "nbformat_minor": 2
}
