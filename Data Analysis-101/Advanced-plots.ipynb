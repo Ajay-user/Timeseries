{
 "cells": [
  {
   "cell_type": "code",
   "execution_count": 1,
   "metadata": {},
   "outputs": [],
   "source": [
    "import pandas as pd\n",
    "import numpy as np\n",
    "import matplotlib.pyplot as plt \n",
    "import seaborn as sns\n",
    "from matplotlib.gridspec import GridSpec"
   ]
  },
  {
   "attachments": {},
   "cell_type": "markdown",
   "metadata": {},
   "source": [
    "## DATA"
   ]
  },
  {
   "cell_type": "code",
   "execution_count": 2,
   "metadata": {},
   "outputs": [
    {
     "data": {
      "text/html": [
       "<div>\n",
       "<style scoped>\n",
       "    .dataframe tbody tr th:only-of-type {\n",
       "        vertical-align: middle;\n",
       "    }\n",
       "\n",
       "    .dataframe tbody tr th {\n",
       "        vertical-align: top;\n",
       "    }\n",
       "\n",
       "    .dataframe thead th {\n",
       "        text-align: right;\n",
       "    }\n",
       "</style>\n",
       "<table border=\"1\" class=\"dataframe\">\n",
       "  <thead>\n",
       "    <tr style=\"text-align: right;\">\n",
       "      <th></th>\n",
       "      <th>Day</th>\n",
       "      <th>Month</th>\n",
       "      <th>Year</th>\n",
       "      <th>Customer_Age</th>\n",
       "      <th>Age_Group</th>\n",
       "      <th>Customer_Gender</th>\n",
       "      <th>Country</th>\n",
       "      <th>State</th>\n",
       "      <th>Product_Category</th>\n",
       "      <th>Sub_Category</th>\n",
       "      <th>Product</th>\n",
       "      <th>Order_Quantity</th>\n",
       "      <th>Unit_Cost</th>\n",
       "      <th>Unit_Price</th>\n",
       "      <th>Profit</th>\n",
       "      <th>Cost</th>\n",
       "      <th>Revenue</th>\n",
       "    </tr>\n",
       "    <tr>\n",
       "      <th>Date</th>\n",
       "      <th></th>\n",
       "      <th></th>\n",
       "      <th></th>\n",
       "      <th></th>\n",
       "      <th></th>\n",
       "      <th></th>\n",
       "      <th></th>\n",
       "      <th></th>\n",
       "      <th></th>\n",
       "      <th></th>\n",
       "      <th></th>\n",
       "      <th></th>\n",
       "      <th></th>\n",
       "      <th></th>\n",
       "      <th></th>\n",
       "      <th></th>\n",
       "      <th></th>\n",
       "    </tr>\n",
       "  </thead>\n",
       "  <tbody>\n",
       "    <tr>\n",
       "      <th>2013-11-26</th>\n",
       "      <td>26</td>\n",
       "      <td>November</td>\n",
       "      <td>2013</td>\n",
       "      <td>19</td>\n",
       "      <td>Youth (&lt;25)</td>\n",
       "      <td>M</td>\n",
       "      <td>Canada</td>\n",
       "      <td>British Columbia</td>\n",
       "      <td>Accessories</td>\n",
       "      <td>Bike Racks</td>\n",
       "      <td>Hitch Rack - 4-Bike</td>\n",
       "      <td>8</td>\n",
       "      <td>45</td>\n",
       "      <td>120</td>\n",
       "      <td>590</td>\n",
       "      <td>360</td>\n",
       "      <td>950</td>\n",
       "    </tr>\n",
       "    <tr>\n",
       "      <th>2015-11-26</th>\n",
       "      <td>26</td>\n",
       "      <td>November</td>\n",
       "      <td>2015</td>\n",
       "      <td>19</td>\n",
       "      <td>Youth (&lt;25)</td>\n",
       "      <td>M</td>\n",
       "      <td>Canada</td>\n",
       "      <td>British Columbia</td>\n",
       "      <td>Accessories</td>\n",
       "      <td>Bike Racks</td>\n",
       "      <td>Hitch Rack - 4-Bike</td>\n",
       "      <td>8</td>\n",
       "      <td>45</td>\n",
       "      <td>120</td>\n",
       "      <td>590</td>\n",
       "      <td>360</td>\n",
       "      <td>950</td>\n",
       "    </tr>\n",
       "    <tr>\n",
       "      <th>2014-03-23</th>\n",
       "      <td>23</td>\n",
       "      <td>March</td>\n",
       "      <td>2014</td>\n",
       "      <td>49</td>\n",
       "      <td>Adults (35-64)</td>\n",
       "      <td>M</td>\n",
       "      <td>Australia</td>\n",
       "      <td>New South Wales</td>\n",
       "      <td>Accessories</td>\n",
       "      <td>Bike Racks</td>\n",
       "      <td>Hitch Rack - 4-Bike</td>\n",
       "      <td>23</td>\n",
       "      <td>45</td>\n",
       "      <td>120</td>\n",
       "      <td>1366</td>\n",
       "      <td>1035</td>\n",
       "      <td>2401</td>\n",
       "    </tr>\n",
       "    <tr>\n",
       "      <th>2016-03-23</th>\n",
       "      <td>23</td>\n",
       "      <td>March</td>\n",
       "      <td>2016</td>\n",
       "      <td>49</td>\n",
       "      <td>Adults (35-64)</td>\n",
       "      <td>M</td>\n",
       "      <td>Australia</td>\n",
       "      <td>New South Wales</td>\n",
       "      <td>Accessories</td>\n",
       "      <td>Bike Racks</td>\n",
       "      <td>Hitch Rack - 4-Bike</td>\n",
       "      <td>20</td>\n",
       "      <td>45</td>\n",
       "      <td>120</td>\n",
       "      <td>1188</td>\n",
       "      <td>900</td>\n",
       "      <td>2088</td>\n",
       "    </tr>\n",
       "    <tr>\n",
       "      <th>2014-05-15</th>\n",
       "      <td>15</td>\n",
       "      <td>May</td>\n",
       "      <td>2014</td>\n",
       "      <td>47</td>\n",
       "      <td>Adults (35-64)</td>\n",
       "      <td>F</td>\n",
       "      <td>Australia</td>\n",
       "      <td>New South Wales</td>\n",
       "      <td>Accessories</td>\n",
       "      <td>Bike Racks</td>\n",
       "      <td>Hitch Rack - 4-Bike</td>\n",
       "      <td>4</td>\n",
       "      <td>45</td>\n",
       "      <td>120</td>\n",
       "      <td>238</td>\n",
       "      <td>180</td>\n",
       "      <td>418</td>\n",
       "    </tr>\n",
       "  </tbody>\n",
       "</table>\n",
       "</div>"
      ],
      "text/plain": [
       "            Day     Month  Year  Customer_Age       Age_Group Customer_Gender  \\\n",
       "Date                                                                            \n",
       "2013-11-26   26  November  2013            19     Youth (<25)               M   \n",
       "2015-11-26   26  November  2015            19     Youth (<25)               M   \n",
       "2014-03-23   23     March  2014            49  Adults (35-64)               M   \n",
       "2016-03-23   23     March  2016            49  Adults (35-64)               M   \n",
       "2014-05-15   15       May  2014            47  Adults (35-64)               F   \n",
       "\n",
       "              Country             State Product_Category Sub_Category  \\\n",
       "Date                                                                    \n",
       "2013-11-26     Canada  British Columbia      Accessories   Bike Racks   \n",
       "2015-11-26     Canada  British Columbia      Accessories   Bike Racks   \n",
       "2014-03-23  Australia   New South Wales      Accessories   Bike Racks   \n",
       "2016-03-23  Australia   New South Wales      Accessories   Bike Racks   \n",
       "2014-05-15  Australia   New South Wales      Accessories   Bike Racks   \n",
       "\n",
       "                        Product  Order_Quantity  Unit_Cost  Unit_Price  \\\n",
       "Date                                                                     \n",
       "2013-11-26  Hitch Rack - 4-Bike               8         45         120   \n",
       "2015-11-26  Hitch Rack - 4-Bike               8         45         120   \n",
       "2014-03-23  Hitch Rack - 4-Bike              23         45         120   \n",
       "2016-03-23  Hitch Rack - 4-Bike              20         45         120   \n",
       "2014-05-15  Hitch Rack - 4-Bike               4         45         120   \n",
       "\n",
       "            Profit  Cost  Revenue  \n",
       "Date                               \n",
       "2013-11-26     590   360      950  \n",
       "2015-11-26     590   360      950  \n",
       "2014-03-23    1366  1035     2401  \n",
       "2016-03-23    1188   900     2088  \n",
       "2014-05-15     238   180      418  "
      ]
     },
     "execution_count": 2,
     "metadata": {},
     "output_type": "execute_result"
    }
   ],
   "source": [
    "sales = pd.read_csv('../sample_data/sales_data.csv', parse_dates=['Date'], index_col=['Date'])\n",
    "\n",
    "sales.head()"
   ]
  },
  {
   "attachments": {},
   "cell_type": "markdown",
   "metadata": {},
   "source": [
    "### Pie Plot"
   ]
  },
  {
   "cell_type": "code",
   "execution_count": 4,
   "metadata": {},
   "outputs": [],
   "source": [
    "# plt.style.use('fivethirtyeight')\n",
    "sales['Age_Group'].value_counts().plot(kind='pie', title='Age Group', subplots=True, autopct='%1.1f%%', figsize=(10,10) );"
   ]
  },
  {
   "attachments": {},
   "cell_type": "markdown",
   "metadata": {},
   "source": [
    "<img src='./plots/sales-age-group-pie-plot.png'>"
   ]
  },
  {
   "attachments": {},
   "cell_type": "markdown",
   "metadata": {},
   "source": [
    "### HeatMap [Realtion between Columns]"
   ]
  },
  {
   "cell_type": "code",
   "execution_count": 5,
   "metadata": {},
   "outputs": [],
   "source": [
    "sns.heatmap(sales.corr())"
   ]
  },
  {
   "attachments": {},
   "cell_type": "markdown",
   "metadata": {},
   "source": [
    "<img src='./plots/sales-corr-heatmap.png'>"
   ]
  },
  {
   "attachments": {},
   "cell_type": "markdown",
   "metadata": {},
   "source": [
    "### Box Plot"
   ]
  },
  {
   "cell_type": "code",
   "execution_count": 6,
   "metadata": {},
   "outputs": [],
   "source": [
    "sales[['Age_Group','Profit']].boxplot(by=['Age_Group'], figsize=(15,10));"
   ]
  },
  {
   "attachments": {},
   "cell_type": "markdown",
   "metadata": {},
   "source": [
    "<img src='./plots/sales-age-group-profit-box-plot.png'>"
   ]
  },
  {
   "cell_type": "code",
   "execution_count": 7,
   "metadata": {},
   "outputs": [],
   "source": [
    "cols = ['Year', 'Customer_Age', 'Order_Quantity', 'Unit_Cost', 'Unit_Price', 'Profit']\n",
    "sales[cols].plot(kind='box', subplots=True, figsize=(15,10), layout=(2,3));\n",
    "plt.tight_layout()"
   ]
  },
  {
   "attachments": {},
   "cell_type": "markdown",
   "metadata": {},
   "source": [
    "<img src='./plots/sales--cost-box-plot.png'>"
   ]
  },
  {
   "attachments": {},
   "cell_type": "markdown",
   "metadata": {},
   "source": [
    "### Pie Plot"
   ]
  },
  {
   "cell_type": "code",
   "execution_count": 8,
   "metadata": {},
   "outputs": [],
   "source": [
    "sales.groupby(by='Month')['Revenue'].mean().plot(kind='pie', title='Sales Revenue by Month', figsize=(10,8), fontsize=16, subplots=True, autopct='%1.1f%%');"
   ]
  },
  {
   "attachments": {},
   "cell_type": "markdown",
   "metadata": {},
   "source": [
    "<img src='./plots/sales_revenue_by_month_pie_plot.png'>"
   ]
  },
  {
   "attachments": {},
   "cell_type": "markdown",
   "metadata": {},
   "source": [
    "### Bar plot Sale Profit & Revenue | Filter state = Kentucky"
   ]
  },
  {
   "cell_type": "code",
   "execution_count": 10,
   "metadata": {},
   "outputs": [],
   "source": [
    "sales.loc[sales['State']=='Kentucky'].sort_index()[['Profit','Revenue']].plot(kind='barh', title='Kentucky Profit & Revenue', figsize=(10,8))"
   ]
  },
  {
   "attachments": {},
   "cell_type": "markdown",
   "metadata": {},
   "source": [
    "<img src='./plots/Kentucky-Profit-Revenue-bar-plot.png'>"
   ]
  },
  {
   "attachments": {},
   "cell_type": "markdown",
   "metadata": {},
   "source": [
    "### Advanced | Grid | Sales Cost , Revenue and Profit"
   ]
  },
  {
   "cell_type": "code",
   "execution_count": 12,
   "metadata": {},
   "outputs": [],
   "source": [
    "grid = GridSpec(nrows=3, ncols=2, figure=plt.figure(figsize=(20,10)))\n",
    "\n",
    "ax1 = plt.subplot(grid[:,0])\n",
    "ax2 = plt.subplot(grid[0,1])\n",
    "ax3 = plt.subplot(grid[1,1])\n",
    "ax4 = plt.subplot(grid[2,1])\n",
    "\n",
    "(sales.groupby(by='Age_Group')[['Cost', 'Revenue', 'Profit']].mean()\n",
    " .plot(kind='barh',  ax=ax1));\n",
    "\n",
    "\n",
    "(sales.groupby(by='Age_Group')[['Revenue']].mean()\n",
    " .plot(kind='pie', subplots=True, autopct='%1.1f%%',  ax=ax3, legend=False));\n",
    "\n",
    "(sales.groupby(by='Age_Group')[['Cost']].mean()\n",
    " .plot(kind='pie', subplots=True, autopct='%1.1f%%',  ax=ax2, legend=False));\n",
    "\n",
    "(sales.groupby(by='Age_Group')[['Profit']].mean()\n",
    " .plot(kind='pie', subplots=True, autopct='%1.1f%%',  ax=ax4, legend=False));"
   ]
  },
  {
   "attachments": {},
   "cell_type": "markdown",
   "metadata": {},
   "source": [
    "<img src='./plots/cost-revenue-profit-by-age-group-grid-plot.png'>"
   ]
  },
  {
   "attachments": {},
   "cell_type": "markdown",
   "metadata": {},
   "source": [
    "### Advanced | Grid | Sales Cost , Revenue and Profit | Filter Country = 'United States'"
   ]
  },
  {
   "cell_type": "code",
   "execution_count": null,
   "metadata": {},
   "outputs": [],
   "source": [
    "\n",
    "grid = GridSpec(nrows=3, ncols=2, figure=plt.figure(figsize=(20,10)))\n",
    "\n",
    "ax1 = plt.subplot(grid[:,0])\n",
    "ax2 = plt.subplot(grid[0,1])\n",
    "ax3 = plt.subplot(grid[1,1])\n",
    "ax4 = plt.subplot(grid[2,1])\n",
    "\n",
    "(sales.query('Country==\"United States\"').groupby(by='Age_Group')[['Cost', 'Revenue', 'Profit']].mean()\n",
    " .plot(kind='barh',  ax=ax1));\n",
    "\n",
    "\n",
    "(sales.query('Country==\"United States\"').groupby(by='Age_Group')[['Revenue']].mean()\n",
    " .plot(kind='pie', subplots=True, autopct='%1.1f%%',  ax=ax3, legend=False));\n",
    "\n",
    "(sales.query('Country==\"United States\"').groupby(by='Age_Group')[['Cost']].mean()\n",
    " .plot(kind='pie', subplots=True, autopct='%1.1f%%',  ax=ax2, legend=False));\n",
    "\n",
    "(sales.query('Country==\"United States\"').groupby(by='Age_Group')[['Profit']].mean()\n",
    " .plot(kind='pie', subplots=True, autopct='%1.1f%%',  ax=ax4, legend=False));\n",
    "\n",
    "fig = plt.gcf()\n",
    "fig.suptitle(t='Sales data | Age Group = Adults (35-64) in United States ', fontsize=24)"
   ]
  },
  {
   "attachments": {},
   "cell_type": "markdown",
   "metadata": {},
   "source": [
    "<<img src='./plots/usa-cost-revenue-profit-by-age-group-grid-plot.png'>>"
   ]
  },
  {
   "attachments": {},
   "cell_type": "markdown",
   "metadata": {},
   "source": [
    "### Advanced Line plot with text annotation"
   ]
  },
  {
   "cell_type": "code",
   "execution_count": 14,
   "metadata": {},
   "outputs": [],
   "source": [
    "sample = (sales.groupby('Year')[['Cost']].mean()).copy()\n",
    "\n",
    "sample.plot(figsize=(15,8), alpha=0.5, title='Cost Over the Years')\n",
    "for year in sample.index:\n",
    "    plt.scatter(year, sample.loc[year].values[0], marker='8', s=700)\n",
    "    plt.scatter(year, sample.loc[year].values[0], color='k', marker=f'${sample.loc[year].values[0]:0.2f}$', s=900)"
   ]
  },
  {
   "attachments": {},
   "cell_type": "markdown",
   "metadata": {},
   "source": [
    "<img src='./plots/mean-cost-over-the-years-with-text.png'>"
   ]
  },
  {
   "attachments": {},
   "cell_type": "markdown",
   "metadata": {},
   "source": [
    "### Advanced Line plot with Text | Sales Revenue, Cost, Profit"
   ]
  },
  {
   "cell_type": "code",
   "execution_count": 16,
   "metadata": {},
   "outputs": [],
   "source": [
    "sample = (sales.groupby('Year')[['Revenue','Cost','Profit']].mean()).copy()\n",
    "\n",
    "sample.plot(figsize=(15,8), alpha=0.5, title='Revenue,Cost & Profit Over the Years')\n",
    "\n",
    "for year in sample.index:\n",
    "    plt.scatter(year, sample.loc[year]['Revenue'], marker='8', s=700)\n",
    "    plt.scatter(year, sample.loc[year]['Revenue'], color='k', marker=f'${sample.loc[year][\"Revenue\"]:0.2f}$', s=900)\n",
    "    plt.scatter(year, sample.loc[year]['Cost'], marker='8', s=700)\n",
    "    plt.scatter(year, sample.loc[year]['Cost'], color='k', marker=f'${sample.loc[year][\"Cost\"]:0.2f}$', s=900)\n",
    "    plt.scatter(year, sample.loc[year]['Profit'], marker='8', s=700)\n",
    "    plt.scatter(year, sample.loc[year]['Profit'], color='k', marker=f'${sample.loc[year][\"Profit\"]:0.2f}$', s=900)"
   ]
  },
  {
   "attachments": {},
   "cell_type": "markdown",
   "metadata": {},
   "source": [
    "<img src='./plots/reveneue-cost-and-profit-over-the-years.png'>"
   ]
  },
  {
   "attachments": {},
   "cell_type": "markdown",
   "metadata": {},
   "source": [
    "### Advanced Grid | Sales Revenue, Cost and Profit"
   ]
  },
  {
   "cell_type": "code",
   "execution_count": 20,
   "metadata": {},
   "outputs": [],
   "source": [
    "sample = (sales.groupby('Year')[['Revenue','Cost','Profit']].mean()).copy()\n",
    "\n",
    "\n",
    "grid = GridSpec(nrows=4, ncols=2, figure=plt.figure(figsize=(25,15)))\n",
    "\n",
    "ax1 = plt.subplot(grid[:2,0])\n",
    "ax2 = plt.subplot(grid[0,1])\n",
    "ax3 = plt.subplot(grid[1,1])\n",
    "ax4 = plt.subplot(grid[2,1])\n",
    "ax5 = plt.subplot(grid[3,1])\n",
    "ax6 = plt.subplot(grid[2:,0])\n",
    "\n",
    "\n",
    "sample.plot(figsize=(15,8), alpha=0.5, title='Revenue,Cost & Profit Over the Years', kind='bar', ax=ax1)\n",
    "\n",
    "\n",
    "sample.plot(figsize=(15,8), alpha=0.5, title='Revenue,Cost & Profit Over the Years', ax=ax6)\n",
    "\n",
    "for year in sample.index:\n",
    "    ax6.scatter(year, sample.loc[year]['Revenue'], marker='8', s=700)\n",
    "    ax6.scatter(year, sample.loc[year]['Revenue'], color='k', marker=f'${sample.loc[year][\"Revenue\"]:0.2f}$', s=900)\n",
    "    ax6.scatter(year, sample.loc[year]['Cost'], marker='8', s=700)\n",
    "    ax6.scatter(year, sample.loc[year]['Cost'], color='k', marker=f'${sample.loc[year][\"Cost\"]:0.2f}$', s=900)\n",
    "    ax6.scatter(year, sample.loc[year]['Profit'], marker='8', s=700)\n",
    "    ax6.scatter(year, sample.loc[year]['Profit'], color='k', marker=f'${sample.loc[year][\"Profit\"]:0.2f}$', s=900)\n",
    "\n",
    "\n",
    "\n",
    "sample['Revenue'].plot(ax=ax2, title='Revenue', xlabel='', alpha=0.4, figsize=(15,12))\n",
    "for year in sample.index:\n",
    "    ax2.scatter(year, sample.loc[year]['Revenue'], marker='8', s=700)\n",
    "    ax2.scatter(year, sample.loc[year]['Revenue'], color='k', marker=f'${sample.loc[year][\"Revenue\"]:0.2f}$', s=900)\n",
    "\n",
    "\n",
    "\n",
    "sample['Cost'].plot(ax=ax3, title='Cost', xlabel='', alpha=0.4, figsize=(15,12))\n",
    "for year in sample.index:\n",
    "    ax3.scatter(year, sample.loc[year]['Cost'], marker='8', s=700)\n",
    "    ax3.scatter(year, sample.loc[year]['Cost'], color='k', marker=f'${sample.loc[year][\"Cost\"]:0.2f}$', s=900)\n",
    "\n",
    "\n",
    "\n",
    "sample['Profit'].plot(ax=ax4, title='Profit', xlabel='', alpha=0.4, figsize=(15,12))\n",
    "for year in sample.index:\n",
    "    ax4.scatter(year, sample.loc[year]['Profit'], marker='8', s=700)\n",
    "    ax4.scatter(year, sample.loc[year]['Profit'], color='k', marker=f'${sample.loc[year][\"Profit\"]:0.2f}$', s=900)\n",
    "\n",
    "\n",
    "sample.plot(figsize=(15,12), alpha=0.5, title='Revenue,Cost & Profit Over the Years', kind='area', ax=ax5, stacked=False)\n",
    "\n",
    "plt.tight_layout()"
   ]
  },
  {
   "attachments": {},
   "cell_type": "markdown",
   "metadata": {},
   "source": [
    "<img src='./plots/cost-revenue-profit-by-age-group-advanced-grid-plot.png'>"
   ]
  },
  {
   "cell_type": "code",
   "execution_count": 22,
   "metadata": {},
   "outputs": [],
   "source": [
    "sample.plot(figsize=(15,8), alpha=0.5, title='Revenue,Cost & Profit Over the Years', kind='area', stacked=False);"
   ]
  },
  {
   "attachments": {},
   "cell_type": "markdown",
   "metadata": {},
   "source": [
    "<img src='./plots/cost-revenue-profit-by-age-group-area-plot.png'>"
   ]
  },
  {
   "cell_type": "code",
   "execution_count": null,
   "metadata": {},
   "outputs": [],
   "source": []
  }
 ],
 "metadata": {
  "kernelspec": {
   "display_name": "timeseries-env",
   "language": "python",
   "name": "python3"
  },
  "language_info": {
   "codemirror_mode": {
    "name": "ipython",
    "version": 3
   },
   "file_extension": ".py",
   "mimetype": "text/x-python",
   "name": "python",
   "nbconvert_exporter": "python",
   "pygments_lexer": "ipython3",
   "version": "3.9.13"
  },
  "orig_nbformat": 4
 },
 "nbformat": 4,
 "nbformat_minor": 2
}
