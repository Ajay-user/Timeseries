{
 "cells": [
  {
   "cell_type": "code",
   "execution_count": 120,
   "metadata": {},
   "outputs": [],
   "source": [
    "import pandas as pd\n",
    "import numpy as np\n",
    "import matplotlib.pyplot as plt \n",
    "import seaborn as sns\n",
    "from matplotlib.gridspec import GridSpec"
   ]
  },
  {
   "attachments": {},
   "cell_type": "markdown",
   "metadata": {},
   "source": [
    "## Sales Data"
   ]
  },
  {
   "cell_type": "code",
   "execution_count": 2,
   "metadata": {},
   "outputs": [],
   "source": [
    "sales = pd.read_csv('../sample_data/sales_data.csv', parse_dates=['Date'], index_col=['Date'])"
   ]
  },
  {
   "cell_type": "code",
   "execution_count": 6,
   "metadata": {},
   "outputs": [
    {
     "data": {
      "text/html": [
       "<div>\n",
       "<style scoped>\n",
       "    .dataframe tbody tr th:only-of-type {\n",
       "        vertical-align: middle;\n",
       "    }\n",
       "\n",
       "    .dataframe tbody tr th {\n",
       "        vertical-align: top;\n",
       "    }\n",
       "\n",
       "    .dataframe thead th {\n",
       "        text-align: right;\n",
       "    }\n",
       "</style>\n",
       "<table border=\"1\" class=\"dataframe\">\n",
       "  <thead>\n",
       "    <tr style=\"text-align: right;\">\n",
       "      <th></th>\n",
       "      <th>Day</th>\n",
       "      <th>Month</th>\n",
       "      <th>Year</th>\n",
       "      <th>Customer_Age</th>\n",
       "      <th>Age_Group</th>\n",
       "      <th>Customer_Gender</th>\n",
       "      <th>Country</th>\n",
       "      <th>State</th>\n",
       "      <th>Product_Category</th>\n",
       "      <th>Sub_Category</th>\n",
       "      <th>Product</th>\n",
       "      <th>Order_Quantity</th>\n",
       "      <th>Unit_Cost</th>\n",
       "      <th>Unit_Price</th>\n",
       "      <th>Profit</th>\n",
       "      <th>Cost</th>\n",
       "      <th>Revenue</th>\n",
       "    </tr>\n",
       "    <tr>\n",
       "      <th>Date</th>\n",
       "      <th></th>\n",
       "      <th></th>\n",
       "      <th></th>\n",
       "      <th></th>\n",
       "      <th></th>\n",
       "      <th></th>\n",
       "      <th></th>\n",
       "      <th></th>\n",
       "      <th></th>\n",
       "      <th></th>\n",
       "      <th></th>\n",
       "      <th></th>\n",
       "      <th></th>\n",
       "      <th></th>\n",
       "      <th></th>\n",
       "      <th></th>\n",
       "      <th></th>\n",
       "    </tr>\n",
       "  </thead>\n",
       "  <tbody>\n",
       "    <tr>\n",
       "      <th>2013-11-26</th>\n",
       "      <td>26</td>\n",
       "      <td>November</td>\n",
       "      <td>2013</td>\n",
       "      <td>19</td>\n",
       "      <td>Youth (&lt;25)</td>\n",
       "      <td>M</td>\n",
       "      <td>Canada</td>\n",
       "      <td>British Columbia</td>\n",
       "      <td>Accessories</td>\n",
       "      <td>Bike Racks</td>\n",
       "      <td>Hitch Rack - 4-Bike</td>\n",
       "      <td>8</td>\n",
       "      <td>45</td>\n",
       "      <td>120</td>\n",
       "      <td>590</td>\n",
       "      <td>360</td>\n",
       "      <td>950</td>\n",
       "    </tr>\n",
       "    <tr>\n",
       "      <th>2015-11-26</th>\n",
       "      <td>26</td>\n",
       "      <td>November</td>\n",
       "      <td>2015</td>\n",
       "      <td>19</td>\n",
       "      <td>Youth (&lt;25)</td>\n",
       "      <td>M</td>\n",
       "      <td>Canada</td>\n",
       "      <td>British Columbia</td>\n",
       "      <td>Accessories</td>\n",
       "      <td>Bike Racks</td>\n",
       "      <td>Hitch Rack - 4-Bike</td>\n",
       "      <td>8</td>\n",
       "      <td>45</td>\n",
       "      <td>120</td>\n",
       "      <td>590</td>\n",
       "      <td>360</td>\n",
       "      <td>950</td>\n",
       "    </tr>\n",
       "    <tr>\n",
       "      <th>2014-03-23</th>\n",
       "      <td>23</td>\n",
       "      <td>March</td>\n",
       "      <td>2014</td>\n",
       "      <td>49</td>\n",
       "      <td>Adults (35-64)</td>\n",
       "      <td>M</td>\n",
       "      <td>Australia</td>\n",
       "      <td>New South Wales</td>\n",
       "      <td>Accessories</td>\n",
       "      <td>Bike Racks</td>\n",
       "      <td>Hitch Rack - 4-Bike</td>\n",
       "      <td>23</td>\n",
       "      <td>45</td>\n",
       "      <td>120</td>\n",
       "      <td>1366</td>\n",
       "      <td>1035</td>\n",
       "      <td>2401</td>\n",
       "    </tr>\n",
       "    <tr>\n",
       "      <th>2016-03-23</th>\n",
       "      <td>23</td>\n",
       "      <td>March</td>\n",
       "      <td>2016</td>\n",
       "      <td>49</td>\n",
       "      <td>Adults (35-64)</td>\n",
       "      <td>M</td>\n",
       "      <td>Australia</td>\n",
       "      <td>New South Wales</td>\n",
       "      <td>Accessories</td>\n",
       "      <td>Bike Racks</td>\n",
       "      <td>Hitch Rack - 4-Bike</td>\n",
       "      <td>20</td>\n",
       "      <td>45</td>\n",
       "      <td>120</td>\n",
       "      <td>1188</td>\n",
       "      <td>900</td>\n",
       "      <td>2088</td>\n",
       "    </tr>\n",
       "    <tr>\n",
       "      <th>2014-05-15</th>\n",
       "      <td>15</td>\n",
       "      <td>May</td>\n",
       "      <td>2014</td>\n",
       "      <td>47</td>\n",
       "      <td>Adults (35-64)</td>\n",
       "      <td>F</td>\n",
       "      <td>Australia</td>\n",
       "      <td>New South Wales</td>\n",
       "      <td>Accessories</td>\n",
       "      <td>Bike Racks</td>\n",
       "      <td>Hitch Rack - 4-Bike</td>\n",
       "      <td>4</td>\n",
       "      <td>45</td>\n",
       "      <td>120</td>\n",
       "      <td>238</td>\n",
       "      <td>180</td>\n",
       "      <td>418</td>\n",
       "    </tr>\n",
       "  </tbody>\n",
       "</table>\n",
       "</div>"
      ],
      "text/plain": [
       "            Day     Month  Year  Customer_Age       Age_Group Customer_Gender  \\\n",
       "Date                                                                            \n",
       "2013-11-26   26  November  2013            19     Youth (<25)               M   \n",
       "2015-11-26   26  November  2015            19     Youth (<25)               M   \n",
       "2014-03-23   23     March  2014            49  Adults (35-64)               M   \n",
       "2016-03-23   23     March  2016            49  Adults (35-64)               M   \n",
       "2014-05-15   15       May  2014            47  Adults (35-64)               F   \n",
       "\n",
       "              Country             State Product_Category Sub_Category  \\\n",
       "Date                                                                    \n",
       "2013-11-26     Canada  British Columbia      Accessories   Bike Racks   \n",
       "2015-11-26     Canada  British Columbia      Accessories   Bike Racks   \n",
       "2014-03-23  Australia   New South Wales      Accessories   Bike Racks   \n",
       "2016-03-23  Australia   New South Wales      Accessories   Bike Racks   \n",
       "2014-05-15  Australia   New South Wales      Accessories   Bike Racks   \n",
       "\n",
       "                        Product  Order_Quantity  Unit_Cost  Unit_Price  \\\n",
       "Date                                                                     \n",
       "2013-11-26  Hitch Rack - 4-Bike               8         45         120   \n",
       "2015-11-26  Hitch Rack - 4-Bike               8         45         120   \n",
       "2014-03-23  Hitch Rack - 4-Bike              23         45         120   \n",
       "2016-03-23  Hitch Rack - 4-Bike              20         45         120   \n",
       "2014-05-15  Hitch Rack - 4-Bike               4         45         120   \n",
       "\n",
       "            Profit  Cost  Revenue  \n",
       "Date                               \n",
       "2013-11-26     590   360      950  \n",
       "2015-11-26     590   360      950  \n",
       "2014-03-23    1366  1035     2401  \n",
       "2016-03-23    1188   900     2088  \n",
       "2014-05-15     238   180      418  "
      ]
     },
     "execution_count": 6,
     "metadata": {},
     "output_type": "execute_result"
    }
   ],
   "source": [
    "sales.head()"
   ]
  },
  {
   "cell_type": "code",
   "execution_count": 4,
   "metadata": {},
   "outputs": [
    {
     "name": "stdout",
     "output_type": "stream",
     "text": [
      "['Solarize_Light2', '_classic_test_patch', '_mpl-gallery', '_mpl-gallery-nogrid', 'bmh', 'classic', 'dark_background', 'fast', 'fivethirtyeight', 'ggplot', 'grayscale', 'seaborn', 'seaborn-bright', 'seaborn-colorblind', 'seaborn-dark', 'seaborn-dark-palette', 'seaborn-darkgrid', 'seaborn-deep', 'seaborn-muted', 'seaborn-notebook', 'seaborn-paper', 'seaborn-pastel', 'seaborn-poster', 'seaborn-talk', 'seaborn-ticks', 'seaborn-white', 'seaborn-whitegrid', 'tableau-colorblind10']\n"
     ]
    }
   ],
   "source": [
    "print(plt.style.available)\n",
    "plt.style.use('seaborn')"
   ]
  },
  {
   "attachments": {},
   "cell_type": "markdown",
   "metadata": {},
   "source": [
    "## Numerical Analysis and Visualization"
   ]
  },
  {
   "attachments": {},
   "cell_type": "markdown",
   "metadata": {},
   "source": [
    "#### Box Plot"
   ]
  },
  {
   "cell_type": "code",
   "execution_count": 19,
   "metadata": {},
   "outputs": [],
   "source": [
    "sales['Unit_Cost'].plot(kind='box', vert=False, figsize=(15,5), title='Unit cost box plot');"
   ]
  },
  {
   "attachments": {},
   "cell_type": "markdown",
   "metadata": {},
   "source": [
    "<img src='./plots/sales-unit-cost-box-plot.png'>"
   ]
  },
  {
   "attachments": {},
   "cell_type": "markdown",
   "metadata": {},
   "source": [
    "#### Density Plot"
   ]
  },
  {
   "cell_type": "code",
   "execution_count": 22,
   "metadata": {},
   "outputs": [],
   "source": [
    "sales['Unit_Cost'].plot(kind='density', figsize=(15,5), title='Unit cost KDE plot');"
   ]
  },
  {
   "attachments": {},
   "cell_type": "markdown",
   "metadata": {},
   "source": [
    "<img src='./plots/sales-unit-cost-kde-plot.png'>"
   ]
  },
  {
   "cell_type": "code",
   "execution_count": 30,
   "metadata": {},
   "outputs": [],
   "source": [
    "ax = sales['Unit_Cost'].plot(kind='density', figsize=(15,5), title='Unit cost KDE plot | Red - Mean | Green - MEDIAN');\n",
    "ax.axvline(sales['Unit_Cost'].mean(), color='r')\n",
    "ax.axvline(sales['Unit_Cost'].median(), color='g')"
   ]
  },
  {
   "attachments": {},
   "cell_type": "markdown",
   "metadata": {},
   "source": [
    "<img src='./plots/sales-unit-cost-kde-plot-mean-median.png'>"
   ]
  },
  {
   "attachments": {},
   "cell_type": "markdown",
   "metadata": {},
   "source": [
    "#### Histogram"
   ]
  },
  {
   "cell_type": "code",
   "execution_count": 33,
   "metadata": {},
   "outputs": [],
   "source": [
    "sales['Unit_Cost'].plot(kind='hist', figsize=(15,5), title='Unit cost Histogram plot', edgecolor='k');\n"
   ]
  },
  {
   "attachments": {},
   "cell_type": "markdown",
   "metadata": {},
   "source": [
    "<img src='./plots/sales-unit-cost-histogram-plot.png'>"
   ]
  },
  {
   "attachments": {},
   "cell_type": "markdown",
   "metadata": {},
   "source": [
    "## Categorical Analysis and Visualization"
   ]
  },
  {
   "attachments": {},
   "cell_type": "markdown",
   "metadata": {},
   "source": [
    "#### Bar plot"
   ]
  },
  {
   "cell_type": "code",
   "execution_count": 46,
   "metadata": {},
   "outputs": [],
   "source": [
    "sales['Age_Group'].value_counts().plot(kind='barh', title='Age Group', fontsize=14);"
   ]
  },
  {
   "attachments": {},
   "cell_type": "markdown",
   "metadata": {},
   "source": [
    "<img src='./plots/sales-age-group-bar-plot.png'>"
   ]
  },
  {
   "attachments": {},
   "cell_type": "markdown",
   "metadata": {},
   "source": [
    "#### Pie plot"
   ]
  },
  {
   "cell_type": "code",
   "execution_count": 55,
   "metadata": {},
   "outputs": [],
   "source": [
    "# plt.style.use('fivethirtyeight')\n",
    "sales['Age_Group'].value_counts().plot(kind='pie', title='Age Group', subplots=True, autopct='%1.1f%%', figsize=(10,10) );"
   ]
  },
  {
   "attachments": {},
   "cell_type": "markdown",
   "metadata": {},
   "source": [
    "<img src='./plots/sales-age-group-pie-plot.png'>"
   ]
  },
  {
   "attachments": {},
   "cell_type": "markdown",
   "metadata": {},
   "source": [
    "## Relation between Columns [features]"
   ]
  },
  {
   "cell_type": "code",
   "execution_count": 56,
   "metadata": {},
   "outputs": [
    {
     "data": {
      "text/html": [
       "<div>\n",
       "<style scoped>\n",
       "    .dataframe tbody tr th:only-of-type {\n",
       "        vertical-align: middle;\n",
       "    }\n",
       "\n",
       "    .dataframe tbody tr th {\n",
       "        vertical-align: top;\n",
       "    }\n",
       "\n",
       "    .dataframe thead th {\n",
       "        text-align: right;\n",
       "    }\n",
       "</style>\n",
       "<table border=\"1\" class=\"dataframe\">\n",
       "  <thead>\n",
       "    <tr style=\"text-align: right;\">\n",
       "      <th></th>\n",
       "      <th>Day</th>\n",
       "      <th>Year</th>\n",
       "      <th>Customer_Age</th>\n",
       "      <th>Order_Quantity</th>\n",
       "      <th>Unit_Cost</th>\n",
       "      <th>Unit_Price</th>\n",
       "      <th>Profit</th>\n",
       "      <th>Cost</th>\n",
       "      <th>Revenue</th>\n",
       "    </tr>\n",
       "  </thead>\n",
       "  <tbody>\n",
       "    <tr>\n",
       "      <th>Day</th>\n",
       "      <td>1.000000</td>\n",
       "      <td>-0.007635</td>\n",
       "      <td>-0.014296</td>\n",
       "      <td>-0.002412</td>\n",
       "      <td>0.003133</td>\n",
       "      <td>0.003207</td>\n",
       "      <td>0.004623</td>\n",
       "      <td>0.003329</td>\n",
       "      <td>0.003853</td>\n",
       "    </tr>\n",
       "    <tr>\n",
       "      <th>Year</th>\n",
       "      <td>-0.007635</td>\n",
       "      <td>1.000000</td>\n",
       "      <td>0.040994</td>\n",
       "      <td>0.123169</td>\n",
       "      <td>-0.217575</td>\n",
       "      <td>-0.213673</td>\n",
       "      <td>-0.181525</td>\n",
       "      <td>-0.215604</td>\n",
       "      <td>-0.208673</td>\n",
       "    </tr>\n",
       "    <tr>\n",
       "      <th>Customer_Age</th>\n",
       "      <td>-0.014296</td>\n",
       "      <td>0.040994</td>\n",
       "      <td>1.000000</td>\n",
       "      <td>0.026887</td>\n",
       "      <td>-0.021374</td>\n",
       "      <td>-0.020262</td>\n",
       "      <td>0.004319</td>\n",
       "      <td>-0.016013</td>\n",
       "      <td>-0.009326</td>\n",
       "    </tr>\n",
       "    <tr>\n",
       "      <th>Order_Quantity</th>\n",
       "      <td>-0.002412</td>\n",
       "      <td>0.123169</td>\n",
       "      <td>0.026887</td>\n",
       "      <td>1.000000</td>\n",
       "      <td>-0.515835</td>\n",
       "      <td>-0.515925</td>\n",
       "      <td>-0.238863</td>\n",
       "      <td>-0.340382</td>\n",
       "      <td>-0.312895</td>\n",
       "    </tr>\n",
       "    <tr>\n",
       "      <th>Unit_Cost</th>\n",
       "      <td>0.003133</td>\n",
       "      <td>-0.217575</td>\n",
       "      <td>-0.021374</td>\n",
       "      <td>-0.515835</td>\n",
       "      <td>1.000000</td>\n",
       "      <td>0.997894</td>\n",
       "      <td>0.741020</td>\n",
       "      <td>0.829869</td>\n",
       "      <td>0.817865</td>\n",
       "    </tr>\n",
       "    <tr>\n",
       "      <th>Unit_Price</th>\n",
       "      <td>0.003207</td>\n",
       "      <td>-0.213673</td>\n",
       "      <td>-0.020262</td>\n",
       "      <td>-0.515925</td>\n",
       "      <td>0.997894</td>\n",
       "      <td>1.000000</td>\n",
       "      <td>0.749870</td>\n",
       "      <td>0.826301</td>\n",
       "      <td>0.818522</td>\n",
       "    </tr>\n",
       "    <tr>\n",
       "      <th>Profit</th>\n",
       "      <td>0.004623</td>\n",
       "      <td>-0.181525</td>\n",
       "      <td>0.004319</td>\n",
       "      <td>-0.238863</td>\n",
       "      <td>0.741020</td>\n",
       "      <td>0.749870</td>\n",
       "      <td>1.000000</td>\n",
       "      <td>0.902233</td>\n",
       "      <td>0.956572</td>\n",
       "    </tr>\n",
       "    <tr>\n",
       "      <th>Cost</th>\n",
       "      <td>0.003329</td>\n",
       "      <td>-0.215604</td>\n",
       "      <td>-0.016013</td>\n",
       "      <td>-0.340382</td>\n",
       "      <td>0.829869</td>\n",
       "      <td>0.826301</td>\n",
       "      <td>0.902233</td>\n",
       "      <td>1.000000</td>\n",
       "      <td>0.988758</td>\n",
       "    </tr>\n",
       "    <tr>\n",
       "      <th>Revenue</th>\n",
       "      <td>0.003853</td>\n",
       "      <td>-0.208673</td>\n",
       "      <td>-0.009326</td>\n",
       "      <td>-0.312895</td>\n",
       "      <td>0.817865</td>\n",
       "      <td>0.818522</td>\n",
       "      <td>0.956572</td>\n",
       "      <td>0.988758</td>\n",
       "      <td>1.000000</td>\n",
       "    </tr>\n",
       "  </tbody>\n",
       "</table>\n",
       "</div>"
      ],
      "text/plain": [
       "                     Day      Year  Customer_Age  Order_Quantity  Unit_Cost  \\\n",
       "Day             1.000000 -0.007635     -0.014296       -0.002412   0.003133   \n",
       "Year           -0.007635  1.000000      0.040994        0.123169  -0.217575   \n",
       "Customer_Age   -0.014296  0.040994      1.000000        0.026887  -0.021374   \n",
       "Order_Quantity -0.002412  0.123169      0.026887        1.000000  -0.515835   \n",
       "Unit_Cost       0.003133 -0.217575     -0.021374       -0.515835   1.000000   \n",
       "Unit_Price      0.003207 -0.213673     -0.020262       -0.515925   0.997894   \n",
       "Profit          0.004623 -0.181525      0.004319       -0.238863   0.741020   \n",
       "Cost            0.003329 -0.215604     -0.016013       -0.340382   0.829869   \n",
       "Revenue         0.003853 -0.208673     -0.009326       -0.312895   0.817865   \n",
       "\n",
       "                Unit_Price    Profit      Cost   Revenue  \n",
       "Day               0.003207  0.004623  0.003329  0.003853  \n",
       "Year             -0.213673 -0.181525 -0.215604 -0.208673  \n",
       "Customer_Age     -0.020262  0.004319 -0.016013 -0.009326  \n",
       "Order_Quantity   -0.515925 -0.238863 -0.340382 -0.312895  \n",
       "Unit_Cost         0.997894  0.741020  0.829869  0.817865  \n",
       "Unit_Price        1.000000  0.749870  0.826301  0.818522  \n",
       "Profit            0.749870  1.000000  0.902233  0.956572  \n",
       "Cost              0.826301  0.902233  1.000000  0.988758  \n",
       "Revenue           0.818522  0.956572  0.988758  1.000000  "
      ]
     },
     "execution_count": 56,
     "metadata": {},
     "output_type": "execute_result"
    }
   ],
   "source": [
    "sales.corr()"
   ]
  },
  {
   "attachments": {},
   "cell_type": "markdown",
   "metadata": {},
   "source": [
    "#### Heatmap"
   ]
  },
  {
   "cell_type": "code",
   "execution_count": 64,
   "metadata": {},
   "outputs": [],
   "source": [
    "sns.heatmap(sales.corr())"
   ]
  },
  {
   "attachments": {},
   "cell_type": "markdown",
   "metadata": {},
   "source": [
    "<img src='./plots/sales-corr-heatmap.png'>"
   ]
  },
  {
   "attachments": {},
   "cell_type": "markdown",
   "metadata": {},
   "source": [
    "#### Scatterplot"
   ]
  },
  {
   "cell_type": "code",
   "execution_count": 65,
   "metadata": {},
   "outputs": [],
   "source": [
    "sns.scatterplot(data=sales, x='Revenue', y='Order_Quantity', hue='Customer_Age');"
   ]
  },
  {
   "attachments": {},
   "cell_type": "markdown",
   "metadata": {},
   "source": [
    "<img src='./plots/sales-order-quantity-revenue-scatterplot.png'>"
   ]
  },
  {
   "cell_type": "code",
   "execution_count": 68,
   "metadata": {},
   "outputs": [],
   "source": [
    "sns.scatterplot(data=sales, x='Revenue', y='Profit', hue='Age_Group');"
   ]
  },
  {
   "attachments": {},
   "cell_type": "markdown",
   "metadata": {},
   "source": [
    "<img src='./plots/sales-profit-revenue-scatterplot.png'>"
   ]
  },
  {
   "attachments": {},
   "cell_type": "markdown",
   "metadata": {},
   "source": [
    "#### Box Plot"
   ]
  },
  {
   "cell_type": "code",
   "execution_count": 76,
   "metadata": {},
   "outputs": [],
   "source": [
    "sales[['Age_Group','Profit']].boxplot(by=['Age_Group'], figsize=(15,10));"
   ]
  },
  {
   "attachments": {},
   "cell_type": "markdown",
   "metadata": {},
   "source": [
    "<img src='./plots/sales-age-group-profit-box-plot.png'>"
   ]
  },
  {
   "cell_type": "code",
   "execution_count": 88,
   "metadata": {},
   "outputs": [],
   "source": [
    "cols = ['Year', 'Customer_Age', 'Order_Quantity', 'Unit_Cost', 'Unit_Price', 'Profit']\n",
    "sales[cols].plot(kind='box', subplots=True, figsize=(15,10), layout=(2,3));\n",
    "plt.tight_layout()"
   ]
  },
  {
   "attachments": {},
   "cell_type": "markdown",
   "metadata": {},
   "source": [
    "<img src='./plots/sales--cost-box-plot.png'>"
   ]
  },
  {
   "attachments": {},
   "cell_type": "markdown",
   "metadata": {},
   "source": [
    "## Aggregation"
   ]
  },
  {
   "cell_type": "code",
   "execution_count": 24,
   "metadata": {},
   "outputs": [],
   "source": [
    "sales.groupby(by='Month')['Revenue'].mean().plot(kind='barh', title='Sales Revenue by Month', figsize=(10,8), fontsize=16);"
   ]
  },
  {
   "attachments": {},
   "cell_type": "markdown",
   "metadata": {},
   "source": [
    "<img src='./plots/sales_revenue_by_month_bar_plot.png'>"
   ]
  },
  {
   "cell_type": "code",
   "execution_count": 25,
   "metadata": {},
   "outputs": [],
   "source": [
    "sales.groupby(by='Month')['Revenue'].mean().plot(kind='pie', title='Sales Revenue by Month', figsize=(10,8), fontsize=16, subplots=True, autopct='%1.1f%%');"
   ]
  },
  {
   "attachments": {},
   "cell_type": "markdown",
   "metadata": {},
   "source": [
    "<img src='./plots/sales_revenue_by_month_pie_plot.png'>"
   ]
  },
  {
   "cell_type": "code",
   "execution_count": 26,
   "metadata": {},
   "outputs": [],
   "source": [
    "sales.groupby(by='Year')['Revenue'].mean().plot(kind='barh', title='Sales Revenue by Year', figsize=(10,8), fontsize=16);"
   ]
  },
  {
   "attachments": {},
   "cell_type": "markdown",
   "metadata": {},
   "source": [
    "<img src='./plots/sales_revenue_by_year_bar_plot.png'>"
   ]
  },
  {
   "cell_type": "code",
   "execution_count": 27,
   "metadata": {},
   "outputs": [],
   "source": [
    "sales.groupby(by='Year')[['Revenue','Profit']].mean().plot(kind='bar', title='Sales Revenue & Profit by Year', figsize=(10,8), fontsize=16);"
   ]
  },
  {
   "attachments": {},
   "cell_type": "markdown",
   "metadata": {},
   "source": [
    "<img src='./plots/sales_revenue_and_profit_by_year_bar_plot.png'>"
   ]
  },
  {
   "cell_type": "code",
   "execution_count": 28,
   "metadata": {},
   "outputs": [],
   "source": [
    "sales.groupby(by='Year')[['Profit']].mean().plot(kind='pie', title='Sales Profit by Year', autopct='%1.1f%%', figsize=(10,10), fontsize=16, subplots=True);"
   ]
  },
  {
   "attachments": {},
   "cell_type": "markdown",
   "metadata": {},
   "source": [
    "<img src='./plots/sales_profit_by_year_pie_plot.png'>"
   ]
  },
  {
   "attachments": {},
   "cell_type": "markdown",
   "metadata": {},
   "source": [
    "## Column Wrangling"
   ]
  },
  {
   "attachments": {},
   "cell_type": "markdown",
   "metadata": {},
   "source": [
    "#### Revenue per Age"
   ]
  },
  {
   "cell_type": "code",
   "execution_count": 99,
   "metadata": {},
   "outputs": [],
   "source": [
    "sales['RevenuePerAge'] = sales['Revenue'] /  sales['Customer_Age']\n",
    "sales['RevenuePerAge'].plot( kind='hist');"
   ]
  },
  {
   "attachments": {},
   "cell_type": "markdown",
   "metadata": {},
   "source": [
    "<img src='./plots/sales_revenue_per_age.png'>"
   ]
  },
  {
   "attachments": {},
   "cell_type": "markdown",
   "metadata": {},
   "source": [
    "#### Add 3% tax to the unit price"
   ]
  },
  {
   "cell_type": "code",
   "execution_count": 36,
   "metadata": {},
   "outputs": [],
   "source": [
    "ax1 = plt.subplot(121)\n",
    "sales['Unit_Price'].apply(lambda x:x*1.03).plot(kind='hist', ax=ax1, figsize=(15,4), title='Unit price Histogram')\n",
    "\n",
    "ax2 = plt.subplot(122)\n",
    "sales['Unit_Price'].apply(lambda x:x*1.03).plot(kind='kde', ax=ax2, figsize=(15,4), title='Unit price DensityPlot');"
   ]
  },
  {
   "attachments": {},
   "cell_type": "markdown",
   "metadata": {},
   "source": [
    "<img src='./plots/sales-unit-price-hist-and-kde-plot.png'>"
   ]
  },
  {
   "attachments": {},
   "cell_type": "markdown",
   "metadata": {},
   "source": [
    "## Filtering"
   ]
  },
  {
   "attachments": {},
   "cell_type": "markdown",
   "metadata": {},
   "source": [
    "#### Get all the sales from Kentucky"
   ]
  },
  {
   "cell_type": "code",
   "execution_count": 95,
   "metadata": {},
   "outputs": [
    {
     "data": {
      "text/html": [
       "<div>\n",
       "<style scoped>\n",
       "    .dataframe tbody tr th:only-of-type {\n",
       "        vertical-align: middle;\n",
       "    }\n",
       "\n",
       "    .dataframe tbody tr th {\n",
       "        vertical-align: top;\n",
       "    }\n",
       "\n",
       "    .dataframe thead th {\n",
       "        text-align: right;\n",
       "    }\n",
       "</style>\n",
       "<table border=\"1\" class=\"dataframe\">\n",
       "  <thead>\n",
       "    <tr style=\"text-align: right;\">\n",
       "      <th></th>\n",
       "      <th>State</th>\n",
       "      <th>Cost</th>\n",
       "      <th>Profit</th>\n",
       "      <th>Revenue</th>\n",
       "    </tr>\n",
       "    <tr>\n",
       "      <th>Date</th>\n",
       "      <th></th>\n",
       "      <th></th>\n",
       "      <th></th>\n",
       "      <th></th>\n",
       "    </tr>\n",
       "  </thead>\n",
       "  <tbody>\n",
       "    <tr>\n",
       "      <th>2013-11-04</th>\n",
       "      <td>Kentucky</td>\n",
       "      <td>45</td>\n",
       "      <td>63</td>\n",
       "      <td>108</td>\n",
       "    </tr>\n",
       "    <tr>\n",
       "      <th>2014-04-16</th>\n",
       "      <td>Kentucky</td>\n",
       "      <td>96</td>\n",
       "      <td>142</td>\n",
       "      <td>238</td>\n",
       "    </tr>\n",
       "    <tr>\n",
       "      <th>2014-04-16</th>\n",
       "      <td>Kentucky</td>\n",
       "      <td>377</td>\n",
       "      <td>537</td>\n",
       "      <td>914</td>\n",
       "    </tr>\n",
       "    <tr>\n",
       "      <th>2014-04-16</th>\n",
       "      <td>Kentucky</td>\n",
       "      <td>22</td>\n",
       "      <td>32</td>\n",
       "      <td>54</td>\n",
       "    </tr>\n",
       "    <tr>\n",
       "      <th>2014-04-16</th>\n",
       "      <td>Kentucky</td>\n",
       "      <td>231</td>\n",
       "      <td>336</td>\n",
       "      <td>567</td>\n",
       "    </tr>\n",
       "  </tbody>\n",
       "</table>\n",
       "</div>"
      ],
      "text/plain": [
       "               State  Cost  Profit  Revenue\n",
       "Date                                       \n",
       "2013-11-04  Kentucky    45      63      108\n",
       "2014-04-16  Kentucky    96     142      238\n",
       "2014-04-16  Kentucky   377     537      914\n",
       "2014-04-16  Kentucky    22      32       54\n",
       "2014-04-16  Kentucky   231     336      567"
      ]
     },
     "execution_count": 95,
     "metadata": {},
     "output_type": "execute_result"
    }
   ],
   "source": [
    "sales.loc[sales['State']=='Kentucky'].sort_index().head()[['State','Cost','Profit','Revenue']]"
   ]
  },
  {
   "cell_type": "code",
   "execution_count": 98,
   "metadata": {},
   "outputs": [],
   "source": [
    "sales.loc[sales['State']=='Kentucky'].sort_index()[['Profit','Revenue']].plot(kind='barh', title='Kentucky Profit & Revenue', figsize=(10,8))"
   ]
  },
  {
   "attachments": {},
   "cell_type": "markdown",
   "metadata": {},
   "source": [
    "<img src='./plots/Kentucky-Profit-Revenue-bar-plot.png'>"
   ]
  },
  {
   "attachments": {},
   "cell_type": "markdown",
   "metadata": {},
   "source": [
    "#### Get Mean Revenue of the Adults (35-64) Age group"
   ]
  },
  {
   "cell_type": "code",
   "execution_count": 101,
   "metadata": {},
   "outputs": [
    {
     "data": {
      "text/plain": [
       "762.8287654055604"
      ]
     },
     "execution_count": 101,
     "metadata": {},
     "output_type": "execute_result"
    }
   ],
   "source": [
    "sales.query('Age_Group == \"Adults (35-64)\"')['Revenue'].mean()"
   ]
  },
  {
   "attachments": {},
   "cell_type": "markdown",
   "metadata": {},
   "source": [
    "####  Sales data | Adults (35-64) Age group"
   ]
  },
  {
   "cell_type": "code",
   "execution_count": 103,
   "metadata": {},
   "outputs": [
    {
     "data": {
      "text/html": [
       "<div>\n",
       "<style scoped>\n",
       "    .dataframe tbody tr th:only-of-type {\n",
       "        vertical-align: middle;\n",
       "    }\n",
       "\n",
       "    .dataframe tbody tr th {\n",
       "        vertical-align: top;\n",
       "    }\n",
       "\n",
       "    .dataframe thead tr th {\n",
       "        text-align: left;\n",
       "    }\n",
       "\n",
       "    .dataframe thead tr:last-of-type th {\n",
       "        text-align: right;\n",
       "    }\n",
       "</style>\n",
       "<table border=\"1\" class=\"dataframe\">\n",
       "  <thead>\n",
       "    <tr>\n",
       "      <th></th>\n",
       "      <th colspan=\"2\" halign=\"left\">Cost</th>\n",
       "      <th colspan=\"2\" halign=\"left\">Revenue</th>\n",
       "      <th colspan=\"2\" halign=\"left\">Profit</th>\n",
       "    </tr>\n",
       "    <tr>\n",
       "      <th></th>\n",
       "      <th>mean</th>\n",
       "      <th>std</th>\n",
       "      <th>mean</th>\n",
       "      <th>std</th>\n",
       "      <th>mean</th>\n",
       "      <th>std</th>\n",
       "    </tr>\n",
       "    <tr>\n",
       "      <th>Age_Group</th>\n",
       "      <th></th>\n",
       "      <th></th>\n",
       "      <th></th>\n",
       "      <th></th>\n",
       "      <th></th>\n",
       "      <th></th>\n",
       "    </tr>\n",
       "  </thead>\n",
       "  <tbody>\n",
       "    <tr>\n",
       "      <th>Adults (35-64)</th>\n",
       "      <td>470.453049</td>\n",
       "      <td>888.646006</td>\n",
       "      <td>762.828765</td>\n",
       "      <td>1316.725395</td>\n",
       "      <td>292.375717</td>\n",
       "      <td>459.192217</td>\n",
       "    </tr>\n",
       "    <tr>\n",
       "      <th>Seniors (64+)</th>\n",
       "      <td>232.708219</td>\n",
       "      <td>568.368564</td>\n",
       "      <td>421.975342</td>\n",
       "      <td>885.218576</td>\n",
       "      <td>189.267123</td>\n",
       "      <td>343.051466</td>\n",
       "    </tr>\n",
       "    <tr>\n",
       "      <th>Young Adults (25-34)</th>\n",
       "      <td>498.495705</td>\n",
       "      <td>893.969882</td>\n",
       "      <td>793.077405</td>\n",
       "      <td>1323.501204</td>\n",
       "      <td>294.581699</td>\n",
       "      <td>458.898770</td>\n",
       "    </tr>\n",
       "    <tr>\n",
       "      <th>Youth (&lt;25)</th>\n",
       "      <td>412.194694</td>\n",
       "      <td>859.312747</td>\n",
       "      <td>657.572302</td>\n",
       "      <td>1260.836518</td>\n",
       "      <td>245.377608</td>\n",
       "      <td>426.919648</td>\n",
       "    </tr>\n",
       "  </tbody>\n",
       "</table>\n",
       "</div>"
      ],
      "text/plain": [
       "                            Cost                 Revenue               \\\n",
       "                            mean         std        mean          std   \n",
       "Age_Group                                                               \n",
       "Adults (35-64)        470.453049  888.646006  762.828765  1316.725395   \n",
       "Seniors (64+)         232.708219  568.368564  421.975342   885.218576   \n",
       "Young Adults (25-34)  498.495705  893.969882  793.077405  1323.501204   \n",
       "Youth (<25)           412.194694  859.312747  657.572302  1260.836518   \n",
       "\n",
       "                          Profit              \n",
       "                            mean         std  \n",
       "Age_Group                                     \n",
       "Adults (35-64)        292.375717  459.192217  \n",
       "Seniors (64+)         189.267123  343.051466  \n",
       "Young Adults (25-34)  294.581699  458.898770  \n",
       "Youth (<25)           245.377608  426.919648  "
      ]
     },
     "execution_count": 103,
     "metadata": {},
     "output_type": "execute_result"
    }
   ],
   "source": [
    "sales.groupby(by='Age_Group')[['Cost','Revenue','Profit']].agg(['mean','std'])"
   ]
  },
  {
   "cell_type": "code",
   "execution_count": 113,
   "metadata": {},
   "outputs": [],
   "source": [
    "(sales.groupby(by='Age_Group')[['Revenue']]\n",
    " .agg(['mean','std'])\n",
    " .plot(kind='barh', figsize=(10,8), fontsize=16, title='Mean and Std of Revenue by AgeGroup'));"
   ]
  },
  {
   "attachments": {},
   "cell_type": "markdown",
   "metadata": {},
   "source": [
    "<img src='./plots/mean-and-std-of-revenue-by-age-group.png'>"
   ]
  },
  {
   "cell_type": "code",
   "execution_count": 119,
   "metadata": {},
   "outputs": [],
   "source": [
    "(sales.groupby(by='Age_Group')[['Revenue']].mean()\n",
    " .plot(kind='pie', subplots=True, autopct='%1.1f%%', figsize=(8,8), title='Revenue by Age Group'));"
   ]
  },
  {
   "attachments": {},
   "cell_type": "markdown",
   "metadata": {},
   "source": [
    "<img src='./plots/revenue-by-age-group.png'>"
   ]
  },
  {
   "cell_type": "code",
   "execution_count": 143,
   "metadata": {},
   "outputs": [],
   "source": [
    "grid = GridSpec(nrows=3, ncols=2, figure=plt.figure(figsize=(20,10)))\n",
    "\n",
    "ax1 = plt.subplot(grid[:,0])\n",
    "ax2 = plt.subplot(grid[0,1])\n",
    "ax3 = plt.subplot(grid[1,1])\n",
    "ax4 = plt.subplot(grid[2,1])\n",
    "\n",
    "(sales.groupby(by='Age_Group')[['Cost', 'Revenue', 'Profit']].mean()\n",
    " .plot(kind='barh',  ax=ax1));\n",
    "\n",
    "\n",
    "(sales.groupby(by='Age_Group')[['Revenue']].mean()\n",
    " .plot(kind='pie', subplots=True, autopct='%1.1f%%',  ax=ax3, legend=False));\n",
    "\n",
    "(sales.groupby(by='Age_Group')[['Cost']].mean()\n",
    " .plot(kind='pie', subplots=True, autopct='%1.1f%%',  ax=ax2, legend=False));\n",
    "\n",
    "(sales.groupby(by='Age_Group')[['Profit']].mean()\n",
    " .plot(kind='pie', subplots=True, autopct='%1.1f%%',  ax=ax4, legend=False));"
   ]
  },
  {
   "attachments": {},
   "cell_type": "markdown",
   "metadata": {},
   "source": [
    "<img src='./plots/cost-revenue-profit-by-age-group-grid-plot.png'>"
   ]
  },
  {
   "attachments": {},
   "cell_type": "markdown",
   "metadata": {},
   "source": [
    "#### Sales data | Age Group = Adults (35-64) in United States"
   ]
  },
  {
   "cell_type": "code",
   "execution_count": 155,
   "metadata": {},
   "outputs": [],
   "source": [
    "\n",
    "grid = GridSpec(nrows=3, ncols=2, figure=plt.figure(figsize=(20,10)))\n",
    "\n",
    "ax1 = plt.subplot(grid[:,0])\n",
    "ax2 = plt.subplot(grid[0,1])\n",
    "ax3 = plt.subplot(grid[1,1])\n",
    "ax4 = plt.subplot(grid[2,1])\n",
    "\n",
    "(sales.query('Country==\"United States\"').groupby(by='Age_Group')[['Cost', 'Revenue', 'Profit']].mean()\n",
    " .plot(kind='barh',  ax=ax1));\n",
    "\n",
    "\n",
    "(sales.query('Country==\"United States\"').groupby(by='Age_Group')[['Revenue']].mean()\n",
    " .plot(kind='pie', subplots=True, autopct='%1.1f%%',  ax=ax3, legend=False));\n",
    "\n",
    "(sales.query('Country==\"United States\"').groupby(by='Age_Group')[['Cost']].mean()\n",
    " .plot(kind='pie', subplots=True, autopct='%1.1f%%',  ax=ax2, legend=False));\n",
    "\n",
    "(sales.query('Country==\"United States\"').groupby(by='Age_Group')[['Profit']].mean()\n",
    " .plot(kind='pie', subplots=True, autopct='%1.1f%%',  ax=ax4, legend=False));\n",
    "\n",
    "fig = plt.gcf()\n",
    "fig.suptitle(t='Sales data | Age Group = Adults (35-64) in United States ', fontsize=24)"
   ]
  },
  {
   "attachments": {},
   "cell_type": "markdown",
   "metadata": {},
   "source": [
    "<img src='./plots/usa-cost-revenue-profit-by-age-group-grid-plot.png'>"
   ]
  },
  {
   "attachments": {},
   "cell_type": "markdown",
   "metadata": {},
   "source": [
    "#### Mean cost over the years"
   ]
  },
  {
   "cell_type": "code",
   "execution_count": 215,
   "metadata": {},
   "outputs": [],
   "source": [
    "sales.groupby('Year')[['Cost']].mean().plot(figsize=(10,5), marker='.', title='Cost over the years');"
   ]
  },
  {
   "attachments": {},
   "cell_type": "markdown",
   "metadata": {},
   "source": [
    "<img src='./plots/mean-cost-over-the-years.png'>"
   ]
  },
  {
   "cell_type": "code",
   "execution_count": 216,
   "metadata": {},
   "outputs": [],
   "source": [
    "sample = (sales.groupby('Year')[['Cost']].mean()).copy()\n",
    "\n",
    "sample.plot(figsize=(15,8), alpha=0.5, title='Cost Over the Years')\n",
    "for year in sample.index:\n",
    "    plt.scatter(year, sample.loc[year].values[0], marker='8', s=700)\n",
    "    plt.scatter(year, sample.loc[year].values[0], color='k', marker=f'${sample.loc[year].values[0]:0.2f}$', s=900)"
   ]
  },
  {
   "attachments": {},
   "cell_type": "markdown",
   "metadata": {},
   "source": [
    "<img src='./plots/mean-cost-over-the-years-with-text.png'>"
   ]
  },
  {
   "cell_type": "code",
   "execution_count": 232,
   "metadata": {},
   "outputs": [],
   "source": [
    "sample = (sales.groupby('Year')[['Revenue','Cost','Profit']].mean()).copy()\n",
    "\n",
    "sample.plot(figsize=(15,8), alpha=0.5, title='Revenue,Cost & Profit Over the Years')\n",
    "\n",
    "for year in sample.index:\n",
    "    plt.scatter(year, sample.loc[year]['Revenue'], marker='8', s=700)\n",
    "    plt.scatter(year, sample.loc[year]['Revenue'], color='k', marker=f'${sample.loc[year][\"Revenue\"]:0.2f}$', s=900)\n",
    "    plt.scatter(year, sample.loc[year]['Cost'], marker='8', s=700)\n",
    "    plt.scatter(year, sample.loc[year]['Cost'], color='k', marker=f'${sample.loc[year][\"Cost\"]:0.2f}$', s=900)\n",
    "    plt.scatter(year, sample.loc[year]['Profit'], marker='8', s=700)\n",
    "    plt.scatter(year, sample.loc[year]['Profit'], color='k', marker=f'${sample.loc[year][\"Profit\"]:0.2f}$', s=900)"
   ]
  },
  {
   "attachments": {},
   "cell_type": "markdown",
   "metadata": {},
   "source": [
    "<img src='./plots/reveneue-cost-and-profit-over-the-years.png'>"
   ]
  },
  {
   "cell_type": "code",
   "execution_count": 234,
   "metadata": {},
   "outputs": [
    {
     "data": {
      "text/plain": [
       "<AxesSubplot:title={'center':'Revenue,Cost & Profit Over the Years'}, xlabel='Year'>"
      ]
     },
     "execution_count": 234,
     "metadata": {},
     "output_type": "execute_result"
    },
    {
     "data": {
      "image/png": "[encoded data removed]",
      "text/plain": [
       "<Figure size 1080x576 with 1 Axes>"
      ]
     },
     "metadata": {
      "needs_background": "light"
     },
     "output_type": "display_data"
    }
   ],
   "source": [
    "sample.plot(figsize=(15,8), alpha=0.5, title='Revenue,Cost & Profit Over the Years', kind='bar')"
   ]
  },
  {
   "cell_type": "code",
   "execution_count": 282,
   "metadata": {},
   "outputs": [],
   "source": [
    "# sample = (sales.groupby('Year')[['Revenue','Cost','Profit']].mean()).copy()\n",
    "\n",
    "\n",
    "grid = GridSpec(nrows=4, ncols=2, figure=plt.figure(figsize=(25,15)))\n",
    "\n",
    "ax1 = plt.subplot(grid[:2,0])\n",
    "ax2 = plt.subplot(grid[0,1])\n",
    "ax3 = plt.subplot(grid[1,1])\n",
    "ax4 = plt.subplot(grid[2,1])\n",
    "ax5 = plt.subplot(grid[3,1])\n",
    "ax6 = plt.subplot(grid[2:,0])\n",
    "\n",
    "\n",
    "sample.plot(figsize=(15,8), alpha=0.5, title='Revenue,Cost & Profit Over the Years', kind='bar', ax=ax1)\n",
    "\n",
    "\n",
    "sample.plot(figsize=(15,8), alpha=0.5, title='Revenue,Cost & Profit Over the Years', ax=ax6)\n",
    "\n",
    "for year in sample.index:\n",
    "    ax6.scatter(year, sample.loc[year]['Revenue'], marker='8', s=700)\n",
    "    ax6.scatter(year, sample.loc[year]['Revenue'], color='k', marker=f'${sample.loc[year][\"Revenue\"]:0.2f}$', s=900)\n",
    "    ax6.scatter(year, sample.loc[year]['Cost'], marker='8', s=700)\n",
    "    ax6.scatter(year, sample.loc[year]['Cost'], color='k', marker=f'${sample.loc[year][\"Cost\"]:0.2f}$', s=900)\n",
    "    ax6.scatter(year, sample.loc[year]['Profit'], marker='8', s=700)\n",
    "    ax6.scatter(year, sample.loc[year]['Profit'], color='k', marker=f'${sample.loc[year][\"Profit\"]:0.2f}$', s=900)\n",
    "\n",
    "\n",
    "\n",
    "sample['Revenue'].plot(ax=ax2, title='Revenue', xlabel='', alpha=0.4, figsize=(15,12))\n",
    "for year in sample.index:\n",
    "    ax2.scatter(year, sample.loc[year]['Revenue'], marker='8', s=700)\n",
    "    ax2.scatter(year, sample.loc[year]['Revenue'], color='k', marker=f'${sample.loc[year][\"Revenue\"]:0.2f}$', s=900)\n",
    "\n",
    "\n",
    "\n",
    "sample['Cost'].plot(ax=ax3, title='Cost', xlabel='', alpha=0.4, figsize=(15,12))\n",
    "for year in sample.index:\n",
    "    ax3.scatter(year, sample.loc[year]['Cost'], marker='8', s=700)\n",
    "    ax3.scatter(year, sample.loc[year]['Cost'], color='k', marker=f'${sample.loc[year][\"Cost\"]:0.2f}$', s=900)\n",
    "\n",
    "\n",
    "\n",
    "sample['Profit'].plot(ax=ax4, title='Profit', xlabel='', alpha=0.4, figsize=(15,12))\n",
    "for year in sample.index:\n",
    "    ax4.scatter(year, sample.loc[year]['Profit'], marker='8', s=700)\n",
    "    ax4.scatter(year, sample.loc[year]['Profit'], color='k', marker=f'${sample.loc[year][\"Profit\"]:0.2f}$', s=900)\n",
    "\n",
    "\n",
    "sample.plot(figsize=(15,12), alpha=0.5, title='Revenue,Cost & Profit Over the Years', kind='area', ax=ax5, stacked=False)\n",
    "\n",
    "plt.tight_layout()"
   ]
  },
  {
   "attachments": {},
   "cell_type": "markdown",
   "metadata": {},
   "source": [
    "<img src='./plots/cost-revenue-profit-by-age-group-advanced-grid-plot.png'>"
   ]
  },
  {
   "cell_type": "code",
   "execution_count": 283,
   "metadata": {},
   "outputs": [],
   "source": [
    "sample.plot(figsize=(15,8), alpha=0.5, title='Revenue,Cost & Profit Over the Years', kind='area', stacked=False);"
   ]
  },
  {
   "attachments": {},
   "cell_type": "markdown",
   "metadata": {},
   "source": [
    "<img src='./plots/cost-revenue-profit-by-age-group-area-plot.png'>"
   ]
  },
  {
   "cell_type": "code",
   "execution_count": null,
   "metadata": {},
   "outputs": [],
   "source": []
  }
 ],
 "metadata": {
  "kernelspec": {
   "display_name": "timeseries-env",
   "language": "python",
   "name": "python3"
  },
  "language_info": {
   "codemirror_mode": {
    "name": "ipython",
    "version": 3
   },
   "file_extension": ".py",
   "mimetype": "text/x-python",
   "name": "python",
   "nbconvert_exporter": "python",
   "pygments_lexer": "ipython3",
   "version": "3.9.13"
  },
  "orig_nbformat": 4
 },
 "nbformat": 4,
 "nbformat_minor": 2
}
