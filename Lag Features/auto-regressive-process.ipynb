{
 "cells": [
  {
   "attachments": {},
   "cell_type": "markdown",
   "metadata": {},
   "source": [
    "## Autoregressive Model: Definition & The AR Process\n",
    "\n",
    "**What is an Autoregressive Model?**\n",
    "\n",
    "An autoregressive (AR) model predicts future behavior based on past behavior. It’s used for forecasting when there is some correlation between values in a time series and the values that precede and succeed them. You only use past data to model the behavior, hence the name autoregressive \n",
    "\n",
    "\n",
    "The AR process is an example of a stochastic process, which have degrees of uncertainty or randomness built in. The randomness means that you might be able to predict future trends pretty well with past data, but you’re never going to get 100 percent accuracy. Usually, the process gets “close enough” for it to be useful in most scenarios.\n",
    "\n"
   ]
  },
  {
   "cell_type": "code",
   "execution_count": 48,
   "metadata": {},
   "outputs": [],
   "source": [
    "import pandas as pd\n",
    "import numpy as np\n",
    "import matplotlib.pyplot as plt\n",
    "\n",
    "from sktime.utils.plotting import plot_correlations, plot_acf, plot_pacf, plot_series"
   ]
  },
  {
   "attachments": {},
   "cell_type": "markdown",
   "metadata": {},
   "source": [
    "## Lets build an AR(1) process"
   ]
  },
  {
   "cell_type": "code",
   "execution_count": 50,
   "metadata": {},
   "outputs": [
    {
     "data": {
      "text/html": [
       "<div>\n",
       "<style scoped>\n",
       "    .dataframe tbody tr th:only-of-type {\n",
       "        vertical-align: middle;\n",
       "    }\n",
       "\n",
       "    .dataframe tbody tr th {\n",
       "        vertical-align: top;\n",
       "    }\n",
       "\n",
       "    .dataframe thead th {\n",
       "        text-align: right;\n",
       "    }\n",
       "</style>\n",
       "<table border=\"1\" class=\"dataframe\">\n",
       "  <thead>\n",
       "    <tr style=\"text-align: right;\">\n",
       "      <th></th>\n",
       "      <th>noise</th>\n",
       "      <th>AR-1</th>\n",
       "    </tr>\n",
       "  </thead>\n",
       "  <tbody>\n",
       "    <tr>\n",
       "      <th>2000-01-01</th>\n",
       "      <td>0.496714</td>\n",
       "      <td>0.000000</td>\n",
       "    </tr>\n",
       "    <tr>\n",
       "      <th>2000-01-02</th>\n",
       "      <td>-0.138264</td>\n",
       "      <td>0.496714</td>\n",
       "    </tr>\n",
       "    <tr>\n",
       "      <th>2000-01-03</th>\n",
       "      <td>0.647689</td>\n",
       "      <td>0.308778</td>\n",
       "    </tr>\n",
       "    <tr>\n",
       "      <th>2000-01-04</th>\n",
       "      <td>1.523030</td>\n",
       "      <td>0.925589</td>\n",
       "    </tr>\n",
       "    <tr>\n",
       "      <th>2000-01-05</th>\n",
       "      <td>-0.234153</td>\n",
       "      <td>2.356060</td>\n",
       "    </tr>\n",
       "  </tbody>\n",
       "</table>\n",
       "</div>"
      ],
      "text/plain": [
       "               noise      AR-1\n",
       "2000-01-01  0.496714  0.000000\n",
       "2000-01-02 -0.138264  0.496714\n",
       "2000-01-03  0.647689  0.308778\n",
       "2000-01-04  1.523030  0.925589\n",
       "2000-01-05 -0.234153  2.356060"
      ]
     },
     "execution_count": 50,
     "metadata": {},
     "output_type": "execute_result"
    }
   ],
   "source": [
    "ar_process = lambda y_intercept, alpha, lag, noise : y_intercept + alpha*lag + noise\n",
    "\n",
    "def build_ar_process(num_timesteps=300, intercept=0, lag_coef=0.9, p=1):\n",
    "    rng = np.random.RandomState(seed=42)\n",
    "    noise = rng.normal(size=num_timesteps)\n",
    "\n",
    "    y = np.zeros(num_timesteps)\n",
    "\n",
    "    for i in range(p, num_timesteps):\n",
    "        y[i] = ar_process(intercept, lag_coef, y[i-p], noise[i-p])\n",
    "    \n",
    "    return y, noise\n",
    "\n",
    "\n",
    "\n",
    "\n",
    "\n",
    "ar_1, white_noise = build_ar_process(p=1)\n",
    "\n",
    "index = pd.date_range(start='2000-01-01', periods=300)\n",
    "df = pd.DataFrame(data={'noise':white_noise, 'AR-1':ar_1}, index=index)\n",
    "\n",
    "# AR-1 process\n",
    "df.head()"
   ]
  },
  {
   "cell_type": "code",
   "execution_count": 20,
   "metadata": {},
   "outputs": [],
   "source": [
    "df.plot(y='AR-1', figsize=(15,4))"
   ]
  },
  {
   "attachments": {},
   "cell_type": "markdown",
   "metadata": {},
   "source": [
    "<img src='./plots/AR-1-plot.png'>"
   ]
  },
  {
   "cell_type": "code",
   "execution_count": 21,
   "metadata": {},
   "outputs": [],
   "source": [
    "df.plot(y='noise', figsize=(15,4))"
   ]
  },
  {
   "attachments": {},
   "cell_type": "markdown",
   "metadata": {},
   "source": [
    "<img src='./plots/whitenoise.png'>"
   ]
  },
  {
   "attachments": {},
   "cell_type": "markdown",
   "metadata": {},
   "source": [
    "## Analysis\n",
    "\n",
    "\n",
    "## what is white noise ?\n",
    "\n",
    "A time series is white noise if the variables are independent and identically distributed with a mean of zero.\n",
    "\n",
    "## Why Does it Matter?\n",
    "White noise is an important concept in time series analysis and forecasting.\n",
    "\n",
    "It is important for two main reasons:\n",
    "\n",
    "* `Predictability`: If your time series is white noise, then, by definition, it is random. You cannot reasonably model it and make predictions.\n",
    "* `Model Diagnostics` : The series of errors from a time series forecast model should ideally be white noise.\n",
    "Model Diagnostics is an important area of time series forecasting.\n",
    "\n",
    "Time series data are expected to contain some white noise component on top of the signal generated by the underlying process\n",
    "\n",
    "\n",
    "## Is your Time Series White Noise?\n",
    "Your time series is probably NOT white noise if one or more of the following conditions are true:\n",
    "\n",
    "* Is the mean/level non-zero?\n",
    "* Does the mean/level change over time?\n",
    "* Does the variance change over time?\n",
    "* Do values correlate with lag values?\n",
    "\n",
    "Some tools that you can use to check if your time series is white noise are:\n",
    "\n",
    "* Create a lag plot\n",
    "* Calculate summary statistics. Check the mean and variance of the whole series against the mean and variance of meaningful contiguous blocks of values in the series (e.g. days, months, or years).\n",
    "* Create an autocorrelation plot. Check for gross correlation between lagged variables."
   ]
  },
  {
   "cell_type": "code",
   "execution_count": 71,
   "metadata": {},
   "outputs": [],
   "source": [
    "# lets create a log plot\n",
    "\n",
    "pd.plotting.lag_plot(series=df['noise'], lag=1);\n",
    "plt.title('Lag plot of whitenoise');"
   ]
  },
  {
   "attachments": {},
   "cell_type": "markdown",
   "metadata": {},
   "source": [
    "<img src='./plots/whitenoise-lag-plot.png'>"
   ]
  },
  {
   "attachments": {},
   "cell_type": "markdown",
   "metadata": {},
   "source": [
    "### White-noise has no predictive information in past values and there are no correlation at any two points in time."
   ]
  },
  {
   "cell_type": "code",
   "execution_count": 72,
   "metadata": {},
   "outputs": [],
   "source": [
    "fig, ax = plt.subplots(nrows=2, ncols=3, figsize=(16, 8))\n",
    "\n",
    "ax = ax.ravel()\n",
    "\n",
    "for i,frame in enumerate(ax):\n",
    "    pd.plotting.lag_plot(series=df['noise'], lag=i+1, ax=frame)\n",
    "\n",
    "fig.suptitle('White-noise has no predictive information in past values');"
   ]
  },
  {
   "attachments": {},
   "cell_type": "markdown",
   "metadata": {},
   "source": [
    "<img src='./plots/whitenoise-lag-plot-4x3.png'>"
   ]
  },
  {
   "attachments": {},
   "cell_type": "markdown",
   "metadata": {},
   "source": [
    "### we can create a correlogram and check for any autocorrelation with lag variables."
   ]
  },
  {
   "cell_type": "code",
   "execution_count": 73,
   "metadata": {},
   "outputs": [],
   "source": [
    "ax = plot_correlations(df['noise']);\n",
    "ax[0].set_constrained_layout(False)\n",
    "ax[0].autofmt_xdate()"
   ]
  },
  {
   "attachments": {},
   "cell_type": "markdown",
   "metadata": {},
   "source": [
    "<img src='./plots/correlogram-whitenoise.png'>"
   ]
  },
  {
   "attachments": {},
   "cell_type": "markdown",
   "metadata": {},
   "source": [
    "## AR(1) process\n",
    "\n",
    "#### An AR(1) autoregressive process is one in which the current value is based on the immediately preceding value, while an AR(2) process is one in which the current value is based on the previous two values. An AR(0) process is used for white noise and has no dependence between the terms\n",
    "\n",
    "\n",
    "### Example of an Autoregressive Model\n",
    "Autoregressive models are based on the assumption that past values have an effect on current values. For example, an investor using an autoregressive model to forecast stock prices would need to assume that new buyers and sellers of that stock are influenced by recent market transactions.\n",
    "\n",
    "### `AR-(1) = intercept + lag_coef * lag-value + noise `\n",
    "\n",
    "### Lets understand how an AR process behave for different values of lag_coef and y_intercept\n",
    "\n",
    "lets build an AR process using `lag_coef` = `0.9` and `intercept`= `0`"
   ]
  },
  {
   "cell_type": "code",
   "execution_count": 74,
   "metadata": {},
   "outputs": [],
   "source": [
    "ar_1, noise = build_ar_process(intercept=0, lag_coef=0.9, p=1)\n",
    "\n",
    "# lets create a dataframe and store the results\n",
    "df = pd.DataFrame(data=ar_1, columns=['AR-1'], index=pd.date_range(start='2012-01-01', periods=300))\n",
    "\n",
    "# lets plot it\n",
    "df.plot(y=['AR-1'], figsize=(15,4));"
   ]
  },
  {
   "attachments": {},
   "cell_type": "markdown",
   "metadata": {},
   "source": [
    "<img src='./plots/AR-1-plot-0.9-0.png'>"
   ]
  },
  {
   "attachments": {},
   "cell_type": "markdown",
   "metadata": {},
   "source": [
    "### Is there any predictive information in this timeseries ?\n",
    "* By visual inspection its not that easy to answer this.\n",
    "    * We need need sophisticated methods like\n",
    "        * ACF\n",
    "        * PACF\n",
    "        * CCF\n",
    "        * etc...\n",
    "\n",
    "### AR - 1 \n",
    "\n",
    "* By definition its predictive\n",
    "    * `AR-(1) = intercept + lag_coef * lag-value + noise `\n",
    "    * Our ar-process use a lag_coef = 0.9\n",
    "        * This means its highy correlated with its past value\n",
    "    "
   ]
  },
  {
   "cell_type": "code",
   "execution_count": 79,
   "metadata": {},
   "outputs": [],
   "source": [
    "pd.plotting.lag_plot(series=df['AR-1'], lag=1);\n",
    "plt.title('AR-1 LAG PLOT ');"
   ]
  },
  {
   "attachments": {},
   "cell_type": "markdown",
   "metadata": {},
   "source": [
    "<img src='./plots/AR-1-plot-LAG-plot.png'>"
   ]
  },
  {
   "attachments": {},
   "cell_type": "markdown",
   "metadata": {},
   "source": [
    "## Set Lag coef of AR-1 to `0.1` and intercept to `0`\n",
    "\n",
    "\n",
    "When we set the lag coef to `0.1` out timeseries become very noisy"
   ]
  },
  {
   "cell_type": "code",
   "execution_count": 87,
   "metadata": {},
   "outputs": [],
   "source": [
    "ar_1, noise = build_ar_process(intercept=0, lag_coef=0.1, p=1)\n",
    "\n",
    "# lets store the results\n",
    "df['AR-1 0.1'] = ar_1\n",
    "\n",
    "# lets plot it\n",
    "df.plot(y=['AR-1 0.1'], figsize=(15,4));"
   ]
  },
  {
   "attachments": {},
   "cell_type": "markdown",
   "metadata": {},
   "source": [
    "<img src='./plots/AR-1-plot-0.1-0.png'>"
   ]
  },
  {
   "attachments": {},
   "cell_type": "markdown",
   "metadata": {},
   "source": [
    "### When we set lag coef to `0.1` the AR-1 process become very noisy\n",
    "\n",
    "we can see that there is not correlation "
   ]
  },
  {
   "cell_type": "code",
   "execution_count": 88,
   "metadata": {},
   "outputs": [],
   "source": [
    "pd.plotting.lag_plot(series=df['AR-1 0.1'], lag=1);\n",
    "plt.title('LAG plot showing no correlation');"
   ]
  },
  {
   "attachments": {},
   "cell_type": "markdown",
   "metadata": {},
   "source": [
    "<img src='./plots/LAG-plot -no-correlation.png'>"
   ]
  },
  {
   "attachments": {},
   "cell_type": "markdown",
   "metadata": {},
   "source": [
    "## What will happen if we set the intercept term to a number greater than 1 ?\n",
    "\n",
    "#### The timeseries settles at a new-baseline. This follows from the fact that the mean of an AR1 process when `abs(lag_coef) < 1` is given by ` mean = intercept / (1 - lag_coef)`"
   ]
  },
  {
   "cell_type": "code",
   "execution_count": 89,
   "metadata": {},
   "outputs": [],
   "source": [
    "ar_1, noise = build_ar_process(intercept=2, lag_coef=0.9, p=1)\n",
    "\n",
    "# lets store the results\n",
    "df['AR-1 0.9 2'] = ar_1\n",
    "\n",
    "# lets plot it\n",
    "df.plot(y=['AR-1 0.9 2'], figsize=(15,4));"
   ]
  },
  {
   "attachments": {},
   "cell_type": "markdown",
   "metadata": {},
   "source": [
    "<img src='./plots/AR-1-plot-0.9-2.png'>"
   ]
  },
  {
   "attachments": {},
   "cell_type": "markdown",
   "metadata": {},
   "source": [
    "## What will happen when the lag coef is greater that 1\n",
    "\n",
    "Suppose we build an AR-process with lag-coef greater than 1 \n",
    "* The time series will grow exponentially\n",
    "* The time series will not be stationary \n",
    "\n",
    "\n",
    "### Set lag-coef to 1.5 "
   ]
  },
  {
   "cell_type": "code",
   "execution_count": 101,
   "metadata": {},
   "outputs": [],
   "source": [
    "ar_1, noise = build_ar_process(intercept=0, lag_coef=1.5, p=1)\n",
    "\n",
    "# lets store the results\n",
    "df['AR-1 1.5 0'] = ar_1\n",
    "\n",
    "# lets plot it\n",
    "df.plot(y=['AR-1 1.5 0'], figsize=(15,4), linewidth=4, c='r');\n",
    "plt.title('Series grow exponentially , we set lag_coef to 1.5 so it grows by 50% every time-step');\n"
   ]
  },
  {
   "attachments": {},
   "cell_type": "markdown",
   "metadata": {},
   "source": [
    "<img src='./plots/AR-1-plot-exponential-growth-when-lag-coef-greater-than-1.png'>"
   ]
  },
  {
   "attachments": {},
   "cell_type": "markdown",
   "metadata": {},
   "source": [
    "## What will happen when lag-coef is less than -1\n",
    "\n",
    "Suppose we set lag-coef to -1.5\n",
    "* Series grows exponentially \n",
    "* Series oscillate between positive and negative domain"
   ]
  },
  {
   "cell_type": "code",
   "execution_count": 104,
   "metadata": {},
   "outputs": [],
   "source": [
    "ar_1, noise = build_ar_process(intercept=0, lag_coef=-1.5, p=1)\n",
    "\n",
    "# lets store the results\n",
    "df['AR-1 -1.5 0'] = ar_1\n",
    "\n",
    "# lets plot it\n",
    "df.plot(y=['AR-1 -1.5 0'], figsize=(15,4), linewidth=4, c='salmon');\n",
    "plt.title('Series grow exponentially , we set lag_coef to -1.5 so it grows by 50% every time-step but it oscillates');"
   ]
  },
  {
   "attachments": {},
   "cell_type": "markdown",
   "metadata": {},
   "source": [
    "<img src='./plots/AR-1-plot-exponential-growth-and-oscillate-when-lag-coef-less-than-neg1.png'>"
   ]
  },
  {
   "attachments": {},
   "cell_type": "markdown",
   "metadata": {},
   "source": [
    "### What will happen when we set the lag_coef to 1 and intercept greater than zero\n",
    "\n",
    "When we set lag-coef to 1 and intercept to 1\n",
    "* We can see the timeseries growing linearly\n",
    "* We are adding a intercept term and noise to the past   "
   ]
  },
  {
   "cell_type": "code",
   "execution_count": 110,
   "metadata": {},
   "outputs": [],
   "source": [
    "ar_1, noise = build_ar_process(intercept=1, lag_coef=1, p=1)\n",
    "\n",
    "# lets store the results\n",
    "df['AR-1 1 1'] = ar_1\n",
    "\n",
    "# lets plot it\n",
    "df.plot(y=['AR-1 1 1'], figsize=(15,4), linewidth=4, c='b');\n",
    "plt.title('Series grow linearly, because lag-coef=1 and intercept term=1');"
   ]
  },
  {
   "attachments": {},
   "cell_type": "markdown",
   "metadata": {},
   "source": [
    "<img src='./plots/AR-1-plot-linear-growth-when-lag-coef-is-1-and-intercept-greater-than-zero.png'>"
   ]
  },
  {
   "attachments": {},
   "cell_type": "markdown",
   "metadata": {},
   "source": [
    "## Summary \n",
    "\n",
    "### `AR-(1) = intercept + lag_coef * lag-value + noise `\n",
    "\n",
    "* ### When `abs(lag-coef)` is greater than `1`\n",
    "    *   #### The series will grow exponentially\n",
    "    *   #### The series will `not be stationary`\n",
    "\n",
    "* ### When `lag-coef` is equal to `1` and `intercept` term is greater than `0`\n",
    "    *   #### The series will grow linearly\n",
    "    *   #### The series will `not be stationary`\n",
    "\n",
    "* ### When `abs(lag-coef)` is less than `1`\n",
    "    *   #### The series will varies around the mean\n",
    "    *   #### The series will be `stationary`\n",
    "\n",
    "* ### When `lag-coef` is less than `0`\n",
    "    *   #### The series will ocillates between positve and negative domain\n",
    "    *   #### `Stationary` only if `abs(lag_coef)` is less than `1`\n",
    "\n",
    "* ###  An `AR(1)` autoregressive process is one in which the current value is based on the immediately preceding value \n",
    "* ### An `AR(2)` process is one in which the current value is based on the previous two values. \n",
    "* ### An `AR(0)` process is used for white noise and has no dependence between the terms\n",
    "* ### An `AR(P)` process is used for series that depends on multiple lagged values"
   ]
  },
  {
   "cell_type": "code",
   "execution_count": null,
   "metadata": {},
   "outputs": [],
   "source": []
  },
  {
   "cell_type": "code",
   "execution_count": null,
   "metadata": {},
   "outputs": [],
   "source": []
  }
 ],
 "metadata": {
  "kernelspec": {
   "display_name": "timeseries-env",
   "language": "python",
   "name": "python3"
  },
  "language_info": {
   "codemirror_mode": {
    "name": "ipython",
    "version": 3
   },
   "file_extension": ".py",
   "mimetype": "text/x-python",
   "name": "python",
   "nbconvert_exporter": "python",
   "pygments_lexer": "ipython3",
   "version": "3.9.13 (tags/v3.9.13:6de2ca5, May 17 2022, 16:36:42) [MSC v.1929 64 bit (AMD64)]"
  },
  "orig_nbformat": 4,
  "vscode": {
   "interpreter": {
    "hash": "5344483434f8feb0f4e4edbcac037dc40f14ec44f0a8519da7d24204004147d4"
   }
  }
 },
 "nbformat": 4,
 "nbformat_minor": 2
}
