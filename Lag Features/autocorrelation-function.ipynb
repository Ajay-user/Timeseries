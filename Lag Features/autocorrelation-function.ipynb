{
 "cells": [
  {
   "attachments": {},
   "cell_type": "markdown",
   "metadata": {},
   "source": [
    "# ACF : Auto-Correlation-Function\n",
    "\n",
    "* #### ACF measures how correlated a timeseries is with itself at various lags\n",
    "* #### The confidence interval of ACF at a given lag is calculated using the `Bartlett-formula`\n",
    "    * #### This confidence interval helps determine if the autocorrelation is significant \n",
    "* #### White-noise, Autoregression, Trend, Seasonality all leave different signatures on the ACF, which can be used to pick a relevant lag for modeling "
   ]
  },
  {
   "cell_type": "code",
   "execution_count": 23,
   "metadata": {},
   "outputs": [],
   "source": [
    "import pandas as pd\n",
    "import numpy as np\n",
    "\n",
    "import seaborn as sns\n",
    "import matplotlib.pyplot as plt\n",
    "\n",
    "from sktime.utils.plotting import plot_acf, plot_lags, plot_pacf, plot_series, plot_windows, plot_correlations\n",
    "\n",
    "# from statsmodels.graphics.tsaplots import plot_acf\n",
    "from statsmodels.nonparametric.smoothers_lowess import lowess\n",
    "from statsmodels.tsa.stattools import acf\n",
    "from statsmodels.tsa.seasonal import STL\n"
   ]
  },
  {
   "attachments": {},
   "cell_type": "markdown",
   "metadata": {},
   "source": [
    "#### Data Set Synopsis\n",
    "\n",
    "The timeseries is between January 1992 and Apr 2005.\n",
    "\n",
    "It consists of a single series of monthly values representing sales volumes. \n",
    "\n",
    "We will work with a monthly retail sales dataset (found [here](https://raw.githubusercontent.com/facebook/prophet/master/examples/example_retail_sales.csv))."
   ]
  },
  {
   "cell_type": "code",
   "execution_count": 2,
   "metadata": {},
   "outputs": [
    {
     "data": {
      "text/html": [
       "<div>\n",
       "<style scoped>\n",
       "    .dataframe tbody tr th:only-of-type {\n",
       "        vertical-align: middle;\n",
       "    }\n",
       "\n",
       "    .dataframe tbody tr th {\n",
       "        vertical-align: top;\n",
       "    }\n",
       "\n",
       "    .dataframe thead th {\n",
       "        text-align: right;\n",
       "    }\n",
       "</style>\n",
       "<table border=\"1\" class=\"dataframe\">\n",
       "  <thead>\n",
       "    <tr style=\"text-align: right;\">\n",
       "      <th></th>\n",
       "      <th>y</th>\n",
       "    </tr>\n",
       "    <tr>\n",
       "      <th>ds</th>\n",
       "      <th></th>\n",
       "    </tr>\n",
       "  </thead>\n",
       "  <tbody>\n",
       "    <tr>\n",
       "      <th>1992-01-01</th>\n",
       "      <td>146376</td>\n",
       "    </tr>\n",
       "    <tr>\n",
       "      <th>1992-02-01</th>\n",
       "      <td>147079</td>\n",
       "    </tr>\n",
       "    <tr>\n",
       "      <th>1992-03-01</th>\n",
       "      <td>159336</td>\n",
       "    </tr>\n",
       "    <tr>\n",
       "      <th>1992-04-01</th>\n",
       "      <td>163669</td>\n",
       "    </tr>\n",
       "    <tr>\n",
       "      <th>1992-05-01</th>\n",
       "      <td>170068</td>\n",
       "    </tr>\n",
       "  </tbody>\n",
       "</table>\n",
       "</div>"
      ],
      "text/plain": [
       "                 y\n",
       "ds                \n",
       "1992-01-01  146376\n",
       "1992-02-01  147079\n",
       "1992-03-01  159336\n",
       "1992-04-01  163669\n",
       "1992-05-01  170068"
      ]
     },
     "execution_count": 2,
     "metadata": {},
     "output_type": "execute_result"
    }
   ],
   "source": [
    "df = pd.read_csv('../../Datasets/example_retail_sales.csv', parse_dates=['ds'], index_col=['ds'])\n",
    "df.head()"
   ]
  },
  {
   "attachments": {},
   "cell_type": "markdown",
   "metadata": {},
   "source": [
    "## Pearson correlation coefficient\n",
    "* It's a measure of linear correlation between two sets of data. \n",
    "* It is the ratio between the covariance of two variables and the product of their standard deviations; \n",
    "    * thus, it is essentially a normalized measurement of the covariance \n",
    "    * the result always has a value between −1 and 1. \n",
    "\n",
    "<div style='background-color:white; height:100px'>\n",
    "<img src='https://wikimedia.org/api/rest_v1/media/math/render/svg/f76ccfa7c2ed7f5b085115086107bbe25d329cec' style='height:100%; margin-left:50px'>\n",
    "</div>"
   ]
  },
  {
   "attachments": {},
   "cell_type": "markdown",
   "metadata": {},
   "source": [
    "#### Correlation describes the strength of linear relationship\n",
    "\n",
    "#### Slope of the line has nothing to do with the correlation\n",
    "\n",
    "#### Correlation value of 1 means positive correaltion\n",
    "\n",
    "#### Correlation value of -1 means negative correaltion\n",
    "\n",
    "#### Auto Correlation can only capture linear relationship, it can't capture non linear relation."
   ]
  },
  {
   "attachments": {},
   "cell_type": "markdown",
   "metadata": {},
   "source": [
    "<div style='background-color:white; height:300px'> \n",
    "<img src='https://upload.wikimedia.org/wikipedia/commons/d/d4/Correlation_examples2.svg' style='height:100%; width:100%'>\n",
    "</div>\n",
    "<br/>\n",
    "\n",
    "<span>https://en.wikipedia.org/wiki/Pearson_correlation_coefficient</span>"
   ]
  },
  {
   "attachments": {},
   "cell_type": "markdown",
   "metadata": {},
   "source": [
    "## Lets Build ACF from scratch"
   ]
  },
  {
   "cell_type": "code",
   "execution_count": 8,
   "metadata": {},
   "outputs": [],
   "source": [
    "def ACF_util(series, lags=10, freq=None, ax=None, return_df=False, return_r=False):\n",
    "    r = [1]\n",
    "    res = pd.DataFrame(data=series, columns=['y'], index=series.index)\n",
    "    y_mean = np.mean(series)\n",
    "    for i in range(lags):\n",
    "        res[f'y_lag_{i+1}'] = res['y'].shift(periods=i+1, freq=freq)\n",
    "        lag_mean =  np.mean(res[f'y_lag_{i+1}'])\n",
    "        \n",
    "        covariance = np.mean( (res['y']-y_mean) * (res[f'y_lag_{i+1}']-lag_mean) )\n",
    "        vairance = np.std(res['y']) * np.std(res[f'y_lag_{i+1}'])\n",
    "\n",
    "        correlation = covariance/vairance\n",
    "        r.append(correlation)\n",
    "    if ax:\n",
    "        ax.stem(r)\n",
    "    else:\n",
    "        plt.stem(r)\n",
    "    \n",
    "    if return_df and return_r:\n",
    "        return res, r\n",
    "    elif return_df:\n",
    "        return res\n",
    "    elif return_r:\n",
    "        return r"
   ]
  },
  {
   "cell_type": "code",
   "execution_count": 7,
   "metadata": {},
   "outputs": [],
   "source": [
    "def acf_plot_util(y, title):\n",
    "    fig, ax = plt.subplots(nrows=1, ncols=2, figsize=(15,4))\n",
    "    ACF_util(y, lags=25, ax=ax[0]);\n",
    "    plot_acf(y, ax =ax[1], auto_ylims=True);\n",
    "    fig.suptitle(title, fontsize=24)\n",
    "    plt.tight_layout();"
   ]
  },
  {
   "attachments": {},
   "cell_type": "markdown",
   "metadata": {},
   "source": [
    "## AR Process and ACF\n",
    "* AR stands for autoregressive.\n",
    "#### AR(1) process - a time series determined by lag 1 \n",
    "\n",
    "* Let's create a toy time series where there should be a correlation with lag 1 of the time series.\n",
    "* We might think that this means there is only a correlation with lag 1 of the time series $y$ but we will see that is not the case. "
   ]
  },
  {
   "cell_type": "code",
   "execution_count": 3,
   "metadata": {},
   "outputs": [],
   "source": [
    "\n",
    "def AR_gen(p=1, lag_coef=[0.9], const=0, num_data_points=300):\n",
    "    rng = np.random.RandomState(seed=42)\n",
    "    data = np.zeros(num_data_points)\n",
    "    index = pd.date_range(start='2000-01-01', periods=num_data_points)\n",
    "    y = pd.Series(data=data, index=index)\n",
    "    \n",
    "    for i in range(p, num_data_points):\n",
    "        y.iloc[i] = const + np.dot(y.iloc[i-p:i].values, lag_coef) + rng.normal(loc=0,scale=1)\n",
    "    \n",
    "    return y\n"
   ]
  },
  {
   "cell_type": "code",
   "execution_count": 5,
   "metadata": {},
   "outputs": [],
   "source": [
    "ar_1 = AR_gen()\n",
    "plot_series(ar_1)\n",
    "plt.title('AR(1)', size=20)\n",
    "plt.xticks(rotation=20);"
   ]
  },
  {
   "attachments": {},
   "cell_type": "markdown",
   "metadata": {},
   "source": [
    "<img src='./plots/AR-1-plot-default.png'>"
   ]
  },
  {
   "attachments": {},
   "cell_type": "markdown",
   "metadata": {},
   "source": [
    "#### ACF of AR(1)"
   ]
  },
  {
   "cell_type": "code",
   "execution_count": 91,
   "metadata": {},
   "outputs": [],
   "source": [
    "ACF_util(ar_1, lags=25)"
   ]
  },
  {
   "attachments": {},
   "cell_type": "markdown",
   "metadata": {},
   "source": [
    "<img src='./plots/acf_util_AR_1_plot.png'>"
   ]
  },
  {
   "cell_type": "code",
   "execution_count": 92,
   "metadata": {},
   "outputs": [],
   "source": [
    "acf_plot_util(ar_1, title=\"Autocorrelation of AR(1) process\")"
   ]
  },
  {
   "attachments": {},
   "cell_type": "markdown",
   "metadata": {},
   "source": [
    "<img src='./plots/acf_util_AR_1_plot_compare.png'>"
   ]
  },
  {
   "attachments": {},
   "cell_type": "markdown",
   "metadata": {},
   "source": [
    "#### So we see that it is not possible to determine that only a lag of 1 that is the most important from the ACF, despite $y_t$ being generated only by $y_{t-1}$. \n",
    "\n",
    "#### The partial autcorrelation function (PACF) will help identify that a lag of 1 is important in this scenario."
   ]
  },
  {
   "attachments": {},
   "cell_type": "markdown",
   "metadata": {},
   "source": [
    "## Time series with trend and seasonality\n",
    "\n",
    "Let's assume that we do not know that there is seasonality with period 12 (i.e., yearly) in the data.\n",
    "\n",
    "We can use the lag plots and the ACF to highlight the period of the seasonality and therefore suggest a useful lag."
   ]
  },
  {
   "cell_type": "code",
   "execution_count": 7,
   "metadata": {},
   "outputs": [],
   "source": [
    "# Load retail sales dataset with the artificially added outliers\n",
    "df = pd.read_csv(\n",
    "    \"../../Datasets/example_retail_sales.csv\",\n",
    "    parse_dates=[\"ds\"],\n",
    "    index_col=[\"ds\"],\n",
    ")\n",
    "\n",
    "plot_series(df['y'])"
   ]
  },
  {
   "attachments": {},
   "cell_type": "markdown",
   "metadata": {},
   "source": [
    "<img src='./plots/retail-sales-plot.png'>"
   ]
  },
  {
   "attachments": {},
   "cell_type": "markdown",
   "metadata": {},
   "source": [
    "#### Lets compute ACF for retail sales\n",
    "* #### This data has both trend and seasonal pattern\n",
    "* #### Trend, Seasonal , AR everthing leaves different signature on ACF plot\n",
    "* #### The autocorrelation is one at lag 0 as expected.\n",
    "* #### The autocorrelation decays slowly due to the strong trend.\n",
    "* #### There are peaks at multiples of the lag of 12. This suggests there is seasonality with lag 12."
   ]
  },
  {
   "cell_type": "code",
   "execution_count": 10,
   "metadata": {},
   "outputs": [],
   "source": [
    "retail_lag, acf = ACF_util(df['y'], lags=36, return_df=True, return_r=True)"
   ]
  },
  {
   "attachments": {},
   "cell_type": "markdown",
   "metadata": {},
   "source": [
    "<img src='./plots/trend_seasonality_and_ACF.png'>"
   ]
  },
  {
   "cell_type": "code",
   "execution_count": 20,
   "metadata": {},
   "outputs": [],
   "source": [
    "fig, ax = plt.subplots(nrows=3, ncols=2, figsize=(15,10) )\n",
    "ax = ax.ravel()\n",
    "\n",
    "for i, lag in enumerate([6,12,18,24,30,36]):\n",
    "    retail_lag.plot(y=['y',f'y_lag_{lag}'], ax=ax[i])"
   ]
  },
  {
   "attachments": {},
   "cell_type": "markdown",
   "metadata": {},
   "source": [
    "<img src='./plots/acf_util_retail_lags.png'>"
   ]
  },
  {
   "attachments": {},
   "cell_type": "markdown",
   "metadata": {},
   "source": [
    "* #### Due to strong trend component high ACF is observed at multiple lags\n",
    "* #### The time-series has a periodicity of 12months\n",
    "    * ##### So at mulitple of 12 we can observe high ACF"
   ]
  },
  {
   "cell_type": "code",
   "execution_count": 27,
   "metadata": {},
   "outputs": [],
   "source": [
    "fig, ax = plt.subplots(nrows=3, ncols=2, figsize=(15,15) )\n",
    "ax = ax.ravel()\n",
    "\n",
    "for i, lag in enumerate([6,12,18,24,30,36]):\n",
    "    ax[i].scatter(retail_lag['y'], retail_lag[f'y_lag_{lag}'])\n",
    "    ax[i].set(title=f'lag-{lag}')"
   ]
  },
  {
   "attachments": {},
   "cell_type": "markdown",
   "metadata": {},
   "source": [
    "<img src='./plots/acf_util_retail_lag_plot.png'>"
   ]
  },
  {
   "attachments": {},
   "cell_type": "markdown",
   "metadata": {},
   "source": [
    "* #### In summary this would suggest that we could create features using a lag of 12 (from the seasonality). \n",
    "* #### If there is a strong trend component in the data then recent values (i.e., low lags) will also be helpful. So we should also consider using a lag of 1 or 2."
   ]
  },
  {
   "attachments": {},
   "cell_type": "markdown",
   "metadata": {},
   "source": [
    "## # ACF after detrending the original series"
   ]
  },
  {
   "cell_type": "code",
   "execution_count": 14,
   "metadata": {},
   "outputs": [],
   "source": [
    "res = lowess(endog=df['y'], exog=range(len(df)), frac=0.1)\n",
    "\n",
    "plot_series(df['y'])\n",
    "plt.plot(res[:,1], c='salmon', linewidth=4);\n",
    "plt.xticks(rotation=20);"
   ]
  },
  {
   "attachments": {},
   "cell_type": "markdown",
   "metadata": {},
   "source": [
    "<img src='./plots/retail-sales-trend.png'>"
   ]
  },
  {
   "attachments": {},
   "cell_type": "markdown",
   "metadata": {},
   "source": [
    "#### Detrend the timeseries"
   ]
  },
  {
   "cell_type": "code",
   "execution_count": 17,
   "metadata": {},
   "outputs": [],
   "source": [
    "retail_detrend = df['y'] - res[:, 1]\n",
    "\n",
    "plot_series(retail_detrend)\n",
    "plt.xticks(rotation=20);"
   ]
  },
  {
   "attachments": {},
   "cell_type": "markdown",
   "metadata": {},
   "source": [
    "<img src='./plots/retail-sales-detrended.png'>"
   ]
  },
  {
   "attachments": {},
   "cell_type": "markdown",
   "metadata": {},
   "source": [
    "* #### There are peaks at multiples of the seasonal lag of 12 due to the seasonality. This is much clearer now that we have de-trended. "
   ]
  },
  {
   "cell_type": "code",
   "execution_count": 19,
   "metadata": {},
   "outputs": [],
   "source": [
    "acf_plot_util(retail_detrend, title=\"Autocorrelation of retail sales detrended\")"
   ]
  },
  {
   "attachments": {},
   "cell_type": "markdown",
   "metadata": {},
   "source": [
    "<img src='./plots/acf_util_retail_detrended.png'>"
   ]
  },
  {
   "attachments": {},
   "cell_type": "markdown",
   "metadata": {},
   "source": [
    "## ACF of trend component"
   ]
  },
  {
   "cell_type": "code",
   "execution_count": 22,
   "metadata": {},
   "outputs": [],
   "source": [
    "trend = pd.Series(res[:,1], index=df.index)\n",
    "acf_plot_util(trend, title=\"Autocorrelation of retail sales detrended\")"
   ]
  },
  {
   "attachments": {},
   "cell_type": "markdown",
   "metadata": {},
   "source": [
    "<img src='./plots/acf_util_retail_trend.png'>"
   ]
  },
  {
   "attachments": {},
   "cell_type": "markdown",
   "metadata": {},
   "source": [
    "#### Now lets use STL decomposition and extract the residuls."
   ]
  },
  {
   "cell_type": "code",
   "execution_count": 27,
   "metadata": {},
   "outputs": [],
   "source": [
    "stl = STL(endog=df['y'], period=12, seasonal=7).fit()\n",
    "# stl.plot();"
   ]
  },
  {
   "attachments": {},
   "cell_type": "markdown",
   "metadata": {},
   "source": [
    "<img src='./plots/retail-STL.png'>"
   ]
  },
  {
   "attachments": {},
   "cell_type": "markdown",
   "metadata": {},
   "source": [
    "#### Autocorrelation of residual"
   ]
  },
  {
   "cell_type": "code",
   "execution_count": 30,
   "metadata": {},
   "outputs": [],
   "source": [
    "acf_plot_util(stl.resid, title=\"Autocorrelation of residual\");"
   ]
  },
  {
   "attachments": {},
   "cell_type": "markdown",
   "metadata": {},
   "source": [
    "<img src='./plots/acf_residual.png'>"
   ]
  },
  {
   "attachments": {},
   "cell_type": "markdown",
   "metadata": {},
   "source": [
    "* #### We can see that there aren't any significant lags"
   ]
  },
  {
   "attachments": {},
   "cell_type": "markdown",
   "metadata": {},
   "source": [
    "## White-noise and ACF\n",
    "\n",
    "For white noise we can expect ACF to be small at all lags because each data-point is completely independent of each other"
   ]
  },
  {
   "cell_type": "code",
   "execution_count": 9,
   "metadata": {},
   "outputs": [],
   "source": [
    "num_data_points=300\n",
    "\n",
    "rng = np.random.RandomState(seed=42)\n",
    "\n",
    "noise = rng.normal(loc=0.0, scale=1.0, size=num_data_points)\n",
    "\n",
    "noise = pd.Series(noise, index=pd.date_range(start='2000-01-01', periods=num_data_points, freq='D'))\n",
    "\n",
    "plot_series(noise)\n",
    "plt.xticks(rotation=30);"
   ]
  },
  {
   "attachments": {},
   "cell_type": "markdown",
   "metadata": {},
   "source": [
    "<img src='./plots/whitenoise_sktime_plot.png'>"
   ]
  },
  {
   "attachments": {},
   "cell_type": "markdown",
   "metadata": {},
   "source": [
    " - The autocorrelation is one at lag 0 as expected.\n",
    " - The autocorrelation at all other lags are not significant. As expected from white noise because the timeseries at each point is determined independently from each other point and therefore no point is correlated to a previous point."
   ]
  },
  {
   "cell_type": "code",
   "execution_count": 41,
   "metadata": {},
   "outputs": [],
   "source": [
    "fig, ax = plt.subplots(nrows=1, ncols=2, figsize=(15,4))\n",
    "ACF_util(noise, lags=25, ax=ax[0]);\n",
    "plot_acf(noise, ax =ax[1]);\n"
   ]
  },
  {
   "attachments": {},
   "cell_type": "markdown",
   "metadata": {},
   "source": [
    "<img src='./plots/lag_plot_for_white_noise.png'>"
   ]
  },
  {
   "cell_type": "code",
   "execution_count": null,
   "metadata": {},
   "outputs": [],
   "source": []
  }
 ],
 "metadata": {
  "kernelspec": {
   "display_name": "timeseries-env",
   "language": "python",
   "name": "python3"
  },
  "language_info": {
   "codemirror_mode": {
    "name": "ipython",
    "version": 3
   },
   "file_extension": ".py",
   "mimetype": "text/x-python",
   "name": "python",
   "nbconvert_exporter": "python",
   "pygments_lexer": "ipython3",
   "version": "3.9.13"
  },
  "orig_nbformat": 4,
  "vscode": {
   "interpreter": {
    "hash": "5344483434f8feb0f4e4edbcac037dc40f14ec44f0a8519da7d24204004147d4"
   }
  }
 },
 "nbformat": 4,
 "nbformat_minor": 2
}
