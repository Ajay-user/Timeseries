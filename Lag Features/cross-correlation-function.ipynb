{
 "cells": [
  {
   "attachments": {},
   "cell_type": "markdown",
   "metadata": {},
   "source": [
    "## Computing the cross correlation function (CCF)\n",
    "\n",
    "Cross correlation function computes the correlation between time-series and lagged value of feature-series.\n",
    "\n",
    "$95\\%$ confidence interval is given by the formula : $\\frac{2}{\\sqrt{n}}$\n",
    "\n",
    "**An example** <br>\n",
    "* time-series: $retail-sales$  \n",
    "* feature-series: $advertisement-spending$\n",
    "\n",
    "\n"
   ]
  },
  {
   "cell_type": "code",
   "execution_count": 8,
   "metadata": {},
   "outputs": [],
   "source": [
    "import pandas as pd\n",
    "import numpy as np\n",
    "import matplotlib.pyplot as plt\n",
    "from matplotlib.ticker import MaxNLocator\n",
    "\n",
    "from statsmodels.tsa.seasonal import STL, MSTL\n",
    "from statsmodels.tsa.stattools import pacf, acf, ccf\n",
    "from statsmodels.graphics.tsaplots import plot_acf, plot_pacf\n",
    "\n",
    "from sktime.utils.plotting import plot_series"
   ]
  },
  {
   "cell_type": "code",
   "execution_count": 202,
   "metadata": {},
   "outputs": [],
   "source": [
    "# helper functions\n",
    "\n",
    "def plot_ccf(y, x, ax, title='Cross correlation'):\n",
    "    # cross correlation \n",
    "    # this will return an array of len equal to the len of x\n",
    "    cross_corr = ccf(x, y)\n",
    "    # confidence interval\n",
    "    ci = 2 / np.sqrt(len(y))\n",
    "\n",
    "    markerline, stemlines, baseline = ax.stem(cross_corr, linefmt='r', markerfmt='.')\n",
    "    markerline.set_markerfacecolor('None')\n",
    "\n",
    "    ax.xaxis.set_major_locator(MaxNLocator(integer=True))\n",
    "\n",
    "    ax.fill_between(range(len(y)), y1=ci, y2=-ci, alpha=0.5, color='salmon')\n",
    "    ax.set(title=title)\n",
    "\n",
    "\n",
    "def cross_lag_plot(x, y, ax, lag, freq=None, title='Lag plot', **kwargs):\n",
    "    ax.scatter(y=y, x=x.shift(periods=lag, freq=freq), **kwargs)\n",
    "    ax.set(title=title, xlabel='X', ylabel='Y')\n",
    "\n",
    "\n",
    "def white_noise_gen(num_points=300, seed=42):\n",
    "    index = pd.date_range(start='2000-01-01', periods=num_points)\n",
    "    rng = np.random.RandomState(seed=seed)\n",
    "    data = rng.normal(loc=0.0, scale=1.0, size=num_points)\n",
    "    noise = pd.Series(data=data, index=index)\n",
    "    return noise\n",
    "\n",
    "\n",
    "def AR_gen(p=1, num_points=300, seed=42, const=0, lag_coef=[0.9]):\n",
    "    index = pd.date_range(start='2000-01-01', periods=num_points)\n",
    "    rng = np.random.RandomState(seed=seed)\n",
    "    series = pd.Series(data=np.zeros(num_points), index=index)\n",
    "    \n",
    "    for i in range(p, num_points):\n",
    "        noise = rng.normal(loc=0.0, scale=1.0)\n",
    "        series.iloc[i] = const + np.dot(series[i-p:i], lag_coef) + noise\n",
    "\n",
    "    return series\n",
    "\n",
    "\n",
    "def lag_plot_of_two_series(x, y, title='Lag plot', rows=1, cols=1, figsize=(5,5), **kwargs):\n",
    "    fig, ax = plt.subplots(nrows=rows,ncols=cols, figsize=figsize, constrained_layout=True, sharex=True, sharey=True)\n",
    "    ax = [ax] if not type(ax) is np.ndarray else ax.ravel()\n",
    "\n",
    "    for i, frame in enumerate(ax):\n",
    "        cross_lag_plot(x=x, y=y, ax=frame, lag=i+1, title=f'Lag-{i+1}', **kwargs)\n",
    "\n",
    "    fig.suptitle(f'{title}\\n', size=24);"
   ]
  },
  {
   "attachments": {},
   "cell_type": "markdown",
   "metadata": {},
   "source": [
    "## CCF and noise"
   ]
  },
  {
   "cell_type": "code",
   "execution_count": 110,
   "metadata": {},
   "outputs": [],
   "source": [
    "noise_1 = white_noise_gen(seed=42)\n",
    "plot_series(noise_1)\n",
    "plt.xticks(rotation=20);"
   ]
  },
  {
   "attachments": {},
   "cell_type": "markdown",
   "metadata": {},
   "source": [
    "<img src='./plots/whitenoise_sktime_plot.png'>"
   ]
  },
  {
   "cell_type": "code",
   "execution_count": 107,
   "metadata": {},
   "outputs": [],
   "source": [
    "noise_2 = white_noise_gen(seed=100)\n",
    "plot_series(noise_2)\n",
    "plt.xticks(rotation=20);"
   ]
  },
  {
   "attachments": {},
   "cell_type": "markdown",
   "metadata": {},
   "source": [
    "<img src='./plots/whitenoise_sktime_plot-seed-100.png'>"
   ]
  },
  {
   "cell_type": "code",
   "execution_count": 112,
   "metadata": {},
   "outputs": [],
   "source": [
    "plt.figure(figsize=(18,4))\n",
    "ax = plt.subplot()\n",
    "plot_ccf(noise_1, noise_2, ax)"
   ]
  },
  {
   "attachments": {},
   "cell_type": "markdown",
   "metadata": {},
   "source": [
    "<img src='./plots/cross-correlation-whitenoise-noise_1-vs-noise_2.png'>"
   ]
  },
  {
   "attachments": {},
   "cell_type": "markdown",
   "metadata": {},
   "source": [
    "#### As expected the cross-correlation is small and not signifcant across most lags. By chance we expect some lags to be larger than the confidence interval so the fact that we see some lags just outside of the interval is not something to give attention to."
   ]
  },
  {
   "cell_type": "code",
   "execution_count": 139,
   "metadata": {},
   "outputs": [],
   "source": [
    "fig, ax = plt.subplots(nrows=3,ncols=6, figsize=(20,10), constrained_layout=True, sharex=True, sharey=True)\n",
    "ax = ax.ravel()\n",
    "\n",
    "for i, frame in enumerate(ax):\n",
    "    cross_lag_plot(x=noise_1, y=noise_2, ax=frame, lag=i+1, title=f'Lag-{i+1}', marker='.', edgecolor='k', s=64)\n",
    "\n",
    "fig.suptitle('Whitenoise has no information\\n', size=24);"
   ]
  },
  {
   "attachments": {},
   "cell_type": "markdown",
   "metadata": {},
   "source": [
    "<img src='./plots/lag-plot-whitenoise-noise_1-vs-noise_2-.png'>"
   ]
  },
  {
   "attachments": {},
   "cell_type": "markdown",
   "metadata": {},
   "source": [
    "## CFF and AR process\n",
    "\n",
    "\n",
    "#### Lets study Cross correlation between two AR-1 process"
   ]
  },
  {
   "cell_type": "code",
   "execution_count": 225,
   "metadata": {},
   "outputs": [],
   "source": [
    "# lets create two AR-1 Process \n",
    "ar_1 = AR_gen(p=1, lag_coef=[0.6], seed=42,)\n",
    "ar_2 = AR_gen(p=1, lag_coef=[0.8], seed=0, )\n",
    "\n",
    "fig, ax = plt.subplots(nrows=1, ncols=2, figsize=(15,4))\n",
    "plot_series(ar_1, ax=ax[0])\n",
    "plot_series(ar_2, ax=ax[1])\n",
    "ax[0].tick_params(axis='x', rotation=30)\n",
    "ax[1].tick_params(axis='x', rotation=30)\n",
    "fig.suptitle('Two AR-1 Process')\n",
    "plt.show()"
   ]
  },
  {
   "attachments": {},
   "cell_type": "markdown",
   "metadata": {},
   "source": [
    "<img src='./plots/two-random-ar1-process.png'>"
   ]
  },
  {
   "cell_type": "code",
   "execution_count": 226,
   "metadata": {},
   "outputs": [],
   "source": [
    "plt.figure(figsize=(18,4))\n",
    "ax = plt.subplot()\n",
    "plot_ccf(y=ar_1, x=ar_2, title='Cross correlation between two AR-1 process', ax=ax)"
   ]
  },
  {
   "attachments": {},
   "cell_type": "markdown",
   "metadata": {},
   "source": [
    "<img src='./plots/two-random-ar1-process-cross-correlation.png'>"
   ]
  },
  {
   "cell_type": "code",
   "execution_count": 229,
   "metadata": {},
   "outputs": [],
   "source": [
    "lag_plot_of_two_series(x=ar_1, y=ar_2, rows=3, cols=3, title='Lag plot of two AR process', marker='.', edgecolor='k')"
   ]
  },
  {
   "attachments": {},
   "cell_type": "markdown",
   "metadata": {},
   "source": [
    "<img src='./plots/two-random-ar1-process-lag-plot.png'>"
   ]
  },
  {
   "attachments": {},
   "cell_type": "markdown",
   "metadata": {},
   "source": [
    "#### As expected the cross-correlation of two random AR-1 process is small and not signifcant across most lags. By chance we expect some lags to be larger than the confidence interval so the fact that we see some lags just outside of the interval is not something to give attention to."
   ]
  },
  {
   "attachments": {},
   "cell_type": "markdown",
   "metadata": {},
   "source": [
    "* Let's create a toy time series $y_t$ where we expect some correlation with the lag of a different time series $x_t$. \n",
    "* For fun, let's start with a time series which follows an AR1 process for $x_t$.\n",
    "* We then create a time series $y_t$ which depends on lag p of $x_t$ and add some additional noise."
   ]
  },
  {
   "cell_type": "code",
   "execution_count": 243,
   "metadata": {},
   "outputs": [],
   "source": [
    "index = pd.date_range(start='2000-01-01', periods=300)\n",
    "rng = np.random.RandomState(seed=42)\n",
    "y_1 = pd.Series(data=np.zeros(300), index=index)\n",
    "y_2 = pd.Series(data=np.zeros(300), index=index)\n",
    "\n",
    "for i in range(1,300):\n",
    "    y_1.iloc[i] = 0 + 0.9*y_1[i-1] + rng.normal(loc=0.0, scale=1.0)\n",
    "\n",
    "y_2.iloc[:10] = y_1.iloc[:10]\n",
    "for i in range(10,300):\n",
    "    y_2.iloc[i] = 0 + 3*y_1[i-10] + rng.normal(loc=0.0, scale=1.0)\n",
    "\n",
    "series = pd.DataFrame(data={ 'y':y_1, 'x':y_2})\n",
    "\n",
    "series.plot(y=['y', 'x'], subplots=True, figsize=(15,4))"
   ]
  },
  {
   "attachments": {},
   "cell_type": "markdown",
   "metadata": {},
   "source": [
    "<img src='./plots/two-realted-ar-process.png'>"
   ]
  },
  {
   "cell_type": "code",
   "execution_count": 267,
   "metadata": {},
   "outputs": [],
   "source": [
    "lag_plot_of_two_series(x=y_1, y=y_2, title='Lag plot of two realted AR-1 process', rows=3, cols=5, figsize=(10,7), edgecolor='k')"
   ]
  },
  {
   "attachments": {},
   "cell_type": "markdown",
   "metadata": {},
   "source": [
    "<img src='./plots/two-realted-ar-process-lag-plot.png'>"
   ]
  },
  {
   "cell_type": "code",
   "execution_count": 271,
   "metadata": {},
   "outputs": [],
   "source": [
    "plt.figure(figsize=(15,8))\n",
    "plot_ccf(y=y_1, x=y_2, ax=plt.subplot(), title='Cross correlation of two related AR-1 process')"
   ]
  },
  {
   "attachments": {},
   "cell_type": "markdown",
   "metadata": {},
   "source": [
    "<img src='./plots/two-realted-ar-process-cross-correlation.png'>"
   ]
  },
  {
   "cell_type": "code",
   "execution_count": 277,
   "metadata": {},
   "outputs": [],
   "source": [
    "plt.figure(figsize=(15,4))\n",
    "plot_ccf(y=y_1[:50], x=y_2[:50], ax=plt.subplot(), title='Cross correlation of two related AR-1 process')"
   ]
  },
  {
   "attachments": {},
   "cell_type": "markdown",
   "metadata": {},
   "source": [
    "#### We see many significant lags despite the fact that only one is important. Nevertheless, we see that the CCF peaks at the lag of $10$ allowing us to determine that it is an important lag!"
   ]
  },
  {
   "attachments": {},
   "cell_type": "markdown",
   "metadata": {},
   "source": [
    "<img src='./plots/two-realted-ar-process-cross-correlation-zoomed.png'>"
   ]
  },
  {
   "attachments": {},
   "cell_type": "markdown",
   "metadata": {},
   "source": [
    "## Data Set Synopsis\n",
    "\n",
    "* #### The retail sales dataset is a monthly timeseries representing sales volumes collected between January 1992 and May 2016.\n",
    "* #### The air passengers dataset is a monthly timeseries representing the number of US air passengers collected between January 1949 and December 1960.\n",
    "\n",
    "retail sales dataset (found [here](https://raw.githubusercontent.com/facebook/prophet/master/examples/example_retail_sales.csv)) and the air passengers data set (found [here](https://raw.githubusercontent.com/facebook/prophet/master/examples/example_air_passengers.csv))"
   ]
  },
  {
   "cell_type": "code",
   "execution_count": 4,
   "metadata": {},
   "outputs": [],
   "source": [
    "retail_sales = pd.read_csv('../../Datasets/example_retail_sales.csv', parse_dates=['ds'], index_col=['ds'], nrows=120)\n",
    "\n",
    "air_passenger = pd.read_csv('../../Datasets/example_air_passengers.csv', parse_dates=['ds'], index_col=['ds'], nrows=120)"
   ]
  },
  {
   "attachments": {},
   "cell_type": "markdown",
   "metadata": {},
   "source": [
    "## Time-series with Trend and Seasonality\n",
    "\n",
    "#### Just having a trend component between two time series will create cross-correlations between the two series, even if the two time series have nothing to do with one another and hence we would probably not want to use one as a predictor of the other."
   ]
  },
  {
   "cell_type": "code",
   "execution_count": 291,
   "metadata": {},
   "outputs": [],
   "source": [
    "fig, ax= plt.subplots(nrows=2, ncols=1, figsize=(18,6))\n",
    "retail_sales.plot(y=['y'], ax=ax[0], title='Retail-sales')\n",
    "air_passenger.plot(y=['y'], ax=ax[1], title='Air passengers')\n",
    "plt.tight_layout()"
   ]
  },
  {
   "attachments": {},
   "cell_type": "markdown",
   "metadata": {},
   "source": [
    "<img src='./plots/retail-sales--vs--air-passenger.png'>"
   ]
  },
  {
   "cell_type": "code",
   "execution_count": 315,
   "metadata": {},
   "outputs": [],
   "source": [
    "lag_plot_of_two_series(x=retail_sales, y=air_passenger, title='Lag plot : air passengers and retail sales', rows=3, cols=6, figsize=(15, 10), edgecolor='k')"
   ]
  },
  {
   "attachments": {},
   "cell_type": "markdown",
   "metadata": {},
   "source": [
    "<img src='./plots/retail-sales--vs--air-passenger--lag-plot.png'>"
   ]
  },
  {
   "cell_type": "code",
   "execution_count": 316,
   "metadata": {},
   "outputs": [],
   "source": [
    "plt.figure(figsize=(15,4))\n",
    "ax = plt.subplot()\n",
    "plot_ccf(x=air_passenger, y=retail_sales, ax=ax, title='Cross-correlation between air passengers and retail sales')"
   ]
  },
  {
   "attachments": {},
   "cell_type": "markdown",
   "metadata": {},
   "source": [
    "<img src='./plots/retail-sales--vs--air-passenger--CCF-plot.png'>"
   ]
  },
  {
   "attachments": {},
   "cell_type": "markdown",
   "metadata": {},
   "source": [
    "* #### We can see multiple significant correlation at multiple lags due the presence of strong trend\n",
    "* #### We can see ocillation in CCF output due to seasonality\n",
    "* #### The time-series is not stationary, so lets make them stationary by removing trend and seasonal-pattern "
   ]
  },
  {
   "cell_type": "code",
   "execution_count": 308,
   "metadata": {},
   "outputs": [],
   "source": [
    "retail_stl = STL(endog=retail_sales, period=12).fit()\n",
    "air_passenger_stl = STL(endog=air_passenger, period=12).fit()"
   ]
  },
  {
   "cell_type": "code",
   "execution_count": 319,
   "metadata": {},
   "outputs": [],
   "source": [
    "lag_plot_of_two_series(x=retail_stl.resid, y=air_passenger_stl.resid, title='Lag plot after removing trend & seasonal pattern : air passengers and retail sales', rows=3, cols=6, figsize=(15, 10), edgecolor='k')"
   ]
  },
  {
   "attachments": {},
   "cell_type": "markdown",
   "metadata": {},
   "source": [
    "<img src='./plots/retail-sales--vs--air-passenger--Lag-plot-STL-detrend-deseason.png'>"
   ]
  },
  {
   "cell_type": "code",
   "execution_count": 321,
   "metadata": {},
   "outputs": [],
   "source": [
    "plt.figure(figsize=(15,4))\n",
    "ax = plt.subplot()\n",
    "plot_ccf(x=air_passenger_stl.resid, y=retail_stl.resid, ax=ax, title='Cross Correlation on detrended and deseasonalized data :air passengers and retail sales')"
   ]
  },
  {
   "attachments": {},
   "cell_type": "markdown",
   "metadata": {},
   "source": [
    "<img src='./plots/retail-sales--vs--air-passenger--CCF--STL-detrend-deseason.png'>"
   ]
  },
  {
   "attachments": {},
   "cell_type": "markdown",
   "metadata": {},
   "source": [
    "#### This demonstrates that there is not much information in one of these time series to predict the other, as we would expect."
   ]
  },
  {
   "cell_type": "code",
   "execution_count": null,
   "metadata": {},
   "outputs": [],
   "source": []
  }
 ],
 "metadata": {
  "kernelspec": {
   "display_name": "timeseries-env",
   "language": "python",
   "name": "python3"
  },
  "language_info": {
   "codemirror_mode": {
    "name": "ipython",
    "version": 3
   },
   "file_extension": ".py",
   "mimetype": "text/x-python",
   "name": "python",
   "nbconvert_exporter": "python",
   "pygments_lexer": "ipython3",
   "version": "3.9.13"
  },
  "orig_nbformat": 4,
  "vscode": {
   "interpreter": {
    "hash": "5344483434f8feb0f4e4edbcac037dc40f14ec44f0a8519da7d24204004147d4"
   }
  }
 },
 "nbformat": 4,
 "nbformat_minor": 2
}
