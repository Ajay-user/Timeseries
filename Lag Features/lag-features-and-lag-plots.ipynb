{
 "cells": [
  {
   "attachments": {},
   "cell_type": "markdown",
   "metadata": {},
   "source": [
    "## What is a Lag plots\n",
    "\n",
    "A lag plot is simply a scatter plot where we plot $y_t$ against a lagged version of itself $y_{t-k}$. A helpful function in Pandas, `pd.plotting.lag_plot`, allows us to do this from a given series. \n",
    "\n",
    "## How do we choose Lags \n",
    "* #### Domain knowledge\n",
    "* #### Feature Selection and modeling\n",
    "* #### Timeseries correlation"
   ]
  },
  {
   "cell_type": "code",
   "execution_count": 6,
   "metadata": {},
   "outputs": [],
   "source": [
    "import pandas as pd\n",
    "import numpy as np\n",
    "import matplotlib.pyplot as plt\n",
    "from sktime.utils.plotting import plot_correlations, plot_acf, plot_lags, plot_pacf, plot_series, plot_windows"
   ]
  },
  {
   "attachments": {},
   "cell_type": "markdown",
   "metadata": {},
   "source": [
    "## Trend and seasonality: Retail sales example\n",
    "\n",
    "#### Data Set Synopsis\n",
    "\n",
    "The timeseries is between January 1992 and Apr 2005.\n",
    "\n",
    "It consists of a single series of monthly values representing sales volumes. \n",
    "\n",
    "a monthly retail sales dataset (found [here](https://raw.githubusercontent.com/facebook/prophet/master/examples/example_retail_sales.csv))."
   ]
  },
  {
   "cell_type": "code",
   "execution_count": 30,
   "metadata": {},
   "outputs": [
    {
     "data": {
      "text/html": [
       "<div>\n",
       "<style scoped>\n",
       "    .dataframe tbody tr th:only-of-type {\n",
       "        vertical-align: middle;\n",
       "    }\n",
       "\n",
       "    .dataframe tbody tr th {\n",
       "        vertical-align: top;\n",
       "    }\n",
       "\n",
       "    .dataframe thead th {\n",
       "        text-align: right;\n",
       "    }\n",
       "</style>\n",
       "<table border=\"1\" class=\"dataframe\">\n",
       "  <thead>\n",
       "    <tr style=\"text-align: right;\">\n",
       "      <th></th>\n",
       "      <th>y</th>\n",
       "    </tr>\n",
       "    <tr>\n",
       "      <th>ds</th>\n",
       "      <th></th>\n",
       "    </tr>\n",
       "  </thead>\n",
       "  <tbody>\n",
       "    <tr>\n",
       "      <th>1992-01-01</th>\n",
       "      <td>146376</td>\n",
       "    </tr>\n",
       "    <tr>\n",
       "      <th>1992-02-01</th>\n",
       "      <td>147079</td>\n",
       "    </tr>\n",
       "    <tr>\n",
       "      <th>1992-03-01</th>\n",
       "      <td>159336</td>\n",
       "    </tr>\n",
       "    <tr>\n",
       "      <th>1992-04-01</th>\n",
       "      <td>163669</td>\n",
       "    </tr>\n",
       "    <tr>\n",
       "      <th>1992-05-01</th>\n",
       "      <td>170068</td>\n",
       "    </tr>\n",
       "  </tbody>\n",
       "</table>\n",
       "</div>"
      ],
      "text/plain": [
       "                 y\n",
       "ds                \n",
       "1992-01-01  146376\n",
       "1992-02-01  147079\n",
       "1992-03-01  159336\n",
       "1992-04-01  163669\n",
       "1992-05-01  170068"
      ]
     },
     "execution_count": 30,
     "metadata": {},
     "output_type": "execute_result"
    }
   ],
   "source": [
    "df = pd.read_csv('../../Datasets/example_retail_sales.csv', parse_dates=['ds'], index_col=['ds'])\n",
    "df.head()"
   ]
  },
  {
   "cell_type": "code",
   "execution_count": 45,
   "metadata": {},
   "outputs": [],
   "source": [
    "plot_series(df['y'])\n",
    "plt.xticks(rotation=20);"
   ]
  },
  {
   "attachments": {},
   "cell_type": "markdown",
   "metadata": {},
   "source": [
    "<img src='./plots/retail-sales-plot.png'>"
   ]
  },
  {
   "attachments": {},
   "cell_type": "markdown",
   "metadata": {},
   "source": [
    "* We can see both trend and seasonality in the data\n",
    "* We can predict future values of target variable using past values of target variable\n",
    "* We can create multiple lag features with different lags \n",
    "\n",
    "### Problem is which lags to use and how many lag features to create ?\n"
   ]
  },
  {
   "attachments": {},
   "cell_type": "markdown",
   "metadata": {},
   "source": [
    "#### When lagging the target  variable (`y`)\n",
    "* ##### If seasonality is known use a lag of same seasonal order\n",
    "    * Example 1 : monthly data with yearly seasonality \n",
    "        * Retail sales - yearly seasonality - use lag=12\n",
    "    * Example 2 : Multiple seasonality\n",
    "        * Electricity consumption data -- multiple season -- use multipe lags\n",
    "        \n"
   ]
  },
  {
   "attachments": {},
   "cell_type": "markdown",
   "metadata": {},
   "source": [
    "*   ##### Most recent values tend to be more predictive\n",
    "    * Example 1 : Retail sales data\n",
    "        * Sales yesterday has more correlation with sales today\n",
    "    * Example 2 : Electricity demand data\n",
    "        * Demand a hour ago will have high correaltion with demand this hour "
   ]
  },
  {
   "attachments": {},
   "cell_type": "markdown",
   "metadata": {},
   "source": [
    "### When using the feature variables (`X`) for lag-variables\n",
    "* #### Use a subset of most important features that affects the target\n",
    "* #### Use domain knowledge\n",
    "* #### Example : retail sales \n",
    "    * Advertizement-spend is a useful feature in retail-sales forecasting\n",
    "    * We can take lags of Advertizement-spending\n",
    "    * We know that the Adverstize-spending of this month has an influence in the current sales\n",
    "    * We can take the Adverstize-spending of previous months as a lag feature to predict sales this month"
   ]
  },
  {
   "attachments": {},
   "cell_type": "markdown",
   "metadata": {},
   "source": [
    "### What is not a good Lag feature?\n",
    "Suppose Retail sale forecast and we have `is_weekend` as a feature. Taking lags of `is_weekend` is not very useful. Because knowing whether yesterday or day-before yesterday was a weekend is not very helpful. "
   ]
  },
  {
   "attachments": {},
   "cell_type": "markdown",
   "metadata": {},
   "source": [
    "### Avoid data leakage \n",
    "* Only use the feature that you know at the predict time.\n",
    "* Example : Retail sales\n",
    "    * If we don't know the value of advertize spending in the future - use lags \n",
    "* When we lag a feature , most recent lags tend to be more predictive\n",
    "    * Advertise spending in recent month are more useful than advertise spending from previous year"
   ]
  },
  {
   "cell_type": "code",
   "execution_count": 48,
   "metadata": {},
   "outputs": [],
   "source": [
    "df.plot(y=['y'], figsize=(15,4))"
   ]
  },
  {
   "attachments": {},
   "cell_type": "markdown",
   "metadata": {},
   "source": [
    "<img src='./plots/retail-sales-plot.png'>\n"
   ]
  },
  {
   "attachments": {},
   "cell_type": "markdown",
   "metadata": {},
   "source": [
    "\n",
    "There is information in this data \n",
    "* Lets create lag plots and observe the correlation\n",
    "    * We have monthly data with yearly seasonality \n",
    "    * Lets create lag plots up to lag=12 observer "
   ]
  },
  {
   "cell_type": "code",
   "execution_count": 58,
   "metadata": {},
   "outputs": [],
   "source": [
    "fig, ax = plt.subplots(nrows=4, ncols=3, figsize=(15,15))\n",
    "ax = ax.ravel()\n",
    "for i, frame in enumerate(ax):\n",
    "    pd.plotting.lag_plot(series=df['y'], lag=i+1, ax=frame)\n",
    "    frame.set_xticks(frame.get_xticks())\n",
    "    frame.set_xticklabels(frame.get_xticks(), rotation=45)\n",
    "\n",
    "\n",
    "fig.suptitle('The lags \\nIf data has a strong seasonal period then use the seasonal period as the lag\\nWe can see a very good correlation when lag=12, this is because our data has a period of 12\\n', fontsize=16)\n",
    "\n",
    "plt.tight_layout();"
   ]
  },
  {
   "attachments": {},
   "cell_type": "markdown",
   "metadata": {},
   "source": [
    "<img src='./plots/lag-plot-and-seasonality.png'>"
   ]
  },
  {
   "attachments": {},
   "cell_type": "markdown",
   "metadata": {},
   "source": [
    "### Due to the strong trend component in the time series we see that the sales time series is strongly correlated with itself at many different lags. \n",
    "\n",
    "### The yearly seasonality is seen, in the very strong correlation, in the Lag 12 plot. As we would expect, this suggests a lag of 12 would be a useful feature.\n",
    "\n",
    "\n",
    "### We expect the correlation to be greater with a shorter lag (more recent in time) than a larger lag (more distant in time).\n",
    "\n",
    "\n",
    "####  We check this below by comparing the lag plot for `lag=1` month and `lag=100` months."
   ]
  },
  {
   "cell_type": "code",
   "execution_count": 82,
   "metadata": {},
   "outputs": [],
   "source": [
    "plot_lags(series=df['y'], lags=[1,100], suptitle='Plot of series against lags 1 and 100');"
   ]
  },
  {
   "attachments": {},
   "cell_type": "markdown",
   "metadata": {},
   "source": [
    "<img src='./plots/shorter-lag-more-corr.png'>"
   ]
  },
  {
   "cell_type": "code",
   "execution_count": 83,
   "metadata": {},
   "outputs": [],
   "source": [
    "plot_lags(series=df['y'], lags=[12,100], suptitle='Plot of series against lags 12 and 100');"
   ]
  },
  {
   "attachments": {},
   "cell_type": "markdown",
   "metadata": {},
   "source": [
    "<img src='./plots/lag-plot-12-vs-100-shorter-lag-more-info.png'>"
   ]
  },
  {
   "attachments": {},
   "cell_type": "markdown",
   "metadata": {},
   "source": [
    "### We can see that the scatter plot is more spread out for a lag of 100 compared to a lag of 1 as expected. \n",
    "\n",
    "### But we still see a strong correlation. Why is this? \n",
    "\n",
    "### It is due to the strong trend component. This can be more clearly understood by plotting the original timeseries and lagged timeseries together. "
   ]
  },
  {
   "cell_type": "code",
   "execution_count": 78,
   "metadata": {},
   "outputs": [
    {
     "data": {
      "text/plain": [
       "<AxesSubplot:>"
      ]
     },
     "execution_count": 78,
     "metadata": {},
     "output_type": "execute_result"
    },
    {
     "data": {
      "image/png": "[encoded data removed]",
      "text/plain": [
       "<Figure size 1080x288 with 1 Axes>"
      ]
     },
     "metadata": {
      "needs_background": "light"
     },
     "output_type": "display_data"
    }
   ],
   "source": [
    "lag_100 = df['y'].shift(periods=100)\n",
    "\n",
    "ax = df.plot(y=['y'], figsize=(15,4))\n",
    "lag_100.plot(ax=ax)"
   ]
  },
  {
   "attachments": {},
   "cell_type": "markdown",
   "metadata": {},
   "source": [
    "### Visually it is clear that these two timeseries are highly correlated. \n",
    "\n",
    "### When one has low magnitude so does the other, when one has a high magnitude so does the other. This is why even at large lags we see high autocorrelation in the presence of a strong trend. \n",
    "### Summary\n",
    "* We can examine lag plots to sense check and select useful lags. \n",
    "* We also have shown that just because the autocorrelation is high for large lags does not mean we should use large lags as features. \n",
    "* By examining the autocorrelation and partial autocorrelation function, we shall see that a lower order lags will contribute the most information. \n",
    "* Also using our own understanding of the domain we can rule out that the exact sales 100 months in the past should not have much of an effect on the sales in the present."
   ]
  },
  {
   "attachments": {},
   "cell_type": "markdown",
   "metadata": {},
   "source": [
    "## White noise\n",
    "\n",
    "lets create white noise and use lag-plots to show that there is no information in white-noise"
   ]
  },
  {
   "cell_type": "code",
   "execution_count": 5,
   "metadata": {},
   "outputs": [],
   "source": [
    "num_timesteps = 300\n",
    "\n",
    "rng = np.random.RandomState(seed=42)\n",
    "\n",
    "noise = rng.normal(size=num_timesteps)\n",
    "\n",
    "date_index = pd.date_range(start='2022-01-01', periods=num_timesteps)\n",
    "\n",
    "df = pd.DataFrame(data={'noise': noise}, index=date_index)"
   ]
  },
  {
   "cell_type": "code",
   "execution_count": 9,
   "metadata": {},
   "outputs": [],
   "source": [
    "plot_lags(series=df['noise'], lags=1);"
   ]
  },
  {
   "attachments": {},
   "cell_type": "markdown",
   "metadata": {},
   "source": [
    "<img src='./plots/lag-plot-whitenoise.png'>"
   ]
  },
  {
   "attachments": {},
   "cell_type": "markdown",
   "metadata": {},
   "source": [
    "### Lets plot many lags "
   ]
  },
  {
   "cell_type": "code",
   "execution_count": 24,
   "metadata": {},
   "outputs": [],
   "source": [
    "fig, ax = plt.subplots(nrows=4, ncols=3, figsize=(10,10))\n",
    "ax = ax.ravel()\n",
    "for i, frame in enumerate(ax):\n",
    "    pd.plotting.lag_plot(series=df['noise'], lag=i+1, ax=frame)\n",
    "\n",
    "\n",
    "fig.suptitle('We see a bunch of blobs with no particular structure.\\n This suggests that none of the lags shown above will be helpful for forecasting.\\n', fontsize=16)\n",
    "\n",
    "plt.tight_layout()\n"
   ]
  },
  {
   "attachments": {},
   "cell_type": "markdown",
   "metadata": {},
   "source": [
    "<img src='./plots/white-noise-has-no-info.png'>"
   ]
  }
 ],
 "metadata": {
  "kernelspec": {
   "display_name": "timeseries-env",
   "language": "python",
   "name": "python3"
  },
  "language_info": {
   "codemirror_mode": {
    "name": "ipython",
    "version": 3
   },
   "file_extension": ".py",
   "mimetype": "text/x-python",
   "name": "python",
   "nbconvert_exporter": "python",
   "pygments_lexer": "ipython3",
   "version": "3.9.13 (tags/v3.9.13:6de2ca5, May 17 2022, 16:36:42) [MSC v.1929 64 bit (AMD64)]"
  },
  "orig_nbformat": 4,
  "vscode": {
   "interpreter": {
    "hash": "5344483434f8feb0f4e4edbcac037dc40f14ec44f0a8519da7d24204004147d4"
   }
  }
 },
 "nbformat": 4,
 "nbformat_minor": 2
}
