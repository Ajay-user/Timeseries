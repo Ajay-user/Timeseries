{
 "cells": [
  {
   "attachments": {},
   "cell_type": "markdown",
   "metadata": {},
   "source": [
    "## PACF : partial autocorrelation function\n",
    "\n",
    "We can use partial autocorrelation when we want to compute the correlation between a timeseries and its lags after removing the correlation introduced by intermediate lags\n",
    "\n",
    "This means that the correlation at $lag(k)$ is high only if it adds additional information, which is not already accounted for by lags prior to it.\n",
    "\n",
    "* How do we remove the impact of intermediate lags ?\n",
    "    * We remove the effect of intermediate lags by substracting the linear impact of intermediate lags on $y(t)$ and $y(t-k)$ as given by a linear regression.\n",
    "\n",
    "<img src='./notes/PACF.jpg'>\n",
    "\n",
    "### PACF Assumptions\n",
    "* Time-series must be stationary\n",
    "    * $Mean$ of time-series must be constant\n",
    "        * If $mean$ is not constant we can try detrending the data\n",
    "            * differencing can be employed here, to stabilize the mean\n",
    "            * we can use moving average to estimate the trend and substract it from the series\n",
    "            * Advanced methods like $STL$, $LOWESS$ can also be used to estimate the trend\n",
    "    * $Variance$ of time-series must be constant\n",
    "        * If $variance$ is not constant we can try $time series-transformation$ to stabilize the variance\n",
    "            * Methods like Log-transform, Power-transform, Box-Cox can be used\n",
    "    * $Autocorrelation$\n",
    "        * The correlation between the timeseries and lagged series should not depend on $time$\n",
    "            * Unfortunately there are no simple transforms to enforce this behaviour\n",
    "\n",
    "* We can still use $PACF$ to get some information even if these assumptions are not exactly met, however it can make interpretation difficult.\n"
   ]
  },
  {
   "cell_type": "code",
   "execution_count": 3,
   "metadata": {},
   "outputs": [],
   "source": [
    "import pandas as pd\n",
    "import numpy as np\n",
    "import matplotlib.pyplot as plt\n",
    "import matplotlib.gridspec as gridspec\n",
    "\n",
    "from statsmodels.tsa.seasonal import STL\n",
    "from statsmodels.nonparametric.smoothers_lowess import lowess\n",
    "from statsmodels.tsa.stattools import acf, pacf\n",
    "from statsmodels.graphics.tsaplots import plot_acf, plot_pacf\n",
    "\n",
    "from sktime.utils.plotting import plot_series, plot_correlations, plot_lags\n"
   ]
  },
  {
   "cell_type": "code",
   "execution_count": 2,
   "metadata": {},
   "outputs": [],
   "source": [
    " \n",
    "def AR_gen(p=1, lag_coef=[0.9], const=0, num_data_points=300):\n",
    "    rng = np.random.RandomState(seed=42)\n",
    "    data = np.zeros(num_data_points)\n",
    "    index = pd.date_range(start='2000-01-01', periods=num_data_points)\n",
    "    y = pd.Series(data=data, index=index)\n",
    "    \n",
    "    for i in range(p, num_data_points):\n",
    "        y.iloc[i] = const + np.dot(y.iloc[i-p:i].values, lag_coef) + rng.normal(loc=0,scale=1)\n",
    "    \n",
    "    return y"
   ]
  },
  {
   "cell_type": "code",
   "execution_count": 55,
   "metadata": {},
   "outputs": [],
   "source": [
    "def plot_series_acf_pacf(ar, title='TIMESERIES-ACF-PACF'):\n",
    "    plt.figure(figsize=(16,8))\n",
    "\n",
    "    grid = gridspec.GridSpec(nrows=2, ncols=2)\n",
    "    ax_0 = plt.subplot(grid[0, :])\n",
    "    ax_1 = plt.subplot(grid[1, 0])\n",
    "    ax_2 = plt.subplot(grid[1, 1])\n",
    "\n",
    "    plot_series(ar, ax=ax_0)\n",
    "    ax_0.xaxis.set_ticklabels([])\n",
    "\n",
    "    plot_acf(ar, ax=ax_1, auto_ylims=True);\n",
    "\n",
    "    plot_pacf(ar, ax=ax_2, auto_ylims=True);\n",
    "\n",
    "    plt.suptitle(title, size=20);"
   ]
  },
  {
   "attachments": {},
   "cell_type": "markdown",
   "metadata": {},
   "source": [
    "## AR PROCESS \n",
    "\n",
    "* AR stands for autoregressive.\n",
    "\n",
    "#### AR(1) process - a time series determined by lag 1 \n",
    "\n",
    "* Let's create a toy time series where there should be a correlation with lag 1 of the time series.\n",
    "* We might think that this means there is only a correlation with lag 1 of the time series $y$ but we will see that is not the case. "
   ]
  },
  {
   "cell_type": "code",
   "execution_count": 57,
   "metadata": {},
   "outputs": [],
   "source": [
    "ar_1 = AR_gen()\n",
    "plot_series_acf_pacf(ar_1, 'AR-1 process')"
   ]
  },
  {
   "attachments": {},
   "cell_type": "markdown",
   "metadata": {},
   "source": [
    "<img src='./plots/AR-1-process--ACF--PACF.png'>"
   ]
  },
  {
   "attachments": {},
   "cell_type": "markdown",
   "metadata": {},
   "source": [
    "#### So we see that it is not possible to determine that only a lag of 1 that is the most important from the ACF, despite $y_t$ being generated only by $y_{t-1}$. \n",
    "\n",
    "#### The partial autcorrelation function (PACF) will help identify that a lag of 1 is important in this scenario."
   ]
  },
  {
   "cell_type": "code",
   "execution_count": 48,
   "metadata": {},
   "outputs": [],
   "source": [
    "ar_2 = AR_gen(p=2, lag_coef=[0.6,0.4])\n",
    "\n",
    "plot_series_acf_pacf(ar_2, 'AR-2 process')"
   ]
  },
  {
   "attachments": {},
   "cell_type": "markdown",
   "metadata": {},
   "source": [
    "<img src='./plots/AR-2-process--ACF--PACF.png'>"
   ]
  },
  {
   "cell_type": "code",
   "execution_count": 49,
   "metadata": {},
   "outputs": [],
   "source": [
    "ar_3 = AR_gen(p=3, lag_coef=[0.6, 0.2, 0.1])\n",
    "\n",
    "plot_series_acf_pacf(ar_3, 'AR-3 process')"
   ]
  },
  {
   "attachments": {},
   "cell_type": "markdown",
   "metadata": {},
   "source": [
    "<img src='./plots/AR-3-process--ACF--PACF.png'>"
   ]
  },
  {
   "attachments": {},
   "cell_type": "markdown",
   "metadata": {},
   "source": [
    "## Time series with trend and seasonality"
   ]
  },
  {
   "cell_type": "code",
   "execution_count": 53,
   "metadata": {},
   "outputs": [],
   "source": [
    "df = pd.read_csv('../../Datasets/example_retail_sales.csv', parse_dates=['ds'], index_col=['ds'])\n",
    "\n",
    "df.plot(y=['y'])"
   ]
  },
  {
   "attachments": {},
   "cell_type": "markdown",
   "metadata": {},
   "source": [
    "<img src='./plots/retail-sales-plot.png'>"
   ]
  },
  {
   "attachments": {},
   "cell_type": "markdown",
   "metadata": {},
   "source": [
    "* #### There is a strong trend component\n",
    "    * This strong trend causes high correlation at multiple lags\n",
    "    * ACF show high correlation at multiple lags because of this trend component\n",
    "\n",
    "<br>\n",
    "\n",
    "* #### There is an yearly seasonality\n",
    "    * The yearly season will produce high correlation at multiples of seasonal period\n",
    "    * We can observe high correlation at mulitples of 12 in the ACF plot\n",
    "    \n",
    "<br>\n",
    "\n",
    "\n",
    "* #### PACF assumptions are not met\n",
    "    * $mean$ is not stable as series has a strong trend\n",
    "    * $variance$ is not stable as series has a strong season\n",
    "    * However, we can still extract useful information from PACF-plot like,  which lags are useful\n"
   ]
  },
  {
   "cell_type": "code",
   "execution_count": 59,
   "metadata": {},
   "outputs": [],
   "source": [
    "plot_series_acf_pacf(df['y'], 'Timeseries with trend and seasonality')"
   ]
  },
  {
   "attachments": {},
   "cell_type": "markdown",
   "metadata": {},
   "source": [
    "<img src='./plots/timeseries-with-trend-and-seasonality.png'>"
   ]
  },
  {
   "attachments": {},
   "cell_type": "markdown",
   "metadata": {},
   "source": [
    "## Detrend the timeseries"
   ]
  },
  {
   "cell_type": "code",
   "execution_count": 66,
   "metadata": {},
   "outputs": [],
   "source": [
    "res = lowess(endog=df['y'], exog=range(len(df)), frac=0.1)\n",
    "\n",
    "plot_series(df['y'])\n",
    "plt.plot(res[:,1], color='salmon', linewidth=4)\n",
    "plt.xticks(rotation=20);"
   ]
  },
  {
   "attachments": {},
   "cell_type": "markdown",
   "metadata": {},
   "source": [
    "<img src='./plots/retail-sales-trend.png'>"
   ]
  },
  {
   "cell_type": "code",
   "execution_count": 69,
   "metadata": {},
   "outputs": [],
   "source": [
    "retail_detrend = df['y'] - res[:,1]\n",
    "plot_series(retail_detrend )\n",
    "plt.xticks(rotation=20);"
   ]
  },
  {
   "attachments": {},
   "cell_type": "markdown",
   "metadata": {},
   "source": [
    "<img src='./plots/retail-sales-detrended.png'>"
   ]
  },
  {
   "cell_type": "code",
   "execution_count": 1,
   "metadata": {},
   "outputs": [],
   "source": [
    "plot_series_acf_pacf(retail_detrend, 'Retail sales detrended')"
   ]
  },
  {
   "attachments": {},
   "cell_type": "markdown",
   "metadata": {},
   "source": [
    "<img src='./plots/retail-sales-detrended-ACF-PACF.png'>"
   ]
  },
  {
   "attachments": {},
   "cell_type": "markdown",
   "metadata": {},
   "source": [
    "#### The PACF shows a strong lag at 12 but not at multiples of 12 afterwards. This means that most of the predictive information from the seasonal lag is captured at lag 12 as expected!\n",
    "\n",
    "\n",
    "#### This would suggest that we could create features using a lag of 12 (from the seasonality) and low lags like 1, 2, 3, and 4. The other larger lags such as lag 10, 11, or 13 are more difficult to intrepret. One reason for not including them is that you do not see peaks at multiples of 10, 11, or 13 in the ACF. Also from domain knowledge (this is retail sales) it is highly unlikely that lags beyond 12 months will be that relevant.\n"
   ]
  },
  {
   "attachments": {},
   "cell_type": "markdown",
   "metadata": {},
   "source": [
    "## PACF after detrending and deseasonalising the original series"
   ]
  },
  {
   "cell_type": "code",
   "execution_count": 74,
   "metadata": {},
   "outputs": [],
   "source": [
    "stl = STL(endog=df['y'], seasonal=7, period=12).fit()\n",
    "stl.plot();"
   ]
  },
  {
   "attachments": {},
   "cell_type": "markdown",
   "metadata": {},
   "source": [
    "<img src='./plots/retail-STL.png'>"
   ]
  },
  {
   "cell_type": "code",
   "execution_count": 76,
   "metadata": {},
   "outputs": [],
   "source": [
    "plot_series_acf_pacf(stl.resid, 'Detrended and Deseasonalized')"
   ]
  },
  {
   "attachments": {},
   "cell_type": "markdown",
   "metadata": {},
   "source": [
    "<img src='./plots/retail-sales-detrended-deseason--ACF--PACF.png'>"
   ]
  },
  {
   "attachments": {},
   "cell_type": "markdown",
   "metadata": {},
   "source": [
    "We can see that there aren't any large significant lags. There appears to be some significant lags at multiples of 12 which suggests that some part of the seasonal component is still in the residuals and was not perfectly extracted by STL. Practically speaking from looking at this plot there wouldn't be an additional lag beyond 1 or 2 that we would want to add for feature engineering purposes."
   ]
  },
  {
   "attachments": {},
   "cell_type": "markdown",
   "metadata": {},
   "source": [
    "## PACF and whitenoise"
   ]
  },
  {
   "cell_type": "code",
   "execution_count": 3,
   "metadata": {},
   "outputs": [],
   "source": [
    "num_data_points=300\n",
    "\n",
    "rng = np.random.RandomState(seed=42)\n",
    "\n",
    "noise = rng.normal(loc=0.0, scale=1.0, size=num_data_points)\n",
    "\n",
    "noise = pd.Series(noise, index=pd.date_range(start='2000-01-01', periods=num_data_points, freq='D'))\n",
    "\n",
    "plot_series(noise)\n",
    "plt.xticks(rotation=30);"
   ]
  },
  {
   "attachments": {},
   "cell_type": "markdown",
   "metadata": {},
   "source": [
    "<img src='./plots/whitenoise_sktime_plot.png'>"
   ]
  },
  {
   "cell_type": "code",
   "execution_count": 10,
   "metadata": {},
   "outputs": [
    {
     "data": {
      "image/png": "[encoded data removed]",
      "text/plain": [
       "<Figure size 1080x288 with 2 Axes>"
      ]
     },
     "metadata": {
      "needs_background": "light"
     },
     "output_type": "display_data"
    }
   ],
   "source": [
    "fig, ax =plt.subplots(nrows=1, ncols=2, figsize=(15,4))\n",
    "plot_acf(noise, auto_ylims=True, ax=ax[0])\n",
    "plot_pacf(noise, method='ywmle', auto_ylims=True, ax=ax[1]);"
   ]
  },
  {
   "attachments": {},
   "cell_type": "markdown",
   "metadata": {},
   "source": [
    "* We can clearly saw that there is no significant correlation. As expected from white noise."
   ]
  },
  {
   "cell_type": "code",
   "execution_count": null,
   "metadata": {},
   "outputs": [],
   "source": []
  }
 ],
 "metadata": {
  "kernelspec": {
   "display_name": "timeseries-env",
   "language": "python",
   "name": "python3"
  },
  "language_info": {
   "codemirror_mode": {
    "name": "ipython",
    "version": 3
   },
   "file_extension": ".py",
   "mimetype": "text/x-python",
   "name": "python",
   "nbconvert_exporter": "python",
   "pygments_lexer": "ipython3",
   "version": "3.9.13"
  },
  "orig_nbformat": 4,
  "vscode": {
   "interpreter": {
    "hash": "5344483434f8feb0f4e4edbcac037dc40f14ec44f0a8519da7d24204004147d4"
   }
  }
 },
 "nbformat": 4,
 "nbformat_minor": 2
}
