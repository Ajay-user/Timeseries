{
 "cells": [
  {
   "attachments": {},
   "cell_type": "markdown",
   "metadata": {},
   "source": [
    "## Modelling outliers and special events with dummy variables\n",
    "\n",
    "* If the outlier cause is known we can use this to improve our forecasts.\n",
    "* Dummy variables can be used to model the impact of outliers.\n",
    "* Dummy variables can remove the impact of an outlier on a model.\n",
    "\n",
    "## Methods for handling outliers\n",
    "There are two ways of handling the outliers we can either modify the data for example: we can treat the outliers as missing data and impute them using imputation methods like linear-interpolation, forward-fill etc... or we can modify the model using feature engineering\n",
    "\n",
    "* 1 : Treat as outlier and impute\n",
    "    * PROS\n",
    "        * Easy to implement\n",
    "    * CONS\n",
    "        * forward will only handles outliers using the past data\n",
    "        * STL, LOWESS can be used but its very compute intensive \n",
    "        * **This is not useful if you know the cause of outliers**\n",
    "        * **This is not useful if you know that the outliers will repeat in the future**\n",
    "* 2 : **Model the outliers**\n",
    "    * WHEN TO MODEL THE OUTLIERS\n",
    "        * Suppose we run a shop that sells cards, flowers, chocolates etc.. we can expect an increased sales on 14th-Feb every year.\n",
    "        * Suppose you are forecasting sales \n",
    "            * We should expect high sales on black-friday \n",
    "            * We should expect high sales on boxing day\n",
    "            * Shopping Festivals, Promotion-period, etc.. On such events we could expect a high sales \n",
    "        * These are the outliers which we can model.\n",
    "\n",
    "## Modeling outliers and special events\n",
    "\n",
    "* Before considering to model the outliers we should first consider what is the cause \n",
    "    * WHAT CAUSE THE OUTLIERS\n",
    "        * If the outliers are result of a random event such as a recording error \n",
    "            * then its okay to impute them with simple methods like `ffill`\n",
    "        * Every Valentines day there will be a demand on flowers\n",
    "            * Such events happen every year on exact date we can model them using a dummy variable\n",
    "        * Events such as `Public holidays`, `Sport events`, `Festivals` etc..\n",
    "            * We can add to the model using dummy variables\n",
    "        * Suppose we are running a promotion sales\n",
    "            * Increased sales during promotion sales can be modeled using dummy variables \n",
    "\n",
    "\n"
   ]
  },
  {
   "attachments": {},
   "cell_type": "markdown",
   "metadata": {},
   "source": [
    "<img src='./Notes/Handle-outliers.PNG'>"
   ]
  },
  {
   "cell_type": "code",
   "execution_count": 32,
   "metadata": {},
   "outputs": [],
   "source": [
    "import datetime\n",
    "import numpy as np\n",
    "import matplotlib.pyplot as plt\n",
    "import pandas as pd\n",
    "import seaborn as sns\n",
    "\n",
    "from sklearn.linear_model import LinearRegression\n",
    "\n",
    "from sktime.utils.plotting import plot_series\n",
    "from statsmodels.tsa.deterministic import DeterministicProcess"
   ]
  },
  {
   "attachments": {},
   "cell_type": "markdown",
   "metadata": {},
   "source": [
    "## Data Set Synopsis\n",
    "\n",
    "The timeseries is between January 1992 and Apr 2005.\n",
    "\n",
    "It consists of a single series of monthly values representing sales volumes. \n",
    "\n",
    "a monthly retail sales dataset (found [here](https://raw.githubusercontent.com/facebook/prophet/master/examples/example_retail_sales.csv))."
   ]
  },
  {
   "cell_type": "code",
   "execution_count": 4,
   "metadata": {},
   "outputs": [],
   "source": [
    "df = pd.read_csv('../../Datasets/example_retail_sales_with_outliers.csv', parse_dates=['ds'], index_col=['ds'])\n",
    "\n",
    "plot_series(df)\n",
    "plt.xticks(rotation=20);"
   ]
  },
  {
   "attachments": {},
   "cell_type": "markdown",
   "metadata": {},
   "source": [
    "<img src='./plots/retail-sales-with-outliers-df.png'>"
   ]
  },
  {
   "attachments": {},
   "cell_type": "markdown",
   "metadata": {},
   "source": [
    "### Lets assume we know the cause of these outliers and therefore we know the dates in the past and future. We're just trying to see the impact of outliers on a model"
   ]
  },
  {
   "cell_type": "code",
   "execution_count": 6,
   "metadata": {},
   "outputs": [],
   "source": [
    "outlier_dates = [datetime.date(1993, 9, 1),\n",
    "                 datetime.date(1994, 10, 1),\n",
    "                 datetime.date(1997, 7, 1),\n",
    "                 datetime.date(2004, 7, 1)]"
   ]
  },
  {
   "attachments": {},
   "cell_type": "markdown",
   "metadata": {},
   "source": [
    "## Create a dummy variable"
   ]
  },
  {
   "cell_type": "code",
   "execution_count": 8,
   "metadata": {},
   "outputs": [
    {
     "data": {
      "text/plain": [
       "0    156\n",
       "1      4\n",
       "Name: is_outlier, dtype: int64"
      ]
     },
     "execution_count": 8,
     "metadata": {},
     "output_type": "execute_result"
    }
   ],
   "source": [
    "df['is_outlier'] = np.where(df.index.isin(outlier_dates), 1, 0)\n",
    "\n",
    "df['is_outlier'].value_counts()"
   ]
  },
  {
   "attachments": {},
   "cell_type": "markdown",
   "metadata": {},
   "source": [
    "## Trend as a feature"
   ]
  },
  {
   "cell_type": "code",
   "execution_count": 18,
   "metadata": {},
   "outputs": [
    {
     "data": {
      "text/html": [
       "<div>\n",
       "<style scoped>\n",
       "    .dataframe tbody tr th:only-of-type {\n",
       "        vertical-align: middle;\n",
       "    }\n",
       "\n",
       "    .dataframe tbody tr th {\n",
       "        vertical-align: top;\n",
       "    }\n",
       "\n",
       "    .dataframe thead th {\n",
       "        text-align: right;\n",
       "    }\n",
       "</style>\n",
       "<table border=\"1\" class=\"dataframe\">\n",
       "  <thead>\n",
       "    <tr style=\"text-align: right;\">\n",
       "      <th></th>\n",
       "      <th>trend</th>\n",
       "    </tr>\n",
       "    <tr>\n",
       "      <th>ds</th>\n",
       "      <th></th>\n",
       "    </tr>\n",
       "  </thead>\n",
       "  <tbody>\n",
       "    <tr>\n",
       "      <th>1992-01-01</th>\n",
       "      <td>1.0</td>\n",
       "    </tr>\n",
       "    <tr>\n",
       "      <th>1992-02-01</th>\n",
       "      <td>2.0</td>\n",
       "    </tr>\n",
       "    <tr>\n",
       "      <th>1992-03-01</th>\n",
       "      <td>3.0</td>\n",
       "    </tr>\n",
       "    <tr>\n",
       "      <th>1992-04-01</th>\n",
       "      <td>4.0</td>\n",
       "    </tr>\n",
       "    <tr>\n",
       "      <th>1992-05-01</th>\n",
       "      <td>5.0</td>\n",
       "    </tr>\n",
       "  </tbody>\n",
       "</table>\n",
       "</div>"
      ],
      "text/plain": [
       "            trend\n",
       "ds               \n",
       "1992-01-01    1.0\n",
       "1992-02-01    2.0\n",
       "1992-03-01    3.0\n",
       "1992-04-01    4.0\n",
       "1992-05-01    5.0"
      ]
     },
     "execution_count": 18,
     "metadata": {},
     "output_type": "execute_result"
    }
   ],
   "source": [
    "feature = DeterministicProcess(df.index, period=12, order=1)\n",
    "feature.in_sample().head()"
   ]
  },
  {
   "cell_type": "code",
   "execution_count": 19,
   "metadata": {},
   "outputs": [
    {
     "data": {
      "text/html": [
       "<div>\n",
       "<style scoped>\n",
       "    .dataframe tbody tr th:only-of-type {\n",
       "        vertical-align: middle;\n",
       "    }\n",
       "\n",
       "    .dataframe tbody tr th {\n",
       "        vertical-align: top;\n",
       "    }\n",
       "\n",
       "    .dataframe thead th {\n",
       "        text-align: right;\n",
       "    }\n",
       "</style>\n",
       "<table border=\"1\" class=\"dataframe\">\n",
       "  <thead>\n",
       "    <tr style=\"text-align: right;\">\n",
       "      <th></th>\n",
       "      <th>y</th>\n",
       "      <th>is_outlier</th>\n",
       "      <th>trend</th>\n",
       "    </tr>\n",
       "    <tr>\n",
       "      <th>ds</th>\n",
       "      <th></th>\n",
       "      <th></th>\n",
       "      <th></th>\n",
       "    </tr>\n",
       "  </thead>\n",
       "  <tbody>\n",
       "    <tr>\n",
       "      <th>1992-01-01</th>\n",
       "      <td>146376.0</td>\n",
       "      <td>0</td>\n",
       "      <td>1.0</td>\n",
       "    </tr>\n",
       "    <tr>\n",
       "      <th>1992-02-01</th>\n",
       "      <td>147079.0</td>\n",
       "      <td>0</td>\n",
       "      <td>2.0</td>\n",
       "    </tr>\n",
       "    <tr>\n",
       "      <th>1992-03-01</th>\n",
       "      <td>159336.0</td>\n",
       "      <td>0</td>\n",
       "      <td>3.0</td>\n",
       "    </tr>\n",
       "    <tr>\n",
       "      <th>1992-04-01</th>\n",
       "      <td>163669.0</td>\n",
       "      <td>0</td>\n",
       "      <td>4.0</td>\n",
       "    </tr>\n",
       "    <tr>\n",
       "      <th>1992-05-01</th>\n",
       "      <td>170068.0</td>\n",
       "      <td>0</td>\n",
       "      <td>5.0</td>\n",
       "    </tr>\n",
       "  </tbody>\n",
       "</table>\n",
       "</div>"
      ],
      "text/plain": [
       "                   y  is_outlier  trend\n",
       "ds                                     \n",
       "1992-01-01  146376.0           0    1.0\n",
       "1992-02-01  147079.0           0    2.0\n",
       "1992-03-01  159336.0           0    3.0\n",
       "1992-04-01  163669.0           0    4.0\n",
       "1992-05-01  170068.0           0    5.0"
      ]
     },
     "execution_count": 19,
     "metadata": {},
     "output_type": "execute_result"
    }
   ],
   "source": [
    "df['trend'] = feature.in_sample()['trend']\n",
    "\n",
    "df.head()"
   ]
  },
  {
   "attachments": {},
   "cell_type": "markdown",
   "metadata": {},
   "source": [
    "## Split into train and test\n",
    "\n",
    "We will train the data up to the end of 2003 and predict all the data after that."
   ]
  },
  {
   "cell_type": "code",
   "execution_count": 25,
   "metadata": {},
   "outputs": [],
   "source": [
    "df_train = df[ df.index<'2004-01-01 ']\n",
    "df_test = df[ df.index>='2004-01-01']"
   ]
  },
  {
   "cell_type": "code",
   "execution_count": 31,
   "metadata": {},
   "outputs": [],
   "source": [
    "plot_series(df_train['y'], df_test['y'], labels=['train', 'test'])\n",
    "plt.xticks(rotation=20);"
   ]
  },
  {
   "attachments": {},
   "cell_type": "markdown",
   "metadata": {},
   "source": [
    "<img src='./plots/train-test-split.png'>"
   ]
  },
  {
   "attachments": {},
   "cell_type": "markdown",
   "metadata": {},
   "source": [
    "## Train a model with trend only as feature"
   ]
  },
  {
   "cell_type": "code",
   "execution_count": 67,
   "metadata": {},
   "outputs": [],
   "source": [
    "linear_with_just_trend = LinearRegression()\n",
    "linear_with_just_trend.fit(df_train.loc[:,['trend']], df_train['y'])\n",
    "y_pred_with_trend = linear_with_just_trend.predict(df_test.loc[:,['trend']])\n",
    "\n",
    "\n",
    "plt.figure(figsize=(15,4))\n",
    "plt.plot(df_train['y'], label='train')\n",
    "plt.plot(df_test.index, y_pred_with_trend,linewidth=4, c='r', label='prediction')\n",
    "plt.plot(df_test.index, df_test['y'], linestyle='--', marker='.', c='g', label='test')\n",
    "plt.legend()"
   ]
  },
  {
   "attachments": {},
   "cell_type": "markdown",
   "metadata": {},
   "source": [
    "<img src='./plots/modeling-outlier-with-trend.png'>"
   ]
  },
  {
   "attachments": {},
   "cell_type": "markdown",
   "metadata": {},
   "source": [
    "## Train a model with both Trend and dummy variable as Features"
   ]
  },
  {
   "cell_type": "code",
   "execution_count": 68,
   "metadata": {},
   "outputs": [],
   "source": [
    "linear_with_just_trend_and_dummy = LinearRegression()\n",
    "linear_with_just_trend_and_dummy.fit(df_train.loc[:,['trend','is_outlier']], df_train['y'])\n",
    "y_pred_with_trend_and_dummy = linear_with_just_trend_and_dummy.predict(df_test.loc[:,['trend','is_outlier']])\n",
    "\n",
    "\n",
    "plt.figure(figsize=(15,4))\n",
    "plt.plot(df_train['y'], label='train')\n",
    "plt.plot(df_test.index, y_pred_with_trend_and_dummy, linewidth=4, c='r', label='prediction', alpha=0.8)\n",
    "plt.plot(df_test.index, df_test['y'], linestyle='--', marker='.', c='g', label='test')\n",
    "plt.legend()"
   ]
  },
  {
   "attachments": {},
   "cell_type": "markdown",
   "metadata": {},
   "source": [
    "<img src='./plots/modeling-outlier-with-trend-and-dummy-var.png'>"
   ]
  },
  {
   "attachments": {},
   "cell_type": "markdown",
   "metadata": {},
   "source": [
    "### We can see that adding a dummy variable allows us to estimate the impact of future outlier or special events. This is useful when we know in advance when such events will occur."
   ]
  },
  {
   "cell_type": "code",
   "execution_count": null,
   "metadata": {},
   "outputs": [],
   "source": []
  }
 ],
 "metadata": {
  "kernelspec": {
   "display_name": "timeseries-env",
   "language": "python",
   "name": "python3"
  },
  "language_info": {
   "codemirror_mode": {
    "name": "ipython",
    "version": 3
   },
   "file_extension": ".py",
   "mimetype": "text/x-python",
   "name": "python",
   "nbconvert_exporter": "python",
   "pygments_lexer": "ipython3",
   "version": "3.9.13 (tags/v3.9.13:6de2ca5, May 17 2022, 16:36:42) [MSC v.1929 64 bit (AMD64)]"
  },
  "orig_nbformat": 4,
  "vscode": {
   "interpreter": {
    "hash": "5344483434f8feb0f4e4edbcac037dc40f14ec44f0a8519da7d24204004147d4"
   }
  }
 },
 "nbformat": 4,
 "nbformat_minor": 2
}
