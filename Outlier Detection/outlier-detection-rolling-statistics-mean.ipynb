{
 "cells": [
  {
   "attachments": {},
   "cell_type": "markdown",
   "metadata": {},
   "source": [
    "## Detecting outliers using the rolling mean"
   ]
  },
  {
   "cell_type": "code",
   "execution_count": 5,
   "metadata": {},
   "outputs": [],
   "source": [
    "import pandas as pd\n",
    "import numpy as np\n",
    "import matplotlib.pyplot as plt\n",
    " \n",
    "from sktime.utils.plotting import plot_series\n",
    "\n",
    "from statsmodels.tsa.seasonal import STL"
   ]
  },
  {
   "attachments": {},
   "cell_type": "markdown",
   "metadata": {},
   "source": [
    "## Data Set Synopsis\n",
    "\n",
    "The timeseries is between January 1992 and Apr 2005.\n",
    "\n",
    "It consists of a single series of monthly values representing sales volumes. \n",
    "\n",
    "a monthly retail sales dataset (found [here](https://raw.githubusercontent.com/facebook/prophet/master/examples/example_retail_sales.csv))."
   ]
  },
  {
   "cell_type": "code",
   "execution_count": 8,
   "metadata": {},
   "outputs": [],
   "source": [
    "df = pd.read_csv('../../Datasets/example_retail_sales_with_outliers.csv', parse_dates=['ds'], index_col=['ds'])\n",
    "\n",
    "plot_series(df)\n",
    "plt.xticks(rotation=20);"
   ]
  },
  {
   "attachments": {},
   "cell_type": "markdown",
   "metadata": {},
   "source": [
    "<img src='./plots/retail-sales-with-outliers-df.png'>"
   ]
  },
  {
   "attachments": {},
   "cell_type": "markdown",
   "metadata": {},
   "source": [
    "## Outliers in timeseries data"
   ]
  },
  {
   "attachments": {},
   "cell_type": "markdown",
   "metadata": {},
   "source": [
    "* ### Point outliers\n",
    "    * The individual points are outliers"
   ]
  },
  {
   "attachments": {},
   "cell_type": "markdown",
   "metadata": {},
   "source": [
    "* ### Level Shift Outliers\n",
    "    * These are called Sub-sequence outliers because a consecutive section of timeseries are outliers\n",
    "    * The baseline of timeseries undergoes abrupt shift "
   ]
  },
  {
   "attachments": {},
   "cell_type": "markdown",
   "metadata": {},
   "source": [
    "* ### Transient Shift Outliers\n",
    "    * These are called Sub-sequence outliers because a consecutive section of timeseries are outliers\n",
    "    * The baseline of timeseries undergoes abrupt shift, but that shift is transient\n",
    "    * The abrupt shift decays over-time hence transient"
   ]
  },
  {
   "attachments": {},
   "cell_type": "markdown",
   "metadata": {},
   "source": [
    "<img src='./Notes/different-outlier-types.PNG'>"
   ]
  },
  {
   "attachments": {},
   "cell_type": "markdown",
   "metadata": {},
   "source": [
    "## Why are outliers a problem\n",
    "\n",
    "* Outliers bias the model\n",
    "* Time-series decomposition results are distorted if there are outliers\n",
    "    * The trend computation using rolling-average give us inflated results, if there are outliers in the window\n",
    "    * Outliers distorts classical seasonal decomposition result\n",
    "\n",
    "## How to identify Outliers\n",
    "\n",
    "#### 1. Visual Inspection\n",
    "Plot the time series and inspect\n",
    "* if the time series is small, then by visual inspection we can identify the outliers\n",
    "\n",
    "#### 2. Estimation methods\n",
    "`abs( y_true - y_hat ) > threshold`\n",
    "* We can use rolling statitcs like mean, median to compute and expectation\n",
    "* If the expection is very different from actual we can flag those points as outliers\n",
    "\n",
    "#### 3. Density based methods\n",
    "Does an observation has only a few neighbours ?\n",
    "* Look at the neighbouring datapoints \n",
    "* If the neighbourhood is sparse we can flag them as outliers"
   ]
  },
  {
   "attachments": {},
   "cell_type": "markdown",
   "metadata": {},
   "source": [
    "## Lets use Estimation method \n",
    "\n",
    "#### rolling mean and standard-deviation  to identify outliers"
   ]
  },
  {
   "cell_type": "code",
   "execution_count": 13,
   "metadata": {},
   "outputs": [],
   "source": [
    "# our data\n",
    "df.plot();"
   ]
  },
  {
   "attachments": {},
   "cell_type": "markdown",
   "metadata": {},
   "source": [
    "<img src='./plots/retail-sales-with-outliers-df-plt.png'>"
   ]
  },
  {
   "attachments": {},
   "cell_type": "markdown",
   "metadata": {},
   "source": [
    "#### The seasonal spikes in the data are likely to be picked up as outliers. We shall de-seasonalise the data first using STL decomposition"
   ]
  },
  {
   "cell_type": "code",
   "execution_count": 14,
   "metadata": {},
   "outputs": [],
   "source": [
    "res = STL(endog=df['y'], robust=True).fit()\n",
    "res.plot();"
   ]
  },
  {
   "attachments": {},
   "cell_type": "markdown",
   "metadata": {},
   "source": [
    "<img src='./plots/stl-plot.png'>"
   ]
  },
  {
   "cell_type": "code",
   "execution_count": 19,
   "metadata": {},
   "outputs": [],
   "source": [
    "deseasonalised = df['y']-res.seasonal\n",
    "df['deseasonalised'] = deseasonalised\n",
    "# plot the deseasonalized data\n",
    "df.plot(y=['deseasonalised']);"
   ]
  },
  {
   "attachments": {},
   "cell_type": "markdown",
   "metadata": {},
   "source": [
    "<img src='./plots/deseasonalized-plot.png'>"
   ]
  },
  {
   "attachments": {},
   "cell_type": "markdown",
   "metadata": {},
   "source": [
    "## Methods for handling outliers\n",
    "\n",
    "\n",
    "#### 1. MODELING OUTLIERS\n",
    "Suppose the have the flower sales data from a store and we find the flower sales on Feb 14 very high on visual inspection. Is this and outliers ?\n",
    "\n",
    "From visual inspection its clear that the sales on feb-14 is very high compared to the rest.\n",
    "\n",
    "Since Feb 14 is valentine's day we know there will be increase in the flower sales\n",
    "\n",
    "This case can be modeled \n",
    "\n",
    "We can add a feature to our model. Eg: Like zero for all other days and 1 for valentines day\n",
    "\n",
    "We can teach our model about events like valentines-day where we expect a high sale of flowers \n",
    "\n"
   ]
  },
  {
   "attachments": {},
   "cell_type": "markdown",
   "metadata": {},
   "source": [
    "#### 2. IMPUTATION \n",
    "#### Treat the outliers as missing data and Impute them using imputation methods \n",
    "\n",
    "imputation methods\n",
    "* forward fill `pandas.DataFrame.fillna(method='ffill')`\n",
    "* backward fill `pandas.DataFrame.fillna(method='bfill')` \n",
    "* linear-interpolation `pandas.DataFrame.interpolate(method='linear')`\n",
    "etc...\n"
   ]
  },
  {
   "attachments": {},
   "cell_type": "markdown",
   "metadata": {},
   "source": [
    "### 3. ROLLING STATISTICS\n",
    "\n",
    "#### Apply a window of data\n",
    "#### Compute statistics from the data inside the window\n",
    "#### Move the window and iterate through all the data\n",
    "\n",
    "LETS USE ROLLING STATS\n",
    "\n",
    "Compute yhat using a rolling mean and the rolling standard deviation which will be used as part of the threshold"
   ]
  },
  {
   "cell_type": "code",
   "execution_count": 84,
   "metadata": {},
   "outputs": [
    {
     "data": {
      "text/html": [
       "<div>\n",
       "<style scoped>\n",
       "    .dataframe tbody tr th:only-of-type {\n",
       "        vertical-align: middle;\n",
       "    }\n",
       "\n",
       "    .dataframe tbody tr th {\n",
       "        vertical-align: top;\n",
       "    }\n",
       "\n",
       "    .dataframe thead th {\n",
       "        text-align: right;\n",
       "    }\n",
       "</style>\n",
       "<table border=\"1\" class=\"dataframe\">\n",
       "  <thead>\n",
       "    <tr style=\"text-align: right;\">\n",
       "      <th></th>\n",
       "      <th>rolling_mean</th>\n",
       "      <th>rolling_std</th>\n",
       "    </tr>\n",
       "    <tr>\n",
       "      <th>ds</th>\n",
       "      <th></th>\n",
       "      <th></th>\n",
       "    </tr>\n",
       "  </thead>\n",
       "  <tbody>\n",
       "    <tr>\n",
       "      <th>1992-01-01</th>\n",
       "      <td>165622.552337</td>\n",
       "      <td>1130.452750</td>\n",
       "    </tr>\n",
       "    <tr>\n",
       "      <th>1992-02-01</th>\n",
       "      <td>165890.339378</td>\n",
       "      <td>1251.760952</td>\n",
       "    </tr>\n",
       "    <tr>\n",
       "      <th>1992-03-01</th>\n",
       "      <td>166261.547409</td>\n",
       "      <td>1563.785489</td>\n",
       "    </tr>\n",
       "    <tr>\n",
       "      <th>1992-04-01</th>\n",
       "      <td>166537.395234</td>\n",
       "      <td>1680.647235</td>\n",
       "    </tr>\n",
       "    <tr>\n",
       "      <th>1992-05-01</th>\n",
       "      <td>167101.829539</td>\n",
       "      <td>2386.753924</td>\n",
       "    </tr>\n",
       "    <tr>\n",
       "      <th>...</th>\n",
       "      <td>...</td>\n",
       "      <td>...</td>\n",
       "    </tr>\n",
       "    <tr>\n",
       "      <th>2004-12-01</th>\n",
       "      <td>347537.364408</td>\n",
       "      <td>73572.481723</td>\n",
       "    </tr>\n",
       "    <tr>\n",
       "      <th>2005-01-01</th>\n",
       "      <td>350324.676777</td>\n",
       "      <td>76937.563822</td>\n",
       "    </tr>\n",
       "    <tr>\n",
       "      <th>2005-02-01</th>\n",
       "      <td>326107.606504</td>\n",
       "      <td>7846.290594</td>\n",
       "    </tr>\n",
       "    <tr>\n",
       "      <th>2005-03-01</th>\n",
       "      <td>328385.541059</td>\n",
       "      <td>4121.498142</td>\n",
       "    </tr>\n",
       "    <tr>\n",
       "      <th>2005-04-01</th>\n",
       "      <td>329086.118743</td>\n",
       "      <td>3903.458284</td>\n",
       "    </tr>\n",
       "  </tbody>\n",
       "</table>\n",
       "<p>160 rows × 2 columns</p>\n",
       "</div>"
      ],
      "text/plain": [
       "             rolling_mean   rolling_std\n",
       "ds                                     \n",
       "1992-01-01  165622.552337   1130.452750\n",
       "1992-02-01  165890.339378   1251.760952\n",
       "1992-03-01  166261.547409   1563.785489\n",
       "1992-04-01  166537.395234   1680.647235\n",
       "1992-05-01  167101.829539   2386.753924\n",
       "...                   ...           ...\n",
       "2004-12-01  347537.364408  73572.481723\n",
       "2005-01-01  350324.676777  76937.563822\n",
       "2005-02-01  326107.606504   7846.290594\n",
       "2005-03-01  328385.541059   4121.498142\n",
       "2005-04-01  329086.118743   3903.458284\n",
       "\n",
       "[160 rows x 2 columns]"
      ]
     },
     "execution_count": 84,
     "metadata": {},
     "output_type": "execute_result"
    }
   ],
   "source": [
    "rolling_stats = (df['deseasonalised'].rolling(window=12, center=True, min_periods=1)\n",
    "                   .agg({'rolling_mean':'mean', 'rolling_std':'std'}))\n",
    "\n",
    "rolling_stats"
   ]
  },
  {
   "cell_type": "code",
   "execution_count": 85,
   "metadata": {},
   "outputs": [],
   "source": [
    "alpha = 3\n",
    "upper_limit = rolling_stats['rolling_mean'] + alpha*rolling_stats['rolling_std']\n",
    "lower_limit = rolling_stats['rolling_mean'] - alpha*rolling_stats['rolling_std']\n",
    "\n",
    "is_outlier = np.abs(df['deseasonalised']-rolling_stats['rolling_mean']) > alpha*rolling_stats['rolling_std']"
   ]
  },
  {
   "cell_type": "code",
   "execution_count": 94,
   "metadata": {},
   "outputs": [],
   "source": [
    "\n",
    "ax = df.plot(y=['deseasonalised'], figsize=(15,5))\n",
    "rolling_stats.plot(y=['rolling_mean'], ax=ax)\n",
    "\n",
    "df[is_outlier].plot(y=['y'], linestyle='', marker='x', ax=ax, c='r', label=['outlier'])\n",
    "\n",
    "upper_limit.plot(ax=ax, c='grey', label='')\n",
    "lower_limit.plot(ax=ax, c='grey', label='')\n"
   ]
  },
  {
   "attachments": {},
   "cell_type": "markdown",
   "metadata": {},
   "source": [
    "<img src='./plots/outlier-detection.png'>"
   ]
  },
  {
   "attachments": {},
   "cell_type": "markdown",
   "metadata": {},
   "source": [
    "### The outliers were only just identified. The rolling mean and rolling standard deviation change significantly when the window includes the outliers (see the jumps in the rolling mean and in the thresholds shown by the grey lines).  This shows that this method is not robust to outliers."
   ]
  },
  {
   "attachments": {},
   "cell_type": "markdown",
   "metadata": {},
   "source": [
    "## ROLLING MEAN AND STANDARD DEVIATION\n",
    "\n",
    "* WINDOW-SIZE\n",
    "    * Seasonal period is a common choice for window-size\n",
    "    * We want to smooth out short time fluctuations\n",
    "\n",
    "* Threshold \n",
    "    * `ABS(y_true - rolling-mean) > aplha * rolling-std`\n",
    "    *  we flag a datapoint as outlier if it vary a lot from what is expected\n",
    "    *  Usually we choose 3 as alpha\n",
    "        * low alpha = high sensitivity to outliers\n",
    "        * high alpha = less sensitive to outliers\n",
    "    "
   ]
  },
  {
   "cell_type": "code",
   "execution_count": 118,
   "metadata": {},
   "outputs": [],
   "source": [
    "\n",
    "ax = df.plot(y=['y'], figsize=(15,5), label=['time-series'])\n",
    "rolling_stats.plot(y=['rolling_mean'], ax=ax)\n",
    "\n",
    "df[is_outlier].plot(y=['y'], linestyle='', marker='x', ax=ax, c='r', label=['outlier'])\n"
   ]
  },
  {
   "attachments": {},
   "cell_type": "markdown",
   "metadata": {},
   "source": [
    "<img src='./plots/outlier-detection-timeseries-plot.png'>"
   ]
  },
  {
   "attachments": {},
   "cell_type": "markdown",
   "metadata": {},
   "source": [
    "#### High value for `alpha` = low sensitivity"
   ]
  },
  {
   "cell_type": "code",
   "execution_count": 121,
   "metadata": {},
   "outputs": [],
   "source": [
    "high_alpha = 4\n",
    "high_alpha_upper_limit = rolling_stats['rolling_mean'] + high_alpha*rolling_stats['rolling_std']\n",
    "high_alpha_lower_limit = rolling_stats['rolling_mean'] - high_alpha*rolling_stats['rolling_std']\n",
    "high_alpha_outliers = (np.abs(df['deseasonalised']-rolling_stats['rolling_mean']) > high_alpha*rolling_stats['rolling_std'])\n",
    "\n",
    "ax = df.plot(y=['deseasonalised'], figsize=(15,5), label=['time-series'])\n",
    "rolling_stats.plot(y=['rolling_mean'], ax=ax)\n",
    "\n",
    "high_alpha_upper_limit.plot(ax=ax, c='grey', label='')\n",
    "high_alpha_lower_limit.plot(ax=ax, c='grey', label='')\n",
    "\n",
    "plt.title('High alpha value mean low sensitivity to outliers : hence no outliers detected');"
   ]
  },
  {
   "attachments": {},
   "cell_type": "markdown",
   "metadata": {},
   "source": [
    "<img src='./plots/outlier-detection-high-alpha.png'>"
   ]
  },
  {
   "cell_type": "code",
   "execution_count": 122,
   "metadata": {},
   "outputs": [],
   "source": [
    "low_alpha = 1\n",
    "low_alpha_upper_limit = rolling_stats['rolling_mean'] + low_alpha*rolling_stats['rolling_std']\n",
    "low_alpha_lower_limit = rolling_stats['rolling_mean'] - low_alpha*rolling_stats['rolling_std']\n",
    "low_alpha_outliers = (np.abs(df['deseasonalised']-rolling_stats['rolling_mean']) > low_alpha*rolling_stats['rolling_std'])\n",
    "\n",
    "ax = df.plot(y=['deseasonalised'], figsize=(15,5), label=['time-series'])\n",
    "rolling_stats.plot(y=['rolling_mean'], ax=ax)\n",
    "\n",
    "df[low_alpha_outliers].plot(y=['deseasonalised'], linestyle='', marker='x', ax=ax, c='r', label=['outlier'])\n",
    "\n",
    "low_alpha_upper_limit.plot(ax=ax, c='grey', label='')\n",
    "low_alpha_lower_limit.plot(ax=ax, c='grey', label='')\n",
    "\n",
    "plt.title('Low alpha value means high sensitivity to outliers');"
   ]
  },
  {
   "attachments": {},
   "cell_type": "markdown",
   "metadata": {},
   "source": [
    "<img src='./plots/outlier-detection-low-alpha.png'>"
   ]
  },
  {
   "attachments": {},
   "cell_type": "markdown",
   "metadata": {},
   "source": [
    "## Why are we deseasonalizing the data before outlier detection ?\n",
    "\n",
    "#### Seasonal fluctuations can distort rolling statistics"
   ]
  },
  {
   "cell_type": "code",
   "execution_count": 123,
   "metadata": {},
   "outputs": [],
   "source": [
    "# here we are computing rolling stats on the timeseries\n",
    "distorted_rolling_stats = (\n",
    "    df['y'].rolling(window=12, center=True, min_periods=1)\n",
    "           .agg({'rolling_mean':'mean', 'rolling_std':'std'})\n",
    ")\n",
    "\n",
    "alpha = 3\n",
    "distorted_rolling_stats['is_outlier'] = (np.abs(df['y']-distorted_rolling_stats['rolling_mean'])\n",
    "                                         >\n",
    "                                        alpha*distorted_rolling_stats['rolling_std'])\n",
    "\n",
    "\n",
    "distorted_rolling_stats['upper_limit'] = distorted_rolling_stats['rolling_mean'] + alpha*distorted_rolling_stats['rolling_std']\n",
    "distorted_rolling_stats['lower_limit'] = distorted_rolling_stats['rolling_mean'] - alpha*distorted_rolling_stats['rolling_std']\n",
    "\n",
    "ax = df.plot(y=['y'], figsize=(15,4))\n",
    "distorted_rolling_stats.plot(y=['rolling_mean'], ax=ax)\n",
    "\n",
    "distorted_rolling_stats.plot(y=['upper_limit'], ax=ax )\n",
    "distorted_rolling_stats.plot(y=['lower_limit'], ax=ax )\n",
    "\n",
    "plt.title('No outliers detected: Reason seasonal pattern distort the rolling stats');"
   ]
  },
  {
   "attachments": {},
   "cell_type": "markdown",
   "metadata": {},
   "source": [
    "<img src='./plots/outlier-detection-why-deseason-the-data.png'>"
   ]
  },
  {
   "attachments": {},
   "cell_type": "markdown",
   "metadata": {},
   "source": [
    "## Rolling mean and Rolling standard deviation are not robust against outliers\n",
    "\n",
    "* The detection of outliers are very sensitive to data, choice of window-size and threshold\n",
    "* Sensitivity to outliers also depends on the gradient of trend\n",
    "    * if slope is steeper , standard deviation increases, this makes outlier detection difficult\n",
    "* If outlier is in the window we get inflated values from rolling stats"
   ]
  }
 ],
 "metadata": {
  "kernelspec": {
   "display_name": "timeseries-env",
   "language": "python",
   "name": "python3"
  },
  "language_info": {
   "codemirror_mode": {
    "name": "ipython",
    "version": 3
   },
   "file_extension": ".py",
   "mimetype": "text/x-python",
   "name": "python",
   "nbconvert_exporter": "python",
   "pygments_lexer": "ipython3",
   "version": "3.9.13 (tags/v3.9.13:6de2ca5, May 17 2022, 16:36:42) [MSC v.1929 64 bit (AMD64)]"
  },
  "orig_nbformat": 4,
  "vscode": {
   "interpreter": {
    "hash": "5344483434f8feb0f4e4edbcac037dc40f14ec44f0a8519da7d24204004147d4"
   }
  }
 },
 "nbformat": 4,
 "nbformat_minor": 2
}
