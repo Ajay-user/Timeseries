{
 "cells": [
  {
   "attachments": {},
   "cell_type": "markdown",
   "metadata": {},
   "source": [
    "## Detecting outliers using the rolling median\n",
    "\n",
    "* **Rolling mean and Rolling standard deviation are not robust to outliers**\n",
    "* **Rolling mean and Rolling standard deviation changes abruptly when outlier is in the window**\n",
    "* **Outlier detection becomes very sensitive to choice of window-size and threshold**\n",
    "\n",
    "\n",
    "#### Estimation method\n",
    "datapoint is outlier if `ABS(actual - expectation)` is greater than the `threshold`\n",
    "\n",
    "`ABS(y(t) - y_hat) > threshold`\n",
    "\n",
    "## Rolling median\n",
    "* **Median is robust to outliers**\n",
    "\n",
    "#### We can use rolling median instead of rolling mean\n",
    "#### What is an outlier robust alternative to rolling standard deviation ?\n",
    "\n",
    "## Mean absolute Deviation\n",
    "The median can be used instead of the mean to provide an outlier robust value for the expected value y_hat. However, we require an outlier robust estimator of the dispersion of a dataset to take the place of the standard deviation. \n",
    "\n",
    "The median absolute deviation, $MAD$, is an outlier robust estimator of the dispersion of a dataset.\n",
    "\n",
    " The $MAD$ is defined as:\n",
    "$$ MAD = median(|y - median(y)|) $$\n",
    "\n"
   ]
  },
  {
   "cell_type": "code",
   "execution_count": 8,
   "metadata": {},
   "outputs": [],
   "source": [
    "import pandas as pd\n",
    "import numpy as np\n",
    "import matplotlib.pyplot as plt\n",
    " \n",
    "from sktime.utils.plotting import plot_series\n",
    "\n",
    "from statsmodels.tsa.seasonal import STL"
   ]
  },
  {
   "attachments": {},
   "cell_type": "markdown",
   "metadata": {},
   "source": [
    "## Example : Median is Robust to outliers !"
   ]
  },
  {
   "cell_type": "code",
   "execution_count": 18,
   "metadata": {},
   "outputs": [
    {
     "name": "stdout",
     "output_type": "stream",
     "text": [
      "Mean of Data 142858.42857142858\n",
      "Std of Data 349926.5812215296\n",
      "Median of Data 2.0\n",
      "Median_absolute_deviation of Data 1.0\n"
     ]
    }
   ],
   "source": [
    "# Example with an outlier\n",
    "data_with_outlier = [1, 1, 1, 2, 2, 2, 1e6]\n",
    "\n",
    "# let compute the stats\n",
    "mean_of_data = np.mean(data_with_outlier)\n",
    "std_of_data = np.std(data_with_outlier)\n",
    "median_of_data = np.median(data_with_outlier)\n",
    "\n",
    "median_absolute_deviation = np.median(np.abs(data_with_outlier - median_of_data))\n",
    "\n",
    "print('Mean of Data', mean_of_data)\n",
    "print('Std of Data', std_of_data)\n",
    "print('Median of Data', median_of_data)\n",
    "print('Median_absolute_deviation of Data', median_absolute_deviation)"
   ]
  },
  {
   "attachments": {},
   "cell_type": "markdown",
   "metadata": {},
   "source": [
    "## Data Set Synopsis\n",
    "\n",
    "The timeseries is between January 1992 and Apr 2005.\n",
    "\n",
    "It consists of a single series of monthly values representing sales volumes. \n",
    "\n",
    "a monthly retail sales dataset (found [here](https://raw.githubusercontent.com/facebook/prophet/master/examples/example_retail_sales.csv))."
   ]
  },
  {
   "cell_type": "code",
   "execution_count": 13,
   "metadata": {},
   "outputs": [],
   "source": [
    "df = pd.read_csv('../../Datasets/example_retail_sales_with_outliers.csv', parse_dates=['ds'], index_col=['ds'])\n",
    "\n",
    "plot_series(df)\n",
    "plt.xticks(rotation=20);"
   ]
  },
  {
   "attachments": {},
   "cell_type": "markdown",
   "metadata": {},
   "source": [
    "<img src='./plots/retail-sales-with-outliers-df.png'>"
   ]
  },
  {
   "attachments": {},
   "cell_type": "markdown",
   "metadata": {},
   "source": [
    "## Outliers in timeseries data"
   ]
  },
  {
   "attachments": {},
   "cell_type": "markdown",
   "metadata": {},
   "source": [
    "* ### Point outliers\n",
    "    * The individual points are outliers"
   ]
  },
  {
   "attachments": {},
   "cell_type": "markdown",
   "metadata": {},
   "source": [
    "* ### Level Shift Outliers\n",
    "    * These are called Sub-sequence outliers because a consecutive section of timeseries are outliers\n",
    "    * The baseline of timeseries undergoes abrupt shift "
   ]
  },
  {
   "attachments": {},
   "cell_type": "markdown",
   "metadata": {},
   "source": [
    "* ### Transient Shift Outliers\n",
    "    * These are called Sub-sequence outliers because a consecutive section of timeseries are outliers\n",
    "    * The baseline of timeseries undergoes abrupt shift, but that shift is transient\n",
    "    * The abrupt shift decays over-time hence transient"
   ]
  },
  {
   "attachments": {},
   "cell_type": "markdown",
   "metadata": {},
   "source": [
    "## Why are outliers a problem\n",
    "\n",
    "* Outliers bias the model\n",
    "* Time-series decomposition results are distorted if there are outliers\n",
    "    * The trend computation using rolling-average give us inflated results, if there are outliers in the window\n",
    "    * Outliers distorts classical seasonal decomposition result\n",
    "\n",
    "## How to identify Outliers\n",
    "\n",
    "#### 1. Visual Inspection\n",
    "Plot the time series and inspect\n",
    "* if the time series is small, then by visual inspection we can identify the outliers\n",
    "\n",
    "#### 2. Estimation methods\n",
    "`abs( y_true - y_hat ) > threshold`\n",
    "* We can use rolling statitcs like mean, median to compute and expectation\n",
    "* If the expection is very different from actual we can flag those points as outliers\n",
    "\n",
    "#### 3. Density based methods\n",
    "Does an observation has only a few neighbours ?\n",
    "* Look at the neighbouring datapoints \n",
    "* If the neighbourhood is sparse we can flag them as outliers"
   ]
  },
  {
   "attachments": {},
   "cell_type": "markdown",
   "metadata": {},
   "source": [
    "## Lets use Estimation method \n",
    "\n",
    "#### rolling mean and standard-deviation  to identify outliers"
   ]
  },
  {
   "cell_type": "code",
   "execution_count": 14,
   "metadata": {},
   "outputs": [],
   "source": [
    "# our data\n",
    "df.plot();"
   ]
  },
  {
   "attachments": {},
   "cell_type": "markdown",
   "metadata": {},
   "source": [
    "<img src='./plots/retail-sales-with-outliers-df-plt.png'>"
   ]
  },
  {
   "attachments": {},
   "cell_type": "markdown",
   "metadata": {},
   "source": [
    "#### The seasonal spikes in the data are likely to be picked up as outliers. We shall de-seasonalise the data first using STL decomposition"
   ]
  },
  {
   "cell_type": "code",
   "execution_count": 15,
   "metadata": {},
   "outputs": [],
   "source": [
    "res = STL(endog=df['y'], robust=True).fit()\n",
    "res.plot();"
   ]
  },
  {
   "attachments": {},
   "cell_type": "markdown",
   "metadata": {},
   "source": [
    "<img src='./plots/stl-plot.png'>"
   ]
  },
  {
   "cell_type": "code",
   "execution_count": 16,
   "metadata": {},
   "outputs": [],
   "source": [
    "deseasonalised = df['y']-res.seasonal\n",
    "df['deseasonalised'] = deseasonalised\n",
    "# plot the deseasonalized data\n",
    "df.plot(y=['deseasonalised']);"
   ]
  },
  {
   "attachments": {},
   "cell_type": "markdown",
   "metadata": {},
   "source": [
    "<img src='./plots/deseasonalized-plot.png'>"
   ]
  },
  {
   "attachments": {},
   "cell_type": "markdown",
   "metadata": {},
   "source": [
    "### ROLLING STATISTICS -- ROLLING MEDIAN\n",
    "\n",
    "#### Apply a window of data\n",
    "#### Compute statistics from the data inside the window\n",
    "#### Move the window and iterate through all the data\n",
    "\n",
    "LETS USE ROLLING STATS\n",
    "\n",
    "Compute yhat using a `rolling median` and the `rolling median absolute deviation` which will be used as part of the threshold"
   ]
  },
  {
   "cell_type": "code",
   "execution_count": 17,
   "metadata": {},
   "outputs": [],
   "source": [
    "mean_abs_dev = lambda y: np.median(np.abs(y-np.median(y)))"
   ]
  },
  {
   "cell_type": "code",
   "execution_count": 81,
   "metadata": {},
   "outputs": [],
   "source": [
    "def compute_rolling_stats(window_size=12, alpha_param=3.5):\n",
    "   rolling_stats = (df['deseasonalised'].rolling(window=window_size, center=True, min_periods=1)\n",
    "                                       .agg({\n",
    "                                          'rolling_median':'median',\n",
    "                                          'rolling_median_abs_dev': mean_abs_dev\n",
    "                                       }))\n",
    "\n",
    "   alpha = alpha_param\n",
    "   is_outlier = np.abs(df['deseasonalised']-rolling_stats['rolling_median']) >  alpha*rolling_stats['rolling_median_abs_dev']\n",
    "\n",
    "   upper_limit = rolling_stats['rolling_median'] + alpha*rolling_stats['rolling_median_abs_dev']\n",
    "   lower_limit = rolling_stats['rolling_median'] - alpha*rolling_stats['rolling_median_abs_dev']\n",
    "\n",
    "   return rolling_stats, is_outlier, upper_limit, lower_limit\n",
    "\n",
    "\n",
    "rolling_stats, is_outlier, upper_limit, lower_limit = compute_rolling_stats(window_size=12, alpha_param=3.5)"
   ]
  },
  {
   "cell_type": "code",
   "execution_count": 86,
   "metadata": {},
   "outputs": [],
   "source": [
    "def plot_results():\n",
    "    ax = df.plot(y=['deseasonalised'], figsize=(15,10))\n",
    "    rolling_stats.plot(y=['rolling_median'], ax=ax)\n",
    "    df[is_outlier].plot(y=['deseasonalised'], linestyle='', marker='x', c='r', ax=ax, label=['outlier'])\n",
    "\n",
    "    ax.fill_between(x=df.index, y1=upper_limit, y2=lower_limit, color='green', alpha=0.5)\n",
    "\n",
    "plot_results()"
   ]
  },
  {
   "attachments": {},
   "cell_type": "markdown",
   "metadata": {},
   "source": [
    "<img src='./plots/outlier-detection-using-median.png'>"
   ]
  },
  {
   "attachments": {},
   "cell_type": "markdown",
   "metadata": {},
   "source": [
    "## We have detected the outliers \n",
    "\n",
    "* We no longer see the jumps in the computed statistics when there are outliers in the window\n",
    "* We can that Means absolute deviation is increasing with the slope of the trend , which is not desirable\n",
    "* Small deviations from the local behaviour is picked up, this can be resolved by adjusting the threshold\n",
    "* Still have to remove the seasonality because seasonal spikes distorts the statistics\n",
    "\n",
    "We can see some datapoints are classified as outliers between 1999 and 2004. Lets zoom in and observe"
   ]
  },
  {
   "cell_type": "code",
   "execution_count": 80,
   "metadata": {},
   "outputs": [],
   "source": [
    "mask = df.query('index > 1999 and index < 2004').index\n",
    "\n",
    "ax = df.loc[mask].plot(y=['deseasonalised'], figsize=(15,4))\n",
    "rolling_stats.loc[mask].plot(y=['rolling_median'], ax=ax)\n",
    "df.loc[mask][ is_outlier.loc[mask] ].plot(y=['deseasonalised'], linestyle='', marker='x', c='r', ax=ax, label=['outlier'])\n",
    "\n",
    "ax.fill_between(x=df.loc[mask].index, y1=upper_limit.loc[mask], y2=lower_limit.loc[mask], color='green', alpha=0.3);"
   ]
  },
  {
   "attachments": {},
   "cell_type": "markdown",
   "metadata": {},
   "source": [
    "<img src='./plots/outlier-detection-using-median-zoom-in.png'>"
   ]
  },
  {
   "attachments": {},
   "cell_type": "markdown",
   "metadata": {},
   "source": [
    "#### Outliers between 1999 -- 2004\n",
    "* Detected outlier are datapoints that deviates from the median-line\n",
    "* We can clearly see that sensitvity of outlier detection depends on the trend\n",
    "    * when the slope is steeper we can see a wider range for median-absolute-deviation\n",
    "        * We can see the upper and lower bounds are wider and allowing more freedom to the datapoints\n",
    "        * This is why datapoints around 2000, even though they deviate more from the median, are not classified as outliers\n",
    "    * when the slope is not that steep we can see a narrow range for median-absolute-deviation\n",
    "        * We can see a tight upper and lower bound when slope is not steep\n",
    "        * This is why data-points between 2001 and 2002 that deviated from median are classified as outliers\n",
    "\n",
    "#### We can adjust the upper and lower bounds by changing `window-size` and `alpha` parameters"
   ]
  },
  {
   "cell_type": "code",
   "execution_count": 88,
   "metadata": {},
   "outputs": [],
   "source": [
    "# lets double the window-size and increase alpha to 5.0\n",
    "\n",
    "rolling_stats, is_outlier, upper_limit, lower_limit = compute_rolling_stats(window_size=24, alpha_param=5.0)\n",
    "\n",
    "plot_results()"
   ]
  },
  {
   "attachments": {},
   "cell_type": "markdown",
   "metadata": {},
   "source": [
    "<img src='./plots/outlier-detection-change-params.png'>"
   ]
  },
  {
   "attachments": {},
   "cell_type": "markdown",
   "metadata": {},
   "source": [
    "#### Outliers betweeen 1999 -- 2004\n",
    "\n",
    "By increasing the upper and lower bounds, the data-points that perviously get classified as outliers are now acceptable."
   ]
  },
  {
   "cell_type": "code",
   "execution_count": 95,
   "metadata": {},
   "outputs": [
    {
     "data": {
      "image/png": "[encoded data removed]",
      "text/plain": [
       "<Figure size 1080x288 with 1 Axes>"
      ]
     },
     "metadata": {
      "needs_background": "light"
     },
     "output_type": "display_data"
    }
   ],
   "source": [
    "mask = df.query('index > 1999 and index < 2004').index\n",
    "\n",
    "ax = df.loc[mask].plot(y=['deseasonalised'], figsize=(15,4))\n",
    "rolling_stats.loc[mask].plot(y=['rolling_median'], ax=ax)\n",
    "\n",
    "if any(df.loc[mask][ is_outlier.loc[mask]  ]['y']):\n",
    "    df.loc[mask][ is_outlier.loc[mask] ].plot(y=['deseasonalised'], linestyle='', marker='x', c='r', ax=ax, label=['outlier'])\n",
    "\n",
    "ax.fill_between(x=df.loc[mask].index, y1=upper_limit.loc[mask], y2=lower_limit.loc[mask], color='green', alpha=0.3);"
   ]
  },
  {
   "attachments": {},
   "cell_type": "markdown",
   "metadata": {},
   "source": [
    "## Methods for handling outliers\n",
    "\n",
    "\n",
    "#### 1. MODELING OUTLIERS\n",
    "Suppose the have the flower sales data from a store and we find the flower sales on Feb 14 very high on visual inspection. Is this and outliers ?\n",
    "\n",
    "From visual inspection its clear that the sales on feb-14 is very high compared to the rest.\n",
    "\n",
    "Since Feb 14 is valentine's day we know there will be increase in the flower sales\n",
    "\n",
    "This case can be modeled \n",
    "\n",
    "We can add a feature to our model. Eg: Like zero for all other days and 1 for valentines day\n",
    "\n",
    "We can teach our model about events like valentines-day where we expect a high sale of flowers \n",
    "\n"
   ]
  },
  {
   "attachments": {},
   "cell_type": "markdown",
   "metadata": {},
   "source": [
    "#### 2. IMPUTATION \n",
    "#### Treat the outliers as missing data and Impute them using imputation methods \n",
    "\n",
    "imputation methods\n",
    "* forward fill `pandas.DataFrame.fillna(method='ffill')`\n",
    "* backward fill `pandas.DataFrame.fillna(method='bfill')` \n",
    "* linear-interpolation `pandas.DataFrame.interpolate(method='linear')`\n",
    "* STL decomposition and interpolation\n"
   ]
  },
  {
   "cell_type": "code",
   "execution_count": 121,
   "metadata": {},
   "outputs": [
    {
     "data": {
      "text/plain": [
       "y    4\n",
       "dtype: int64"
      ]
     },
     "execution_count": 121,
     "metadata": {},
     "output_type": "execute_result"
    }
   ],
   "source": [
    "# lets mark the outliers as NaN\n",
    "\n",
    "df_with_nan = df.loc[:,['y']].copy()\n",
    "df_with_nan.loc[is_outlier] = np.NaN\n",
    "\n",
    "df_with_nan.isna().sum()"
   ]
  },
  {
   "attachments": {},
   "cell_type": "markdown",
   "metadata": {},
   "source": [
    "## STL decomposition and interpolation"
   ]
  },
  {
   "cell_type": "code",
   "execution_count": 122,
   "metadata": {},
   "outputs": [],
   "source": [
    "# STL cant work with data that has missing so impute them with linear interplation\n",
    "y = df_with_nan.interpolate(method='linear')\n",
    "# Now extract the seasonal component\n",
    "res = STL(endog=y, period=12, robust=True).fit()\n",
    "seasonal_component = res.seasonal\n",
    "# deseasonalize\n",
    "df_deseason = df_with_nan['y'] - seasonal_component\n",
    "# inpute the missing\n",
    "df_imputed = df_deseason.interpolate(method='linear')\n",
    "# add back the seasonal pattern\n",
    "df_imputed = df_imputed + seasonal_component"
   ]
  },
  {
   "cell_type": "code",
   "execution_count": 155,
   "metadata": {},
   "outputs": [],
   "source": [
    "fig, ax = plt.subplots(nrows=2, ncols=1, figsize=(15,8))\n",
    "\n",
    "df.plot(y=['y'], ax=ax[0])\n",
    "df[is_outlier].plot(y=['y'], linestyle='', marker='x', color='red', ax=ax[0], label=['outlier'])\n",
    "\n",
    "df_imputed.plot(y=['y'], ax=ax[1])\n",
    "df_imputed.loc[is_outlier].plot(linestyle='', marker='o', color='red', ax=ax[1], alpha=0.5)\n",
    "ax[1].legend(['y','imputed'])\n",
    "\n",
    "plt.suptitle('Treat the outliers as missing data and Impute them using imputation method ')"
   ]
  },
  {
   "attachments": {},
   "cell_type": "markdown",
   "metadata": {},
   "source": [
    "<img src='./plots/outlier-detection-treat-as-missing-and-impute.png'>"
   ]
  },
  {
   "cell_type": "code",
   "execution_count": null,
   "metadata": {},
   "outputs": [],
   "source": []
  }
 ],
 "metadata": {
  "kernelspec": {
   "display_name": "timeseries-env",
   "language": "python",
   "name": "python3"
  },
  "language_info": {
   "codemirror_mode": {
    "name": "ipython",
    "version": 3
   },
   "file_extension": ".py",
   "mimetype": "text/x-python",
   "name": "python",
   "nbconvert_exporter": "python",
   "pygments_lexer": "ipython3",
   "version": "3.9.13 (tags/v3.9.13:6de2ca5, May 17 2022, 16:36:42) [MSC v.1929 64 bit (AMD64)]"
  },
  "orig_nbformat": 4,
  "vscode": {
   "interpreter": {
    "hash": "5344483434f8feb0f4e4edbcac037dc40f14ec44f0a8519da7d24204004147d4"
   }
  }
 },
 "nbformat": 4,
 "nbformat_minor": 2
}
