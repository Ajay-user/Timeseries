{
 "cells": [
  {
   "attachments": {},
   "cell_type": "markdown",
   "metadata": {},
   "source": [
    "## Detecting outliers using residuals and LOWESS\n",
    "\n",
    "##### * LOWESS : Locally Weighted Scatter plot Smoothing\n",
    "* `from statsmodels.nonparametric.smoothers_lowess import lowess`\n",
    "* LOWESS fits a smooth curve to the data and it does not make any assumption in that curve\n",
    "* LOWESS curve at any point `(x,y)` is obtained by fitting a weighted linear regression to a subset of data\n",
    "* We can control the subset of data used to compute a smooth curve using `frac` parameter\n",
    "* LOWESS will give less weight to data-points that are futher from the point of interest\n",
    "\n",
    "* LOWESS can be used to extract trend from the timeseries\n",
    "* We can use LOWESS to obtain an expectation value at each point in time\n",
    "\n",
    "##### Residuals = `y_true - expected`\n",
    "\n",
    "##### Outlier estimation using `1.5 * IQR` rule\n",
    "* IQR = INTER QUARTILE RANGE\n",
    "* Q1 = First Quartile or 25th Percentile or 0.25 Quantile\n",
    "* Q3 = Third Quartile or 75th Percentile or 0.75 Quantile\n",
    "* IQR = Q3 - Q1\n",
    "\n",
    "\n",
    "* The outliers are visually discernible\n",
    "* The intution is we can use this residuals and say \n",
    "    * if this residual is greater than some threshold we can flag them as outlier\n",
    "        * `residuals > Q3 + 1.5*IQR`\n",
    "    * if this residual is lesser than some threshold we can flag them as outlier\n",
    "        * `residuals < Q1 - 1.5*IQR`\n",
    "\n",
    "\n",
    "#### CAUTION : RESIDUALS MUST BE STATIONARY\n",
    "`ie : mean and standard deviation should not change with time`\n",
    "* Before using residuals to detect outliers make sure that they are stationary\n"
   ]
  },
  {
   "cell_type": "code",
   "execution_count": 90,
   "metadata": {},
   "outputs": [],
   "source": [
    "import pandas as pd\n",
    "import numpy as np\n",
    "import matplotlib.pyplot as plt\n",
    "import seaborn as sns\n",
    " \n",
    "from sktime.utils.plotting import plot_series\n",
    "\n",
    "from statsmodels.tsa.seasonal import STL\n",
    "\n",
    "from statsmodels.nonparametric.smoothers_lowess import lowess"
   ]
  },
  {
   "attachments": {},
   "cell_type": "markdown",
   "metadata": {},
   "source": [
    "## Data Set Synopsis\n",
    "\n",
    "The timeseries is between January 1992 and Apr 2005.\n",
    "\n",
    "It consists of a single series of monthly values representing sales volumes. \n",
    "\n",
    "a monthly retail sales dataset (found [here](https://raw.githubusercontent.com/facebook/prophet/master/examples/example_retail_sales.csv))."
   ]
  },
  {
   "cell_type": "code",
   "execution_count": 4,
   "metadata": {},
   "outputs": [],
   "source": [
    "df = pd.read_csv('../../Datasets/example_retail_sales_with_outliers.csv', parse_dates=['ds'], index_col=['ds'])\n",
    "\n",
    "plot_series(df)\n",
    "plt.xticks(rotation=20);"
   ]
  },
  {
   "attachments": {},
   "cell_type": "markdown",
   "metadata": {},
   "source": [
    "<img src='./plots/retail-sales-with-outliers-df.png'>"
   ]
  },
  {
   "attachments": {},
   "cell_type": "markdown",
   "metadata": {},
   "source": [
    "## Seasonal Patterns can be an issue !\n",
    "* Seasonal patterns could be mistake as outliers so we have to de-sesonalized the data "
   ]
  },
  {
   "cell_type": "code",
   "execution_count": 47,
   "metadata": {},
   "outputs": [],
   "source": [
    "res = STL(endog=df['y'], seasonal=7, period=12, robust=True).fit()\n",
    "res.seasonal.plot();"
   ]
  },
  {
   "attachments": {},
   "cell_type": "markdown",
   "metadata": {},
   "source": [
    "<img src='./plots/STL-seasonal-plot.png'>"
   ]
  },
  {
   "cell_type": "code",
   "execution_count": 51,
   "metadata": {},
   "outputs": [],
   "source": [
    "df['deseasonalized'] = df['y']-res.seasonal\n",
    "df.plot(y=['deseasonalized']);"
   ]
  },
  {
   "attachments": {},
   "cell_type": "markdown",
   "metadata": {},
   "source": [
    "<img src='./plots/deseasonalized-plot.png'>"
   ]
  },
  {
   "attachments": {},
   "cell_type": "markdown",
   "metadata": {},
   "source": [
    "## LOWESS for extracting the trend\n",
    "\n",
    "`LOWESS (Locally Weighted Scatterplot Smoothing)`\n",
    "\n",
    "Parameters:\n",
    "* `endog (1-D numpy array) The y-values of the observed points`\n",
    "* `exog (1-D numpy array) The x-values of the observed points`\n",
    "* `frac (float) Between 0 and 1. The fraction of the data used when estimating each y-value.`\n",
    "* `it (int) The number of residual-based reweightings to perform.`\n",
    "* `delta (float) Distance within which to use linear-interpolation instead of weighted regression.`\n",
    "* `xvals : (1-D numpy array) Values of the exogenous variable at which to evaluate the regression. If supplied, cannot use delta.`\n",
    "\n",
    "etc .. \n"
   ]
  },
  {
   "cell_type": "code",
   "execution_count": 52,
   "metadata": {},
   "outputs": [],
   "source": [
    "# lowess needs integer values it can't work with date time values\n",
    "\n",
    "x = np.arange(len(df))\n",
    "y = df['deseasonalized'].values\n",
    "window = 0.1 # 10% \n",
    "\n",
    "\n",
    "# The returned array is two-dimensional if return_sorted is True, and one dimensional if return_sorted is False.\n",
    "#  If return_sorted is True, then a numpy array with two columns. \n",
    "# The first column contains the sorted x (exog) values\n",
    "#  and the second column the associated estimated y (endog) values.\n",
    "response = lowess(endog=y, exog=x, frac=window)"
   ]
  },
  {
   "cell_type": "code",
   "execution_count": 64,
   "metadata": {},
   "outputs": [],
   "source": [
    "plt.figure(figsize=(15,4))\n",
    "ax = plt.subplot()\n",
    "ax.plot(df['deseasonalized'], label='Deseasonalized')\n",
    "ax.plot(df.index, response[:,1], label='Trend extracted from deseasonalized');\n",
    "ax.legend();\n"
   ]
  },
  {
   "attachments": {},
   "cell_type": "markdown",
   "metadata": {},
   "source": [
    "<img src='./plots/trend-from-deseasonalized-using-lowess.png'>"
   ]
  },
  {
   "attachments": {},
   "cell_type": "markdown",
   "metadata": {},
   "source": [
    "### Trend extracted using LOWESS method can be used as expected values\n",
    "\n",
    "##### Residuals = `y_true - expected`\n",
    "\n",
    "##### Outlier estimation using `1.5 * IQR` rule"
   ]
  },
  {
   "cell_type": "code",
   "execution_count": 65,
   "metadata": {},
   "outputs": [],
   "source": [
    "df['expected'] = response[:, 1]\n",
    "df['residuals'] = df['deseasonalized'] - response[:,1]"
   ]
  },
  {
   "attachments": {},
   "cell_type": "markdown",
   "metadata": {},
   "source": [
    "## Make sure that the residuals are stationary"
   ]
  },
  {
   "cell_type": "code",
   "execution_count": 89,
   "metadata": {},
   "outputs": [],
   "source": [
    "df['residuals'].plot(figsize=(15,4), marker='.', linestyle='', markersize=14);"
   ]
  },
  {
   "attachments": {},
   "cell_type": "markdown",
   "metadata": {},
   "source": [
    "<img src='./plots/stationary-resid.png'>"
   ]
  },
  {
   "attachments": {},
   "cell_type": "markdown",
   "metadata": {},
   "source": [
    "## IQR , Q1, Q3 using pandas"
   ]
  },
  {
   "cell_type": "code",
   "execution_count": 67,
   "metadata": {},
   "outputs": [
    {
     "name": "stdout",
     "output_type": "stream",
     "text": [
      "INTER QUARTILE RANGE : 2852.0000673578616\n",
      "Q1 : -1335.8035439788873\n",
      "Q3 : 1516.1965233789742\n"
     ]
    }
   ],
   "source": [
    "Q1, Q3 = df['residuals'].quantile(q=[0.25, 0.75])\n",
    "IQR = Q3 - Q1\n",
    "print('INTER QUARTILE RANGE :',IQR)\n",
    "print('Q1 :',Q1)\n",
    "print('Q3 :',Q3)"
   ]
  },
  {
   "cell_type": "code",
   "execution_count": 119,
   "metadata": {},
   "outputs": [],
   "source": [
    "plt.figure(figsize=(10,8))\n",
    "sns.boxplot(x='residuals', data=df);"
   ]
  },
  {
   "attachments": {},
   "cell_type": "markdown",
   "metadata": {},
   "source": [
    "<img src='./plots/box-plot-residual-sns.png'>"
   ]
  },
  {
   "attachments": {},
   "cell_type": "markdown",
   "metadata": {},
   "source": [
    "A common rule to determine whether a particular data point is an outlier is the 1.5 x interquartile range (IQR) rule.\n",
    "\n",
    "This rule states that a data point $x$ is an outlier if:\n",
    "\n",
    "$$x > Q_3 + 1.5 \\times IQR$$\n",
    "$$x <Q_1 - 1.5 \\times IQR$$\n",
    "\n",
    "where $Q1$ and $Q3$ are the 1st and 3rd quartiles respectively."
   ]
  },
  {
   "cell_type": "code",
   "execution_count": 131,
   "metadata": {},
   "outputs": [],
   "source": [
    "upper_bound = Q1 - 1.5*IQR\n",
    "lower_bound = Q3 + 1.5*IQR\n",
    "\n",
    "plt.figure(figsize=(10,8))\n",
    "plt.axvspan(xmin=lower_bound, xmax=upper_bound, color='g', alpha=0.4);\n",
    "sns.histplot(df['residuals']);\n",
    "plt.vlines(x=[lower_bound, upper_bound], ymin=plt.ylim()[0], ymax=plt.ylim()[1], colors='r')\n",
    "\n",
    "plt.legend(['INTER QUARTILE RANGE', 'lower and upper bound', 'distribution of residuals']);"
   ]
  },
  {
   "attachments": {},
   "cell_type": "markdown",
   "metadata": {},
   "source": [
    "<img src='./plots/histplot-resid.png'>"
   ]
  },
  {
   "cell_type": "code",
   "execution_count": 68,
   "metadata": {},
   "outputs": [],
   "source": [
    "def get_outliers(alpha = 1.5):\n",
    "    return df['residuals'].apply(lambda r: True if r > Q3+(alpha*IQR)or r< Q1-(alpha*IQR) else False)"
   ]
  },
  {
   "cell_type": "code",
   "execution_count": 146,
   "metadata": {},
   "outputs": [],
   "source": [
    "outliers = get_outliers(alpha=1.5)\n",
    "\n",
    "ax = df.plot(y=['deseasonalized'], figsize=(15,4), marker='.')\n",
    "df[outliers].plot(y=['deseasonalized'], c='r', marker='o', linestyle='', \n",
    "                  markersize=12, ax=ax, alpha=0.5, label=['outlier'])"
   ]
  },
  {
   "attachments": {},
   "cell_type": "markdown",
   "metadata": {},
   "source": [
    "<img src='./plots/outlier-detection-resid-STL.png'>"
   ]
  },
  {
   "cell_type": "code",
   "execution_count": 147,
   "metadata": {},
   "outputs": [],
   "source": [
    "ax = df.plot(y=['residuals'], marker='.', markersize=16, linestyle='', figsize=(10,8))\n",
    "\n",
    "df[outliers].plot(y=['residuals'], c='r', marker='o', linestyle='',  markersize=12, ax=ax, \n",
    "                    alpha=0.5, label=['outlier'])\n",
    "\n",
    "plt.hlines(y=[lower_bound, upper_bound], xmin=df.index.min(), xmax=df.index.max(), color='r');\n"
   ]
  },
  {
   "attachments": {},
   "cell_type": "markdown",
   "metadata": {},
   "source": [
    "<img src='./plots/residuals-outilier-plot.png'>"
   ]
  },
  {
   "attachments": {},
   "cell_type": "markdown",
   "metadata": {},
   "source": [
    "#### Lets zoom-in and look the points near the boundary that are classified as outliers"
   ]
  },
  {
   "cell_type": "code",
   "execution_count": 162,
   "metadata": {},
   "outputs": [],
   "source": [
    "ax = df[df['residuals']<5e4].plot(y=['deseasonalized'], figsize=(15,8), marker='.')\n",
    "df.query('residuals < 5e4').plot(y=['expected'], ax=ax)\n",
    "df[outliers].query('residuals < 5e4').plot(y=['deseasonalized'], ax=ax, c='r', linestyle='', \n",
    "                marker='o', markersize=16, alpha=0.5, label=['outlier']);"
   ]
  },
  {
   "attachments": {},
   "cell_type": "markdown",
   "metadata": {},
   "source": [
    "<img src='./plots/outlier-zoomed.png'>"
   ]
  },
  {
   "cell_type": "code",
   "execution_count": 234,
   "metadata": {},
   "outputs": [],
   "source": [
    "ax = df.query('residuals < 5e4').plot(y=['residuals'], marker='.', markersize=16, linestyle='', figsize=(10,8))\n",
    "\n",
    "df[outliers].query('residuals < 5e4').plot(y=['residuals'], c='r', marker='o', \n",
    "                    linestyle='',  markersize=12, ax=ax, alpha=0.5, label=['outlier'])\n",
    "\n",
    "plt.hlines(y=[lower_bound, upper_bound], xmin=df.index.min(), xmax=df.index.max(), color='r');"
   ]
  },
  {
   "attachments": {},
   "cell_type": "markdown",
   "metadata": {},
   "source": [
    "<img src='./plots/residuals-outilier-plot-zoomed.png'>"
   ]
  },
  {
   "attachments": {},
   "cell_type": "markdown",
   "metadata": {},
   "source": [
    "#### Points that are identified as outlier are indeed points that deviate from the expected \n",
    "* points that deviates from the expected value are flagged as outliers\n",
    "* if we want, we can make the outlier detection less sensitive by increasing the threshold for \n",
    "\n",
    "    * if this residual is greater than some threshold we can flag them as outlier\n",
    "        * `residuals > Q3 + 3 * IQR`\n",
    "    * if this residual is lesser than some threshold we can flag them as outlier\n",
    "        * `residuals < Q1 - 3 * IQR`\n",
    "\n",
    "#### Sensitivity adjustment ?\n",
    "Because the datapoints (`y_true`) are close to the trend extracted by STL (`y_expected`) the majority of residuals are closer to zero. **This means that even the smaller fluctuations from expected are identified as outliers.** The residuals are much clearer on the residual-plot and box-plot. The IQR, Q1 and Q3 ends up really small due to this many small residuals. To make  outlier detection less sensitive, a simple solution would be to adjust the threshold. "
   ]
  },
  {
   "cell_type": "code",
   "execution_count": 235,
   "metadata": {},
   "outputs": [],
   "source": [
    "outliers = get_outliers(alpha=4)\n",
    "\n",
    "ax = df.plot(y=['deseasonalized'], figsize=(15,4), marker='.')\n",
    "df[outliers].plot(y=['deseasonalized'], c='r', marker='o', linestyle='', \n",
    "                  markersize=12, ax=ax, alpha=0.5, label=['outlier'])"
   ]
  },
  {
   "attachments": {},
   "cell_type": "markdown",
   "metadata": {},
   "source": [
    "<img src='./plots/outlier-captured-alpha-4.png'>"
   ]
  },
  {
   "attachments": {},
   "cell_type": "markdown",
   "metadata": {},
   "source": [
    "## Handling outliers\n",
    "\n",
    "#### 1. MODELING OUTLIERS\n",
    "Suppose the have the flower sales data from a store and we find the flower sales on Feb 14 very high on visual inspection. Is this and outliers ?\n",
    "\n",
    "From visual inspection its clear that the sales on feb-14 is very high compared to the rest.\n",
    "\n",
    "Since Feb 14 is valentine's day we know there will be increase in the flower sales\n",
    "\n",
    "This case can be modeled \n",
    "\n",
    "We can add a feature to our model. Eg: Like zero for all other days and 1 for valentines day\n",
    "\n",
    "We can teach our model about events like valentines-day where we expect a high sale of flowers \n"
   ]
  },
  {
   "attachments": {},
   "cell_type": "markdown",
   "metadata": {},
   "source": [
    "#### 2. IMPUTATION \n",
    "#### Treat the outliers as missing data and Impute them using imputation methods \n",
    "\n",
    "imputation methods\n",
    "* forward fill `pandas.DataFrame.fillna(method='ffill')`\n",
    "* backward fill `pandas.DataFrame.fillna(method='bfill')` \n",
    "* linear-interpolation `pandas.DataFrame.interpolate(method='linear')`\n",
    "* STL decomposition and interpolation\n"
   ]
  },
  {
   "attachments": {},
   "cell_type": "markdown",
   "metadata": {},
   "source": [
    "<img src='./Notes/Handle-outliers.PNG'>"
   ]
  },
  {
   "attachments": {},
   "cell_type": "markdown",
   "metadata": {},
   "source": [
    "## Treat the outliers as missing and impute"
   ]
  },
  {
   "cell_type": "code",
   "execution_count": 182,
   "metadata": {},
   "outputs": [
    {
     "name": "stdout",
     "output_type": "stream",
     "text": [
      "Number of outliers set as NaN :  8\n",
      "Number of missing data after interpolation :  0\n"
     ]
    }
   ],
   "source": [
    "deseason = df['deseasonalized'].copy()\n",
    "deseason[outliers] = np.nan\n",
    "print('Number of outliers set as NaN : ',deseason.isna().sum())\n",
    "# use linear interpolation to fill the missing\n",
    "deseason.interpolate(method='linear', inplace=True)\n",
    "print('Number of missing data after interpolation : ',deseason.isna().sum())\n",
    "# adding back the seasonality\n",
    "y_corrected = deseason + res.seasonal"
   ]
  },
  {
   "cell_type": "code",
   "execution_count": 236,
   "metadata": {},
   "outputs": [],
   "source": [
    "plt.figure(figsize=(15,5))\n",
    "plt.plot(y_corrected, label='y_corrected', marker='.')\n",
    "ax = y_corrected[outliers].plot(c='r', linestyle='', markersize=16, marker='o', alpha=0.5);\n",
    "ax.set(title='Treat the outliers as missing data and Impute them using imputation methods');"
   ]
  },
  {
   "attachments": {},
   "cell_type": "markdown",
   "metadata": {},
   "source": [
    "<img src='./plots/handle-outlier.png'>"
   ]
  },
  {
   "cell_type": "code",
   "execution_count": 239,
   "metadata": {},
   "outputs": [],
   "source": [
    "plt.figure(figsize=(15,5))\n",
    "plt.subplot(121)\n",
    "plt.plot(df['y'], label='data with outlier')\n",
    "plt.legend()\n",
    "plt.subplot(122)\n",
    "plt.plot(y_corrected, label='y_corrected')\n",
    "plt.legend()"
   ]
  },
  {
   "attachments": {},
   "cell_type": "markdown",
   "metadata": {},
   "source": [
    "<img src='./plots/retail-sales-with-and-without-outliers-plot.png'>"
   ]
  },
  {
   "cell_type": "code",
   "execution_count": null,
   "metadata": {},
   "outputs": [],
   "source": []
  }
 ],
 "metadata": {
  "kernelspec": {
   "display_name": "timeseries-env",
   "language": "python",
   "name": "python3"
  },
  "language_info": {
   "codemirror_mode": {
    "name": "ipython",
    "version": 3
   },
   "file_extension": ".py",
   "mimetype": "text/x-python",
   "name": "python",
   "nbconvert_exporter": "python",
   "pygments_lexer": "ipython3",
   "version": "3.9.13 (tags/v3.9.13:6de2ca5, May 17 2022, 16:36:42) [MSC v.1929 64 bit (AMD64)]"
  },
  "orig_nbformat": 4,
  "vscode": {
   "interpreter": {
    "hash": "5344483434f8feb0f4e4edbcac037dc40f14ec44f0a8519da7d24204004147d4"
   }
  }
 },
 "nbformat": 4,
 "nbformat_minor": 2
}
