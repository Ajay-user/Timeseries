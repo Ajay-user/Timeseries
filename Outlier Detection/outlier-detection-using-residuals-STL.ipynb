{
 "cells": [
  {
   "attachments": {},
   "cell_type": "markdown",
   "metadata": {},
   "source": [
    "## Detecting outliers using residuals and STL\n",
    "\n",
    "##### * STL : SEASONAL TREND DECOMPOSITION\n",
    "* `from statsmodels.tsa.seasonal import STL`\n",
    "* `STL` to decompose a time series into three components: `trend`, `seasonal` and `residual`. \n",
    "\n",
    "##### STL parameters\n",
    "\n",
    "##### `seasonal`:\n",
    "* Determines the window size for LOESS used when smoothing the seasonal component (i.e, the cycle-subseries). \n",
    " \n",
    "* The cycle-subseries is the time series formed by the sequence of values from the same period in the seasonal cycle (e.g., the sequence of all the values which occured on January over each year, the sequence of all the values which occured on February over each year, etc.). \n",
    "\n",
    "* This parameter determines how smooth the seasonal component is for the same period (e.g., every January) across multiple seasonal cycles (e.g, multiple years).\n",
    "\n",
    "##### `period`: \n",
    "* The periodicity of the seasonal component (for yearly seasonality and monthly data, this would be 12 because the seasonal pattern repeats every 12 periods). \n",
    "* This variable is used to determine the cycle-subseries and also in the low pass filtering step of the algorithm.\n",
    "\n",
    "##### `robust`: \n",
    "* A flag to use robustness weights during regression in LOESS. This ensures robustness to outliers.\n",
    "\n",
    "\n",
    "##### Using STL we can extract trend and seasonality and use that as expected value\n",
    "    * `expected = seasonal + trend`\n",
    "\n",
    "##### Residuals = `y_true - expected`\n",
    "\n",
    "##### Outlier estimation using `1.5 * IQR` rule\n",
    "* IQR = INTER QUARTILE RANGE\n",
    "* Q1 = First Quartile or 25th Percentile or 0.25 Quantile\n",
    "* Q3 = Third Quartile or 75th Percentile or 0.75 Quantile\n",
    "* IQR = Q3 - Q1\n",
    "\n",
    "\n",
    "* The outliers are visually discernible\n",
    "* The intution is we can use this residuals and say \n",
    "    * if this residual is greater than some threshold we can flag them as outlier\n",
    "        * `residuals > Q3 + 1.5*IQR`\n",
    "    * if this residual is lesser than some threshold we can flag them as outlier\n",
    "        * `residuals < Q1 - 1.5*IQR`\n",
    "\n",
    "\n",
    "#### CAUTION : RESIDUALS MUST BE STATIONARY\n",
    "`ie : mean and standard deviation should not change with time`\n",
    "* Before using residuals to detect outliers make sure that they are stationary\n"
   ]
  },
  {
   "cell_type": "code",
   "execution_count": 1,
   "metadata": {},
   "outputs": [],
   "source": [
    "import pandas as pd\n",
    "import numpy as np\n",
    "import matplotlib.pyplot as plt\n",
    "import seaborn as sns\n",
    " \n",
    "from sktime.utils.plotting import plot_series\n",
    "\n",
    "from statsmodels.tsa.seasonal import STL\n",
    "\n",
    "from statsmodels.nonparametric.smoothers_lowess import lowess"
   ]
  },
  {
   "attachments": {},
   "cell_type": "markdown",
   "metadata": {},
   "source": [
    "## Data Set Synopsis\n",
    "\n",
    "The timeseries is between January 1992 and Apr 2005.\n",
    "\n",
    "It consists of a single series of monthly values representing sales volumes. \n",
    "\n",
    "a monthly retail sales dataset (found [here](https://raw.githubusercontent.com/facebook/prophet/master/examples/example_retail_sales.csv))."
   ]
  },
  {
   "cell_type": "code",
   "execution_count": 3,
   "metadata": {},
   "outputs": [],
   "source": [
    "df = pd.read_csv('../../Datasets/example_retail_sales_with_outliers.csv', parse_dates=['ds'], index_col=['ds'])\n",
    "\n",
    "plot_series(df)\n",
    "plt.xticks(rotation=20);"
   ]
  },
  {
   "attachments": {},
   "cell_type": "markdown",
   "metadata": {},
   "source": [
    "<img src='./plots/retail-sales-with-outliers-df.png'>"
   ]
  },
  {
   "attachments": {},
   "cell_type": "markdown",
   "metadata": {},
   "source": [
    "## Extract Seasonal Patterns and Trend using STL \n",
    "* Seasonal patterns could be mistake as outliers so we have to de-sesonalized the data \n",
    "* Using STL we can get extract both trend and seasonality\n",
    "* estimated = trend + seasonality"
   ]
  },
  {
   "cell_type": "code",
   "execution_count": 4,
   "metadata": {},
   "outputs": [],
   "source": [
    "res = STL(endog=df['y'], seasonal=7, period=12, robust=True).fit()\n",
    "res.seasonal.plot();"
   ]
  },
  {
   "attachments": {},
   "cell_type": "markdown",
   "metadata": {},
   "source": [
    "<img src='./plots/STL-seasonal-plot.png'>"
   ]
  },
  {
   "attachments": {},
   "cell_type": "markdown",
   "metadata": {},
   "source": [
    "### Trend & Seasonal extracted using STL method can be used as expected values\n",
    "\n",
    "##### expected = `trend + seasonal`\n",
    "\n",
    "##### Residuals = `y_true - expected`\n",
    "\n",
    "##### Outlier estimation using `1.5 * IQR` rule"
   ]
  },
  {
   "cell_type": "code",
   "execution_count": 14,
   "metadata": {},
   "outputs": [],
   "source": [
    "df['expected'] = res.seasonal + res.trend\n",
    "df['residuals'] = res.resid\n",
    "\n",
    "fig, ax = plt.subplots(nrows=2, ncols=1, figsize=(15,8))\n",
    "df.plot(y=['expected'], label=['expected = trend + seasonality'], ax=ax[0]);\n",
    "df.plot(y=['residuals'], linestyle='', marker='.', ax=ax[1]);"
   ]
  },
  {
   "attachments": {},
   "cell_type": "markdown",
   "metadata": {},
   "source": [
    "<img src='./plots/STL-estimated-and-resid.png'>"
   ]
  },
  {
   "attachments": {},
   "cell_type": "markdown",
   "metadata": {},
   "source": [
    "## Make sure that the residuals are stationary"
   ]
  },
  {
   "cell_type": "code",
   "execution_count": 18,
   "metadata": {},
   "outputs": [],
   "source": [
    "df['residuals'].plot(figsize=(15,4), marker='.', linestyle='', markersize=14);"
   ]
  },
  {
   "attachments": {},
   "cell_type": "markdown",
   "metadata": {},
   "source": [
    "<img src='./plots/stationary-resid.png'>"
   ]
  },
  {
   "attachments": {},
   "cell_type": "markdown",
   "metadata": {},
   "source": [
    "## IQR , Q1, Q3 using pandas"
   ]
  },
  {
   "cell_type": "code",
   "execution_count": 19,
   "metadata": {},
   "outputs": [
    {
     "name": "stdout",
     "output_type": "stream",
     "text": [
      "INTER QUARTILE RANGE : 2876.9379567093565\n",
      "Q1 : -1376.697816200336\n",
      "Q3 : 1500.2401405090204\n"
     ]
    }
   ],
   "source": [
    "Q1, Q3 = df['residuals'].quantile(q=[0.25, 0.75])\n",
    "IQR = Q3 - Q1\n",
    "print('INTER QUARTILE RANGE :',IQR)\n",
    "print('Q1 :',Q1)\n",
    "print('Q3 :',Q3)"
   ]
  },
  {
   "cell_type": "code",
   "execution_count": 24,
   "metadata": {},
   "outputs": [],
   "source": [
    "plt.figure(figsize=(10,8))\n",
    "sns.boxplot(x='residuals', data=df);"
   ]
  },
  {
   "attachments": {},
   "cell_type": "markdown",
   "metadata": {},
   "source": [
    "<img src='./plots/box-plot-STL.png'>"
   ]
  },
  {
   "attachments": {},
   "cell_type": "markdown",
   "metadata": {},
   "source": [
    "A common rule to determine whether a particular data point is an outlier is the 1.5 x interquartile range (IQR) rule.\n",
    "\n",
    "This rule states that a data point $x$ is an outlier if:\n",
    "\n",
    "$$x > Q_3 + 1.5 \\times IQR$$\n",
    "$$x <Q_1 - 1.5 \\times IQR$$\n",
    "\n",
    "where $Q1$ and $Q3$ are the 1st and 3rd quartiles respectively."
   ]
  },
  {
   "cell_type": "code",
   "execution_count": 29,
   "metadata": {},
   "outputs": [],
   "source": [
    "upper_bound = Q1 - 1.5*IQR\n",
    "lower_bound = Q3 + 1.5*IQR\n",
    "\n",
    "plt.figure(figsize=(10,8))\n",
    "plt.axvspan(xmin=lower_bound, xmax=upper_bound, color='g', alpha=0.4);\n",
    "sns.histplot(df['residuals']);\n",
    "plt.vlines(x=[lower_bound, upper_bound], ymin=plt.ylim()[0], ymax=plt.ylim()[1], colors='r')\n",
    "\n",
    "plt.legend(['INTER QUARTILE RANGE',  'lower and upper bound', 'distribution of residuals']);"
   ]
  },
  {
   "attachments": {},
   "cell_type": "markdown",
   "metadata": {},
   "source": [
    "<img src='./plots/histplot-residuals-STL.png'>"
   ]
  },
  {
   "cell_type": "code",
   "execution_count": 30,
   "metadata": {},
   "outputs": [],
   "source": [
    "def get_outliers(alpha = 1.5):\n",
    "    return df['residuals'].apply(lambda r: True if r > Q3+(alpha*IQR)or r< Q1-(alpha*IQR) else False)"
   ]
  },
  {
   "cell_type": "code",
   "execution_count": 33,
   "metadata": {},
   "outputs": [],
   "source": [
    "outliers = get_outliers(alpha=1.5)\n",
    "\n",
    "ax = df.plot(y=['y'], figsize=(15,4), marker='.')\n",
    "df[outliers].plot(y=['y'], c='r', marker='o', linestyle='', \n",
    "                  markersize=12, ax=ax, alpha=0.5, label=['outlier'])"
   ]
  },
  {
   "attachments": {},
   "cell_type": "markdown",
   "metadata": {},
   "source": [
    "<img src='./plots/outlier-detection-STL-1.5.png'>"
   ]
  },
  {
   "cell_type": "code",
   "execution_count": 35,
   "metadata": {},
   "outputs": [],
   "source": [
    "ax = df.plot(y=['residuals'], marker='.', markersize=16, linestyle='', figsize=(10,8))\n",
    "\n",
    "df[outliers].plot(y=['residuals'], c='r', marker='o', linestyle='',  markersize=12, ax=ax, \n",
    "                    alpha=0.5, label=['outlier'])\n",
    "\n",
    "plt.hlines(y=[lower_bound, upper_bound], xmin=df.index.min(), xmax=df.index.max(), color='r');\n"
   ]
  },
  {
   "attachments": {},
   "cell_type": "markdown",
   "metadata": {},
   "source": [
    "<img src='./plots/residuals-and-outliers-STL-1.5.png'>"
   ]
  },
  {
   "attachments": {},
   "cell_type": "markdown",
   "metadata": {},
   "source": [
    "#### Lets zoom-in and look the points near the boundary that are classified as outliers"
   ]
  },
  {
   "cell_type": "code",
   "execution_count": 41,
   "metadata": {},
   "outputs": [],
   "source": [
    "ax = df.query('residuals <5e4').plot(y=['y'], figsize=(15,8), marker='.')\n",
    "df.query('residuals < 5e4').plot(y=['expected'], ax=ax)\n",
    "df[outliers].query('residuals < 5e4').plot(y=['y'], ax=ax, c='r', linestyle='', \n",
    "                marker='o', markersize=16, alpha=0.5, label=['outlier']);"
   ]
  },
  {
   "attachments": {},
   "cell_type": "markdown",
   "metadata": {},
   "source": [
    "<img src='./plots/STL-estimated-and-outlier-zoomed-1.5.png'>"
   ]
  },
  {
   "cell_type": "code",
   "execution_count": 42,
   "metadata": {},
   "outputs": [],
   "source": [
    "ax = df.query('residuals < 5e4').plot(y=['residuals'], marker='.', markersize=16, linestyle='', figsize=(10,8))\n",
    "\n",
    "df[outliers].query('residuals < 5e4').plot(y=['residuals'], c='r', marker='o', \n",
    "                    linestyle='',  markersize=12, ax=ax, alpha=0.5, label=['outlier'])\n",
    "\n",
    "plt.hlines(y=[lower_bound, upper_bound], xmin=df.index.min(), xmax=df.index.max(), color='r');"
   ]
  },
  {
   "attachments": {},
   "cell_type": "markdown",
   "metadata": {},
   "source": [
    "<img src='./plots/residuals-and-outliers-zoomed-STL-1.5.png'>"
   ]
  },
  {
   "attachments": {},
   "cell_type": "markdown",
   "metadata": {},
   "source": [
    "#### Points that are identified as outlier are indeed points that deviate from the expected \n",
    "* points that deviates from the expected value are flagged as outliers\n",
    "* if we want, we can make the outlier detection less sensitive by increasing the threshold for \n",
    "\n",
    "    * if this residual is greater than some threshold we can flag them as outlier\n",
    "        * `residuals > Q3 + 3 * IQR`\n",
    "    * if this residual is lesser than some threshold we can flag them as outlier\n",
    "        * `residuals < Q1 - 3 * IQR`\n",
    "\n",
    "#### Sensitivity adjustment ?\n",
    "Because the datapoints (`y_true`) are close to the expected-values extracted using STL (`y_expected = trend + seasonal`) the majority of residuals are closer to zero.\n",
    "\n",
    " **This means that even the smaller fluctuations from expected are identified as outliers.** The residuals are much clearer on the residual-plot and box-plot. The IQR, Q1 and Q3 ends up really small due to this many small residuals. To make  outlier detection less sensitive, a simple solution would be to adjust the threshold. "
   ]
  },
  {
   "cell_type": "code",
   "execution_count": 45,
   "metadata": {},
   "outputs": [],
   "source": [
    "outliers = get_outliers(alpha=5)\n",
    "\n",
    "ax = df.plot(y=['y'], figsize=(15,4), marker='.')\n",
    "df[outliers].plot(y=['y'], c='r', marker='o', linestyle='', \n",
    "                  markersize=12, ax=ax, alpha=0.5, label=['outlier'])"
   ]
  },
  {
   "attachments": {},
   "cell_type": "markdown",
   "metadata": {},
   "source": [
    "<img src='./plots/outlier-detection-STL-5.png'>"
   ]
  },
  {
   "attachments": {},
   "cell_type": "markdown",
   "metadata": {},
   "source": [
    "## Handling outliers\n",
    "\n",
    "#### 1. MODELING OUTLIERS\n",
    "Suppose the have the flower sales data from a store and we find the flower sales on Feb 14 very high on visual inspection. Is this and outliers ?\n",
    "\n",
    "From visual inspection its clear that the sales on feb-14 is very high compared to the rest.\n",
    "\n",
    "Since Feb 14 is valentine's day we know there will be increase in the flower sales\n",
    "\n",
    "This case can be modeled \n",
    "\n",
    "We can add a feature to our model. Eg: Like zero for all other days and 1 for valentines day\n",
    "\n",
    "We can teach our model about events like valentines-day where we expect a high sale of flowers \n"
   ]
  },
  {
   "attachments": {},
   "cell_type": "markdown",
   "metadata": {},
   "source": [
    "#### 2. IMPUTATION \n",
    "#### Treat the outliers as missing data and Impute them using imputation methods \n",
    "\n",
    "imputation methods\n",
    "* forward fill `pandas.DataFrame.fillna(method='ffill')`\n",
    "* backward fill `pandas.DataFrame.fillna(method='bfill')` \n",
    "* linear-interpolation `pandas.DataFrame.interpolate(method='linear')`\n",
    "* STL decomposition and interpolation\n"
   ]
  },
  {
   "attachments": {},
   "cell_type": "markdown",
   "metadata": {},
   "source": [
    "## Treat the outliers as missing and impute"
   ]
  },
  {
   "cell_type": "code",
   "execution_count": 47,
   "metadata": {},
   "outputs": [],
   "source": [
    "df['y_corrected'] = np.where(outliers,df['expected'],df['y'])"
   ]
  },
  {
   "cell_type": "code",
   "execution_count": 56,
   "metadata": {},
   "outputs": [],
   "source": [
    "\n",
    "ax = df.plot(y=['y_corrected'], figsize=(15,5), marker='.')\n",
    "df[outliers].plot(y=['y'], linestyle='', marker='x', markersize=12, \n",
    "                    c='r', ax=ax, label=['outlier'], alpha=0.5)\n",
    "df[outliers].plot(y=['y_corrected'], linestyle='', marker='o', markersize=12, \n",
    "                    c='g', ax=ax, label=['outlier_imputed'], alpha=0.5)\n",
    "\n",
    "ax.set(title='Treat the outliers as missing data and Impute them using imputation methods');"
   ]
  },
  {
   "attachments": {},
   "cell_type": "markdown",
   "metadata": {},
   "source": [
    "<img src='./plots/handle-outlier-STL-alpha-5.png'>"
   ]
  },
  {
   "cell_type": "code",
   "execution_count": 65,
   "metadata": {},
   "outputs": [],
   "source": [
    "fig, ax = plt.subplots(nrows=2, ncols=1, figsize=(15,8))\n",
    "\n",
    "df.plot(y=['y'], ax=ax[0])\n",
    "df[outliers].plot(y=['y'], ax=ax[0], c='r', linestyle='', marker='x', markersize=12, label=['outlier'])\n",
    "\n",
    "df.plot(y=['y_corrected'], ax=ax[1])\n",
    "df[outliers].plot(y=['y_corrected'], ax=ax[1], c='g', linestyle='',\n",
    "                     marker='o', markersize=12, label=['outlier_correction'], alpha=0.4)"
   ]
  },
  {
   "attachments": {},
   "cell_type": "markdown",
   "metadata": {},
   "source": [
    "<img src='./plots/handle-outlier-using-STL-compare-plot.png'>"
   ]
  },
  {
   "cell_type": "code",
   "execution_count": null,
   "metadata": {},
   "outputs": [],
   "source": []
  }
 ],
 "metadata": {
  "kernelspec": {
   "display_name": "timeseries-env",
   "language": "python",
   "name": "python3"
  },
  "language_info": {
   "codemirror_mode": {
    "name": "ipython",
    "version": 3
   },
   "file_extension": ".py",
   "mimetype": "text/x-python",
   "name": "python",
   "nbconvert_exporter": "python",
   "pygments_lexer": "ipython3",
   "version": "3.9.13 (tags/v3.9.13:6de2ca5, May 17 2022, 16:36:42) [MSC v.1929 64 bit (AMD64)]"
  },
  "orig_nbformat": 4,
  "vscode": {
   "interpreter": {
    "hash": "5344483434f8feb0f4e4edbcac037dc40f14ec44f0a8519da7d24204004147d4"
   }
  }
 },
 "nbformat": 4,
 "nbformat_minor": 2
}
