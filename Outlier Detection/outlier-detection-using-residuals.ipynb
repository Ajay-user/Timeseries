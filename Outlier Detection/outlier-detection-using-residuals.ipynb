{
 "cells": [
  {
   "attachments": {},
   "cell_type": "markdown",
   "metadata": {},
   "source": [
    "## Detecting outliers using the residuals\n",
    "\n",
    "\n",
    "* Consider the residuals from rolling statistics \n",
    "* The outliers are visually discernible\n",
    "* The intution is we can use this residuals and say \n",
    "    * if this residual is greater than some threshold we can flag them as outlier\n",
    "    * if this residual is lesser than some threshold we can flag them as outlier\n",
    "\n",
    "#### CAUTION : RESIDUALS MUST BE STATIONARY\n",
    "`ie : mean and standard deviation should not change with time`\n",
    "* Before using residuals to detect outliers make sure that they are stationary\n",
    "\n",
    "\n"
   ]
  },
  {
   "cell_type": "code",
   "execution_count": 1,
   "metadata": {},
   "outputs": [],
   "source": [
    "import pandas as pd\n",
    "import numpy as np\n",
    "import matplotlib.pyplot as plt\n",
    " \n",
    "from sktime.utils.plotting import plot_series\n",
    "\n",
    "from statsmodels.tsa.seasonal import STL"
   ]
  },
  {
   "attachments": {},
   "cell_type": "markdown",
   "metadata": {},
   "source": [
    "## Data Set Synopsis\n",
    "\n",
    "The timeseries is between January 1992 and Apr 2005.\n",
    "\n",
    "It consists of a single series of monthly values representing sales volumes. \n",
    "\n",
    "a monthly retail sales dataset (found [here](https://raw.githubusercontent.com/facebook/prophet/master/examples/example_retail_sales.csv))."
   ]
  },
  {
   "cell_type": "code",
   "execution_count": 3,
   "metadata": {},
   "outputs": [],
   "source": [
    "df = pd.read_csv('../../Datasets/example_retail_sales_with_outliers.csv', parse_dates=['ds'], index_col=['ds'])\n",
    "\n",
    "plot_series(df)\n",
    "plt.xticks(rotation=20);"
   ]
  },
  {
   "attachments": {},
   "cell_type": "markdown",
   "metadata": {},
   "source": [
    "<img src='./plots/retail-sales-with-outliers-df.png'>"
   ]
  },
  {
   "attachments": {},
   "cell_type": "markdown",
   "metadata": {},
   "source": [
    "## We have to deseasonalize the data first because :\n",
    "* #### The seasonal spike can be mistaken as outliers \n",
    "* #### The seasonal variation can inflate the rolling statistics"
   ]
  },
  {
   "cell_type": "code",
   "execution_count": 5,
   "metadata": {},
   "outputs": [],
   "source": [
    "res = STL(endog=df['y'], period=12, robust=True).fit()\n",
    "df['deseasonalized'] = df['y'] - res.seasonal\n",
    "\n",
    "df.plot(y=['deseasonalized']);"
   ]
  },
  {
   "attachments": {},
   "cell_type": "markdown",
   "metadata": {},
   "source": [
    "<img src='./plots/deseasonalized-plot.png'>"
   ]
  },
  {
   "attachments": {},
   "cell_type": "markdown",
   "metadata": {},
   "source": [
    "## Estimation method\n",
    "datapoint is outlier if `ABS(actual - expectation)` is greater than the `threshold`\n",
    "\n",
    "`ABS(y(t) - y_hat) > threshold`\n"
   ]
  },
  {
   "attachments": {},
   "cell_type": "markdown",
   "metadata": {},
   "source": [
    "\n",
    "## Rolling median\n",
    "* **Median is robust to outliers**\n",
    "* We can use the rolling median as out expected-values\n",
    "\n",
    "#### We are using rolling median instead of rolling mean for expected-value computation\n"
   ]
  },
  {
   "cell_type": "code",
   "execution_count": 6,
   "metadata": {},
   "outputs": [
    {
     "data": {
      "text/html": [
       "<div>\n",
       "<style scoped>\n",
       "    .dataframe tbody tr th:only-of-type {\n",
       "        vertical-align: middle;\n",
       "    }\n",
       "\n",
       "    .dataframe tbody tr th {\n",
       "        vertical-align: top;\n",
       "    }\n",
       "\n",
       "    .dataframe thead th {\n",
       "        text-align: right;\n",
       "    }\n",
       "</style>\n",
       "<table border=\"1\" class=\"dataframe\">\n",
       "  <thead>\n",
       "    <tr style=\"text-align: right;\">\n",
       "      <th></th>\n",
       "      <th>rolling_median</th>\n",
       "    </tr>\n",
       "    <tr>\n",
       "      <th>ds</th>\n",
       "      <th></th>\n",
       "    </tr>\n",
       "  </thead>\n",
       "  <tbody>\n",
       "    <tr>\n",
       "      <th>1992-01-01</th>\n",
       "      <td>165501.414450</td>\n",
       "    </tr>\n",
       "    <tr>\n",
       "      <th>1992-02-01</th>\n",
       "      <td>166194.124261</td>\n",
       "    </tr>\n",
       "    <tr>\n",
       "      <th>1992-03-01</th>\n",
       "      <td>166336.241297</td>\n",
       "    </tr>\n",
       "    <tr>\n",
       "      <th>1992-04-01</th>\n",
       "      <td>166478.358333</td>\n",
       "    </tr>\n",
       "    <tr>\n",
       "      <th>1992-05-01</th>\n",
       "      <td>166817.744926</td>\n",
       "    </tr>\n",
       "  </tbody>\n",
       "</table>\n",
       "</div>"
      ],
      "text/plain": [
       "            rolling_median\n",
       "ds                        \n",
       "1992-01-01   165501.414450\n",
       "1992-02-01   166194.124261\n",
       "1992-03-01   166336.241297\n",
       "1992-04-01   166478.358333\n",
       "1992-05-01   166817.744926"
      ]
     },
     "execution_count": 6,
     "metadata": {},
     "output_type": "execute_result"
    }
   ],
   "source": [
    "expected_values = (df['deseasonalized'].rolling(window=12, center=True, min_periods=1).agg({'rolling_median':'median'}))\n",
    "expected_values.head()"
   ]
  },
  {
   "attachments": {},
   "cell_type": "markdown",
   "metadata": {},
   "source": [
    "## Compute the residuals"
   ]
  },
  {
   "cell_type": "code",
   "execution_count": 8,
   "metadata": {},
   "outputs": [],
   "source": [
    "residuals = df['deseasonalized'] - expected_values['rolling_median']\n",
    "\n",
    "\n",
    "ax = residuals.plot(linestyle='', marker='x', figsize=(12,4))\n",
    "plt.title('Residuals are stationary; We can see the outliers ');"
   ]
  },
  {
   "attachments": {},
   "cell_type": "markdown",
   "metadata": {},
   "source": [
    "<img src='./plots/residuals-plot.png'>"
   ]
  },
  {
   "attachments": {},
   "cell_type": "markdown",
   "metadata": {},
   "source": [
    "<img src='./Notes/box plot and outliers.PNG'>"
   ]
  },
  {
   "attachments": {},
   "cell_type": "markdown",
   "metadata": {},
   "source": [
    "## Compute the Inter Quartile Range, 1st Quartile and 3rd Quartile\n",
    "\n",
    "just listing all the options "
   ]
  },
  {
   "cell_type": "code",
   "execution_count": 29,
   "metadata": {},
   "outputs": [
    {
     "name": "stdout",
     "output_type": "stream",
     "text": [
      "Median or 2nd quartile (0.5 quantile) or 50th percentile :\n",
      "Numpy median =  257.9542177627445\n",
      "Numpy quantile =  257.9542177627445\n",
      "Numpy percentile =  257.9542177627445\n",
      "Q2 using pandas =  257.9542177627445\n"
     ]
    }
   ],
   "source": [
    "# MEDIAN is the 2nd Quartile   50% quantile  or 50th percentile\n",
    "q2_by_median = np.median(residuals.values)\n",
    "\n",
    "q2_by_quantile = np.quantile(residuals.values, q=0.5)\n",
    "\n",
    "q2_by_percentile = np.percentile(residuals.values, q=50)\n",
    "\n",
    "print('Median or 2nd quartile (0.5 quantile) or 50th percentile :')\n",
    "print('Numpy median = ',q2_by_median)\n",
    "print('Numpy quantile = ',q2_by_quantile)\n",
    "print('Numpy percentile = ',q2_by_percentile)\n",
    "\n",
    "\n",
    "# we can also use the pandas for computing quantiles\n",
    "print('Q2 using pandas = ',residuals.quantile(q=0.5))"
   ]
  },
  {
   "cell_type": "code",
   "execution_count": 16,
   "metadata": {},
   "outputs": [
    {
     "name": "stdout",
     "output_type": "stream",
     "text": [
      "Q1   1st quartile   25% quantile  or 25th percentile\n",
      "Numpy quantile =  -1043.9408635926884\n",
      "Numpy percentile =  -1043.9408635926884\n",
      "Q1 using pandas =  -1043.9408635926884\n"
     ]
    }
   ],
   "source": [
    "# Q1   1st quartile   25% quantile  or 25th percentile\n",
    "\n",
    "\n",
    "q1_by_quantile = np.quantile(residuals.values, q=0.25)\n",
    "\n",
    "q1_by_percentile = np.percentile(residuals.values, q=25)\n",
    "\n",
    "print('Q1   1st quartile   25% quantile  or 25th percentile')\n",
    "\n",
    "print('Numpy quantile = ',q1_by_quantile)\n",
    "print('Numpy percentile = ',q1_by_percentile)\n",
    "\n",
    "\n",
    "# we can also use the pandas for computing quantiles\n",
    "print('Q1 using pandas = ',residuals.quantile(q=0.25))"
   ]
  },
  {
   "cell_type": "code",
   "execution_count": 17,
   "metadata": {},
   "outputs": [
    {
     "name": "stdout",
     "output_type": "stream",
     "text": [
      "Q3   3rd quartile   75% quantile  or 75th percentile\n",
      "Numpy quantile =  1779.6279593110448\n",
      "Numpy percentile =  1779.6279593110448\n",
      "Q3 using pandas =  1779.6279593110448\n"
     ]
    }
   ],
   "source": [
    "# Q3   3rd quartile   75% quantile  or 75th percentile\n",
    "\n",
    "\n",
    "q3_by_quantile = np.quantile(residuals.values, q=0.75)\n",
    "\n",
    "q3_by_percentile = np.percentile(residuals.values, q=75)\n",
    "\n",
    "print('Q3   3rd quartile   75% quantile  or 75th percentile')\n",
    "\n",
    "print('Numpy quantile = ',q3_by_quantile)\n",
    "print('Numpy percentile = ',q3_by_percentile)\n",
    "\n",
    "\n",
    "# we can also use the pandas for computing quantiles\n",
    "print('Q3 using pandas = ',residuals.quantile(q=0.75))"
   ]
  },
  {
   "attachments": {},
   "cell_type": "markdown",
   "metadata": {},
   "source": [
    "<img src='./Notes/Q1 -- Q2  -- IQR.PNG'>"
   ]
  },
  {
   "cell_type": "code",
   "execution_count": 27,
   "metadata": {},
   "outputs": [
    {
     "name": "stdout",
     "output_type": "stream",
     "text": [
      "IQR by scipy stats :  2823.5688229037332\n",
      "IQR by numpy  :  2823.5688229037332\n"
     ]
    }
   ],
   "source": [
    "# INTER QUARTILE RANGE\n",
    "\n",
    "from scipy.stats import iqr\n",
    "\n",
    "print('IQR by scipy stats : ',iqr(x=residuals.values))\n",
    "\n",
    "print('IQR by numpy  : ',q3_by_quantile - q1_by_quantile)"
   ]
  },
  {
   "attachments": {},
   "cell_type": "markdown",
   "metadata": {},
   "source": [
    "<img src='./Notes/25 -- 50 -- 75 percentile.PNG'>"
   ]
  },
  {
   "attachments": {},
   "cell_type": "markdown",
   "metadata": {},
   "source": [
    "## Box plot"
   ]
  },
  {
   "cell_type": "code",
   "execution_count": 74,
   "metadata": {},
   "outputs": [],
   "source": [
    "plt.figure(figsize=(15,4))\n",
    "plt.boxplot(residuals.values, vert=False);"
   ]
  },
  {
   "attachments": {},
   "cell_type": "markdown",
   "metadata": {},
   "source": [
    "<img src='./plots/box-plot.png'>"
   ]
  },
  {
   "attachments": {},
   "cell_type": "markdown",
   "metadata": {},
   "source": [
    "## Histogram"
   ]
  },
  {
   "cell_type": "code",
   "execution_count": 75,
   "metadata": {},
   "outputs": [],
   "source": [
    "# we can clearly see that most of the residuals spread around zero.\n",
    "# we can clearly see the outliers\n",
    "residuals.hist(bins=50)"
   ]
  },
  {
   "attachments": {},
   "cell_type": "markdown",
   "metadata": {},
   "source": [
    "<img src='./plots/hist-plot.png'>"
   ]
  },
  {
   "cell_type": "code",
   "execution_count": 63,
   "metadata": {},
   "outputs": [],
   "source": [
    "Q1 = q1_by_quantile\n",
    "Q3 = q3_by_quantile\n",
    "IQR = Q3-Q1\n",
    "\n",
    "# FORMULA : \n",
    "# Outlier if  residual < Q1 + alpha * IQR \n",
    "# Outlier if  residual > Q3 + alpha * IQR \n",
    "\n",
    "alpha = 1.5\n",
    "\n",
    "is_outlier = residuals.apply(lambda r: True if r> Q3 + (alpha*IQR) or r< Q1 - (alpha*IQR) else False)"
   ]
  },
  {
   "cell_type": "code",
   "execution_count": 76,
   "metadata": {},
   "outputs": [],
   "source": [
    "ax = df.plot(y=['deseasonalized'], figsize=(15,4))\n",
    "df[is_outlier].plot(y=['deseasonalized'], linestyle='', marker='x', ax=ax, label=['outlier'], c='r');"
   ]
  },
  {
   "attachments": {},
   "cell_type": "markdown",
   "metadata": {},
   "source": [
    "<img src='./plots/outlier-detection-using-residuals-alpha-1.5.png'>"
   ]
  },
  {
   "attachments": {},
   "cell_type": "markdown",
   "metadata": {},
   "source": [
    "#### We can increase the alpha to a higher value to make the outlier detection less sensitive"
   ]
  },
  {
   "cell_type": "code",
   "execution_count": 72,
   "metadata": {},
   "outputs": [],
   "source": [
    "alpha = 5\n",
    "\n",
    "is_outlier = residuals.apply(lambda r: True if r> Q3 + (alpha*IQR) or r< Q1 - (alpha*IQR) else False)"
   ]
  },
  {
   "cell_type": "code",
   "execution_count": 77,
   "metadata": {},
   "outputs": [],
   "source": [
    "ax = df.plot(y=['deseasonalized'], figsize=(15,4))\n",
    "df[is_outlier].plot(y=['deseasonalized'], linestyle='', marker='x', ax=ax, label=['outlier'], c='r');"
   ]
  },
  {
   "attachments": {},
   "cell_type": "markdown",
   "metadata": {},
   "source": [
    "<img src='./plots/outlier-detection-using-residuals-alpha-5.png'>"
   ]
  },
  {
   "attachments": {},
   "cell_type": "markdown",
   "metadata": {},
   "source": [
    "## Outlier detection using Residuals\n",
    "* Pros\n",
    "    * We can use this with any method that produce and expection for y(t)\n",
    "    * The threshold is based on the entire dataset, not just a window\n",
    "* Cons\n",
    "    * We have to make sure that the residuals are STATIONARY \n",
    "    * We have to adjust the threshold for getting the right sensitivity"
   ]
  }
 ],
 "metadata": {
  "kernelspec": {
   "display_name": "timeseries-env",
   "language": "python",
   "name": "python3"
  },
  "language_info": {
   "codemirror_mode": {
    "name": "ipython",
    "version": 3
   },
   "file_extension": ".py",
   "mimetype": "text/x-python",
   "name": "python",
   "nbconvert_exporter": "python",
   "pygments_lexer": "ipython3",
   "version": "3.9.13 (tags/v3.9.13:6de2ca5, May 17 2022, 16:36:42) [MSC v.1929 64 bit (AMD64)]"
  },
  "orig_nbformat": 4,
  "vscode": {
   "interpreter": {
    "hash": "5344483434f8feb0f4e4edbcac037dc40f14ec44f0a8519da7d24204004147d4"
   }
  }
 },
 "nbformat": 4,
 "nbformat_minor": 2
}
