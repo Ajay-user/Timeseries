{
 "cells": [
  {
   "attachments": {},
   "cell_type": "markdown",
   "metadata": {},
   "source": [
    "## Outliers in timeseries data"
   ]
  },
  {
   "attachments": {},
   "cell_type": "markdown",
   "metadata": {},
   "source": [
    "* ### Point outliers\n",
    "    * The individual points are outliers"
   ]
  },
  {
   "attachments": {},
   "cell_type": "markdown",
   "metadata": {},
   "source": [
    "* ### Level Shift Outliers\n",
    "    * These are called Sub-sequence outliers because a consecutive section of timeseries are outliers\n",
    "    * The baseline of timeseries undergoes abrupt shift "
   ]
  },
  {
   "attachments": {},
   "cell_type": "markdown",
   "metadata": {},
   "source": [
    "* ### Transient Shift Outliers\n",
    "    * These are called Sub-sequence outliers because a consecutive section of timeseries are outliers\n",
    "    * The baseline of timeseries undergoes abrupt shift, but that shift is transient\n",
    "    * The abrupt shift decays over-time hence transient"
   ]
  },
  {
   "attachments": {},
   "cell_type": "markdown",
   "metadata": {},
   "source": [
    "<img src='./Notes/different-outlier-types.PNG'>"
   ]
  },
  {
   "attachments": {},
   "cell_type": "markdown",
   "metadata": {},
   "source": [
    "## Why are outliers a problem\n",
    "\n",
    "* Outliers bias the model\n",
    "* Time-series decomposition results are distorted if there are outliers\n",
    "    * The trend computation using rolling-average give us inflated results, if there are outliers in the window\n",
    "    * Outliers distorts classical seasonal decomposition result\n",
    "\n",
    "## How to identify Outliers\n",
    "\n",
    "#### 1. Visual Inspection\n",
    "Plot the time series and inspect\n",
    "* if the time series is small, then by visual inspection we can identify the outliers\n",
    "\n",
    "#### 2. Estimation methods\n",
    "`abs( y_true - y_hat ) > threshold`\n",
    "* We can use rolling statitcs like mean, median to compute and expectation\n",
    "* We can use STL to extract trend and seasonal\n",
    "    * `expectation = trend + seasonal`\n",
    "* We can use LOWESS to fit a smooth line to the data, we can use this line as expectation\n",
    "* If the expection is very different from actual we can flag those points as outliers\n",
    "\n",
    "#### 3. Density based methods\n",
    "Does an observation has only a few neighbours ?\n",
    "* Look at the neighbouring datapoints \n",
    "* If the neighbourhood is sparse we can flag them as outliers"
   ]
  },
  {
   "attachments": {},
   "cell_type": "markdown",
   "metadata": {},
   "source": [
    "<img src='./Notes/Handle-outliers.PNG'>"
   ]
  },
  {
   "cell_type": "code",
   "execution_count": 34,
   "metadata": {},
   "outputs": [],
   "source": [
    "import pandas as pd\n",
    "import numpy as np\n",
    "import matplotlib.pyplot as plt\n",
    " \n",
    "from sktime.utils.plotting import plot_series\n",
    "\n",
    "from statsmodels.tsa.seasonal import STL\n",
    "\n",
    "from sklearn.linear_model import LinearRegression"
   ]
  },
  {
   "attachments": {},
   "cell_type": "markdown",
   "metadata": {},
   "source": [
    "## Data Set Synopsis\n",
    "\n",
    "The timeseries is between January 1992 and Apr 2005.\n",
    "\n",
    "It consists of a single series of monthly values representing sales volumes. \n",
    "\n",
    "a monthly retail sales dataset (found [here](https://raw.githubusercontent.com/facebook/prophet/master/examples/example_retail_sales.csv))."
   ]
  },
  {
   "cell_type": "code",
   "execution_count": 4,
   "metadata": {},
   "outputs": [],
   "source": [
    "df = pd.read_csv('../../Datasets/example_retail_sales_with_outliers.csv', parse_dates=['ds'], index_col=['ds'])\n",
    "\n",
    "plot_series(df)\n",
    "plt.xticks(rotation=20);"
   ]
  },
  {
   "attachments": {},
   "cell_type": "markdown",
   "metadata": {},
   "source": [
    "<img src='./plots/retail-sales-with-outliers-df.png'>"
   ]
  },
  {
   "attachments": {},
   "cell_type": "markdown",
   "metadata": {},
   "source": [
    "## Extract Trend , Seasonal and Residuals"
   ]
  },
  {
   "cell_type": "code",
   "execution_count": 8,
   "metadata": {},
   "outputs": [],
   "source": [
    "res = STL(endog=df['y'], seasonal=7, period=12, robust=True).fit()\n",
    "res.plot();"
   ]
  },
  {
   "attachments": {},
   "cell_type": "markdown",
   "metadata": {},
   "source": [
    "<img src='./plots/stl-plot.png'>"
   ]
  },
  {
   "cell_type": "code",
   "execution_count": 26,
   "metadata": {},
   "outputs": [],
   "source": [
    "df['expected'] = res.seasonal + res.trend\n",
    "df['residuals'] = res.resid"
   ]
  },
  {
   "attachments": {},
   "cell_type": "markdown",
   "metadata": {},
   "source": [
    "## Are the residuals STATIONARY ?"
   ]
  },
  {
   "cell_type": "code",
   "execution_count": 13,
   "metadata": {},
   "outputs": [],
   "source": [
    "df.plot(y=['residuals'], linestyle='', marker='o', figsize=(15,4))"
   ]
  },
  {
   "attachments": {},
   "cell_type": "markdown",
   "metadata": {},
   "source": [
    "<img src='./plots/stationary-resid.png'>"
   ]
  },
  {
   "attachments": {},
   "cell_type": "markdown",
   "metadata": {},
   "source": [
    "### Outlier estimation using `1.5 * IQR` rule\n",
    "\n",
    "if residuals are stationary then we can use the IQR rule to detect the outliers\n",
    "\n",
    "Residuals = `y_true - expected`\n",
    "\n",
    "\n",
    "A common rule to determine whether a particular data point is an outlier is the 1.5 x interquartile range (IQR) rule.\n",
    "\n",
    "This rule states that a data point $x$ is an outlier if:\n",
    "\n",
    "$$x > Q_3 + 1.5 \\times IQR$$\n",
    "$$x <Q_1 - 1.5 \\times IQR$$\n",
    "\n",
    "where $Q1$ and $Q3$ are the 1st and 3rd quartiles respectively."
   ]
  },
  {
   "cell_type": "code",
   "execution_count": 15,
   "metadata": {},
   "outputs": [
    {
     "name": "stdout",
     "output_type": "stream",
     "text": [
      "INTER QUARTILE RANGE : 2876.9379567093565\n",
      "First Quartile : -1376.697816200336\n",
      "Third Quartile : 1500.2401405090204\n"
     ]
    }
   ],
   "source": [
    "Q1, Q3 = df['residuals'].quantile(q=[0.25, 0.75])\n",
    "IQR = Q3-Q1\n",
    "print(f'INTER QUARTILE RANGE : {IQR}')\n",
    "print(f'First Quartile : {Q1}')\n",
    "print(f'Third Quartile : {Q3}')"
   ]
  },
  {
   "cell_type": "code",
   "execution_count": 17,
   "metadata": {},
   "outputs": [
    {
     "data": {
      "text/plain": [
       "False    145\n",
       "True      15\n",
       "Name: is_outlier, dtype: int64"
      ]
     },
     "execution_count": 17,
     "metadata": {},
     "output_type": "execute_result"
    }
   ],
   "source": [
    "alpha = 1.5\n",
    "df['is_outlier'] = df['residuals'].apply(lambda r: True if r> Q3+(alpha*IQR) or r< Q1-(alpha*IQR) else False)\n",
    "\n",
    "df['is_outlier'].value_counts()"
   ]
  },
  {
   "attachments": {},
   "cell_type": "markdown",
   "metadata": {},
   "source": [
    "## Treat outlier as missing data and impute them"
   ]
  },
  {
   "cell_type": "code",
   "execution_count": 27,
   "metadata": {},
   "outputs": [],
   "source": [
    "df['y_corrected'] = np.where(df['is_outlier'], df['expected'], df['y'])"
   ]
  },
  {
   "cell_type": "code",
   "execution_count": 33,
   "metadata": {},
   "outputs": [],
   "source": [
    "fig, ax = plt.subplots(nrows=2, ncols=1, figsize=(15,10))\n",
    "df.plot(y=['y'], marker='.', ax=ax[0])\n",
    "df.query('is_outlier==True').plot(y=['y'] ,linestyle='', marker='o', color='r', \n",
    "                            ax=ax[0], label=['outlier'], alpha=0.5)\n",
    "ax[0].set(title='Data with outliers identified')\n",
    "df.plot(y=['y_corrected'], ax=ax[1])\n",
    "df.query('is_outlier==True').plot(y=['y_corrected'] ,linestyle='', marker='o', color='g', \n",
    "                            ax=ax[1], label=['outlier imputation'], alpha=0.5)\n",
    "ax[1].set(title='Data with outliers treated as missing data and imputed')\n",
    "\n",
    "plt.tight_layout()"
   ]
  },
  {
   "attachments": {},
   "cell_type": "markdown",
   "metadata": {},
   "source": [
    "<img src='./plots/outlier-identified-and-rectified.png'>"
   ]
  },
  {
   "attachments": {},
   "cell_type": "markdown",
   "metadata": {},
   "source": [
    "<img src='./Notes/outlier-identification.PNG'>"
   ]
  },
  {
   "attachments": {},
   "cell_type": "markdown",
   "metadata": {},
   "source": [
    "## Let's learn why outliers are problematic?"
   ]
  },
  {
   "cell_type": "code",
   "execution_count": 54,
   "metadata": {},
   "outputs": [],
   "source": [
    "# lets fit a linear model to data with outliers\n",
    "linear_with_outlier = LinearRegression()\n",
    "linear_without_outlier = LinearRegression()\n",
    "\n",
    "# lets use the trend as a feature to predict 'y'\n",
    "X = np.reshape(res.trend.ravel(), newshape=[-1,1])\n",
    "\n",
    "\n",
    "linear_with_outlier.fit(X, df['y'])\n",
    "linear_without_outlier.fit(X, df['y_corrected'])\n",
    "\n",
    "y_pred_with_outlier = linear_with_outlier.predict(X)\n",
    "y_pred_without_outlier = linear_without_outlier.predict(X)"
   ]
  },
  {
   "attachments": {},
   "cell_type": "markdown",
   "metadata": {},
   "source": [
    "## Outliers bias the model"
   ]
  },
  {
   "cell_type": "code",
   "execution_count": 76,
   "metadata": {},
   "outputs": [],
   "source": [
    "plt.figure(figsize=(15,8))\n",
    "plt.plot(df.index, df['y'])\n",
    "plt.plot(df.index, y_pred_with_outlier, c='r')\n",
    "plt.plot(df.index, y_pred_without_outlier, c='g')\n",
    "plt.legend(['y','biased toward outliers', 'unbiased model prediction'])"
   ]
  },
  {
   "attachments": {},
   "cell_type": "markdown",
   "metadata": {},
   "source": [
    "<img src='./plots/outlier-bias-the-model.png'>"
   ]
  },
  {
   "cell_type": "code",
   "execution_count": null,
   "metadata": {},
   "outputs": [],
   "source": []
  }
 ],
 "metadata": {
  "kernelspec": {
   "display_name": "timeseries-env",
   "language": "python",
   "name": "python3"
  },
  "language_info": {
   "codemirror_mode": {
    "name": "ipython",
    "version": 3
   },
   "file_extension": ".py",
   "mimetype": "text/x-python",
   "name": "python",
   "nbconvert_exporter": "python",
   "pygments_lexer": "ipython3",
   "version": "3.9.13 (tags/v3.9.13:6de2ca5, May 17 2022, 16:36:42) [MSC v.1929 64 bit (AMD64)]"
  },
  "orig_nbformat": 4,
  "vscode": {
   "interpreter": {
    "hash": "5344483434f8feb0f4e4edbcac037dc40f14ec44f0a8519da7d24204004147d4"
   }
  }
 },
 "nbformat": 4,
 "nbformat_minor": 2
}
