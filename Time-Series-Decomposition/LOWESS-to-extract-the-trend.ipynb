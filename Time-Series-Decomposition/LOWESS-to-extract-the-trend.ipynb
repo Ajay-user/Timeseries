{
 "cells": [
  {
   "cell_type": "markdown",
   "metadata": {},
   "source": [
    "## LOWESS to extract a trend from a time series.\n",
    "\n",
    "LOWESS (Locally Weighted Scatterplot Smoothing) is a popular tool used in regression analysis that creates a smooth line through a timeplot or scatter plot to help you to see relationship between variables and foresee trends.\n",
    "### Uses\n",
    "* Fitting a line to a scatter plot or time plot where noisy data values, sparse data points or weak interrelationships interfere with your ability to see a line of best fit.\n",
    "* Linear regression where least squares fitting doesn’t create a line of good fit or is too labor-intensive to use.\n",
    "\n",
    "### Parametric and Non-Parametric Fitting\n",
    "LOWESS, and least squares fitting in general, are non-parametric strategies for fitting a smooth curve to data points. \n",
    "\n",
    "* `“Parametric”` means that the researcher or analyst assumes in advance that the data fits some type of distribution (i.e. the normal distribution). \n",
    "\n",
    "* Because some type of distribution is assumed in advance, parametric fitting can lead to fitting a smooth curve that misrepresents the data. \n",
    "\n",
    "* In those cases, non-parametric smoothers may be a better choice. Non-parametric smoothers like LOESS try to find a curve of best fit without assuming the data must fit some distribution shape. \n",
    "\n",
    "* In general, both types of smoothers are used for the same set of data to offset the advantages and disadvantages of each type of smoother.\n",
    "\n",
    "\n",
    "### LOWESS (Locally Weighted Scatterplot Smoothing)\n",
    "* LOWESS curve at 𝑥 is given by the weighted robust linear regression\n",
    "* Fit a weighted robust linear regression to a subset of the data\n",
    "* Evaluate the same process across many 𝑥 values to obtain a smooth fit\n",
    "\n",
    "#### The traditional weight function used for LOWESS is the tri-cube weight function, \n",
    "<img src='https://wikimedia.org/api/rest_v1/media/math/render/svg/cc9fc75ed0e328862910414d9d1dd6a3cae9bebf'>\n",
    "\n",
    "#### Robustness to outliers \n",
    "How to make regression robust to outliers \n",
    "* Fit linear regression multiple times. On each iteration re-weight the data by residuals\n",
    "of the previous fit such that less weight is given to high residual data points.\n",
    "* Outliers produce large residuals. Hence, by re-weighting the data we can minimize\n",
    "their impact on the f\n",
    "\n",
    "* Fit weighted linear regression: 𝑦hat = 𝛽1 + 𝛽2 𝑥\n",
    "* Compute residuals: 𝑒 = 𝑦true− 𝑦hat\n",
    "* Compute the weights using the residuals, (Weight function used is Bi-square weight function) \n",
    "* Re-fit linear regression with weights\n",
    "* Repeat \n",
    "\n"
   ]
  },
  {
   "cell_type": "code",
   "execution_count": 6,
   "metadata": {},
   "outputs": [],
   "source": [
    "import pandas as pd\n",
    "import numpy as np\n",
    "import matplotlib.pyplot as plt\n",
    "\n",
    "from sklearn.model_selection import KFold\n",
    "\n",
    "from sktime.utils.plotting import plot_series\n",
    "\n",
    "from statsmodels.nonparametric.smoothers_lowess import lowess"
   ]
  },
  {
   "cell_type": "markdown",
   "metadata": {},
   "source": [
    "## Data"
   ]
  },
  {
   "cell_type": "code",
   "execution_count": 7,
   "metadata": {},
   "outputs": [
    {
     "data": {
      "text/html": [
       "<div>\n",
       "<style scoped>\n",
       "    .dataframe tbody tr th:only-of-type {\n",
       "        vertical-align: middle;\n",
       "    }\n",
       "\n",
       "    .dataframe tbody tr th {\n",
       "        vertical-align: top;\n",
       "    }\n",
       "\n",
       "    .dataframe thead th {\n",
       "        text-align: right;\n",
       "    }\n",
       "</style>\n",
       "<table border=\"1\" class=\"dataframe\">\n",
       "  <thead>\n",
       "    <tr style=\"text-align: right;\">\n",
       "      <th></th>\n",
       "      <th>y</th>\n",
       "    </tr>\n",
       "    <tr>\n",
       "      <th>ds</th>\n",
       "      <th></th>\n",
       "    </tr>\n",
       "  </thead>\n",
       "  <tbody>\n",
       "    <tr>\n",
       "      <th>1992-01-01</th>\n",
       "      <td>146376</td>\n",
       "    </tr>\n",
       "    <tr>\n",
       "      <th>1992-02-01</th>\n",
       "      <td>147079</td>\n",
       "    </tr>\n",
       "    <tr>\n",
       "      <th>1992-03-01</th>\n",
       "      <td>159336</td>\n",
       "    </tr>\n",
       "    <tr>\n",
       "      <th>1992-04-01</th>\n",
       "      <td>163669</td>\n",
       "    </tr>\n",
       "    <tr>\n",
       "      <th>1992-05-01</th>\n",
       "      <td>170068</td>\n",
       "    </tr>\n",
       "  </tbody>\n",
       "</table>\n",
       "</div>"
      ],
      "text/plain": [
       "                 y\n",
       "ds                \n",
       "1992-01-01  146376\n",
       "1992-02-01  147079\n",
       "1992-03-01  159336\n",
       "1992-04-01  163669\n",
       "1992-05-01  170068"
      ]
     },
     "execution_count": 7,
     "metadata": {},
     "output_type": "execute_result"
    }
   ],
   "source": [
    "df = pd.read_csv('../../Datasets/example_retail_sales.csv', index_col=['ds'], parse_dates=['ds'])\n",
    "df.head()"
   ]
  },
  {
   "cell_type": "code",
   "execution_count": 10,
   "metadata": {},
   "outputs": [],
   "source": [
    "plot_series(df)\n",
    "plt.xticks(rotation=30);"
   ]
  },
  {
   "attachments": {},
   "cell_type": "markdown",
   "metadata": {},
   "source": [
    "<img src=\"./plots/example_retail_sales.png\">"
   ]
  },
  {
   "cell_type": "markdown",
   "metadata": {},
   "source": [
    "## how to use LOWESS to extract a trend from a time series.\n",
    "\n",
    "### statsmodel implementation\n",
    "\n",
    "* LOWESS (Locally Weighted Scatterplot Smoothing)\n",
    "\n",
    "* A lowess function that outs smoothed estimates of endog at the given exog values from points (exog, endog)\n",
    "\n",
    "\n",
    "### parameters \n",
    "\n",
    "* `endog` : 1-D numpy array<br>\n",
    "    The y-values of the observed points\n",
    "* `exog` : 1-D numpy array<br>\n",
    "    The x-values of the observed points\n",
    "* `frac` : float<br>\n",
    "    Between 0 and 1. The fraction of the data used when estimating each y-value.\n",
    "* `it` : int<br>\n",
    "    The number of residual-based reweightings to perform.\n",
    "* `delta` : float<br>\n",
    "    Distance within which to use linear-interpolation instead of weighted regression.\n",
    "* `xvals`: 1-D numpy array<br>\n",
    "    Values of the exogenous variable at which to evaluate the regression. If supplied, cannot use delta.\n",
    "\n",
    "\n",
    "Stats model requires the exog (X-values) to be neumeric. We cant pass the time-index as exog\n",
    "\n",
    "if we provide `xvals` then the method return  fitted values only for specific x values\n"
   ]
  },
  {
   "cell_type": "code",
   "execution_count": 9,
   "metadata": {},
   "outputs": [
    {
     "data": {
      "text/plain": [
       "array([[0.00000000e+00, 1.56224386e+05],\n",
       "       [1.00000000e+00, 1.57578127e+05],\n",
       "       [2.00000000e+00, 1.58916267e+05],\n",
       "       [3.00000000e+00, 1.60244262e+05],\n",
       "       [4.00000000e+00, 1.61568493e+05]])"
      ]
     },
     "execution_count": 9,
     "metadata": {},
     "output_type": "execute_result"
    }
   ],
   "source": [
    "X = np.arange(len(df))\n",
    "y = df['y']\n",
    "\n",
    "result = lowess(endog=y, exog=X, frac=0.1, it=3)\n",
    "result[:5]"
   ]
  },
  {
   "cell_type": "markdown",
   "metadata": {},
   "source": [
    "The output has two columns \n",
    "* column 1 is the X-values themselves\n",
    "* column 2 is the lowess smoothed estimates\n",
    "\n",
    "Lets plot it"
   ]
  },
  {
   "cell_type": "code",
   "execution_count": 12,
   "metadata": {},
   "outputs": [],
   "source": [
    "plot_series(df)\n",
    "plt.xticks(rotation=30);\n",
    "plt.plot(result[:,1], c='r');"
   ]
  },
  {
   "attachments": {},
   "cell_type": "markdown",
   "metadata": {},
   "source": [
    "<img src=\"./plots/example_retail_sales-trend.png\">"
   ]
  },
  {
   "cell_type": "markdown",
   "metadata": {},
   "source": [
    "### if we provide `xvals` then the method return  fitted values only for specific x values"
   ]
  },
  {
   "cell_type": "code",
   "execution_count": 13,
   "metadata": {},
   "outputs": [
    {
     "data": {
      "text/plain": [
       "array([448252.90369367, 449267.91660255, 450274.80510256, 451269.94808227,\n",
       "       452253.92943984])"
      ]
     },
     "execution_count": 13,
     "metadata": {},
     "output_type": "execute_result"
    }
   ],
   "source": [
    "X = np.arange(len(df))\n",
    "y = df['y']\n",
    "\n",
    "result = lowess(endog=y, exog=X, frac=0.1, it=3, xvals=X[-10:])\n",
    "result[:5] # array is one-dimensional"
   ]
  },
  {
   "cell_type": "code",
   "execution_count": 15,
   "metadata": {},
   "outputs": [],
   "source": [
    "plot_series(y[-10:])\n",
    "plt.plot(result, c='salmon');\n",
    "plt.xticks(rotation=30);"
   ]
  },
  {
   "attachments": {},
   "cell_type": "markdown",
   "metadata": {},
   "source": [
    "<img src=\"./plots/example_retail_sales-trend-lOWESS-xvals.png\">"
   ]
  },
  {
   "cell_type": "markdown",
   "metadata": {},
   "source": [
    "## Exploring the frac parameter\n",
    "\n",
    "#### The fraction of data to use in a window in LOWESS determines how smooth the fit is. Let's plot a few examples to illustrate this.\n",
    "\n",
    "* if frac is too high we will over-smoothes\n",
    "* if frac is too low we will under-smoothes"
   ]
  },
  {
   "cell_type": "code",
   "execution_count": 16,
   "metadata": {},
   "outputs": [],
   "source": [
    "def lowess_estimates(X=None, y=None, frac=0.1, visualize=True, output_trend=False, title='', Xvals=None):\n",
    "    X = X if X is not None else np.arange(len(df))\n",
    "    y = y if y is not None else df['y']\n",
    "\n",
    "    result = lowess(endog=y, exog=X, frac=frac, it=3, xvals=Xvals)\n",
    "\n",
    "    if visualize:\n",
    "        plot_series(df)\n",
    "        plt.xticks(rotation=30);\n",
    "        plt.plot(result[:,1], c='r');\n",
    "        plt.title(f'LOWESS smoothed estimates -- frac={frac} {title}')\n",
    "    \n",
    "    if output_trend:\n",
    "        return result[:,1] if Xvals is None else result"
   ]
  },
  {
   "cell_type": "code",
   "execution_count": 18,
   "metadata": {},
   "outputs": [],
   "source": [
    "lowess_estimates()"
   ]
  },
  {
   "attachments": {},
   "cell_type": "markdown",
   "metadata": {},
   "source": [
    "<img src='./plots/lowess-fac-0.1.png'>"
   ]
  },
  {
   "cell_type": "markdown",
   "metadata": {},
   "source": [
    "### Over-smoothing"
   ]
  },
  {
   "cell_type": "code",
   "execution_count": 21,
   "metadata": {},
   "outputs": [],
   "source": [
    "lowess_estimates(frac=0.9, title='--over-smoothed')"
   ]
  },
  {
   "attachments": {},
   "cell_type": "markdown",
   "metadata": {},
   "source": [
    "<img src='./plots/lowess-fac-0.9.png'>"
   ]
  },
  {
   "cell_type": "markdown",
   "metadata": {},
   "source": [
    "### Under-smoothing"
   ]
  },
  {
   "cell_type": "code",
   "execution_count": 22,
   "metadata": {},
   "outputs": [],
   "source": [
    "lowess_estimates(frac=0.03, title='--under-smoothed')"
   ]
  },
  {
   "attachments": {},
   "cell_type": "markdown",
   "metadata": {},
   "source": [
    "<img src='./plots/lowess-fac-0.03.png'>"
   ]
  },
  {
   "cell_type": "markdown",
   "metadata": {},
   "source": [
    "## How do we select the optimal value of `frac`\n",
    "\n",
    "### Using K-Fold cross validation to select the `frac` parameter"
   ]
  },
  {
   "cell_type": "code",
   "execution_count": 23,
   "metadata": {},
   "outputs": [],
   "source": [
    "X = np.arange(len(df))\n",
    "y = df['y']\n",
    "\n",
    "frac_performace = {}\n",
    "\n",
    "rmse = lambda y_true, y_pred : np.sqrt(np.mean(np.square((y_true-y_pred))))\n",
    "\n",
    "for f in np.arange(0.02, 1.02, 0.02):\n",
    "    kfold = KFold(n_splits=5, shuffle=True, random_state=42)\n",
    "    metrics=[]\n",
    "    for train_idx, test_idx in kfold.split(X, y):\n",
    "        X_train, y_train = X[train_idx], y.iloc[train_idx]\n",
    "        X_test, y_test = X[test_idx], y.iloc[test_idx]\n",
    "        y_pred = lowess_estimates(X=X_train, y=y_train, Xvals=X_test, frac=f, visualize=False, output_trend=True)\n",
    "\n",
    "        performance = rmse(y_test, y_pred)\n",
    "        metrics.append(performance)\n",
    "    \n",
    "    mean_rmse = np.mean(metrics)\n",
    "    frac_performace[f]=mean_rmse"
   ]
  },
  {
   "cell_type": "markdown",
   "metadata": {},
   "source": [
    "## Visualize"
   ]
  },
  {
   "cell_type": "code",
   "execution_count": 25,
   "metadata": {},
   "outputs": [],
   "source": [
    "plt.figure(figsize=(15,3))\n",
    "plt.plot(frac_performace.keys(), frac_performace.values(), marker='x')\n",
    "plt.xlabel('farc')\n",
    "plt.ylabel('RMSE')\n",
    "plt.title('LOWESS smoothed estimate RMSE curve on cross-validation')\n",
    "\n",
    "lowest = np.argmin(list(frac_performace.values()))\n",
    "plt.plot(list(frac_performace.keys())[lowest], list(frac_performace.values())[lowest], marker='X', c='r');\n"
   ]
  },
  {
   "attachments": {},
   "cell_type": "markdown",
   "metadata": {},
   "source": [
    "<img src='./plots/lowess-fac-kfold.png'>"
   ]
  },
  {
   "cell_type": "code",
   "execution_count": 26,
   "metadata": {},
   "outputs": [
    {
     "name": "stdout",
     "output_type": "stream",
     "text": [
      "frac for which RMSE is the lowest is 0.13999999999999999\n"
     ]
    }
   ],
   "source": [
    "optimal_frac = list(frac_performace.keys())[lowest]\n",
    "print(f'frac for which RMSE is the lowest is {optimal_frac}')"
   ]
  },
  {
   "cell_type": "markdown",
   "metadata": {},
   "source": [
    "### Lets use the optimal frac"
   ]
  },
  {
   "cell_type": "code",
   "execution_count": 28,
   "metadata": {},
   "outputs": [],
   "source": [
    "lowess_estimates(frac=optimal_frac)"
   ]
  },
  {
   "attachments": {},
   "cell_type": "markdown",
   "metadata": {},
   "source": [
    "<img src=\"./plots/lowess-fac-optimum.png\">"
   ]
  },
  {
   "cell_type": "code",
   "execution_count": null,
   "metadata": {},
   "outputs": [],
   "source": []
  }
 ],
 "metadata": {
  "kernelspec": {
   "display_name": "Python 3.9.13 ('timeseries-env': venv)",
   "language": "python",
   "name": "python3"
  },
  "language_info": {
   "codemirror_mode": {
    "name": "ipython",
    "version": 3
   },
   "file_extension": ".py",
   "mimetype": "text/x-python",
   "name": "python",
   "nbconvert_exporter": "python",
   "pygments_lexer": "ipython3",
   "version": "3.9.13"
  },
  "orig_nbformat": 4,
  "vscode": {
   "interpreter": {
    "hash": "5344483434f8feb0f4e4edbcac037dc40f14ec44f0a8519da7d24204004147d4"
   }
  }
 },
 "nbformat": 4,
 "nbformat_minor": 2
}
