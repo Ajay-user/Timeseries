{
 "cells": [
  {
   "cell_type": "markdown",
   "metadata": {},
   "source": [
    "#### `MSTL` is currently only available on the latest version of statsmodels on GitHub. To use MSTL you need to install the latest version of statsmodels from GitHub\n",
    "\n",
    "``pip install git+https://github.com/statsmodels/statsmodels.git``"
   ]
  },
  {
   "cell_type": "code",
   "execution_count": 1,
   "metadata": {},
   "outputs": [],
   "source": [
    "import pandas as pd\n",
    "import numpy as np\n",
    "import matplotlib.pyplot as plt\n",
    "\n",
    "from sktime.utils.plotting import plot_series\n",
    "\n",
    "from statsmodels.nonparametric._smoothers_lowess import lowess\n",
    "\n",
    "from statsmodels.tsa.seasonal import MSTL"
   ]
  },
  {
   "cell_type": "markdown",
   "metadata": {},
   "source": [
    "# Seasonal-Trend decomposition using LOESS for multiple seasonal components (MSTL)\n",
    "\n",
    "`MSTL` to decompose a time series into a: trend component, multiple season components, and a residual component. MSTL uses STL (Seasonal-Trend decomposition using LOESS) to iteratively extract seasonal components from a time series. \n",
    "\n",
    "## How MSTL works\n",
    "\n",
    "#### If there is no seasonal component\n",
    "    * Extract the trend using Friedmans super-smoother\n",
    "    * Substract the trend from the time-series to get residulas\n",
    "#### If thers is seasonal components\n",
    "    * Iteratively extact each seasonal component using STL\n",
    "    * Refine the extracted seasonal component\n",
    "    * Extract the trend component\n",
    "    * Extract the residual component\n",
    "\n",
    "#### STEPS IN MSTL\n",
    "\n",
    "STEP 1 : **Iteratively extact each seasonal component using STL**\n",
    "\n",
    "* Iterate through each seasonal component <br>\n",
    "starting from the shortest period up to the longest period<br>\n",
    "Eg: daily-seasonality , weekly-seasonality, monthly-seasonality,...\n",
    "\n",
    "* On each iteration \n",
    "    * Extract the seasonal component from the timeseries using STL.\n",
    "    * Substract the seasonal component from the timeseries\n",
    "* Continue until all seasonal components are extracted and removed from timeseries\n",
    "\n",
    "EXAMPLE: Victoria electricity demand dataset - Down-sampled to hourly data\n",
    "\n",
    "APPLY STL to extract daily seasonal   [ `daily` = `STL(y, period=24)` ]<br>\n",
    "REMOVE  the daily seasonality from the series   [ `y*` = `y`-`daily` ]<br>\n",
    "&emsp; &emsp; &emsp; &emsp; &emsp; |<br>\n",
    "&emsp; &emsp; &emsp; &emsp; &emsp; |<br>\n",
    "&emsp; &emsp; &emsp; &emsp; &emsp; |<br>\n",
    "\n",
    "APPLY STL to extract weekly seasonal   [ `weekly` = `STL(y, period=24*7)` ]<br>\n",
    "REMOVE  the weekly seasonality from the series   [ `y**` = `y*`-`weekly` ]<br>\n",
    "&emsp; &emsp; &emsp; &emsp; &emsp; |<br>\n",
    "&emsp; &emsp; &emsp; &emsp; &emsp; |<br>\n",
    "&emsp; &emsp; &emsp; &emsp; &emsp; |<br>\n",
    "Continue until all seasonal components are extracted and removed from timeseries\n",
    "\n",
    "\n",
    "STEP 2 : **Refine the extracted seasonal component**\n",
    "\n",
    "* Iterate through each of the seasonal component\n",
    "* On each iteration add back the extacted seasonal component to the de-seasonalized time-series\n",
    "* Extract the same component back using STL (This process refines the component)\n",
    "* Substract this extracted new estimate of the seasonal component from the series\n",
    "* Repeat this for other components\n",
    "\n",
    "STEP 3 : **Extract the trend component**\n",
    "\n",
    "* Extract the trend component from the last STL fit; used in STEP 2\n",
    "* This extracted trend is the MSTL trend\n",
    "\n",
    "STEP 4 : **Extract the residual component**\n",
    "\n",
    "* Substract the trend component computed in STEP 3 from the de-seasonalized series\n",
    "\n",
    "\n",
    "Now we have\n",
    "* Trend component\n",
    "* Multiple seasonal component\n",
    "* Residual component\n",
    "\n",
    "\n",
    "\n",
    "\n",
    "\n",
    "#### Data Set Synopsis\n",
    "We will use the Victoria electricity demand dataset found here: \n",
    "`https://github.com/tidyverts/tsibbledata/tree/master/data-raw/vic_elec`.\n",
    "\n",
    "It is the total electricity demand at a half hourly granularity for the state of Victora in Australia from 2002 to the start of 2015.\n",
    "\n",
    "* We resampled the dataset to hourly\n"
   ]
  },
  {
   "cell_type": "code",
   "execution_count": 2,
   "metadata": {},
   "outputs": [
    {
     "data": {
      "text/html": [
       "<div>\n",
       "<style scoped>\n",
       "    .dataframe tbody tr th:only-of-type {\n",
       "        vertical-align: middle;\n",
       "    }\n",
       "\n",
       "    .dataframe tbody tr th {\n",
       "        vertical-align: top;\n",
       "    }\n",
       "\n",
       "    .dataframe thead th {\n",
       "        text-align: right;\n",
       "    }\n",
       "</style>\n",
       "<table border=\"1\" class=\"dataframe\">\n",
       "  <thead>\n",
       "    <tr style=\"text-align: right;\">\n",
       "      <th></th>\n",
       "      <th>demand</th>\n",
       "    </tr>\n",
       "    <tr>\n",
       "      <th>date_time</th>\n",
       "      <th></th>\n",
       "    </tr>\n",
       "  </thead>\n",
       "  <tbody>\n",
       "    <tr>\n",
       "      <th>2002-01-01 00:00:00</th>\n",
       "      <td>6919.366092</td>\n",
       "    </tr>\n",
       "    <tr>\n",
       "      <th>2002-01-01 01:00:00</th>\n",
       "      <td>7165.974188</td>\n",
       "    </tr>\n",
       "    <tr>\n",
       "      <th>2002-01-01 02:00:00</th>\n",
       "      <td>6406.542994</td>\n",
       "    </tr>\n",
       "    <tr>\n",
       "      <th>2002-01-01 03:00:00</th>\n",
       "      <td>5815.537828</td>\n",
       "    </tr>\n",
       "    <tr>\n",
       "      <th>2002-01-01 04:00:00</th>\n",
       "      <td>5497.732922</td>\n",
       "    </tr>\n",
       "  </tbody>\n",
       "</table>\n",
       "</div>"
      ],
      "text/plain": [
       "                          demand\n",
       "date_time                       \n",
       "2002-01-01 00:00:00  6919.366092\n",
       "2002-01-01 01:00:00  7165.974188\n",
       "2002-01-01 02:00:00  6406.542994\n",
       "2002-01-01 03:00:00  5815.537828\n",
       "2002-01-01 04:00:00  5497.732922"
      ]
     },
     "execution_count": 2,
     "metadata": {},
     "output_type": "execute_result"
    }
   ],
   "source": [
    "df = pd.read_csv('../../Datasets/victoria_electricity_demand.csv', \n",
    "    usecols=['demand', 'date_time'], parse_dates=['date_time'], index_col=['date_time'])\n",
    "\n",
    "df.head()"
   ]
  },
  {
   "cell_type": "code",
   "execution_count": 4,
   "metadata": {},
   "outputs": [],
   "source": [
    "plot_series(df);\n",
    "plt.xticks(rotation=30);"
   ]
  },
  {
   "attachments": {},
   "cell_type": "markdown",
   "metadata": {},
   "source": [
    "<img src=\"./plots/victoria_electricity_demand.png\">"
   ]
  },
  {
   "cell_type": "markdown",
   "metadata": {},
   "source": [
    "##### We will filter the data to the same time period as [original MSTL paper [1]](https://arxiv.org/pdf/2107.13462.pdf) which is the first `149` days of the year `2012`."
   ]
  },
  {
   "cell_type": "code",
   "execution_count": 7,
   "metadata": {},
   "outputs": [
    {
     "name": "stdout",
     "output_type": "stream",
     "text": [
      "START DATE : 2012-01-01 00:00:00 \n",
      "END DATE : 2012-05-29 00:00:00\n"
     ]
    }
   ],
   "source": [
    "start = pd.to_datetime('2012-01-01')\n",
    "end = start + pd.Timedelta(value='149D')\n",
    "print(f'START DATE : {start} \\nEND DATE : {end}')\n",
    "\n",
    "series = df.loc[start:end,:].copy()\n",
    "\n"
   ]
  },
  {
   "cell_type": "code",
   "execution_count": null,
   "metadata": {},
   "outputs": [],
   "source": [
    "series.plot(figsize=(15,4))\n",
    "plt.xticks(rotation=30);"
   ]
  },
  {
   "attachments": {},
   "cell_type": "markdown",
   "metadata": {},
   "source": [
    "<img src=\"./plots/victoria_electricity_demand_reduced.png\">"
   ]
  },
  {
   "cell_type": "markdown",
   "metadata": {},
   "source": [
    "#### We expect there to be a daily seasonality associated with electricity demand. \n",
    "\n",
    "Let’s confirm this by plotting the hourly demand for each day and segregating it by month."
   ]
  },
  {
   "cell_type": "code",
   "execution_count": 8,
   "metadata": {},
   "outputs": [],
   "source": [
    "series['month'] = series.index.month\n",
    "series['day'] = series.index.day\n",
    "series['hour'] = series.index.hour\n",
    "series['week'] = series.index.isocalendar().week"
   ]
  },
  {
   "cell_type": "markdown",
   "metadata": {},
   "source": [
    "## Daily electricity demand in Victoria, Australia by month"
   ]
  },
  {
   "cell_type": "code",
   "execution_count": 10,
   "metadata": {},
   "outputs": [],
   "source": [
    "monthDict={1:'Jan', 2:'Feb', 3:'Mar', 4:'Apr', 5:'May', 6:'Jun',\n",
    "           7:'Jul', 8:'Aug', 9:'Sep', 10:'Oct', 11:'Nov', 12:'Dec'}\n",
    "\n",
    "fig, ax = plt.subplots(ncols=3, nrows=2, figsize=(10,6), sharey=True)\n",
    "frame = ax.ravel()\n",
    "for k, v in monthDict.items():\n",
    "    month = series.query(f'month=={k}')\n",
    "    avg = month.groupby(by='hour').mean()['demand'].values\n",
    "    f = frame[k-1]\n",
    "    for d in range(month.index.max().day):\n",
    "        day = month.loc[month.index.day==d+1]\n",
    "        demand_on_day = day['demand'].values\n",
    "        f.plot(demand_on_day, alpha=0.5, c='lightblue')\n",
    "    f.plot(avg) \n",
    "    f.set(title=v, xlabel='hour', ylabel='demand')\n",
    "    if v=='May':\n",
    "        break\n",
    "\n",
    "fig.suptitle(\"Daily electricity demand in Victoria, Australia by month\")\n",
    "plt.tight_layout()\n",
    "fig.delaxes(frame[-1])\n"
   ]
  },
  {
   "attachments": {},
   "cell_type": "markdown",
   "metadata": {},
   "source": [
    "<img src=\"./plots/victoria_electricity_demand-daily-season.png\">"
   ]
  },
  {
   "cell_type": "markdown",
   "metadata": {},
   "source": [
    "* We see that there is daily seasonality.\n",
    "\n",
    "* We can also see the daily seasonality change in time.\n",
    "    * In the summer months (e.g., January) \n",
    "        * there is a daily peak around 4 PM \n",
    "    * whereas in the winter months (e.g., May) \n",
    "        * there are now two peaks, one around 8 AM and another around 6 PM. "
   ]
  },
  {
   "cell_type": "markdown",
   "metadata": {},
   "source": [
    "## Electricity demand in Victoria, Australia by day of week"
   ]
  },
  {
   "cell_type": "code",
   "execution_count": 12,
   "metadata": {},
   "outputs": [
    {
     "data": {
      "text/html": [
       "<div>\n",
       "<style scoped>\n",
       "    .dataframe tbody tr th:only-of-type {\n",
       "        vertical-align: middle;\n",
       "    }\n",
       "\n",
       "    .dataframe tbody tr th {\n",
       "        vertical-align: top;\n",
       "    }\n",
       "\n",
       "    .dataframe thead th {\n",
       "        text-align: right;\n",
       "    }\n",
       "</style>\n",
       "<table border=\"1\" class=\"dataframe\">\n",
       "  <thead>\n",
       "    <tr style=\"text-align: right;\">\n",
       "      <th></th>\n",
       "      <th>demand</th>\n",
       "      <th>month</th>\n",
       "      <th>hour</th>\n",
       "      <th>week</th>\n",
       "    </tr>\n",
       "    <tr>\n",
       "      <th>day</th>\n",
       "      <th></th>\n",
       "      <th></th>\n",
       "      <th></th>\n",
       "      <th></th>\n",
       "    </tr>\n",
       "  </thead>\n",
       "  <tbody>\n",
       "    <tr>\n",
       "      <th>2</th>\n",
       "      <td>10806.233593</td>\n",
       "      <td>1.0</td>\n",
       "      <td>11.5</td>\n",
       "      <td>1.0</td>\n",
       "    </tr>\n",
       "    <tr>\n",
       "      <th>3</th>\n",
       "      <td>11095.317224</td>\n",
       "      <td>1.0</td>\n",
       "      <td>11.5</td>\n",
       "      <td>1.0</td>\n",
       "    </tr>\n",
       "    <tr>\n",
       "      <th>4</th>\n",
       "      <td>9238.569837</td>\n",
       "      <td>1.0</td>\n",
       "      <td>11.5</td>\n",
       "      <td>1.0</td>\n",
       "    </tr>\n",
       "    <tr>\n",
       "      <th>5</th>\n",
       "      <td>8775.874007</td>\n",
       "      <td>1.0</td>\n",
       "      <td>11.5</td>\n",
       "      <td>1.0</td>\n",
       "    </tr>\n",
       "    <tr>\n",
       "      <th>6</th>\n",
       "      <td>8757.797148</td>\n",
       "      <td>1.0</td>\n",
       "      <td>11.5</td>\n",
       "      <td>1.0</td>\n",
       "    </tr>\n",
       "    <tr>\n",
       "      <th>7</th>\n",
       "      <td>8444.875169</td>\n",
       "      <td>1.0</td>\n",
       "      <td>11.5</td>\n",
       "      <td>1.0</td>\n",
       "    </tr>\n",
       "    <tr>\n",
       "      <th>8</th>\n",
       "      <td>8041.288215</td>\n",
       "      <td>1.0</td>\n",
       "      <td>11.5</td>\n",
       "      <td>1.0</td>\n",
       "    </tr>\n",
       "  </tbody>\n",
       "</table>\n",
       "</div>"
      ],
      "text/plain": [
       "           demand  month  hour  week\n",
       "day                                 \n",
       "2    10806.233593    1.0  11.5   1.0\n",
       "3    11095.317224    1.0  11.5   1.0\n",
       "4     9238.569837    1.0  11.5   1.0\n",
       "5     8775.874007    1.0  11.5   1.0\n",
       "6     8757.797148    1.0  11.5   1.0\n",
       "7     8444.875169    1.0  11.5   1.0\n",
       "8     8041.288215    1.0  11.5   1.0"
      ]
     },
     "execution_count": 12,
     "metadata": {},
     "output_type": "execute_result"
    }
   ],
   "source": [
    "series.query('week==1').groupby('day').mean()"
   ]
  },
  {
   "cell_type": "code",
   "execution_count": 13,
   "metadata": {},
   "outputs": [
    {
     "data": {
      "text/html": [
       "<div>\n",
       "<style scoped>\n",
       "    .dataframe tbody tr th:only-of-type {\n",
       "        vertical-align: middle;\n",
       "    }\n",
       "\n",
       "    .dataframe tbody tr th {\n",
       "        vertical-align: top;\n",
       "    }\n",
       "\n",
       "    .dataframe thead th {\n",
       "        text-align: right;\n",
       "    }\n",
       "</style>\n",
       "<table border=\"1\" class=\"dataframe\">\n",
       "  <thead>\n",
       "    <tr style=\"text-align: right;\">\n",
       "      <th></th>\n",
       "      <th>demand</th>\n",
       "      <th>month</th>\n",
       "      <th>hour</th>\n",
       "      <th>week</th>\n",
       "    </tr>\n",
       "    <tr>\n",
       "      <th>day</th>\n",
       "      <th></th>\n",
       "      <th></th>\n",
       "      <th></th>\n",
       "      <th></th>\n",
       "    </tr>\n",
       "  </thead>\n",
       "  <tbody>\n",
       "    <tr>\n",
       "      <th>9</th>\n",
       "      <td>8927.065336</td>\n",
       "      <td>1.0</td>\n",
       "      <td>11.5</td>\n",
       "      <td>2.0</td>\n",
       "    </tr>\n",
       "    <tr>\n",
       "      <th>10</th>\n",
       "      <td>8964.897087</td>\n",
       "      <td>1.0</td>\n",
       "      <td>11.5</td>\n",
       "      <td>2.0</td>\n",
       "    </tr>\n",
       "    <tr>\n",
       "      <th>11</th>\n",
       "      <td>9053.751316</td>\n",
       "      <td>1.0</td>\n",
       "      <td>11.5</td>\n",
       "      <td>2.0</td>\n",
       "    </tr>\n",
       "    <tr>\n",
       "      <th>12</th>\n",
       "      <td>9109.709249</td>\n",
       "      <td>1.0</td>\n",
       "      <td>11.5</td>\n",
       "      <td>2.0</td>\n",
       "    </tr>\n",
       "    <tr>\n",
       "      <th>13</th>\n",
       "      <td>8996.868906</td>\n",
       "      <td>1.0</td>\n",
       "      <td>11.5</td>\n",
       "      <td>2.0</td>\n",
       "    </tr>\n",
       "    <tr>\n",
       "      <th>14</th>\n",
       "      <td>8091.027802</td>\n",
       "      <td>1.0</td>\n",
       "      <td>11.5</td>\n",
       "      <td>2.0</td>\n",
       "    </tr>\n",
       "    <tr>\n",
       "      <th>15</th>\n",
       "      <td>7855.092968</td>\n",
       "      <td>1.0</td>\n",
       "      <td>11.5</td>\n",
       "      <td>2.0</td>\n",
       "    </tr>\n",
       "  </tbody>\n",
       "</table>\n",
       "</div>"
      ],
      "text/plain": [
       "          demand  month  hour  week\n",
       "day                                \n",
       "9    8927.065336    1.0  11.5   2.0\n",
       "10   8964.897087    1.0  11.5   2.0\n",
       "11   9053.751316    1.0  11.5   2.0\n",
       "12   9109.709249    1.0  11.5   2.0\n",
       "13   8996.868906    1.0  11.5   2.0\n",
       "14   8091.027802    1.0  11.5   2.0\n",
       "15   7855.092968    1.0  11.5   2.0"
      ]
     },
     "execution_count": 13,
     "metadata": {},
     "output_type": "execute_result"
    }
   ],
   "source": [
    "series.query('week==2').groupby('day').mean()"
   ]
  },
  {
   "cell_type": "code",
   "execution_count": 15,
   "metadata": {},
   "outputs": [],
   "source": [
    "plt.figure(figsize=(15,5))\n",
    "DAYS = [\"Mon\", \"Tue\", \"Wed\", \"Thu\", \"Fri\", \"Sat\", \"Sun\"]\n",
    "\n",
    "weekly_data=[]\n",
    "for week, ts in series.groupby('week'):\n",
    "    ts = ts.reset_index()\n",
    "    demand = ts['demand']\n",
    "    plt.plot(demand, alpha=0.5, c='lightblue')\n",
    "    weekly_data.append(demand)\n",
    "    \n",
    "weekly_avg = pd.concat(weekly_data, axis=1).mean(axis=1)\n",
    "plt.plot(weekly_avg);\n",
    "\n",
    "plt.title('Electricity demand in Victoria, Australia by day of week')\n",
    "plt.xticks(ticks=np.arange(0, 167, 24), labels=DAYS)\n",
    "plt.show()"
   ]
  },
  {
   "attachments": {},
   "cell_type": "markdown",
   "metadata": {},
   "source": [
    "<img src=\"./plots/victoria_electricity_demand_weekly-season.png\">"
   ]
  },
  {
   "cell_type": "markdown",
   "metadata": {},
   "source": [
    "* We see that there is weekly seasonality \n",
    "* There is less demand on weekends than on weekdays."
   ]
  },
  {
   "cell_type": "markdown",
   "metadata": {},
   "source": [
    "## Apply MSTL to extract Trend, Multiple Seasonalities & Residuals\n",
    "\n",
    "The key inputs into `MSTL` are:\n",
    "\n",
    "* `periods` \n",
    "    * The period of each seasonal component \n",
    "    * e.g., for hourly data with daily and weekly seasonality we would have: `periods=(24, 24*7)`.\n",
    "* `windows` \n",
    "    * The lengths of each seasonal smoother with respect to each period. \n",
    "    * If window size are large then the seasonal component will show less variability over time. \n",
    "    * Must be odd. \n",
    "    * If `None` a set of default values determined by formula ( 7 + (4*i) ) are selected, where i = 0,1,2,...,period\n",
    "* `lmbda`\n",
    "    * The lambda parameter for a Box-Cox transformation prior to decomposition. \n",
    "    * If `None` then no transformation is done. \n",
    "    * If `\"auto\"` then an appropriate value for lambda is automatically selected from the data using MLE, Maximum Likelihood Estimates.\n",
    "* `iterate`\n",
    "    * Number of iterations to use to refine the seasonal component.\n",
    "* `stl_kwargs` \n",
    "    * All the other parameters which can be passed to STL (e.g., `robust`, `seasonal_deg`, etc.). \n",
    "\n",
    "\n",
    "### Note: \n",
    "\n",
    "* Missing data must be handled outside of the `MSTL` class.\n",
    "* The algorithm proposed in the paper handles a case when there is no seasonality. \n",
    "* This implementation assumes that there is at least one seasonal component."
   ]
  },
  {
   "cell_type": "code",
   "execution_count": 19,
   "metadata": {},
   "outputs": [],
   "source": [
    "plt.rc('figure',figsize=(15,8))\n",
    "mstl = MSTL(endog=series['demand'], periods=[24, 24*7], stl_kwargs={\"seasonal_deg\": 0}).fit()\n",
    "mstl.plot();"
   ]
  },
  {
   "attachments": {},
   "cell_type": "markdown",
   "metadata": {},
   "source": [
    "<img src=\"./plots/victoria_electricity_demand_mstl-plot-24-24x7.png\">"
   ]
  },
  {
   "cell_type": "code",
   "execution_count": 72,
   "metadata": {},
   "outputs": [],
   "source": [
    "# mstl.seasonal['seasonal_168'].plot()"
   ]
  },
  {
   "cell_type": "markdown",
   "metadata": {},
   "source": [
    "#### Structure left in the residuals\n",
    "There is still structure left in the residuals. This could be due to any of the following reasons: \n",
    "\n",
    "* The MSTL parameters weren't good for this time series, as a result the seasonality has not been extracted perfectly, \n",
    "* There are other factors impacting the time series other than trend and seasonality, remember that MSTL assumes we can break the time series up into: trend + seasonal_1 + seasonal_2 + ...., if the underlying data is strongly being influenced by another factor (which may or may not be having an additive or multiplicative impact or perhaps a mix of both!) then the residuals will some structure.\n",
    "\n",
    "\n",
    "\n",
    "\n",
    "##### Lets Check the daily & monthly seasonality\n",
    "\n",
    "Let's inspect the seasonal components in a bit more detail and look at the first few days and weeks to examine the daily and weekly seasonality. \n",
    "\n",
    "\n",
    "\n",
    "##### One of the advantages of MSTL is that is allows us to capture seasonality which changes over time.\n",
    "##### We saw above that the daily seasonality is different in the summer and winter. \n",
    "##### So let's look at the daily seasonality from MSTL during January and May."
   ]
  },
  {
   "cell_type": "code",
   "execution_count": 21,
   "metadata": {},
   "outputs": [],
   "source": [
    "plt.figure(figsize=(15,5))\n",
    "plt.subplot(121)\n",
    "plt.plot(mstl.seasonal[mstl.seasonal.index.month==1]['seasonal_24'].values[:24*3])\n",
    "plt.title('JAN')\n",
    "plt.xticks(ticks=np.arange(0,24*3,24), labels=DAYS[:3])\n",
    "plt.subplot(122)\n",
    "plt.plot(mstl.seasonal[mstl.seasonal.index.month==5]['seasonal_24'].values[:24*3])\n",
    "plt.title('MAY')\n",
    "plt.xticks(ticks=np.arange(0,24*3,24), labels=DAYS[:3])\n",
    "plt.show()"
   ]
  },
  {
   "attachments": {},
   "cell_type": "markdown",
   "metadata": {},
   "source": [
    "<img src='./plots/victoria_electricity_demand_jan-may-daily.png'>"
   ]
  },
  {
   "cell_type": "markdown",
   "metadata": {},
   "source": [
    "#### We can see that the daily seasonality of electricity demand is well captured by MSTL. \n",
    "\n",
    "#### We see a single peak in January and two peaks in May."
   ]
  },
  {
   "cell_type": "code",
   "execution_count": 22,
   "metadata": {},
   "outputs": [],
   "source": [
    "plt.figure(figsize=(15, 6))\n",
    "\n",
    "weekly_season_jan = mstl.seasonal[mstl.seasonal.index.month==1]['seasonal_168'].values\n",
    "\n",
    "idx = np.arange(0,len(weekly_season_jan),24)\n",
    "days = np.array(['sun', 'mon', 'tue', 'wed', 'thr', 'fri', 'sat'])\n",
    "label_id = (idx / 24)% 7\n",
    "labels = days[label_id.astype(int)]\n",
    "plt.plot(weekly_season_jan)\n",
    "plt.xticks(ticks=idx, labels=labels, rotation=90);  \n",
    "\n",
    "sat_start_id = idx[[i==6 for i in label_id]]\n",
    "mon_start_id = idx[[i==1 for i in label_id]][1:]\n",
    "\n",
    "for start, end in zip(sat_start_id, mon_start_id):\n",
    "    plt.axvspan(xmin=start,xmax=end, alpha=0.5, color='salmon')\n",
    "\n",
    "plt.title('Weekly seasonal component extracted using MSTL : January 2012 Victoria Australia')\n",
    "plt.show()\n"
   ]
  },
  {
   "attachments": {},
   "cell_type": "markdown",
   "metadata": {},
   "source": [
    "<img src=\"./plots/victoria_electricity_demand_mstl-plot-weekly-jan-2012.png\">"
   ]
  },
  {
   "cell_type": "markdown",
   "metadata": {},
   "source": [
    "#### For the weekly seasonality extracted by MSTL we can see that there is less usage during the weekends as expected. That pattern is stable over the year and we see it in both January and May."
   ]
  },
  {
   "cell_type": "code",
   "execution_count": 24,
   "metadata": {},
   "outputs": [],
   "source": [
    "plt.figure(figsize=(15, 6))\n",
    "\n",
    "weekly_season_jan = mstl.seasonal[mstl.seasonal.index.month==5]['seasonal_168'].values\n",
    "\n",
    "idx = np.arange(0,len(weekly_season_jan),24)\n",
    "days = np.array(['tue', 'wed', 'thr', 'fri', 'sat','sun', 'mon'])\n",
    "label_id = (idx / 24)% 7\n",
    "labels = days[label_id.astype(int)]\n",
    "plt.plot(weekly_season_jan)\n",
    "plt.xticks(ticks=idx, labels=labels, rotation=90);  \n",
    "\n",
    "sat_start_id = idx[[i==4 for i in label_id]]\n",
    "mon_start_id = idx[[i==6 for i in label_id]]\n",
    "\n",
    "for start, end in zip(sat_start_id, mon_start_id):\n",
    "    plt.axvspan(xmin=start,xmax=end, alpha=0.5, color='salmon')\n",
    "\n",
    "\n",
    "\n",
    "plt.title('Weekly seasonal component extracted using MSTL : May 2012 Victoria Australia')\n",
    "plt.show()"
   ]
  },
  {
   "attachments": {},
   "cell_type": "markdown",
   "metadata": {},
   "source": [
    "<img src=\"./plots/victoria_electricity_demand-weekly-may-2012.png\">"
   ]
  },
  {
   "attachments": {},
   "cell_type": "markdown",
   "metadata": {},
   "source": [
    "<br>\n",
    "<img src='./notes/MSTL.PNG' style='transform:rotate(-90deg); height:900px; width:1024px;'>\n",
    "<br>\n",
    "\n",
    "\n",
    "#### We can experiment with different parameters"
   ]
  },
  {
   "cell_type": "code",
   "execution_count": null,
   "metadata": {},
   "outputs": [],
   "source": [
    "# plt.rc('figure',figsize=(15,10))\n",
    "# mstl = MSTL(endog=series['demand'], periods=[12, 24, 24*7]).fit()\n",
    "# mstl.plot();"
   ]
  },
  {
   "cell_type": "code",
   "execution_count": null,
   "metadata": {},
   "outputs": [],
   "source": [
    "# plt.rc('figure',figsize=(15,12))\n",
    "# mstl = MSTL(endog=series['demand'], periods=[6, 12, 24, 24*7]).fit()\n",
    "# mstl.plot();"
   ]
  },
  {
   "cell_type": "code",
   "execution_count": null,
   "metadata": {},
   "outputs": [],
   "source": [
    "# plt.rc('figure',figsize=(15,14))\n",
    "# mstl = MSTL(endog=series['demand'], periods=[6, 12, 24, 24*7], windows=[7,13,25,169],stl_kwargs={\"seasonal_deg\": 0}).fit()\n",
    "# mstl.plot();"
   ]
  },
  {
   "cell_type": "code",
   "execution_count": null,
   "metadata": {},
   "outputs": [],
   "source": []
  }
 ],
 "metadata": {
  "kernelspec": {
   "display_name": "Python 3.9.13 ('timeseries-env': venv)",
   "language": "python",
   "name": "python3"
  },
  "language_info": {
   "codemirror_mode": {
    "name": "ipython",
    "version": 3
   },
   "file_extension": ".py",
   "mimetype": "text/x-python",
   "name": "python",
   "nbconvert_exporter": "python",
   "pygments_lexer": "ipython3",
   "version": "3.9.13"
  },
  "orig_nbformat": 4,
  "vscode": {
   "interpreter": {
    "hash": "5344483434f8feb0f4e4edbcac037dc40f14ec44f0a8519da7d24204004147d4"
   }
  }
 },
 "nbformat": 4,
 "nbformat_minor": 2
}
