{
 "cells": [
  {
   "cell_type": "markdown",
   "metadata": {},
   "source": [
    "## Seasonal-Trend decomposition using LOESS (STL)\n",
    " \n",
    "`STL` to decompose a time series into three components: `trend`, `season(al)` and `residual`. \n",
    "\n",
    "STL uses `LOESS` (locally estimated scatterplot smoothing) to extract smooths estimates of the three components. \n",
    "\n",
    "**The key inputs into STL are:**\n",
    "\n",
    "* `season` - The length of the seasonal smoother. `Must be odd.`\n",
    "\n",
    "* `trend` - The length of the trend smoother, `usually around 150% of season`. `Must be odd and larger than season`.\n",
    "\n",
    "* `low_pass` - The length of the low-pass estimation window, `usually the smallest odd number larger than the periodicity of the data`."
   ]
  },
  {
   "cell_type": "code",
   "execution_count": 1,
   "metadata": {},
   "outputs": [],
   "source": [
    "import pandas as pd\n",
    "import numpy as np\n",
    "import matplotlib.pyplot as plt\n",
    "\n",
    "from sktime.utils.plotting import plot_series\n",
    "\n",
    "from statsmodels.nonparametric._smoothers_lowess import lowess\n",
    "from statsmodels.tsa.seasonal import STL"
   ]
  },
  {
   "cell_type": "markdown",
   "metadata": {},
   "source": [
    "## Import the Air passengers data"
   ]
  },
  {
   "cell_type": "code",
   "execution_count": 2,
   "metadata": {},
   "outputs": [
    {
     "data": {
      "text/html": [
       "<div>\n",
       "<style scoped>\n",
       "    .dataframe tbody tr th:only-of-type {\n",
       "        vertical-align: middle;\n",
       "    }\n",
       "\n",
       "    .dataframe tbody tr th {\n",
       "        vertical-align: top;\n",
       "    }\n",
       "\n",
       "    .dataframe thead th {\n",
       "        text-align: right;\n",
       "    }\n",
       "</style>\n",
       "<table border=\"1\" class=\"dataframe\">\n",
       "  <thead>\n",
       "    <tr style=\"text-align: right;\">\n",
       "      <th></th>\n",
       "      <th>y</th>\n",
       "    </tr>\n",
       "    <tr>\n",
       "      <th>ds</th>\n",
       "      <th></th>\n",
       "    </tr>\n",
       "  </thead>\n",
       "  <tbody>\n",
       "    <tr>\n",
       "      <th>1949-01-01</th>\n",
       "      <td>112</td>\n",
       "    </tr>\n",
       "    <tr>\n",
       "      <th>1949-02-01</th>\n",
       "      <td>118</td>\n",
       "    </tr>\n",
       "    <tr>\n",
       "      <th>1949-03-01</th>\n",
       "      <td>132</td>\n",
       "    </tr>\n",
       "    <tr>\n",
       "      <th>1949-04-01</th>\n",
       "      <td>129</td>\n",
       "    </tr>\n",
       "    <tr>\n",
       "      <th>1949-05-01</th>\n",
       "      <td>121</td>\n",
       "    </tr>\n",
       "  </tbody>\n",
       "</table>\n",
       "</div>"
      ],
      "text/plain": [
       "              y\n",
       "ds             \n",
       "1949-01-01  112\n",
       "1949-02-01  118\n",
       "1949-03-01  132\n",
       "1949-04-01  129\n",
       "1949-05-01  121"
      ]
     },
     "execution_count": 2,
     "metadata": {},
     "output_type": "execute_result"
    }
   ],
   "source": [
    "df = pd.read_csv('../../Datasets/example_air_passengers.csv', parse_dates=['ds'], index_col=['ds'])\n",
    "df.head()"
   ]
  },
  {
   "cell_type": "markdown",
   "metadata": {},
   "source": [
    "## Air passenger data \n",
    "* Data has Monthly granularity\n",
    "* Yearly seasonaltiy, sp=12\n"
   ]
  },
  {
   "cell_type": "code",
   "execution_count": 3,
   "metadata": {},
   "outputs": [],
   "source": [
    "plot_series(df);\n",
    "plt.xticks(rotation=30);"
   ]
  },
  {
   "attachments": {},
   "cell_type": "markdown",
   "metadata": {},
   "source": [
    "<img src=\"./plots/example_air_passengers.png\">"
   ]
  },
  {
   "cell_type": "markdown",
   "metadata": {},
   "source": [
    "## STL parameters\n",
    "\n",
    "### `seasonal`:\n",
    "* Determines the window size for LOESS used when smoothing the seasonal component (i.e, the cycle-subseries). \n",
    " \n",
    "* The cycle-subseries is the time series formed by the sequence of values from the same period in the seasonal cycle (e.g., the sequence of all the values which occured on January over each year, the sequence of all the values which occured on February over each year, etc.). \n",
    "\n",
    "* This parameter determines how smooth the seasonal component is for the same period (e.g., every January) across multiple seasonal cycles (e.g, multiple years).\n",
    "\n",
    "### `period`: \n",
    "* The periodicity of the seasonal component (for yearly seasonality and monthly data, this would be 12 because the seasonal pattern repeats every 12 periods). \n",
    "* This variable is used to determine the cycle-subseries and also in the low pass filtering step of the algorithm.\n",
    "\n",
    "### `robust`: \n",
    "* A flag to use robustness weights during regression in LOESS. This ensures robustness to outliers.\n",
    "\n"
   ]
  },
  {
   "cell_type": "code",
   "execution_count": 4,
   "metadata": {},
   "outputs": [],
   "source": [
    "stl = STL(\n",
    "    endog=df['y'],\n",
    "    period=12, # the seasonal periodicity\n",
    "    seasonal=7, # the window size for smoothing cyclic sub-series (the seasonal component)\n",
    "    robust=True #robust to outliers\n",
    ").fit()\n",
    "\n",
    "plot_series(df, stl.trend, labels=['series', 'trend']);\n",
    "plt.xticks(rotation=30);"
   ]
  },
  {
   "attachments": {},
   "cell_type": "markdown",
   "metadata": {},
   "source": [
    "<img src=\"./plots/stl-trend.png\">"
   ]
  },
  {
   "cell_type": "code",
   "execution_count": 5,
   "metadata": {},
   "outputs": [],
   "source": [
    "# Plot the full decomposition\n",
    "plt.rc(\"figure\", figsize=(10, 10))\n",
    "plt.rc(\"font\", size=15)\n",
    "stl.plot();"
   ]
  },
  {
   "attachments": {},
   "cell_type": "markdown",
   "metadata": {},
   "source": [
    "<img src=\"./plots/stl-plot.png\">"
   ]
  },
  {
   "cell_type": "markdown",
   "metadata": {},
   "source": [
    "The main parameters of STL come about from the repeated use of LOESS to smooth various time series in the algorithm. \n",
    "\n",
    "LOESS is used in the following areas in the STL aglorithm, we specify the corresponding LOESS parameters:\n",
    "\n",
    "1) Smoothing the seasonal component (i.e., the seasonal cycle-subseries)\n",
    "- `seasonal`: LOESS window size\n",
    "- `seasonal_deg`: Degree of the polynomial to use when doing regression in LOESS. \n",
    "- `seasonal_jump`: Reduces computational cost of applying LOESS by not evaluating LOESS at every data point but instead evaluating it at a given point and then skipping the number of points specified by this parameter before evaluating LOESS again at a new data point. The intermediate skipped points are evaluated using a linear interpolation instead.\n",
    "\n",
    "2) Low pass filtering the cycle-subseries\n",
    "- `low_pass`: LOESS window size\n",
    "- `low_pass_deg`: Degree of the polynomial to use when doing regression in LOESS. \n",
    "- `low_pass_jump`: Reduces computational cost of applying LOESS by not evaluating LOESS at every data point but instead evaluating it at a given point and then skipping the number of points specified by this parameter before evaluating LOESS again at a new data point. The intermediate skipped points are evaluated using a linear interpolation instead.\n",
    "\n",
    "3) Smoothing the trend component after de-seasonalising the data\n",
    "- `trend`: LOESS window size\n",
    "- `trend_deg`: Degree of the polynomial to use when doing regression in LOESS. \n",
    "- `trend_jump`: Reduces computational cost of applying LOESS by not evaluating LOESS at every data point but instead evaluating it at a given point and then skipping the number of points specified by this parameter before evaluating LOESS again at a new data point. The intermediate skipped points are evaluated using a linear interpolation instead."
   ]
  },
  {
   "cell_type": "markdown",
   "metadata": {},
   "source": [
    "## Load the Retail-sales data"
   ]
  },
  {
   "cell_type": "code",
   "execution_count": 6,
   "metadata": {},
   "outputs": [],
   "source": [
    "df = pd.read_csv('../../Datasets/example_retail_sales.csv', parse_dates=['ds'], index_col=['ds'])"
   ]
  },
  {
   "cell_type": "code",
   "execution_count": 12,
   "metadata": {},
   "outputs": [],
   "source": [
    "stl = STL(\n",
    "    endog=df['y'], period=12, seasonal=7, robust=True\n",
    ").fit()\n",
    "\n",
    "\n",
    "plt.rc('figure',figsize=(10,6))\n",
    "stl.plot();"
   ]
  },
  {
   "attachments": {},
   "cell_type": "markdown",
   "metadata": {},
   "source": [
    "<img src=\"./plots/stl-plot-seasonal-7-period-12.png\">"
   ]
  },
  {
   "cell_type": "code",
   "execution_count": 13,
   "metadata": {},
   "outputs": [
    {
     "data": {
      "text/html": [
       "<div>\n",
       "<style scoped>\n",
       "    .dataframe tbody tr th:only-of-type {\n",
       "        vertical-align: middle;\n",
       "    }\n",
       "\n",
       "    .dataframe tbody tr th {\n",
       "        vertical-align: top;\n",
       "    }\n",
       "\n",
       "    .dataframe thead th {\n",
       "        text-align: right;\n",
       "    }\n",
       "</style>\n",
       "<table border=\"1\" class=\"dataframe\">\n",
       "  <thead>\n",
       "    <tr style=\"text-align: right;\">\n",
       "      <th></th>\n",
       "      <th>y</th>\n",
       "      <th>trend</th>\n",
       "      <th>seasonal</th>\n",
       "    </tr>\n",
       "    <tr>\n",
       "      <th>ds</th>\n",
       "      <th></th>\n",
       "      <th></th>\n",
       "      <th></th>\n",
       "    </tr>\n",
       "  </thead>\n",
       "  <tbody>\n",
       "    <tr>\n",
       "      <th>1992-01-01</th>\n",
       "      <td>146376</td>\n",
       "      <td>163507.268049</td>\n",
       "      <td>-18105.934264</td>\n",
       "    </tr>\n",
       "    <tr>\n",
       "      <th>1992-02-01</th>\n",
       "      <td>147079</td>\n",
       "      <td>164270.425274</td>\n",
       "      <td>-19220.032341</td>\n",
       "    </tr>\n",
       "    <tr>\n",
       "      <th>1992-03-01</th>\n",
       "      <td>159336</td>\n",
       "      <td>165042.317260</td>\n",
       "      <td>-5396.563294</td>\n",
       "    </tr>\n",
       "    <tr>\n",
       "      <th>1992-04-01</th>\n",
       "      <td>163669</td>\n",
       "      <td>165822.245976</td>\n",
       "      <td>-885.576431</td>\n",
       "    </tr>\n",
       "    <tr>\n",
       "      <th>1992-05-01</th>\n",
       "      <td>170068</td>\n",
       "      <td>166609.427740</td>\n",
       "      <td>2929.056385</td>\n",
       "    </tr>\n",
       "  </tbody>\n",
       "</table>\n",
       "</div>"
      ],
      "text/plain": [
       "                 y          trend      seasonal\n",
       "ds                                             \n",
       "1992-01-01  146376  163507.268049 -18105.934264\n",
       "1992-02-01  147079  164270.425274 -19220.032341\n",
       "1992-03-01  159336  165042.317260  -5396.563294\n",
       "1992-04-01  163669  165822.245976   -885.576431\n",
       "1992-05-01  170068  166609.427740   2929.056385"
      ]
     },
     "execution_count": 13,
     "metadata": {},
     "output_type": "execute_result"
    }
   ],
   "source": [
    "df['trend'] = stl.trend\n",
    "df['seasonal'] = stl.seasonal\n",
    "df.head()"
   ]
  },
  {
   "cell_type": "code",
   "execution_count": 16,
   "metadata": {},
   "outputs": [],
   "source": [
    "plt.rc('font', size=12)\n",
    "plot_series(df['y'], df['trend'])\n",
    "plt.xticks(rotation=20);"
   ]
  },
  {
   "attachments": {},
   "cell_type": "markdown",
   "metadata": {},
   "source": [
    "<img src=\"./plots/stl-trend-retail-sales.png\">"
   ]
  },
  {
   "cell_type": "code",
   "execution_count": 17,
   "metadata": {},
   "outputs": [],
   "source": [
    "plot_series(df['seasonal']);\n",
    "plt.xticks(rotation=20);"
   ]
  },
  {
   "attachments": {},
   "cell_type": "markdown",
   "metadata": {},
   "source": [
    "<img src='./plots/stl-season-retail-sales.png'>"
   ]
  },
  {
   "cell_type": "markdown",
   "metadata": {},
   "source": [
    "## Cycle-sub-series\n",
    "\n",
    "The cycle-subseries is the time series formed by the sequence of values from the same period in the seasonal cycle \n",
    "*  the sequence of all the values which occured on January over each year,\n",
    "*  the sequence of all the values which occured on February over each year, etc.). \n",
    "\n",
    "STL make use of cycle-sub-series to obtain a smooth seasonal component that can vary with time\n",
    "\n",
    "With the parameters we used in the previous section the magnitude of the seasonal component can change over time. \n",
    "\n",
    "This means, for example, the magnitude of the January component of the seasonality can vary with time. \n",
    "\n",
    "Depending on the context this may be a desired property or not. This behaviour arises from the smooth curve that is fitted to the cycle sub-series.\n"
   ]
  },
  {
   "cell_type": "code",
   "execution_count": 18,
   "metadata": {},
   "outputs": [],
   "source": [
    "df['y_detrended'] = df['y']-df['trend']"
   ]
  },
  {
   "cell_type": "code",
   "execution_count": 19,
   "metadata": {},
   "outputs": [],
   "source": [
    "plt.rcdefaults()\n",
    "ax = df[df.index.month == 1].plot(y='seasonal')\n",
    "df[df.index.month == 1].plot(y='y_detrended', ls='', marker='x', ax=ax)\n",
    "plt.title('January');"
   ]
  },
  {
   "attachments": {},
   "cell_type": "markdown",
   "metadata": {},
   "source": [
    "<img src=\"./plots/stl-retail-jan-cycle-sub-series.png\">"
   ]
  },
  {
   "cell_type": "code",
   "execution_count": 20,
   "metadata": {},
   "outputs": [],
   "source": [
    "monthDict={1:'Jan', 2:'Feb', 3:'Mar', 4:'Apr', 5:'May', 6:'Jun',\n",
    "           7:'Jul', 8:'Aug', 9:'Sep', 10:'Oct', 11:'Nov', 12:'Dec'}\n",
    "\n",
    "fig, ax = plt.subplots(nrows=4, ncols=3, figsize=(10,10))\n",
    "\n",
    "\n",
    "for i, frame in enumerate(ax.ravel()):\n",
    "    df[df.index.month == i+1].plot(y='seasonal', ax=frame)\n",
    "    df[df.index.month == i+1].plot(y='y_detrended', ls='', marker='x', ax=frame)\n",
    "    frame.set(title=f'{monthDict[i+1]}')\n",
    "\n",
    "plt.tight_layout()"
   ]
  },
  {
   "attachments": {},
   "cell_type": "markdown",
   "metadata": {},
   "source": [
    "<img src='./plots/stl-retail-cycle-sub-series.png'>"
   ]
  },
  {
   "cell_type": "markdown",
   "metadata": {},
   "source": [
    "* We can see the smooth curve that STL has fit to each cycle sub-series. \n",
    "* This smooth fit for each cycle sub-series is obtained through a LOESS fit.\n",
    "\n",
    "#### Hence, if we wanted a seasonal component with a constant magnitude over time, then we would want each cycle sub-series to be a constant (i.e., a flat line). \n",
    "\n",
    "* This would mean, for example, the January component of the seasonality has a fixed magnitude over time.\n",
    "* This can be achieved by increasing the window of the LOESS smoothing for the seasonal component to encompass a large fraction of the data \n",
    "* i.e., set `seasonal` to a value comparable or larger than the length of a cycle sub-series. \n",
    "\n",
    "* However, this would still fit a straight line through each cycle-subseries, which is not what we want. We can set the `degree of the polynomial fit of LOESS to zero`\n",
    "* This means that during LOESS rather than taking a linear regression of a subset of data to fit a line it instead just takes the simple average of the subset of data to fit a flat line. This can be achieved by setting `seasonal_deg` to 0.\n",
    "\n",
    "\n"
   ]
  },
  {
   "cell_type": "code",
   "execution_count": 21,
   "metadata": {},
   "outputs": [],
   "source": [
    "stl = STL(\n",
    "    endog=df['y'],\n",
    "    period=12,\n",
    "    seasonal=101, #Determines the window size for LOESS used when smoothing the seasonal component\n",
    "    robust=True,\n",
    "    seasonal_deg=0 #Fit a constant value (i.e., flat line)\n",
    ").fit()\n",
    "\n",
    "\n",
    "constant_periodicity = pd.DataFrame(\n",
    "    data={\n",
    "        'y':df['y'],\n",
    "        'trend':stl.trend,\n",
    "        'seasonal-fixed':stl.seasonal,\n",
    "        'y_detrended': df['y']-stl.trend\n",
    "    }\n",
    ")"
   ]
  },
  {
   "cell_type": "code",
   "execution_count": 22,
   "metadata": {},
   "outputs": [],
   "source": [
    "fig, ax = plt.subplots(nrows=4, ncols=3, figsize=(10,10))\n",
    "\n",
    "\n",
    "for i, frame in enumerate(ax.ravel()):\n",
    "    constant_periodicity[constant_periodicity.index.month == i+1].plot(y='seasonal-fixed', ax=frame)\n",
    "    constant_periodicity[constant_periodicity.index.month == i+1].plot(y='y_detrended', ls='', marker='x', ax=frame)\n",
    "    frame.set(title=f'{monthDict[i+1]}')\n",
    "\n",
    "plt.tight_layout()"
   ]
  },
  {
   "attachments": {},
   "cell_type": "markdown",
   "metadata": {},
   "source": [
    "<img src=\"./plots/stl-retail-cycle-sub-series-constant.png\">"
   ]
  },
  {
   "cell_type": "code",
   "execution_count": 23,
   "metadata": {},
   "outputs": [],
   "source": [
    "plot_series(constant_periodicity['seasonal-fixed']);"
   ]
  },
  {
   "attachments": {},
   "cell_type": "markdown",
   "metadata": {},
   "source": [
    "<img src=\"./plots/stl-fixed-season.png\">"
   ]
  },
  {
   "cell_type": "markdown",
   "metadata": {},
   "source": [
    "Note: The larger residuals seen in the residual plot indicate a poorer fit to the data. "
   ]
  },
  {
   "cell_type": "code",
   "execution_count": 24,
   "metadata": {},
   "outputs": [],
   "source": [
    "stl.plot();"
   ]
  },
  {
   "attachments": {},
   "cell_type": "markdown",
   "metadata": {},
   "source": [
    "<img src=\"./plots/stl-final-plot.png\">"
   ]
  },
  {
   "cell_type": "code",
   "execution_count": null,
   "metadata": {},
   "outputs": [],
   "source": []
  }
 ],
 "metadata": {
  "kernelspec": {
   "display_name": "Python 3.9.13 ('timeseries-env': venv)",
   "language": "python",
   "name": "python3"
  },
  "language_info": {
   "codemirror_mode": {
    "name": "ipython",
    "version": 3
   },
   "file_extension": ".py",
   "mimetype": "text/x-python",
   "name": "python",
   "nbconvert_exporter": "python",
   "pygments_lexer": "ipython3",
   "version": "3.9.13"
  },
  "orig_nbformat": 4,
  "vscode": {
   "interpreter": {
    "hash": "5344483434f8feb0f4e4edbcac037dc40f14ec44f0a8519da7d24204004147d4"
   }
  }
 },
 "nbformat": 4,
 "nbformat_minor": 2
}
