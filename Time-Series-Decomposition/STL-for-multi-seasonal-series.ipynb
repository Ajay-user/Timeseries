{
 "cells": [
  {
   "cell_type": "markdown",
   "metadata": {},
   "source": [
    "# Seasonal Trend Decomposition using LOESS \n",
    "\n",
    "\n",
    "## STL parameters\n",
    "\n",
    "### `seasonal`:\n",
    "* Determines the window size for LOESS used when smoothing the seasonal component (i.e, the cycle-subseries). \n",
    " \n",
    "* The cycle-subseries is the time series formed by the sequence of values from the same period in the seasonal cycle (e.g., the sequence of all the values which occured on January over each year, the sequence of all the values which occured on February over each year, etc.). \n",
    "\n",
    "* This parameter determines how smooth the seasonal component is for the same period (e.g., every January) across multiple seasonal cycles (e.g, multiple years).\n",
    "\n",
    "### `period`: \n",
    "* The periodicity of the seasonal component (for yearly seasonality and monthly data, this would be 12 because the seasonal pattern repeats every 12 periods). \n",
    "* This variable is used to determine the cycle-subseries and also in the low pass filtering step of the algorithm.\n",
    "\n",
    "### `robust`: \n",
    "* A flag to use robustness weights during regression in LOESS. This ensures robustness to outliers."
   ]
  },
  {
   "cell_type": "code",
   "execution_count": 1,
   "metadata": {},
   "outputs": [],
   "source": [
    "import pandas as pd\n",
    "import numpy as np\n",
    "import matplotlib.pyplot as plt\n",
    "\n",
    "from sktime.utils.plotting import plot_series\n",
    "\n",
    "from statsmodels.nonparametric._smoothers_lowess import lowess\n",
    "\n",
    "from statsmodels.tsa.seasonal import STL\n",
    "from statsmodels.tsa.seasonal import MSTL"
   ]
  },
  {
   "cell_type": "markdown",
   "metadata": {},
   "source": [
    "## Loading Data"
   ]
  },
  {
   "cell_type": "code",
   "execution_count": 3,
   "metadata": {},
   "outputs": [
    {
     "name": "stdout",
     "output_type": "stream",
     "text": [
      "START DATE : 2012-01-01 00:00:00 \n",
      "END DATE : 2012-05-29 00:00:00\n"
     ]
    }
   ],
   "source": [
    "df = pd.read_csv('../../Datasets/victoria_electricity_demand.csv', \n",
    "    usecols=['demand', 'date_time'], parse_dates=['date_time'], index_col=['date_time'])\n",
    "\n",
    "# lets filter the date\n",
    "start = pd.to_datetime('2012-01-01')\n",
    "end = start + pd.Timedelta(value='149D')\n",
    "print(f'START DATE : {start} \\nEND DATE : {end}')\n",
    "\n",
    "series = df.loc[start:end,:].copy()\n",
    "\n",
    "series.plot(figsize=(15,4))\n",
    "plt.xticks(rotation=30);"
   ]
  },
  {
   "attachments": {},
   "cell_type": "markdown",
   "metadata": {},
   "source": [
    "<img src=\"./plots/victoria_electricity_demand_reduced.png\">"
   ]
  },
  {
   "cell_type": "code",
   "execution_count": 5,
   "metadata": {},
   "outputs": [],
   "source": [
    "temp = series.copy()\n",
    "\n",
    "stl_6hr= STL(series, period=6, seasonal=7, seasonal_deg=0).fit()\n",
    "seasonal_6hr= stl_6hr.seasonal\n",
    "\n",
    "temp['seasonal_6hr'] = seasonal_6hr\n",
    "temp['removed_6hr_season'] = temp['demand']-temp['seasonal_6hr']\n",
    "\n",
    "plt.rc('figure',figsize=(15,6))\n",
    "stl_6hr.seasonal.plot(figsize=(15,4));\n",
    "plt.title('period = 6hr')"
   ]
  },
  {
   "attachments": {},
   "cell_type": "markdown",
   "metadata": {},
   "source": [
    "<img src=\"./plots/victoria_electricity_demand-6hr.png\">"
   ]
  },
  {
   "cell_type": "code",
   "execution_count": 6,
   "metadata": {},
   "outputs": [],
   "source": [
    "stl_12hr= STL(temp['removed_6hr_season'], period=12, seasonal=27, seasonal_deg=0).fit()\n",
    "seasonal_12hr= stl_12hr.seasonal\n",
    "\n",
    "temp['seasonal_12hr'] = seasonal_12hr\n",
    "temp['removed_12hr_season'] = temp['removed_6hr_season']-temp['seasonal_12hr']\n",
    "\n",
    "plt.rc('figure',figsize=(15,4))\n",
    "stl_12hr.seasonal.plot();\n",
    "plt.title('period = 12hr');"
   ]
  },
  {
   "attachments": {},
   "cell_type": "markdown",
   "metadata": {},
   "source": [
    "<img src=\"./plots/victoria_electricity_demand-12hr.png\">"
   ]
  },
  {
   "cell_type": "code",
   "execution_count": 7,
   "metadata": {},
   "outputs": [],
   "source": [
    "stl_daily = STL(temp['removed_12hr_season'], period=24, seasonal=27).fit()\n",
    "seasonal_daily = stl_daily.seasonal\n",
    "\n",
    "\n",
    "temp['seasonal_daily'] = seasonal_daily\n",
    "temp['removed_daily_season'] = temp['removed_12hr_season']-temp['seasonal_daily']\n",
    "\n",
    "plt.rc('figure',figsize=(15,3))\n",
    "stl_daily.seasonal.plot();\n",
    "plt.title('Daily seasonal')"
   ]
  },
  {
   "attachments": {},
   "cell_type": "markdown",
   "metadata": {},
   "source": [
    "<img src=\"./plots/victoria_electricity_demand-24hr.png\">"
   ]
  },
  {
   "cell_type": "code",
   "execution_count": 8,
   "metadata": {},
   "outputs": [],
   "source": [
    "\n",
    "stl_weekly = STL(temp['removed_daily_season'], period=24*7, seasonal=101).fit()\n",
    "seasonal_weekly = stl_weekly.seasonal\n",
    "\n",
    "\n",
    "temp['seasonal_weekly'] = seasonal_weekly\n",
    "temp['removed_weekly_season'] = temp['removed_daily_season']-temp['seasonal_weekly']\n",
    "\n",
    "plt.rc('figure',figsize=(18,3))\n",
    "stl_weekly.seasonal.plot();\n",
    "plt.title('weekly season')"
   ]
  },
  {
   "attachments": {},
   "cell_type": "markdown",
   "metadata": {},
   "source": [
    "<img src='./plots/victoria_electricity_demand-24x7.png'>"
   ]
  },
  {
   "cell_type": "code",
   "execution_count": 10,
   "metadata": {},
   "outputs": [],
   "source": [
    "stl_bi_weekly = STL(temp['removed_weekly_season'], period=24*14, seasonal=141).fit()\n",
    "seasonal_bi_weekly = stl_bi_weekly.seasonal\n",
    "\n",
    "temp['seasonal_bi_weekly'] = seasonal_bi_weekly\n",
    "temp['removed_bi_weekly_season'] = temp['removed_weekly_season']-temp['seasonal_bi_weekly']\n",
    "\n",
    "plt.rc('figure',figsize=(16,3))\n",
    "stl_bi_weekly.seasonal.plot();\n",
    "plt.title('Bi-weekly season');"
   ]
  },
  {
   "attachments": {},
   "cell_type": "markdown",
   "metadata": {},
   "source": [
    "<img src=\"./plots/victoria_electricity_demand-24x7x2.png\">"
   ]
  },
  {
   "cell_type": "markdown",
   "metadata": {},
   "source": [
    "#### Structure left in the residuals\n",
    "There is still structure left in the residuals. This could be due to any of the following reasons: \n",
    "\n",
    "* The STL parameters weren't good for this time series, as a result the seasonality has not been extracted perfectly, \n",
    "* There are other factors impacting the time series other than trend and seasonality, remember that STL assumes we can break the time series up into: trend + seasonal + residuals , if the underlying data is strongly being influenced by another factor (which may or may not be having an additive or multiplicative impact or perhaps a mix of both!) then the residuals will some structure.\n",
    "\n",
    "#### Decomposition is not always possible\n",
    "• Not all time series can be easily broken down into\n",
    "components\n",
    "\n",
    "\n",
    "##### Ideally, we would like to capture the trend and seasonality the best we can and continue with what we want to do (e.g., de-seasonalise and de-trend and work with the residuals, or perhaps extrapolate the seasonality and trend to make a forecast). Other than some visual analysis\n"
   ]
  }
 ],
 "metadata": {
  "kernelspec": {
   "display_name": "Python 3.9.13 ('timeseries-env': venv)",
   "language": "python",
   "name": "python3"
  },
  "language_info": {
   "codemirror_mode": {
    "name": "ipython",
    "version": 3
   },
   "file_extension": ".py",
   "mimetype": "text/x-python",
   "name": "python",
   "nbconvert_exporter": "python",
   "pygments_lexer": "ipython3",
   "version": "3.9.13"
  },
  "orig_nbformat": 4,
  "vscode": {
   "interpreter": {
    "hash": "5344483434f8feb0f4e4edbcac037dc40f14ec44f0a8519da7d24204004147d4"
   }
  }
 },
 "nbformat": 4,
 "nbformat_minor": 2
}
