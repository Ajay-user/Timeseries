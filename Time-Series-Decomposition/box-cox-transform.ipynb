{
 "cells": [
  {
   "attachments": {},
   "cell_type": "markdown",
   "metadata": {},
   "source": [
    "## BOX COX TRANSFORM\n",
    "\n",
    "\n",
    "Some forecasting & decomposition methods perform better if the variance of the time series does not change with the Level of the time series (e.g., ARIMA).\n",
    "\n",
    "\n",
    "The log transform does not always stabilize the variance of a time series. \n",
    "It depends on the time series.\n",
    "\n",
    "The Box Cox transform is a more general transform that can be used to stabilize the variance of a time series\n",
    "\n",
    "\n",
    "To stabilise the variance we want the transformation to remove the interaction between the\n",
    "trend and any seasonality or noise term so we can write them additively: ` 𝑦 = 𝑇rend + 𝑆easonality + 𝑅esidual`\n",
    "\n",
    "\n",
    "\n",
    "The Box-Cox transform is defined as:\n",
    "\n",
    "$${\\displaystyle y_{i}^{(\\lambda )}={\\begin{cases}{\\dfrac {y_{i}^{\\lambda }-1}{\\lambda }}&{\\text{if }}\\lambda \\neq 0,\\\\\\ln y_{i}&{\\text{if }}\\lambda =0,\\end{cases}}}$$\n",
    "\n",
    "\n",
    "\n"
   ]
  },
  {
   "cell_type": "code",
   "execution_count": 8,
   "metadata": {},
   "outputs": [],
   "source": [
    "import pandas as pd\n",
    "import numpy as np\n",
    "import matplotlib.pyplot as plt"
   ]
  },
  {
   "cell_type": "markdown",
   "metadata": {},
   "source": [
    "## Load the data"
   ]
  },
  {
   "cell_type": "code",
   "execution_count": 9,
   "metadata": {},
   "outputs": [
    {
     "data": {
      "text/html": [
       "<div>\n",
       "<style scoped>\n",
       "    .dataframe tbody tr th:only-of-type {\n",
       "        vertical-align: middle;\n",
       "    }\n",
       "\n",
       "    .dataframe tbody tr th {\n",
       "        vertical-align: top;\n",
       "    }\n",
       "\n",
       "    .dataframe thead th {\n",
       "        text-align: right;\n",
       "    }\n",
       "</style>\n",
       "<table border=\"1\" class=\"dataframe\">\n",
       "  <thead>\n",
       "    <tr style=\"text-align: right;\">\n",
       "      <th></th>\n",
       "      <th>y</th>\n",
       "    </tr>\n",
       "    <tr>\n",
       "      <th>ds</th>\n",
       "      <th></th>\n",
       "    </tr>\n",
       "  </thead>\n",
       "  <tbody>\n",
       "    <tr>\n",
       "      <th>1949-01-01</th>\n",
       "      <td>112</td>\n",
       "    </tr>\n",
       "    <tr>\n",
       "      <th>1949-02-01</th>\n",
       "      <td>118</td>\n",
       "    </tr>\n",
       "    <tr>\n",
       "      <th>1949-03-01</th>\n",
       "      <td>132</td>\n",
       "    </tr>\n",
       "    <tr>\n",
       "      <th>1949-04-01</th>\n",
       "      <td>129</td>\n",
       "    </tr>\n",
       "    <tr>\n",
       "      <th>1949-05-01</th>\n",
       "      <td>121</td>\n",
       "    </tr>\n",
       "  </tbody>\n",
       "</table>\n",
       "</div>"
      ],
      "text/plain": [
       "              y\n",
       "ds             \n",
       "1949-01-01  112\n",
       "1949-02-01  118\n",
       "1949-03-01  132\n",
       "1949-04-01  129\n",
       "1949-05-01  121"
      ]
     },
     "execution_count": 9,
     "metadata": {},
     "output_type": "execute_result"
    }
   ],
   "source": [
    "df = pd.read_csv('../../Datasets/example_air_passengers.csv', parse_dates=['ds'], index_col=['ds'])\n",
    "df.head()"
   ]
  },
  {
   "cell_type": "code",
   "execution_count": 16,
   "metadata": {},
   "outputs": [],
   "source": [
    "from sktime.utils.plotting import plot_series\n",
    "\n",
    "plot_series(df);\n",
    "plt.xticks(rotation=25);"
   ]
  },
  {
   "attachments": {},
   "cell_type": "markdown",
   "metadata": {},
   "source": [
    "<img src='./plots/example_air_passengers.png'>"
   ]
  },
  {
   "cell_type": "markdown",
   "metadata": {},
   "source": [
    "\n",
    "`from scipy.stats import boxcox`\n",
    "\n",
    "Return a dataset transformed by a Box-Cox power transformation.\n",
    "\n",
    "`\n",
    "lmbda : {None, scalar}, optional\n",
    "    If lmbda is not None, do the transformation for that value. \n",
    "    If lmbda is None, find the lambda that maximizes the log-likelihood function and return it as the second output argument.\n",
    "`"
   ]
  },
  {
   "cell_type": "code",
   "execution_count": 20,
   "metadata": {},
   "outputs": [],
   "source": [
    "from scipy.stats import boxcox\n",
    "from scipy.special import inv_boxcox\n",
    "\n",
    "# y = (x**lmbda - 1) / lmbda  if lmbda != 0\n",
    "#   = log(x)                  if lmbda == 0\n",
    "\n",
    "y_hat = boxcox(df['y'], lmbda=0)\n",
    "\n",
    "plt.figure(figsize=(10,3))\n",
    "plt.subplot(121)\n",
    "plt.plot(y_hat);\n",
    "plt.title(f'BOX-COX TRANSFORM, lmbda=0');\n",
    "plt.subplot(122)\n",
    "plt.plot(inv_boxcox(y_hat, 0));\n",
    "plt.title(f'INVERSE BOX-COX TRANSFORM, lmbda=0');\n",
    "\n"
   ]
  },
  {
   "attachments": {},
   "cell_type": "markdown",
   "metadata": {},
   "source": [
    "<img src=\"./plots/boxcox-and-inverse-boxcox.png\">"
   ]
  },
  {
   "cell_type": "markdown",
   "metadata": {},
   "source": [
    "### We can use maximul likelihood estimation to find the lamda that stabilize the variance"
   ]
  },
  {
   "cell_type": "code",
   "execution_count": 21,
   "metadata": {},
   "outputs": [],
   "source": [
    "y_hat, lambda_ = boxcox(df['y'], lmbda=None)\n",
    "\n",
    "plt.plot(y_hat);\n",
    "plt.title(f'BOX-COX TRANSFORM, lmbda={lambda_}');"
   ]
  },
  {
   "attachments": {},
   "cell_type": "markdown",
   "metadata": {},
   "source": [
    "<img src=\"./plots/boxcox-mle-method.png\">"
   ]
  },
  {
   "cell_type": "markdown",
   "metadata": {},
   "source": [
    "#### Box Cox transform for differnt values of lmbda"
   ]
  },
  {
   "cell_type": "code",
   "execution_count": 22,
   "metadata": {},
   "outputs": [],
   "source": [
    "lmbdas = [\n",
    "    -1,  # Inverse transform y^(-1)\n",
    "    -0.5,  # inverse square root transform y^(-1/2)\n",
    "    0,  # Log transform ln(y)\n",
    "    0.5,  # Square root transform sqrt(y)\n",
    "    1,  # y - 1\n",
    "    2,  # Square transform y^2\n",
    "]"
   ]
  },
  {
   "cell_type": "code",
   "execution_count": 24,
   "metadata": {},
   "outputs": [],
   "source": [
    "fig,ax = plt.subplots(ncols=2, nrows=3 , figsize=(10,5))\n",
    "ax = ax.flatten()\n",
    "for i,l in enumerate(lmbdas):\n",
    "\n",
    "    y_hat = boxcox(df['y'], lmbda=l)\n",
    "    ax[i].plot(y_hat)\n",
    "    ax[i].set(title=f'lmbda={l}')\n",
    "    \n",
    "plt.tight_layout()"
   ]
  },
  {
   "attachments": {},
   "cell_type": "markdown",
   "metadata": {},
   "source": [
    "<img src=\"./plots/boxcox-output-on-different-lambda.png\">"
   ]
  },
  {
   "attachments": {},
   "cell_type": "markdown",
   "metadata": {},
   "source": [
    "## Box-Cox with sktime \n",
    "\n",
    "We show how to use the Box-Cox transformer from sktime which allows us\n",
    "to use the Guerrero method to select $\\lambda$. The Guerrero method does not make \n",
    "assumptions about the underlying distribution and tries to specifically stabilise \n",
    "the variance across the time series.\n",
    "\n",
    "\n",
    "<br>\n",
    "<img src='./notes/Guerrero (1).jpg'>\n",
    "<br>"
   ]
  },
  {
   "attachments": {},
   "cell_type": "markdown",
   "metadata": {},
   "source": [
    "<br>\n",
    "<img src='./notes/Guerrero (2).jpg'>\n",
    "<br>"
   ]
  },
  {
   "cell_type": "code",
   "execution_count": 25,
   "metadata": {},
   "outputs": [],
   "source": [
    "from sktime.transformations.series.boxcox import BoxCoxTransformer\n",
    "\n",
    "\n",
    "# sp=12 # sp should be set to the seasonal period\n",
    "box_cox = BoxCoxTransformer(method='guerrero', sp=12)"
   ]
  },
  {
   "cell_type": "code",
   "execution_count": 26,
   "metadata": {},
   "outputs": [],
   "source": [
    "y_hat = box_cox.fit_transform(df['y'])"
   ]
  },
  {
   "cell_type": "code",
   "execution_count": 28,
   "metadata": {},
   "outputs": [],
   "source": [
    "plt.figure(figsize=(10,3))\n",
    "plt.subplot(121)\n",
    "plt.plot(df['y'])\n",
    "plt.title(f'BEFORE BOX-COX TRANSFORM');\n",
    "plt.subplot(122)\n",
    "plt.plot(y_hat);\n",
    "plt.title(f'BOX-COX TRANSFORM, lmbda={box_cox.lambda_:0.3f}');"
   ]
  },
  {
   "attachments": {},
   "cell_type": "markdown",
   "metadata": {},
   "source": [
    "<img src=\"./plots/boxcox-guerrero.png\">"
   ]
  },
  {
   "cell_type": "markdown",
   "metadata": {},
   "source": [
    "#### method='MLE'"
   ]
  },
  {
   "cell_type": "code",
   "execution_count": 30,
   "metadata": {},
   "outputs": [],
   "source": [
    "box_cox = BoxCoxTransformer(method='mle', sp=12)\n",
    "y_hat = box_cox.fit_transform(df['y'])\n",
    "\n",
    "plt.figure(figsize=(10,3))\n",
    "plt.subplot(121)\n",
    "plt.plot(df['y'])\n",
    "plt.title(f'BEFORE BOX-COX TRANSFORM');\n",
    "plt.subplot(122)\n",
    "plt.plot(y_hat);\n",
    "plt.title(f'BOX-COX TRANSFORM, lmbda={box_cox.lambda_:0.3f}');"
   ]
  },
  {
   "attachments": {},
   "cell_type": "markdown",
   "metadata": {},
   "source": [
    "<img src=\"./plots/boxcox-mle-sktime.png\">"
   ]
  },
  {
   "cell_type": "markdown",
   "metadata": {},
   "source": [
    "## Log and Box Cox with Feature-engine\n",
    "\n",
    "We might want to apply the Box Cox transform to multiple variables and as part \n",
    "of a pipeline. This can be easily done by using the Box Cox transformer from \n",
    "Feature-engine. Scipy is used under the hood and so the MLE method is used to pick $\\lambda$."
   ]
  },
  {
   "cell_type": "code",
   "execution_count": 31,
   "metadata": {},
   "outputs": [],
   "source": [
    "data = df.copy()\n",
    "# Add a new column to show Box Cox transformer handling two columns\n",
    "data[\"x\"] = df[\"y\"] * 2"
   ]
  },
  {
   "cell_type": "code",
   "execution_count": 35,
   "metadata": {},
   "outputs": [
    {
     "data": {
      "text/html": [
       "<div>\n",
       "<style scoped>\n",
       "    .dataframe tbody tr th:only-of-type {\n",
       "        vertical-align: middle;\n",
       "    }\n",
       "\n",
       "    .dataframe tbody tr th {\n",
       "        vertical-align: top;\n",
       "    }\n",
       "\n",
       "    .dataframe thead th {\n",
       "        text-align: right;\n",
       "    }\n",
       "</style>\n",
       "<table border=\"1\" class=\"dataframe\">\n",
       "  <thead>\n",
       "    <tr style=\"text-align: right;\">\n",
       "      <th></th>\n",
       "      <th>y</th>\n",
       "      <th>x</th>\n",
       "    </tr>\n",
       "  </thead>\n",
       "  <tbody>\n",
       "    <tr>\n",
       "      <th>1949-01-01</th>\n",
       "      <td>6.827490</td>\n",
       "      <td>8.295150</td>\n",
       "    </tr>\n",
       "    <tr>\n",
       "      <th>1949-02-01</th>\n",
       "      <td>6.932822</td>\n",
       "      <td>8.411863</td>\n",
       "    </tr>\n",
       "    <tr>\n",
       "      <th>1949-03-01</th>\n",
       "      <td>7.161892</td>\n",
       "      <td>8.665684</td>\n",
       "    </tr>\n",
       "    <tr>\n",
       "      <th>1949-04-01</th>\n",
       "      <td>7.114611</td>\n",
       "      <td>8.613294</td>\n",
       "    </tr>\n",
       "    <tr>\n",
       "      <th>1949-05-01</th>\n",
       "      <td>6.983787</td>\n",
       "      <td>8.468335</td>\n",
       "    </tr>\n",
       "  </tbody>\n",
       "</table>\n",
       "</div>"
      ],
      "text/plain": [
       "                   y         x\n",
       "1949-01-01  6.827490  8.295150\n",
       "1949-02-01  6.932822  8.411863\n",
       "1949-03-01  7.161892  8.665684\n",
       "1949-04-01  7.114611  8.613294\n",
       "1949-05-01  6.983787  8.468335"
      ]
     },
     "execution_count": 35,
     "metadata": {},
     "output_type": "execute_result"
    }
   ],
   "source": [
    "from feature_engine.transformation import BoxCoxTransformer, LogTransformer\n",
    "\n",
    "\n",
    "box_cox = BoxCoxTransformer(variables=['x', 'y'])\n",
    "y_hat = box_cox.fit_transform(data)\n",
    "\n",
    "plt.figure(figsize=(10,3))\n",
    "plt.subplot(121)\n",
    "plt.plot(y_hat['y'])\n",
    "plt.title(f'BOX-COX TRANSFORM y lambda:{box_cox.lambda_dict_[\"y\"]:.3f}');\n",
    "plt.subplot(122)\n",
    "plt.plot(y_hat['x']);\n",
    "plt.title(f'BOX-COX TRANSFORM x lambda:{box_cox.lambda_dict_[\"x\"]:.3f}');\n",
    "\n",
    "y_hat.head()"
   ]
  },
  {
   "attachments": {},
   "cell_type": "markdown",
   "metadata": {},
   "source": [
    "<img src=\"./plots/boxcox-output-feature-engine.png\">"
   ]
  },
  {
   "cell_type": "markdown",
   "metadata": {},
   "source": [
    "We can access the value of lambda that was automatically selected using the `lambda_dict_`\n",
    "attribute."
   ]
  },
  {
   "cell_type": "code",
   "execution_count": 22,
   "metadata": {},
   "outputs": [
    {
     "data": {
      "text/plain": [
       "{'x': 0.14802255370969325, 'y': 0.14802265137037945}"
      ]
     },
     "execution_count": 22,
     "metadata": {},
     "output_type": "execute_result"
    }
   ],
   "source": [
    "box_cox.lambda_dict_"
   ]
  },
  {
   "attachments": {},
   "cell_type": "markdown",
   "metadata": {},
   "source": [
    "## The LogTransformer\n",
    "\n",
    "`The LogTransformer()` applies the natural logarithm or the base 10 logarithm to numerical variables. The natural logarithm is the logarithm in base e.\n",
    "\n",
    "`The LogTransformer()` only works with positive values. If the variable contains a zero or a negative value the transformer will return an error.\n",
    "\n",
    "A list of variables can be passed as an argument\n",
    "\n",
    "\n",
    "<br>\n",
    "<img src='./notes/LOG-TRANSFORM.PNG'>\n",
    "<br>"
   ]
  },
  {
   "cell_type": "code",
   "execution_count": 37,
   "metadata": {},
   "outputs": [],
   "source": [
    "log_transformer = LogTransformer(variables=['x', 'y'])\n",
    "y_hat = log_transformer.fit_transform(data)\n",
    "\n",
    "plt.figure(figsize=(10,3))\n",
    "plt.subplot(121)\n",
    "plt.plot(y_hat['y'])\n",
    "plt.title(f'LOG TRANSFORM y ');\n",
    "plt.subplot(122)\n",
    "plt.plot(y_hat['x']);\n",
    "plt.title(f'LOG TRANSFORM x ');"
   ]
  },
  {
   "attachments": {},
   "cell_type": "markdown",
   "metadata": {},
   "source": [
    "<img src='./plots/log-transform.png'>"
   ]
  },
  {
   "cell_type": "code",
   "execution_count": null,
   "metadata": {},
   "outputs": [],
   "source": []
  }
 ],
 "metadata": {
  "kernelspec": {
   "display_name": "Python 3.9.13 ('timeseries-env': venv)",
   "language": "python",
   "name": "python3"
  },
  "language_info": {
   "codemirror_mode": {
    "name": "ipython",
    "version": 3
   },
   "file_extension": ".py",
   "mimetype": "text/x-python",
   "name": "python",
   "nbconvert_exporter": "python",
   "pygments_lexer": "ipython3",
   "version": "3.9.13"
  },
  "orig_nbformat": 4,
  "vscode": {
   "interpreter": {
    "hash": "5344483434f8feb0f4e4edbcac037dc40f14ec44f0a8519da7d24204004147d4"
   }
  }
 },
 "nbformat": 4,
 "nbformat_minor": 2
}
