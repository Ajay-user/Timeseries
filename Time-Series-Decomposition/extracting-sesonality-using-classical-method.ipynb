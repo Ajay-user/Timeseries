{
 "cells": [
  {
   "cell_type": "code",
   "execution_count": 1,
   "metadata": {},
   "outputs": [],
   "source": [
    "import pandas as pd\n",
    "import numpy as np\n",
    "import matplotlib.pyplot as plt\n",
    "from sktime.utils.plotting import plot_series\n",
    "from sktime.datasets import load_airline"
   ]
  },
  {
   "cell_type": "markdown",
   "metadata": {},
   "source": [
    "## Classical decomposition to compute trend and seasonality\n",
    "\n",
    "\n",
    "* Timeseries\n",
    "    * Additive\n",
    "    > trend + seasonality + residual\n",
    "\n",
    "    * Multiplicative \n",
    "    > trend * seasonality * residual\n",
    "\n",
    "* Trend can be computed using `Moving Average`\n",
    "\n",
    "* If we've computed trend then we can remove it from the timeseries [De-trending]\n",
    "    * Additive\n",
    "    > seasonality + noise = y - trend\n",
    "    * Multiplicative\n",
    "    > seasonality * noise = y / trend\n",
    "\n",
    "### How can we isolate the sesonality ??\n",
    "\n",
    "* By taking average of seasonal points\n",
    "    > Since air-line data is montly with an yearly seasonality\n",
    "\n",
    "    > we can remove noise from seasonlaity by taking averages\n",
    "\n",
    "    > average[ `jan-1950`, `jan-1951`, `jan-1952`, .....]\n",
    "\n",
    "    > average[ `feb-1950`, `feb-1951`, `feb-1952`, .....]\n",
    "\n",
    "    > average[ `mar-1950`, `mar-1951`, `mar-1952`, .....]\n",
    "\n",
    "    > ............\n"
   ]
  },
  {
   "cell_type": "code",
   "execution_count": 3,
   "metadata": {},
   "outputs": [],
   "source": [
    "y = load_airline()\n",
    "plot_series(y);"
   ]
  },
  {
   "attachments": {},
   "cell_type": "markdown",
   "metadata": {},
   "source": [
    "<img src='./plots/air-passenger-sktime.png'>"
   ]
  },
  {
   "attachments": {},
   "cell_type": "markdown",
   "metadata": {},
   "source": [
    "## Extract the Trend\n",
    "\n",
    "* Moving average - window-size=12\n"
   ]
  },
  {
   "cell_type": "code",
   "execution_count": 5,
   "metadata": {},
   "outputs": [],
   "source": [
    "trend = (y.rolling(12).mean().rolling(2).mean().shift(-6))\n",
    "plot_series(y, trend, labels=['y', 'trend']);"
   ]
  },
  {
   "attachments": {},
   "cell_type": "markdown",
   "metadata": {},
   "source": [
    "<img src=\"./plots/air-passenger-extract-trend.png\">"
   ]
  },
  {
   "cell_type": "markdown",
   "metadata": {},
   "source": [
    "## Detrend the series"
   ]
  },
  {
   "cell_type": "code",
   "execution_count": 6,
   "metadata": {},
   "outputs": [],
   "source": [
    "y_detrend = y - trend\n",
    "plot_series(y_detrend, labels=['y-detrend']);"
   ]
  },
  {
   "attachments": {},
   "cell_type": "markdown",
   "metadata": {},
   "source": [
    "<img src=\"./plots/air-passenger-de-trend.png\">"
   ]
  },
  {
   "cell_type": "markdown",
   "metadata": {},
   "source": [
    "## Average de-trended data \n",
    "\n",
    "### Average de-trended data --> Fix the seasonal period\n",
    "\n",
    "### Average de-trended data --> Remove the noise\n"
   ]
  },
  {
   "cell_type": "code",
   "execution_count": 7,
   "metadata": {},
   "outputs": [
    {
     "data": {
      "text/html": [
       "<div>\n",
       "<style scoped>\n",
       "    .dataframe tbody tr th:only-of-type {\n",
       "        vertical-align: middle;\n",
       "    }\n",
       "\n",
       "    .dataframe tbody tr th {\n",
       "        vertical-align: top;\n",
       "    }\n",
       "\n",
       "    .dataframe thead th {\n",
       "        text-align: right;\n",
       "    }\n",
       "</style>\n",
       "<table border=\"1\" class=\"dataframe\">\n",
       "  <thead>\n",
       "    <tr style=\"text-align: right;\">\n",
       "      <th></th>\n",
       "      <th>Passengers</th>\n",
       "      <th>Month</th>\n",
       "    </tr>\n",
       "  </thead>\n",
       "  <tbody>\n",
       "    <tr>\n",
       "      <th>1949-01-01</th>\n",
       "      <td>NaN</td>\n",
       "      <td>1</td>\n",
       "    </tr>\n",
       "    <tr>\n",
       "      <th>1949-02-01</th>\n",
       "      <td>NaN</td>\n",
       "      <td>2</td>\n",
       "    </tr>\n",
       "    <tr>\n",
       "      <th>1949-03-01</th>\n",
       "      <td>NaN</td>\n",
       "      <td>3</td>\n",
       "    </tr>\n",
       "    <tr>\n",
       "      <th>1949-04-01</th>\n",
       "      <td>NaN</td>\n",
       "      <td>4</td>\n",
       "    </tr>\n",
       "    <tr>\n",
       "      <th>1949-05-01</th>\n",
       "      <td>NaN</td>\n",
       "      <td>5</td>\n",
       "    </tr>\n",
       "  </tbody>\n",
       "</table>\n",
       "</div>"
      ],
      "text/plain": [
       "            Passengers  Month\n",
       "1949-01-01         NaN      1\n",
       "1949-02-01         NaN      2\n",
       "1949-03-01         NaN      3\n",
       "1949-04-01         NaN      4\n",
       "1949-05-01         NaN      5"
      ]
     },
     "execution_count": 7,
     "metadata": {},
     "output_type": "execute_result"
    }
   ],
   "source": [
    "temp = pd.DataFrame(data={'Passengers':y_detrend.values, 'Month':y.index.month}, index=y.index.to_timestamp())\n",
    "temp.head()"
   ]
  },
  {
   "cell_type": "code",
   "execution_count": 8,
   "metadata": {},
   "outputs": [],
   "source": [
    "seasonality = temp.groupby(by='Month').mean()['Passengers']"
   ]
  },
  {
   "cell_type": "markdown",
   "metadata": {},
   "source": [
    "## Extract the Seasonality"
   ]
  },
  {
   "cell_type": "code",
   "execution_count": 10,
   "metadata": {},
   "outputs": [],
   "source": [
    "plot_series(seasonality);\n",
    "plt.title('Seasonality with noise removed')\n",
    "plt.xticks(ticks=np.arange(12), \n",
    "    labels=['jan', 'feb', 'mar', 'apr', 'may', 'june',\n",
    "            'july', 'aug', 'sep', 'oct', 'nov', 'dec']);"
   ]
  },
  {
   "attachments": {},
   "cell_type": "markdown",
   "metadata": {},
   "source": [
    "<img src=\"./plots/air-passenger-fixed-seasonality.png\">"
   ]
  }
 ],
 "metadata": {
  "kernelspec": {
   "display_name": "Python 3.9.13 ('timeseries-env': venv)",
   "language": "python",
   "name": "python3"
  },
  "language_info": {
   "codemirror_mode": {
    "name": "ipython",
    "version": 3
   },
   "file_extension": ".py",
   "mimetype": "text/x-python",
   "name": "python",
   "nbconvert_exporter": "python",
   "pygments_lexer": "ipython3",
   "version": "3.9.13"
  },
  "orig_nbformat": 4,
  "vscode": {
   "interpreter": {
    "hash": "5344483434f8feb0f4e4edbcac037dc40f14ec44f0a8519da7d24204004147d4"
   }
  }
 },
 "nbformat": 4,
 "nbformat_minor": 2
}
