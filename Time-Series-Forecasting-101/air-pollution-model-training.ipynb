{
 "cells": [
  {
   "cell_type": "code",
   "execution_count": 48,
   "metadata": {},
   "outputs": [],
   "source": [
    "import pandas as pd\n",
    "import numpy as np\n",
    "from sklearn.metrics import mean_absolute_error, mean_squared_error\n",
    "from sklearn.linear_model import LinearRegression, Lasso, LassoCV, LassoLarsCV\n",
    "from sklearn.ensemble import RandomForestRegressor\n",
    "from sklearn.model_selection import train_test_split\n",
    "from sklearn.pipeline import make_pipeline\n",
    "from sklearn.preprocessing import StandardScaler\n",
    "import matplotlib.pyplot as plt"
   ]
  },
  {
   "cell_type": "markdown",
   "metadata": {},
   "source": [
    "## Data"
   ]
  },
  {
   "cell_type": "code",
   "execution_count": 5,
   "metadata": {},
   "outputs": [
    {
     "data": {
      "text/html": [
       "<div>\n",
       "<style scoped>\n",
       "    .dataframe tbody tr th:only-of-type {\n",
       "        vertical-align: middle;\n",
       "    }\n",
       "\n",
       "    .dataframe tbody tr th {\n",
       "        vertical-align: top;\n",
       "    }\n",
       "\n",
       "    .dataframe thead th {\n",
       "        text-align: right;\n",
       "    }\n",
       "</style>\n",
       "<table border=\"1\" class=\"dataframe\">\n",
       "  <thead>\n",
       "    <tr style=\"text-align: right;\">\n",
       "      <th></th>\n",
       "      <th>CO_sensor</th>\n",
       "      <th>RH</th>\n",
       "      <th>week</th>\n",
       "      <th>day_of_week</th>\n",
       "      <th>day</th>\n",
       "      <th>is_weekend</th>\n",
       "      <th>CO_sensor_lag_1</th>\n",
       "      <th>RH_lag_1</th>\n",
       "      <th>CO_sensor_lag_24</th>\n",
       "      <th>RH_lag_24</th>\n",
       "      <th>CO_sensor_window</th>\n",
       "      <th>RH_window</th>\n",
       "      <th>month_sin</th>\n",
       "      <th>month_cos</th>\n",
       "      <th>hour_sin</th>\n",
       "      <th>hour_cos</th>\n",
       "    </tr>\n",
       "    <tr>\n",
       "      <th>Date_Time</th>\n",
       "      <th></th>\n",
       "      <th></th>\n",
       "      <th></th>\n",
       "      <th></th>\n",
       "      <th></th>\n",
       "      <th></th>\n",
       "      <th></th>\n",
       "      <th></th>\n",
       "      <th></th>\n",
       "      <th></th>\n",
       "      <th></th>\n",
       "      <th></th>\n",
       "      <th></th>\n",
       "      <th></th>\n",
       "      <th></th>\n",
       "      <th></th>\n",
       "    </tr>\n",
       "  </thead>\n",
       "  <tbody>\n",
       "    <tr>\n",
       "      <th>2004-04-05 00:00:00</th>\n",
       "      <td>1065.0</td>\n",
       "      <td>65.8</td>\n",
       "      <td>15</td>\n",
       "      <td>0</td>\n",
       "      <td>5</td>\n",
       "      <td>0</td>\n",
       "      <td>1188.0</td>\n",
       "      <td>60.8</td>\n",
       "      <td>1224.0</td>\n",
       "      <td>56.5</td>\n",
       "      <td>1165.666667</td>\n",
       "      <td>58.566667</td>\n",
       "      <td>0.866025</td>\n",
       "      <td>-0.5</td>\n",
       "      <td>0.000000</td>\n",
       "      <td>1.000000</td>\n",
       "    </tr>\n",
       "    <tr>\n",
       "      <th>2004-04-05 01:00:00</th>\n",
       "      <td>999.0</td>\n",
       "      <td>79.2</td>\n",
       "      <td>15</td>\n",
       "      <td>0</td>\n",
       "      <td>5</td>\n",
       "      <td>0</td>\n",
       "      <td>1065.0</td>\n",
       "      <td>65.8</td>\n",
       "      <td>1215.0</td>\n",
       "      <td>59.2</td>\n",
       "      <td>1149.666667</td>\n",
       "      <td>61.800000</td>\n",
       "      <td>0.866025</td>\n",
       "      <td>-0.5</td>\n",
       "      <td>0.269797</td>\n",
       "      <td>0.962917</td>\n",
       "    </tr>\n",
       "    <tr>\n",
       "      <th>2004-04-05 02:00:00</th>\n",
       "      <td>911.0</td>\n",
       "      <td>80.0</td>\n",
       "      <td>15</td>\n",
       "      <td>0</td>\n",
       "      <td>5</td>\n",
       "      <td>0</td>\n",
       "      <td>999.0</td>\n",
       "      <td>79.2</td>\n",
       "      <td>1115.0</td>\n",
       "      <td>62.4</td>\n",
       "      <td>1084.000000</td>\n",
       "      <td>68.600000</td>\n",
       "      <td>0.866025</td>\n",
       "      <td>-0.5</td>\n",
       "      <td>0.519584</td>\n",
       "      <td>0.854419</td>\n",
       "    </tr>\n",
       "    <tr>\n",
       "      <th>2004-04-05 03:00:00</th>\n",
       "      <td>873.0</td>\n",
       "      <td>81.0</td>\n",
       "      <td>15</td>\n",
       "      <td>0</td>\n",
       "      <td>5</td>\n",
       "      <td>0</td>\n",
       "      <td>911.0</td>\n",
       "      <td>80.0</td>\n",
       "      <td>1124.0</td>\n",
       "      <td>65.0</td>\n",
       "      <td>991.666667</td>\n",
       "      <td>75.000000</td>\n",
       "      <td>0.866025</td>\n",
       "      <td>-0.5</td>\n",
       "      <td>0.730836</td>\n",
       "      <td>0.682553</td>\n",
       "    </tr>\n",
       "    <tr>\n",
       "      <th>2004-04-05 04:00:00</th>\n",
       "      <td>881.0</td>\n",
       "      <td>81.0</td>\n",
       "      <td>15</td>\n",
       "      <td>0</td>\n",
       "      <td>5</td>\n",
       "      <td>0</td>\n",
       "      <td>873.0</td>\n",
       "      <td>81.0</td>\n",
       "      <td>1028.0</td>\n",
       "      <td>65.3</td>\n",
       "      <td>927.666667</td>\n",
       "      <td>80.066667</td>\n",
       "      <td>0.866025</td>\n",
       "      <td>-0.5</td>\n",
       "      <td>0.887885</td>\n",
       "      <td>0.460065</td>\n",
       "    </tr>\n",
       "  </tbody>\n",
       "</table>\n",
       "</div>"
      ],
      "text/plain": [
       "                     CO_sensor    RH  week  day_of_week  day  is_weekend  \\\n",
       "Date_Time                                                                  \n",
       "2004-04-05 00:00:00     1065.0  65.8    15            0    5           0   \n",
       "2004-04-05 01:00:00      999.0  79.2    15            0    5           0   \n",
       "2004-04-05 02:00:00      911.0  80.0    15            0    5           0   \n",
       "2004-04-05 03:00:00      873.0  81.0    15            0    5           0   \n",
       "2004-04-05 04:00:00      881.0  81.0    15            0    5           0   \n",
       "\n",
       "                     CO_sensor_lag_1  RH_lag_1  CO_sensor_lag_24  RH_lag_24  \\\n",
       "Date_Time                                                                     \n",
       "2004-04-05 00:00:00           1188.0      60.8            1224.0       56.5   \n",
       "2004-04-05 01:00:00           1065.0      65.8            1215.0       59.2   \n",
       "2004-04-05 02:00:00            999.0      79.2            1115.0       62.4   \n",
       "2004-04-05 03:00:00            911.0      80.0            1124.0       65.0   \n",
       "2004-04-05 04:00:00            873.0      81.0            1028.0       65.3   \n",
       "\n",
       "                     CO_sensor_window  RH_window  month_sin  month_cos  \\\n",
       "Date_Time                                                                \n",
       "2004-04-05 00:00:00       1165.666667  58.566667   0.866025       -0.5   \n",
       "2004-04-05 01:00:00       1149.666667  61.800000   0.866025       -0.5   \n",
       "2004-04-05 02:00:00       1084.000000  68.600000   0.866025       -0.5   \n",
       "2004-04-05 03:00:00        991.666667  75.000000   0.866025       -0.5   \n",
       "2004-04-05 04:00:00        927.666667  80.066667   0.866025       -0.5   \n",
       "\n",
       "                     hour_sin  hour_cos  \n",
       "Date_Time                                \n",
       "2004-04-05 00:00:00  0.000000  1.000000  \n",
       "2004-04-05 01:00:00  0.269797  0.962917  \n",
       "2004-04-05 02:00:00  0.519584  0.854419  \n",
       "2004-04-05 03:00:00  0.730836  0.682553  \n",
       "2004-04-05 04:00:00  0.887885  0.460065  "
      ]
     },
     "execution_count": 5,
     "metadata": {},
     "output_type": "execute_result"
    }
   ],
   "source": [
    "df = pd.read_csv(\"../../Datasets/air_qual_preprocessed.csv\", index_col='Date_Time', parse_dates=['Date_Time'])\n",
    "df.head()"
   ]
  },
  {
   "cell_type": "code",
   "execution_count": 8,
   "metadata": {},
   "outputs": [
    {
     "data": {
      "text/plain": [
       "Index(['RH', 'week', 'day_of_week', 'day', 'is_weekend', 'CO_sensor_lag_1',\n",
       "       'RH_lag_1', 'CO_sensor_lag_24', 'RH_lag_24', 'CO_sensor_window',\n",
       "       'RH_window', 'month_sin', 'month_cos', 'hour_sin', 'hour_cos'],\n",
       "      dtype='object')"
      ]
     },
     "execution_count": 8,
     "metadata": {},
     "output_type": "execute_result"
    }
   ],
   "source": [
    "y = df.pop('CO_sensor')\n",
    "\n",
    "df.columns"
   ]
  },
  {
   "cell_type": "code",
   "execution_count": 19,
   "metadata": {},
   "outputs": [],
   "source": [
    "x_train, x_test, y_train, y_test = train_test_split(df, y, test_size=0.07, shuffle=False)"
   ]
  },
  {
   "cell_type": "code",
   "execution_count": 23,
   "metadata": {},
   "outputs": [
    {
     "name": "stdout",
     "output_type": "stream",
     "text": [
      "test data -- start: 2005-03-04 10:00:00 test data -- end : 2005-04-04 14:00:00\n"
     ]
    }
   ],
   "source": [
    "print('test data -- start:',x_test.index.min(),'test data -- end :',x_test.index.max())"
   ]
  },
  {
   "cell_type": "markdown",
   "metadata": {},
   "source": [
    "## Benchmark"
   ]
  },
  {
   "cell_type": "code",
   "execution_count": 26,
   "metadata": {},
   "outputs": [
    {
     "name": "stdout",
     "output_type": "stream",
     "text": [
      "Model  using : lag 1 as prediction\n",
      "Mean Absolute error 78.87628865979381\n",
      "Mean Squared error 12534.880412371134\n",
      "\n",
      "Model  using : rolling window as prediction\n",
      "Mean Absolute error 119.17457044673539\n",
      "Mean Squared error 25234.472164948453\n"
     ]
    }
   ],
   "source": [
    "# lets predict for test set\n",
    "# simple prediction\n",
    "# 1 -- predict previous value\n",
    "# 2 -- predict the mean of last window\n",
    "\n",
    "\n",
    "y_pred_1 = x_test['CO_sensor_lag_1']\n",
    "y_pred_2 = x_test['CO_sensor_window']\n",
    "\n",
    "\n",
    "# Lets check the metrics\n",
    "\n",
    "print('Model  using : lag 1 as prediction')\n",
    "print('Mean Absolute error', mean_absolute_error(y_test, y_pred_1))\n",
    "print('Mean Squared error', mean_squared_error(y_test, y_pred_1))\n",
    "\n",
    "\n",
    "print('\\nModel  using : rolling window as prediction')\n",
    "print('Mean Absolute error', mean_absolute_error(y_test, y_pred_2))\n",
    "print('Mean Squared error', mean_squared_error(y_test, y_pred_2))"
   ]
  },
  {
   "cell_type": "markdown",
   "metadata": {},
   "source": [
    "## Random Forest Regressor"
   ]
  },
  {
   "cell_type": "code",
   "execution_count": 28,
   "metadata": {},
   "outputs": [
    {
     "name": "stdout",
     "output_type": "stream",
     "text": [
      "Mean Absolute error 60.98960824742268\n",
      "Mean Squared error 7067.679358350516\n"
     ]
    }
   ],
   "source": [
    "rf = RandomForestRegressor()\n",
    "rf.fit(x_train, y_train)\n",
    "y_pred_rf = rf.predict(x_test)\n",
    "\n",
    "print('Mean Absolute error', mean_absolute_error(y_test, y_pred_rf))\n",
    "print('Mean Squared error', mean_squared_error(y_test, y_pred_rf))"
   ]
  },
  {
   "cell_type": "markdown",
   "metadata": {},
   "source": [
    "## Linear Regression"
   ]
  },
  {
   "cell_type": "code",
   "execution_count": 29,
   "metadata": {},
   "outputs": [
    {
     "name": "stdout",
     "output_type": "stream",
     "text": [
      "Mean Absolute error 63.161060334429074\n",
      "Mean Squared error 8311.325793779202\n"
     ]
    }
   ],
   "source": [
    "\n",
    "\n",
    "lr = LinearRegression()\n",
    "lr.fit(x_train, y_train)\n",
    "y_pred_lr = lr.predict(x_test)\n",
    "\n",
    "print('Mean Absolute error', mean_absolute_error(y_test, y_pred_lr))\n",
    "print('Mean Squared error', mean_squared_error(y_test, y_pred_lr))"
   ]
  },
  {
   "cell_type": "markdown",
   "metadata": {},
   "source": [
    "## Lasso"
   ]
  },
  {
   "cell_type": "code",
   "execution_count": 31,
   "metadata": {},
   "outputs": [
    {
     "name": "stdout",
     "output_type": "stream",
     "text": [
      "Mean Absolute error 63.09913750764648\n",
      "Mean Squared error 8402.176946263446\n"
     ]
    }
   ],
   "source": [
    "\n",
    "lasso = Lasso()\n",
    "lasso.fit(x_train, y_train)\n",
    "y_pred_lasso = lasso.predict(x_test)\n",
    "\n",
    "print('Mean Absolute error', mean_absolute_error(y_test, y_pred_lasso))\n",
    "print('Mean Squared error', mean_squared_error(y_test, y_pred_lasso))"
   ]
  },
  {
   "cell_type": "markdown",
   "metadata": {},
   "source": [
    "## LassoCV"
   ]
  },
  {
   "cell_type": "code",
   "execution_count": 42,
   "metadata": {},
   "outputs": [
    {
     "name": "stdout",
     "output_type": "stream",
     "text": [
      "Mean Absolute error 67.0656582886228\n",
      "Mean Squared error 9209.440492253367\n"
     ]
    }
   ],
   "source": [
    "lasso_cv = LassoCV()\n",
    "lasso_cv.fit(x_train, y_train)\n",
    "y_pred_lasso_cv = lasso_cv.predict(x_test)\n",
    "\n",
    "print('Mean Absolute error', mean_absolute_error(y_test, y_pred_lasso_cv))\n",
    "print('Mean Squared error', mean_squared_error(y_test, y_pred_lasso_cv))"
   ]
  },
  {
   "cell_type": "code",
   "execution_count": 46,
   "metadata": {},
   "outputs": [
    {
     "name": "stdout",
     "output_type": "stream",
     "text": [
      "Mean Absolute error 63.24806385178577\n",
      "Mean Squared error 8350.962441332445\n"
     ]
    }
   ],
   "source": [
    "lasso_cv = make_pipeline(StandardScaler(), LassoCV())\n",
    "lasso_cv.fit(x_train, y_train)\n",
    "y_pred_lasso_cv = lasso_cv.predict(x_test)\n",
    "\n",
    "print('Mean Absolute error', mean_absolute_error(y_test, y_pred_lasso_cv))\n",
    "print('Mean Squared error', mean_squared_error(y_test, y_pred_lasso_cv))"
   ]
  },
  {
   "cell_type": "markdown",
   "metadata": {},
   "source": [
    "# LassoLarsCV"
   ]
  },
  {
   "cell_type": "code",
   "execution_count": 45,
   "metadata": {},
   "outputs": [
    {
     "name": "stdout",
     "output_type": "stream",
     "text": [
      "Mean Absolute error 63.24052052372494\n",
      "Mean Squared error 8348.330227516306\n"
     ]
    }
   ],
   "source": [
    "lasso_lars = make_pipeline(StandardScaler(with_mean=False), LassoLarsCV(normalize=False))\n",
    "\n",
    "lasso_lars.fit(x_train, y_train)\n",
    "y_pred_lasso_lars = lasso_lars.predict(x_test)\n",
    "\n",
    "print('Mean Absolute error', mean_absolute_error(y_test, y_pred_lasso_lars))\n",
    "print('Mean Squared error', mean_squared_error(y_test, y_pred_lasso_lars))"
   ]
  },
  {
   "cell_type": "markdown",
   "metadata": {},
   "source": [
    "## Feature importance - Random forest"
   ]
  },
  {
   "cell_type": "code",
   "execution_count": 55,
   "metadata": {},
   "outputs": [
    {
     "data": {
      "image/png": "[encoded data removed]",
      "text/plain": [
       "<Figure size 1080x288 with 1 Axes>"
      ]
     },
     "metadata": {
      "needs_background": "light"
     },
     "output_type": "display_data"
    }
   ],
   "source": [
    "plt.figure(figsize=(15,4))\n",
    "plt.bar(x_test.columns,rf.feature_importances_)\n",
    "plt.xticks(rotation=90);"
   ]
  },
  {
   "cell_type": "markdown",
   "metadata": {},
   "source": [
    "## Feature Importance Linear Regression"
   ]
  },
  {
   "cell_type": "code",
   "execution_count": 58,
   "metadata": {},
   "outputs": [
    {
     "data": {
      "image/png": "[encoded data removed]",
      "text/plain": [
       "<Figure size 1080x288 with 1 Axes>"
      ]
     },
     "metadata": {
      "needs_background": "light"
     },
     "output_type": "display_data"
    }
   ],
   "source": [
    "plt.figure(figsize=(15,4))\n",
    "plt.bar(x_test.columns, np.abs(lr.coef_))\n",
    "plt.xticks(rotation=90);"
   ]
  },
  {
   "cell_type": "markdown",
   "metadata": {},
   "source": [
    "## Feature Importance Lasso"
   ]
  },
  {
   "cell_type": "code",
   "execution_count": 59,
   "metadata": {},
   "outputs": [
    {
     "data": {
      "image/png": "[encoded data removed]",
      "text/plain": [
       "<Figure size 1080x288 with 1 Axes>"
      ]
     },
     "metadata": {
      "needs_background": "light"
     },
     "output_type": "display_data"
    }
   ],
   "source": [
    "plt.figure(figsize=(15,4))\n",
    "plt.bar(x_test.columns, np.abs(lasso.coef_))\n",
    "plt.xticks(rotation=90);"
   ]
  },
  {
   "cell_type": "code",
   "execution_count": null,
   "metadata": {},
   "outputs": [],
   "source": []
  }
 ],
 "metadata": {
  "kernelspec": {
   "display_name": "Python 3.9.13 ('timeseries-env': venv)",
   "language": "python",
   "name": "python3"
  },
  "language_info": {
   "codemirror_mode": {
    "name": "ipython",
    "version": 3
   },
   "file_extension": ".py",
   "mimetype": "text/x-python",
   "name": "python",
   "nbconvert_exporter": "python",
   "pygments_lexer": "ipython3",
   "version": "3.9.13"
  },
  "orig_nbformat": 4,
  "vscode": {
   "interpreter": {
    "hash": "5344483434f8feb0f4e4edbcac037dc40f14ec44f0a8519da7d24204004147d4"
   }
  }
 },
 "nbformat": 4,
 "nbformat_minor": 2
}
