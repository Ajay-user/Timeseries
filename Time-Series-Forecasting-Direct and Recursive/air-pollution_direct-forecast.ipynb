{
 "cells": [
  {
   "cell_type": "markdown",
   "metadata": {},
   "source": [
    "## Multi-step forecasting\n",
    "\n",
    "We want to predict / forecast multiple steps ahead.\n",
    "\n",
    "### Direct forecasting\n",
    "\n",
    "* 1 model per forecasting point.\n",
    "* 1 target per forecasting point\n",
    "\n",
    "We Train a model per forecasting point. Each forecasting point is estimated independently.\n",
    "\n",
    "### Cons \n",
    "* Multiple models\n",
    "* Computational cost\n",
    "* Forecast are independent\n",
    "\n",
    "### Pros\n",
    "* Less estimation variance\n",
    "* Does not propagate estimation errors\n",
    "\n",
    "\n",
    "\n"
   ]
  },
  {
   "cell_type": "code",
   "execution_count": 29,
   "metadata": {},
   "outputs": [],
   "source": [
    "import pandas as pd\n",
    "import matplotlib.pyplot as plt\n",
    "import numpy as np\n",
    "\n",
    "from sklearn.pipeline import Pipeline\n",
    "from sklearn.metrics import mean_absolute_error, mean_squared_error\n",
    "\n",
    "from feature_engine.creation import CyclicalFeatures\n",
    "from feature_engine.timeseries.forecasting import LagFeatures, WindowFeatures\n",
    "from feature_engine.imputation import DropMissingData\n",
    "from feature_engine.selection import DropFeatures\n",
    "from feature_engine.datetime import DatetimeFeatures"
   ]
  },
  {
   "cell_type": "markdown",
   "metadata": {},
   "source": [
    "## Data"
   ]
  },
  {
   "cell_type": "code",
   "execution_count": 30,
   "metadata": {},
   "outputs": [
    {
     "data": {
      "text/html": [
       "<div>\n",
       "<style scoped>\n",
       "    .dataframe tbody tr th:only-of-type {\n",
       "        vertical-align: middle;\n",
       "    }\n",
       "\n",
       "    .dataframe tbody tr th {\n",
       "        vertical-align: top;\n",
       "    }\n",
       "\n",
       "    .dataframe thead th {\n",
       "        text-align: right;\n",
       "    }\n",
       "</style>\n",
       "<table border=\"1\" class=\"dataframe\">\n",
       "  <thead>\n",
       "    <tr style=\"text-align: right;\">\n",
       "      <th></th>\n",
       "      <th>CO_sensor</th>\n",
       "      <th>RH</th>\n",
       "    </tr>\n",
       "    <tr>\n",
       "      <th>Date_Time</th>\n",
       "      <th></th>\n",
       "      <th></th>\n",
       "    </tr>\n",
       "  </thead>\n",
       "  <tbody>\n",
       "    <tr>\n",
       "      <th>2004-04-04 00:00:00</th>\n",
       "      <td>1224.0</td>\n",
       "      <td>56.5</td>\n",
       "    </tr>\n",
       "    <tr>\n",
       "      <th>2004-04-04 01:00:00</th>\n",
       "      <td>1215.0</td>\n",
       "      <td>59.2</td>\n",
       "    </tr>\n",
       "    <tr>\n",
       "      <th>2004-04-04 02:00:00</th>\n",
       "      <td>1115.0</td>\n",
       "      <td>62.4</td>\n",
       "    </tr>\n",
       "    <tr>\n",
       "      <th>2004-04-04 03:00:00</th>\n",
       "      <td>1124.0</td>\n",
       "      <td>65.0</td>\n",
       "    </tr>\n",
       "    <tr>\n",
       "      <th>2004-04-04 04:00:00</th>\n",
       "      <td>1028.0</td>\n",
       "      <td>65.3</td>\n",
       "    </tr>\n",
       "  </tbody>\n",
       "</table>\n",
       "</div>"
      ],
      "text/plain": [
       "                     CO_sensor    RH\n",
       "Date_Time                           \n",
       "2004-04-04 00:00:00     1224.0  56.5\n",
       "2004-04-04 01:00:00     1215.0  59.2\n",
       "2004-04-04 02:00:00     1115.0  62.4\n",
       "2004-04-04 03:00:00     1124.0  65.0\n",
       "2004-04-04 04:00:00     1028.0  65.3"
      ]
     },
     "execution_count": 30,
     "metadata": {},
     "output_type": "execute_result"
    }
   ],
   "source": [
    "df = pd.read_csv('../../Datasets/AirQualityUCI_ready.csv',\n",
    " parse_dates=['Date_Time'], index_col=['Date_Time'], usecols=['RH','CO_sensor','Date_Time'])\n",
    "\n",
    "df.sort_index(inplace=True)\n",
    "\n",
    "df = df.loc[\"2004-04-01\":\"2005-04-30\"]\n",
    "\n",
    "df = df.loc[df['CO_sensor']>0]\n",
    "\n",
    "df.head()"
   ]
  },
  {
   "cell_type": "markdown",
   "metadata": {},
   "source": [
    "## Feature Engineering Pipeline"
   ]
  },
  {
   "cell_type": "code",
   "execution_count": 31,
   "metadata": {},
   "outputs": [],
   "source": [
    "date_feat =  DatetimeFeatures(variables='index', \n",
    "            features_to_extract=['month', 'hour', 'week', 'day_of_week', 'day_of_month','weekend'])\n",
    "\n",
    "cyclic_feat = CyclicalFeatures(variables=['hour', 'month'])\n",
    "\n",
    "lag_feat = LagFeatures(variables=['CO_sensor', 'RH'], freq=['1H','24H'], missing_values='ignore')\n",
    "\n",
    "window_feat = WindowFeatures(variables=['CO_sensor', 'RH'], freq='1H', window='3H', missing_values='ignore')\n",
    "\n",
    "drop_missing = DropMissingData()\n",
    "\n",
    "drop_feat = DropFeatures(features_to_drop=['CO_sensor', 'RH'])\n",
    "\n",
    "pipe = Pipeline([ \n",
    "    ('Date features', date_feat),\n",
    "    ('Cyclic features', cyclic_feat),\n",
    "    ('Lag features', lag_feat),\n",
    "    ('window features', window_feat),\n",
    "    ('drop missing', drop_missing),\n",
    "    ('drop features', drop_feat),\n",
    "])"
   ]
  },
  {
   "cell_type": "markdown",
   "metadata": {},
   "source": [
    "## Train Test Split"
   ]
  },
  {
   "cell_type": "code",
   "execution_count": 32,
   "metadata": {},
   "outputs": [],
   "source": [
    "train = df.loc[:df.index.max() - pd.Timedelta(value='31D')]\n",
    "test = df[df.index.max() - pd.Timedelta(value='32D'):]"
   ]
  },
  {
   "cell_type": "code",
   "execution_count": 33,
   "metadata": {},
   "outputs": [],
   "source": [
    "y_train = df.loc[train.index, ['CO_sensor']]\n",
    "y_test = df.loc[test.index, ['CO_sensor']]"
   ]
  },
  {
   "cell_type": "markdown",
   "metadata": {},
   "source": [
    "## Prepare the target for Direct Forecasting\n",
    "\n",
    "In the direct approach, we build a model to predict each one of the steps in the forecasting horizon.\n",
    "\n",
    "This means that we need to create suitable targets first:\n",
    "\n",
    "- 1 hour ahead\n",
    "- 2 hour ahead\n",
    "- 3 hour ahead\n",
    "\n",
    "...\n",
    "\n",
    "- 24 hour ahead."
   ]
  },
  {
   "cell_type": "code",
   "execution_count": 34,
   "metadata": {},
   "outputs": [],
   "source": [
    "forecast_horizon = 24\n",
    "\n",
    "y_train_df = pd.DataFrame(index=y_train.index)\n",
    "y_test_df = pd.DataFrame(index=y_test.index)\n",
    "\n",
    "for i in range(forecast_horizon):\n",
    "    y_train_df[f'y_{i}']=y_train.shift(periods=-i, freq='H')\n",
    "    y_test_df[f'y_{i}']=y_test.shift(periods=-i, freq='H')"
   ]
  },
  {
   "cell_type": "code",
   "execution_count": 35,
   "metadata": {},
   "outputs": [
    {
     "data": {
      "text/html": [
       "<div>\n",
       "<style scoped>\n",
       "    .dataframe tbody tr th:only-of-type {\n",
       "        vertical-align: middle;\n",
       "    }\n",
       "\n",
       "    .dataframe tbody tr th {\n",
       "        vertical-align: top;\n",
       "    }\n",
       "\n",
       "    .dataframe thead th {\n",
       "        text-align: right;\n",
       "    }\n",
       "</style>\n",
       "<table border=\"1\" class=\"dataframe\">\n",
       "  <thead>\n",
       "    <tr style=\"text-align: right;\">\n",
       "      <th></th>\n",
       "      <th>y_0</th>\n",
       "      <th>y_1</th>\n",
       "      <th>y_2</th>\n",
       "      <th>y_3</th>\n",
       "      <th>y_4</th>\n",
       "      <th>y_5</th>\n",
       "      <th>y_6</th>\n",
       "      <th>y_7</th>\n",
       "      <th>y_8</th>\n",
       "      <th>y_9</th>\n",
       "      <th>...</th>\n",
       "      <th>y_14</th>\n",
       "      <th>y_15</th>\n",
       "      <th>y_16</th>\n",
       "      <th>y_17</th>\n",
       "      <th>y_18</th>\n",
       "      <th>y_19</th>\n",
       "      <th>y_20</th>\n",
       "      <th>y_21</th>\n",
       "      <th>y_22</th>\n",
       "      <th>y_23</th>\n",
       "    </tr>\n",
       "    <tr>\n",
       "      <th>Date_Time</th>\n",
       "      <th></th>\n",
       "      <th></th>\n",
       "      <th></th>\n",
       "      <th></th>\n",
       "      <th></th>\n",
       "      <th></th>\n",
       "      <th></th>\n",
       "      <th></th>\n",
       "      <th></th>\n",
       "      <th></th>\n",
       "      <th></th>\n",
       "      <th></th>\n",
       "      <th></th>\n",
       "      <th></th>\n",
       "      <th></th>\n",
       "      <th></th>\n",
       "      <th></th>\n",
       "      <th></th>\n",
       "      <th></th>\n",
       "      <th></th>\n",
       "      <th></th>\n",
       "    </tr>\n",
       "  </thead>\n",
       "  <tbody>\n",
       "    <tr>\n",
       "      <th>2005-03-04 10:00:00</th>\n",
       "      <td>970.0</td>\n",
       "      <td>1000.0</td>\n",
       "      <td>996.0</td>\n",
       "      <td>928.0</td>\n",
       "      <td>933.0</td>\n",
       "      <td>NaN</td>\n",
       "      <td>NaN</td>\n",
       "      <td>NaN</td>\n",
       "      <td>NaN</td>\n",
       "      <td>NaN</td>\n",
       "      <td>...</td>\n",
       "      <td>NaN</td>\n",
       "      <td>NaN</td>\n",
       "      <td>NaN</td>\n",
       "      <td>NaN</td>\n",
       "      <td>NaN</td>\n",
       "      <td>NaN</td>\n",
       "      <td>NaN</td>\n",
       "      <td>NaN</td>\n",
       "      <td>NaN</td>\n",
       "      <td>NaN</td>\n",
       "    </tr>\n",
       "    <tr>\n",
       "      <th>2005-03-04 11:00:00</th>\n",
       "      <td>1000.0</td>\n",
       "      <td>996.0</td>\n",
       "      <td>928.0</td>\n",
       "      <td>933.0</td>\n",
       "      <td>NaN</td>\n",
       "      <td>NaN</td>\n",
       "      <td>NaN</td>\n",
       "      <td>NaN</td>\n",
       "      <td>NaN</td>\n",
       "      <td>NaN</td>\n",
       "      <td>...</td>\n",
       "      <td>NaN</td>\n",
       "      <td>NaN</td>\n",
       "      <td>NaN</td>\n",
       "      <td>NaN</td>\n",
       "      <td>NaN</td>\n",
       "      <td>NaN</td>\n",
       "      <td>NaN</td>\n",
       "      <td>NaN</td>\n",
       "      <td>NaN</td>\n",
       "      <td>NaN</td>\n",
       "    </tr>\n",
       "    <tr>\n",
       "      <th>2005-03-04 12:00:00</th>\n",
       "      <td>996.0</td>\n",
       "      <td>928.0</td>\n",
       "      <td>933.0</td>\n",
       "      <td>NaN</td>\n",
       "      <td>NaN</td>\n",
       "      <td>NaN</td>\n",
       "      <td>NaN</td>\n",
       "      <td>NaN</td>\n",
       "      <td>NaN</td>\n",
       "      <td>NaN</td>\n",
       "      <td>...</td>\n",
       "      <td>NaN</td>\n",
       "      <td>NaN</td>\n",
       "      <td>NaN</td>\n",
       "      <td>NaN</td>\n",
       "      <td>NaN</td>\n",
       "      <td>NaN</td>\n",
       "      <td>NaN</td>\n",
       "      <td>NaN</td>\n",
       "      <td>NaN</td>\n",
       "      <td>NaN</td>\n",
       "    </tr>\n",
       "    <tr>\n",
       "      <th>2005-03-04 13:00:00</th>\n",
       "      <td>928.0</td>\n",
       "      <td>933.0</td>\n",
       "      <td>NaN</td>\n",
       "      <td>NaN</td>\n",
       "      <td>NaN</td>\n",
       "      <td>NaN</td>\n",
       "      <td>NaN</td>\n",
       "      <td>NaN</td>\n",
       "      <td>NaN</td>\n",
       "      <td>NaN</td>\n",
       "      <td>...</td>\n",
       "      <td>NaN</td>\n",
       "      <td>NaN</td>\n",
       "      <td>NaN</td>\n",
       "      <td>NaN</td>\n",
       "      <td>NaN</td>\n",
       "      <td>NaN</td>\n",
       "      <td>NaN</td>\n",
       "      <td>NaN</td>\n",
       "      <td>NaN</td>\n",
       "      <td>NaN</td>\n",
       "    </tr>\n",
       "    <tr>\n",
       "      <th>2005-03-04 14:00:00</th>\n",
       "      <td>933.0</td>\n",
       "      <td>NaN</td>\n",
       "      <td>NaN</td>\n",
       "      <td>NaN</td>\n",
       "      <td>NaN</td>\n",
       "      <td>NaN</td>\n",
       "      <td>NaN</td>\n",
       "      <td>NaN</td>\n",
       "      <td>NaN</td>\n",
       "      <td>NaN</td>\n",
       "      <td>...</td>\n",
       "      <td>NaN</td>\n",
       "      <td>NaN</td>\n",
       "      <td>NaN</td>\n",
       "      <td>NaN</td>\n",
       "      <td>NaN</td>\n",
       "      <td>NaN</td>\n",
       "      <td>NaN</td>\n",
       "      <td>NaN</td>\n",
       "      <td>NaN</td>\n",
       "      <td>NaN</td>\n",
       "    </tr>\n",
       "  </tbody>\n",
       "</table>\n",
       "<p>5 rows × 24 columns</p>\n",
       "</div>"
      ],
      "text/plain": [
       "                        y_0     y_1    y_2    y_3    y_4  y_5  y_6  y_7  y_8  \\\n",
       "Date_Time                                                                      \n",
       "2005-03-04 10:00:00   970.0  1000.0  996.0  928.0  933.0  NaN  NaN  NaN  NaN   \n",
       "2005-03-04 11:00:00  1000.0   996.0  928.0  933.0    NaN  NaN  NaN  NaN  NaN   \n",
       "2005-03-04 12:00:00   996.0   928.0  933.0    NaN    NaN  NaN  NaN  NaN  NaN   \n",
       "2005-03-04 13:00:00   928.0   933.0    NaN    NaN    NaN  NaN  NaN  NaN  NaN   \n",
       "2005-03-04 14:00:00   933.0     NaN    NaN    NaN    NaN  NaN  NaN  NaN  NaN   \n",
       "\n",
       "                     y_9  ...  y_14  y_15  y_16  y_17  y_18  y_19  y_20  y_21  \\\n",
       "Date_Time                 ...                                                   \n",
       "2005-03-04 10:00:00  NaN  ...   NaN   NaN   NaN   NaN   NaN   NaN   NaN   NaN   \n",
       "2005-03-04 11:00:00  NaN  ...   NaN   NaN   NaN   NaN   NaN   NaN   NaN   NaN   \n",
       "2005-03-04 12:00:00  NaN  ...   NaN   NaN   NaN   NaN   NaN   NaN   NaN   NaN   \n",
       "2005-03-04 13:00:00  NaN  ...   NaN   NaN   NaN   NaN   NaN   NaN   NaN   NaN   \n",
       "2005-03-04 14:00:00  NaN  ...   NaN   NaN   NaN   NaN   NaN   NaN   NaN   NaN   \n",
       "\n",
       "                     y_22  y_23  \n",
       "Date_Time                        \n",
       "2005-03-04 10:00:00   NaN   NaN  \n",
       "2005-03-04 11:00:00   NaN   NaN  \n",
       "2005-03-04 12:00:00   NaN   NaN  \n",
       "2005-03-04 13:00:00   NaN   NaN  \n",
       "2005-03-04 14:00:00   NaN   NaN  \n",
       "\n",
       "[5 rows x 24 columns]"
      ]
     },
     "execution_count": 35,
     "metadata": {},
     "output_type": "execute_result"
    }
   ],
   "source": [
    "y_train_df.tail()"
   ]
  },
  {
   "cell_type": "markdown",
   "metadata": {},
   "source": [
    "### Drop the missing data"
   ]
  },
  {
   "cell_type": "code",
   "execution_count": 36,
   "metadata": {},
   "outputs": [],
   "source": [
    "# drop the missing \n",
    "\n",
    "y_train_df.dropna(inplace=True)\n",
    "y_test_df.dropna(inplace=True)"
   ]
  },
  {
   "cell_type": "code",
   "execution_count": 37,
   "metadata": {},
   "outputs": [],
   "source": [
    "train = train.loc[y_train_df.index]\n",
    "test = test.loc[y_test_df.index]"
   ]
  },
  {
   "cell_type": "code",
   "execution_count": 38,
   "metadata": {},
   "outputs": [],
   "source": [
    "assert y_train_df.index.min() == train.index.min() and y_train_df.index.max() == train.index.max()"
   ]
  },
  {
   "cell_type": "code",
   "execution_count": 39,
   "metadata": {},
   "outputs": [
    {
     "name": "stdout",
     "output_type": "stream",
     "text": [
      "No missing values present\n"
     ]
    }
   ],
   "source": [
    "print('missing values present') if all(y_train_df.isna().sum() > 0) else print('No missing values present')"
   ]
  },
  {
   "cell_type": "markdown",
   "metadata": {},
   "source": [
    "## Apply feature engineering pipeline"
   ]
  },
  {
   "cell_type": "code",
   "execution_count": 40,
   "metadata": {},
   "outputs": [],
   "source": [
    "X_train = pipe.fit_transform(train)\n",
    "X_test = pipe.transform(test)"
   ]
  },
  {
   "cell_type": "code",
   "execution_count": 41,
   "metadata": {},
   "outputs": [
    {
     "name": "stdout",
     "output_type": "stream",
     "text": [
      "Start index X_train : 2004-04-05 00:00:00 \n",
      "Start index y_train : 2004-04-04 00:00:00\n",
      "Index end X_train : 2005-03-03 15:00:00 \n",
      "Index end y_train : 2005-03-03 15:00:00\n"
     ]
    }
   ],
   "source": [
    "print('Start index X_train :',X_train.index.min(),'\\nStart index y_train :',y_train_df.index.min())\n",
    "print('Index end X_train :',X_train.index.max(),'\\nIndex end y_train :',y_train_df.index.max())"
   ]
  },
  {
   "cell_type": "code",
   "execution_count": 42,
   "metadata": {},
   "outputs": [],
   "source": [
    "y_train_df = y_train_df.loc[X_train.index]\n",
    "y_test_df = y_test_df.loc[X_test.index]"
   ]
  },
  {
   "cell_type": "code",
   "execution_count": 43,
   "metadata": {},
   "outputs": [
    {
     "name": "stdout",
     "output_type": "stream",
     "text": [
      "Start index X_train : 2004-04-05 00:00:00 \n",
      "Start index y_train : 2004-04-05 00:00:00\n",
      "Index end X_train : 2005-03-03 15:00:00 \n",
      "Index end y_train : 2005-03-03 15:00:00\n"
     ]
    }
   ],
   "source": [
    "print('Start index X_train :',X_train.index.min(),'\\nStart index y_train :',y_train_df.index.min())\n",
    "print('Index end X_train :',X_train.index.max(),'\\nIndex end y_train :',y_train_df.index.max())"
   ]
  },
  {
   "cell_type": "markdown",
   "metadata": {},
   "source": [
    "## Modeling - Lasso"
   ]
  },
  {
   "cell_type": "code",
   "execution_count": 44,
   "metadata": {},
   "outputs": [
    {
     "name": "stdout",
     "output_type": "stream",
     "text": [
      "Shape of y_pred (425, 24)\n"
     ]
    }
   ],
   "source": [
    "# Lasso regression\n",
    "\n",
    "# Using the MultiOutputRegressor, we automatically create\n",
    "# one Lasso for each target.\n",
    "\n",
    "from sklearn.multioutput import MultiOutputRegressor\n",
    "from sklearn.linear_model import Lasso, MultiTaskLasso\n",
    "\n",
    "\n",
    "lasso = MultiOutputRegressor(Lasso())\n",
    "lasso.fit(X_train, y_train_df)\n",
    "y_pred = lasso.predict(X_test)\n",
    "\n",
    "print('Shape of y_pred', y_pred.shape)\n",
    "\n",
    "y_pred_df = pd.DataFrame(data=y_pred, columns=y_test_df.columns)\n"
   ]
  },
  {
   "cell_type": "code",
   "execution_count": 45,
   "metadata": {},
   "outputs": [],
   "source": [
    "\n",
    "mse = []\n",
    "mae = []\n",
    "y_i = []\n",
    "for i in range(forecast_horizon):\n",
    "    mse.append(mean_squared_error(y_test_df[f'y_{i}'], y_pred_df[f'y_{i}']))\n",
    "    mae.append(mean_absolute_error(y_test_df[f'y_{i}'], y_pred_df[f'y_{i}']))\n",
    "    y_i.append(f'y_{i}')\n"
   ]
  },
  {
   "cell_type": "code",
   "execution_count": 46,
   "metadata": {},
   "outputs": [
    {
     "data": {
      "image/png": "[encoded data removed]",
      "text/plain": [
       "<Figure size 1296x288 with 1 Axes>"
      ]
     },
     "metadata": {
      "needs_background": "light"
     },
     "output_type": "display_data"
    }
   ],
   "source": [
    "plt.figure(figsize=(18,4))\n",
    "plt.stem(y_i, mae)\n",
    "plt.title('Mean Absolute Error');"
   ]
  },
  {
   "cell_type": "markdown",
   "metadata": {},
   "source": [
    "## Visualize the predictions"
   ]
  },
  {
   "cell_type": "code",
   "execution_count": 47,
   "metadata": {},
   "outputs": [
    {
     "data": {
      "image/png": "[encoded data removed]",
      "text/plain": [
       "<Figure size 1080x288 with 1 Axes>"
      ]
     },
     "metadata": {
      "needs_background": "light"
     },
     "output_type": "display_data"
    }
   ],
   "source": [
    "plt.figure(figsize=(15, 4))\n",
    "plt.plot(y_test_df.iloc[0,:], label='y-true')\n",
    "plt.plot(y_pred[0,:], label='y-pred')\n",
    "plt.xticks(rotation=90);"
   ]
  },
  {
   "cell_type": "markdown",
   "metadata": {},
   "source": [
    "## Lasso model - coefs \n",
    "\n",
    "We can fit a lasso model for every target y in the y_train_df and collect the coefs"
   ]
  },
  {
   "cell_type": "code",
   "execution_count": 48,
   "metadata": {},
   "outputs": [
    {
     "name": "stdout",
     "output_type": "stream",
     "text": [
      "Shape of X_train : (5784, 16)\n",
      "Shape of y_train_df : (5784, 24)\n"
     ]
    }
   ],
   "source": [
    "print('Shape of X_train :',X_train.shape)\n",
    "print('Shape of y_train_df :',y_train_df.shape)"
   ]
  },
  {
   "cell_type": "markdown",
   "metadata": {},
   "source": [
    "We have 16 features and 24 tasks to fit.\n",
    "\n",
    "Lets fit 24 lasso models and collect the coefs and visualize"
   ]
  },
  {
   "cell_type": "code",
   "execution_count": 49,
   "metadata": {},
   "outputs": [
    {
     "name": "stdout",
     "output_type": "stream",
     "text": [
      "(24, 16)\n"
     ]
    }
   ],
   "source": [
    "lasso_coefs = np.array([Lasso().fit(X_train, y).coef_ for y in y_train_df.values.T])\n",
    "print(lasso_coefs.shape)"
   ]
  },
  {
   "cell_type": "code",
   "execution_count": 50,
   "metadata": {},
   "outputs": [
    {
     "data": {
      "image/png": "[encoded data removed]",
      "text/plain": [
       "<Figure size 432x288 with 1 Axes>"
      ]
     },
     "metadata": {
      "needs_background": "light"
     },
     "output_type": "display_data"
    }
   ],
   "source": [
    "# Non zero - coefs\n",
    "plt.spy(lasso_coefs);\n",
    "plt.xlabel('features')\n",
    "plt.ylabel('tasks');"
   ]
  },
  {
   "cell_type": "markdown",
   "metadata": {},
   "source": [
    "\n",
    "## Multi Task Lasso"
   ]
  },
  {
   "cell_type": "code",
   "execution_count": 51,
   "metadata": {},
   "outputs": [
    {
     "name": "stdout",
     "output_type": "stream",
     "text": [
      "Shape of y_pred (425, 24)\n"
     ]
    }
   ],
   "source": [
    "multi_task_lasso = MultiTaskLasso()\n",
    "multi_task_lasso.fit(X_train, y_train_df)\n",
    "y_pred = multi_task_lasso.predict(X_test)\n",
    "\n",
    "print('Shape of y_pred', y_pred.shape)\n",
    "\n",
    "y_pred_df = pd.DataFrame(data=y_pred, columns=y_test_df.columns)\n",
    "\n",
    "score = {}\n",
    "for i in range(forecast_horizon):\n",
    "    mse = mean_squared_error(y_test_df[f'y_{i}'], y_pred_df[f'y_{i}'])\n",
    "    mae = mean_absolute_error(y_test_df[f'y_{i}'], y_pred_df[f'y_{i}'])\n",
    "    score[f'y_{i}'] = {'mse':mse, 'mae':mae}"
   ]
  },
  {
   "cell_type": "code",
   "execution_count": 52,
   "metadata": {},
   "outputs": [
    {
     "data": {
      "text/plain": [
       "{'y_0': {'mse': 8757.368063722392, 'mae': 66.07720283475298},\n",
       " 'y_1': {'mse': 21754.652546797694, 'mae': 103.17895585411266},\n",
       " 'y_2': {'mse': 32093.283521422585, 'mae': 127.37887437976286},\n",
       " 'y_3': {'mse': 37460.707017919434, 'mae': 142.39049583819352},\n",
       " 'y_4': {'mse': 39125.442385065704, 'mae': 149.8850486962671},\n",
       " 'y_5': {'mse': 37186.442863846605, 'mae': 149.17130023450073},\n",
       " 'y_6': {'mse': 31305.846553812826, 'mae': 136.22264360670684},\n",
       " 'y_7': {'mse': 24550.834013417483, 'mae': 119.6438945022591},\n",
       " 'y_8': {'mse': 22682.67431017133, 'mae': 113.35095867012066},\n",
       " 'y_9': {'mse': 25430.404282249376, 'mae': 120.9264517529346},\n",
       " 'y_10': {'mse': 24240.741241557094, 'mae': 119.22771879800018},\n",
       " 'y_11': {'mse': 22809.60675733672, 'mae': 114.2722689598002},\n",
       " 'y_12': {'mse': 23570.98543887992, 'mae': 110.59051458685136},\n",
       " 'y_13': {'mse': 26440.149913838693, 'mae': 114.08256063585516},\n",
       " 'y_14': {'mse': 30416.84565361761, 'mae': 120.95985565421654},\n",
       " 'y_15': {'mse': 33769.68260343135, 'mae': 129.54103198484594},\n",
       " 'y_16': {'mse': 35059.18861509233, 'mae': 135.14238724022596},\n",
       " 'y_17': {'mse': 33699.333512042314, 'mae': 134.57864731684552},\n",
       " 'y_18': {'mse': 30698.399018590142, 'mae': 131.22778406559172},\n",
       " 'y_19': {'mse': 28003.56710216097, 'mae': 125.69349349389296},\n",
       " 'y_20': {'mse': 24234.5027730682, 'mae': 114.75914790582357},\n",
       " 'y_21': {'mse': 19307.21182640063, 'mae': 100.36936232120082},\n",
       " 'y_22': {'mse': 18749.623801490776, 'mae': 99.24119208436728},\n",
       " 'y_23': {'mse': 18569.358571543526, 'mae': 98.14939695041333}}"
      ]
     },
     "execution_count": 52,
     "metadata": {},
     "output_type": "execute_result"
    }
   ],
   "source": [
    "score"
   ]
  },
  {
   "cell_type": "markdown",
   "metadata": {},
   "source": [
    "The multi-task lasso allows to fit multiple regression problems jointly enforcing the selected features to be the same across tasks."
   ]
  },
  {
   "cell_type": "code",
   "execution_count": 53,
   "metadata": {},
   "outputs": [
    {
     "data": {
      "text/plain": [
       "Text(0, 0.5, 'tasks')"
      ]
     },
     "execution_count": 53,
     "metadata": {},
     "output_type": "execute_result"
    },
    {
     "data": {
      "image/png": "[encoded data removed]",
      "text/plain": [
       "<Figure size 432x288 with 1 Axes>"
      ]
     },
     "metadata": {
      "needs_background": "light"
     },
     "output_type": "display_data"
    }
   ],
   "source": [
    "\n",
    "plt.spy(multi_task_lasso.coef_);\n",
    "plt.xlabel('features')\n",
    "plt.ylabel('tasks')"
   ]
  },
  {
   "cell_type": "markdown",
   "metadata": {},
   "source": [
    "## Visualize prediction "
   ]
  },
  {
   "cell_type": "code",
   "execution_count": 54,
   "metadata": {},
   "outputs": [
    {
     "data": {
      "image/png": "[encoded data removed]",
      "text/plain": [
       "<Figure size 1080x288 with 1 Axes>"
      ]
     },
     "metadata": {
      "needs_background": "light"
     },
     "output_type": "display_data"
    }
   ],
   "source": [
    "plt.figure(figsize=(15, 4))\n",
    "plt.plot(y_test_df.iloc[0,:], label='y-true')\n",
    "plt.plot(y_pred[0,:], label='y-pred')\n",
    "plt.xticks(rotation=90);"
   ]
  },
  {
   "cell_type": "code",
   "execution_count": null,
   "metadata": {},
   "outputs": [],
   "source": []
  }
 ],
 "metadata": {
  "kernelspec": {
   "display_name": "Python 3.9.13 ('timeseries-env': venv)",
   "language": "python",
   "name": "python3"
  },
  "language_info": {
   "codemirror_mode": {
    "name": "ipython",
    "version": 3
   },
   "file_extension": ".py",
   "mimetype": "text/x-python",
   "name": "python",
   "nbconvert_exporter": "python",
   "pygments_lexer": "ipython3",
   "version": "3.9.13"
  },
  "orig_nbformat": 4,
  "vscode": {
   "interpreter": {
    "hash": "5344483434f8feb0f4e4edbcac037dc40f14ec44f0a8519da7d24204004147d4"
   }
  }
 },
 "nbformat": 4,
 "nbformat_minor": 2
}
