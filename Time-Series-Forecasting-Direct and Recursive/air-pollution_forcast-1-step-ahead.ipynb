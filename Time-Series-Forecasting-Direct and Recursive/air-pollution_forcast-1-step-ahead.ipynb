{
 "cells": [
  {
   "cell_type": "markdown",
   "metadata": {},
   "source": [
    "## Forecasting one step ahead"
   ]
  },
  {
   "cell_type": "code",
   "execution_count": 1,
   "metadata": {},
   "outputs": [],
   "source": [
    "import pandas as pd\n",
    "import matplotlib.pyplot as plt"
   ]
  },
  {
   "cell_type": "markdown",
   "metadata": {},
   "source": [
    "## Load Data"
   ]
  },
  {
   "cell_type": "code",
   "execution_count": 2,
   "metadata": {},
   "outputs": [
    {
     "data": {
      "text/html": [
       "<div>\n",
       "<style scoped>\n",
       "    .dataframe tbody tr th:only-of-type {\n",
       "        vertical-align: middle;\n",
       "    }\n",
       "\n",
       "    .dataframe tbody tr th {\n",
       "        vertical-align: top;\n",
       "    }\n",
       "\n",
       "    .dataframe thead th {\n",
       "        text-align: right;\n",
       "    }\n",
       "</style>\n",
       "<table border=\"1\" class=\"dataframe\">\n",
       "  <thead>\n",
       "    <tr style=\"text-align: right;\">\n",
       "      <th></th>\n",
       "      <th>CO_sensor</th>\n",
       "      <th>RH</th>\n",
       "    </tr>\n",
       "    <tr>\n",
       "      <th>Date_Time</th>\n",
       "      <th></th>\n",
       "      <th></th>\n",
       "    </tr>\n",
       "  </thead>\n",
       "  <tbody>\n",
       "    <tr>\n",
       "      <th>2004-04-04 00:00:00</th>\n",
       "      <td>1224.0</td>\n",
       "      <td>56.5</td>\n",
       "    </tr>\n",
       "    <tr>\n",
       "      <th>2004-04-04 01:00:00</th>\n",
       "      <td>1215.0</td>\n",
       "      <td>59.2</td>\n",
       "    </tr>\n",
       "    <tr>\n",
       "      <th>2004-04-04 02:00:00</th>\n",
       "      <td>1115.0</td>\n",
       "      <td>62.4</td>\n",
       "    </tr>\n",
       "    <tr>\n",
       "      <th>2004-04-04 03:00:00</th>\n",
       "      <td>1124.0</td>\n",
       "      <td>65.0</td>\n",
       "    </tr>\n",
       "    <tr>\n",
       "      <th>2004-04-04 04:00:00</th>\n",
       "      <td>1028.0</td>\n",
       "      <td>65.3</td>\n",
       "    </tr>\n",
       "  </tbody>\n",
       "</table>\n",
       "</div>"
      ],
      "text/plain": [
       "                     CO_sensor    RH\n",
       "Date_Time                           \n",
       "2004-04-04 00:00:00     1224.0  56.5\n",
       "2004-04-04 01:00:00     1215.0  59.2\n",
       "2004-04-04 02:00:00     1115.0  62.4\n",
       "2004-04-04 03:00:00     1124.0  65.0\n",
       "2004-04-04 04:00:00     1028.0  65.3"
      ]
     },
     "execution_count": 2,
     "metadata": {},
     "output_type": "execute_result"
    }
   ],
   "source": [
    "df = pd.read_csv('../../Datasets/AirQualityUCI_ready.csv', \n",
    "parse_dates=['Date_Time'], \n",
    "index_col=['Date_Time'], usecols=['CO_sensor', 'RH', 'Date_Time'])\n",
    "\n",
    "df = df.sort_index()\n",
    "\n",
    "df = df.loc[\"2004-04-01\":\"2005-04-30\"]\n",
    "\n",
    "df = df.loc[(df[\"CO_sensor\"] > 0)]\n",
    "\n",
    "df.head()"
   ]
  },
  {
   "cell_type": "markdown",
   "metadata": {},
   "source": [
    "## Feature Engineering Pipeline with  feature engine"
   ]
  },
  {
   "cell_type": "code",
   "execution_count": 3,
   "metadata": {},
   "outputs": [],
   "source": [
    "from sklearn.pipeline import Pipeline\n",
    "\n",
    "from feature_engine.datetime import DatetimeFeatures\n",
    "from feature_engine.creation import CyclicalFeatures\n",
    "from feature_engine.timeseries.forecasting import LagFeatures\n",
    "from feature_engine.timeseries.forecasting import WindowFeatures\n",
    "from feature_engine.selection import DropFeatures\n",
    "from feature_engine.imputation import DropMissingData\n",
    "\n",
    "\n",
    "date_feat = DatetimeFeatures(variables='index', \n",
    "            features_to_extract=['hour','month','week','weekend','day_of_week','day_of_month'])\n",
    "\n",
    "cyclic_feat = CyclicalFeatures(variables=['hour','month'], drop_original=False)\n",
    "\n",
    "lag_feat = LagFeatures(variables=['CO_sensor','RH'], freq=['1H','24H'], missing_values='ignore')\n",
    "\n",
    "window_feat = WindowFeatures(variables=['CO_sensor', 'RH'], \n",
    "        freq='1H', window='3H',\n",
    "        missing_values='ignore',\n",
    "        functions=['mean'])\n",
    "\n",
    "drop_missing = DropMissingData()\n",
    "\n",
    "drop_feat = DropFeatures(features_to_drop=['CO_sensor', 'RH'])"
   ]
  },
  {
   "cell_type": "code",
   "execution_count": 4,
   "metadata": {},
   "outputs": [],
   "source": [
    "pipe = Pipeline([ \n",
    "    ('datetime-features', date_feat),\n",
    "    ('cyclic-features', cyclic_feat),\n",
    "    ('lag', lag_feat),\n",
    "    ('window', window_feat),\n",
    "    ('drop-missing', drop_missing),\n",
    "    ('avoid-lookahead-bias', drop_feat)\n",
    "])\n"
   ]
  },
  {
   "cell_type": "markdown",
   "metadata": {},
   "source": [
    "## Train Test Split\n",
    "\n",
    "\n",
    "Due to our 24h lag feature, we need data about the pollutant information at least 24 hours before the first forecasting point in the test set to create input features.\n",
    "\n",
    "Thus, the test set must contain the first forecasting point plus the previous 24 hours.\n",
    "\n",
    "\n"
   ]
  },
  {
   "cell_type": "code",
   "execution_count": 5,
   "metadata": {},
   "outputs": [
    {
     "name": "stdout",
     "output_type": "stream",
     "text": [
      "start : 2004-04-04 00:00:00,  end : 2005-04-04 14:00:00\n",
      "last month start : 2005-03-04 14:00:00\n"
     ]
    }
   ],
   "source": [
    "print(f'start : {df.index.min()},  end : {df.index.max()}')\n",
    "print(f\"last month start : {(df.index.max() - pd.Timedelta(value='31D'))}\")"
   ]
  },
  {
   "cell_type": "markdown",
   "metadata": {},
   "source": [
    "#### The last month of data begins on `2005-03-4`.\n",
    "\n",
    "#### But we need `24 hr` of prior data to create\n",
    "#### the necessary lag features:\n"
   ]
  },
  {
   "cell_type": "code",
   "execution_count": 6,
   "metadata": {},
   "outputs": [
    {
     "name": "stdout",
     "output_type": "stream",
     "text": [
      "start : 2004-04-04 00:00:00,  end : 2005-03-04 14:00:00\n"
     ]
    }
   ],
   "source": [
    "train_data = df.loc[df.index.min():(df.index.max() - pd.Timedelta(value='31D'))]\n",
    "print(f'start : {train_data.index.min()},  end : {train_data.index.max()}')"
   ]
  },
  {
   "cell_type": "code",
   "execution_count": 7,
   "metadata": {},
   "outputs": [
    {
     "name": "stdout",
     "output_type": "stream",
     "text": [
      "start : 2005-03-03 14:00:00,  end : 2005-04-04 14:00:00\n"
     ]
    }
   ],
   "source": [
    "test_data = df.loc[(df.index.max() - pd.Timedelta(value='32D')):]\n",
    "print(f'start : {test_data.index.min()},  end : {test_data.index.max()}')"
   ]
  },
  {
   "cell_type": "markdown",
   "metadata": {},
   "source": [
    "## Train & Test data Pipeline"
   ]
  },
  {
   "cell_type": "code",
   "execution_count": 8,
   "metadata": {},
   "outputs": [
    {
     "name": "stdout",
     "output_type": "stream",
     "text": [
      "Shape of X_train : (6442, 16) \n",
      "Shape of y_train : (6442,)\n"
     ]
    }
   ],
   "source": [
    "X_train = pipe.fit_transform(train_data)\n",
    "\n",
    "y_train = train_data['CO_sensor']\n",
    "\n",
    "y_train = y_train.loc[X_train.index]\n",
    "\n",
    "print('Shape of X_train :',X_train.shape,'\\nShape of y_train :',y_train.shape)"
   ]
  },
  {
   "cell_type": "code",
   "execution_count": 9,
   "metadata": {},
   "outputs": [
    {
     "name": "stdout",
     "output_type": "stream",
     "text": [
      "Shape of X_test : (481, 16) \n",
      "Shape of y_test : (481,)\n"
     ]
    }
   ],
   "source": [
    "X_test = pipe.transform(test_data)\n",
    "\n",
    "y_test = test_data['CO_sensor']\n",
    "\n",
    "y_test = y_test.loc[X_test.index]\n",
    "\n",
    "print('Shape of X_test :',X_test.shape,'\\nShape of y_test :',y_test.shape)"
   ]
  },
  {
   "cell_type": "markdown",
   "metadata": {},
   "source": [
    "## Model"
   ]
  },
  {
   "cell_type": "code",
   "execution_count": 10,
   "metadata": {},
   "outputs": [
    {
     "name": "stdout",
     "output_type": "stream",
     "text": [
      "MSE : 9228.649750841569\n",
      "MAE : 66.83326344904962\n"
     ]
    }
   ],
   "source": [
    "from sklearn.linear_model import Lasso\n",
    "from sklearn.metrics import mean_absolute_error, mean_squared_error\n",
    "\n",
    "\n",
    "lasso = Lasso().fit(X_train, y_train)\n",
    "y_pred = lasso.predict(X_test)\n",
    "\n",
    "print('MSE :',mean_squared_error(y_test, y_pred))\n",
    "print('MAE :',mean_absolute_error(y_test, y_pred))"
   ]
  },
  {
   "cell_type": "markdown",
   "metadata": {},
   "source": [
    "## Visuals"
   ]
  },
  {
   "cell_type": "code",
   "execution_count": 11,
   "metadata": {},
   "outputs": [
    {
     "data": {
      "image/png": "[encoded data removed]",
      "text/plain": [
       "<Figure size 432x288 with 1 Axes>"
      ]
     },
     "metadata": {
      "needs_background": "light"
     },
     "output_type": "display_data"
    }
   ],
   "source": [
    "plt.scatter(y_test, y_pred);"
   ]
  },
  {
   "cell_type": "markdown",
   "metadata": {},
   "source": [
    "## Bayesian Modeling"
   ]
  },
  {
   "cell_type": "code",
   "execution_count": 12,
   "metadata": {},
   "outputs": [
    {
     "name": "stdout",
     "output_type": "stream",
     "text": [
      "MSE : 9155.301913340058\n",
      "MAE : 66.78137595598612\n"
     ]
    },
    {
     "data": {
      "image/png": "[encoded data removed]",
      "text/plain": [
       "<Figure size 432x288 with 1 Axes>"
      ]
     },
     "metadata": {
      "needs_background": "light"
     },
     "output_type": "display_data"
    }
   ],
   "source": [
    "from sklearn.linear_model import BayesianRidge, ARDRegression\n",
    "\n",
    "\n",
    "bays = BayesianRidge(compute_score=True, lambda_init=0.01)\n",
    "bays.fit(X_train, y_train)\n",
    "\n",
    "y_pred, y_std = bays.predict(X_test, return_std=True)\n",
    "\n",
    "print('MSE :',mean_squared_error(y_test, y_pred))\n",
    "print('MAE :',mean_absolute_error(y_test, y_pred))\n",
    "\n",
    "plt.scatter(y_test, y_pred);\n",
    "plt.fill_between(y_test, y_pred-y_std, y_pred+y_std, alpha=0.5);\n",
    "\n"
   ]
  },
  {
   "cell_type": "markdown",
   "metadata": {},
   "source": [
    "## Bayesian ARD regression.\n",
    "\n",
    "\n",
    "Fit the weights of a regression model, using an ARD prior. The weights of the regression model are assumed to be in Gaussian distributions. Also estimate the parameters lambda (precisions of the distributions of the weights) and alpha (precision of the distribution of the noise). "
   ]
  },
  {
   "cell_type": "code",
   "execution_count": 13,
   "metadata": {},
   "outputs": [
    {
     "name": "stdout",
     "output_type": "stream",
     "text": [
      "MSE : 9170.028925178112\n",
      "MAE : 66.86830420393434\n"
     ]
    },
    {
     "data": {
      "image/png": "[encoded data removed]",
      "text/plain": [
       "<Figure size 432x288 with 1 Axes>"
      ]
     },
     "metadata": {
      "needs_background": "light"
     },
     "output_type": "display_data"
    }
   ],
   "source": [
    "ard = ARDRegression(compute_score=True)\n",
    "ard.fit(X_train, y_train)\n",
    "\n",
    "y_pred = ard.predict(X_test)\n",
    "\n",
    "\n",
    "print('MSE :',mean_squared_error(y_test, y_pred))\n",
    "print('MAE :',mean_absolute_error(y_test, y_pred))\n",
    "\n",
    "plt.scatter(y_test, y_pred);\n",
    "plt.fill_between(y_test, y_pred-y_std, y_pred+y_std, alpha=0.5);"
   ]
  },
  {
   "cell_type": "code",
   "execution_count": null,
   "metadata": {},
   "outputs": [],
   "source": []
  }
 ],
 "metadata": {
  "kernelspec": {
   "display_name": "Python 3.9.13 ('timeseries-env': venv)",
   "language": "python",
   "name": "python3"
  },
  "language_info": {
   "codemirror_mode": {
    "name": "ipython",
    "version": 3
   },
   "file_extension": ".py",
   "mimetype": "text/x-python",
   "name": "python",
   "nbconvert_exporter": "python",
   "pygments_lexer": "ipython3",
   "version": "3.9.13"
  },
  "orig_nbformat": 4,
  "vscode": {
   "interpreter": {
    "hash": "5344483434f8feb0f4e4edbcac037dc40f14ec44f0a8519da7d24204004147d4"
   }
  }
 },
 "nbformat": 4,
 "nbformat_minor": 2
}
