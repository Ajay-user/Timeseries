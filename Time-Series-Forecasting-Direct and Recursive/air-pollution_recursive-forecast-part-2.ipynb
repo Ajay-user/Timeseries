{
 "cells": [
  {
   "cell_type": "markdown",
   "metadata": {},
   "source": [
    "## Multi-step forecasting: recursive approach\n",
    "\n",
    "We want to predict / forecast multiple steps ahead\n",
    "\n",
    "* Use forecasted output as new input.\n",
    "* Recursively apply a 1-step ahead forecast model\n",
    "\n",
    "In recursive approach we have only only 1 time series model.\n",
    "* Each forecasting point is estimated using previous forecasts.\n",
    "* More code to take the forecasts as inputs, and re-create the features.\n",
    "\n",
    "#### CONS\n",
    "* Error propagates\n",
    "* Code complexity\n",
    "* Inputs are forecast\n",
    "\n",
    "#### PROS\n",
    "* Only one model\n",
    "* Less computation time\n"
   ]
  },
  {
   "cell_type": "code",
   "execution_count": 1,
   "metadata": {},
   "outputs": [],
   "source": [
    "import pandas as pd\n",
    "import numpy as np\n",
    "import matplotlib.pyplot as plt\n",
    "\n",
    "from sklearn.pipeline import Pipeline\n",
    "from sklearn.linear_model import Lasso, MultiTaskLasso\n",
    "from sklearn.metrics import mean_squared_error, mean_absolute_error\n",
    "\n",
    "from feature_engine.creation import CyclicalFeatures\n",
    "from feature_engine.datetime import DatetimeFeatures\n",
    "from feature_engine.timeseries.forecasting import LagFeatures, WindowFeatures\n",
    "from feature_engine.imputation import DropMissingData\n",
    "from feature_engine.selection import DropFeatures"
   ]
  },
  {
   "cell_type": "markdown",
   "metadata": {},
   "source": [
    "## Load the Data"
   ]
  },
  {
   "cell_type": "code",
   "execution_count": 4,
   "metadata": {},
   "outputs": [
    {
     "data": {
      "text/html": [
       "<div>\n",
       "<style scoped>\n",
       "    .dataframe tbody tr th:only-of-type {\n",
       "        vertical-align: middle;\n",
       "    }\n",
       "\n",
       "    .dataframe tbody tr th {\n",
       "        vertical-align: top;\n",
       "    }\n",
       "\n",
       "    .dataframe thead th {\n",
       "        text-align: right;\n",
       "    }\n",
       "</style>\n",
       "<table border=\"1\" class=\"dataframe\">\n",
       "  <thead>\n",
       "    <tr style=\"text-align: right;\">\n",
       "      <th></th>\n",
       "      <th>CO_sensor</th>\n",
       "      <th>RH</th>\n",
       "    </tr>\n",
       "    <tr>\n",
       "      <th>Date_Time</th>\n",
       "      <th></th>\n",
       "      <th></th>\n",
       "    </tr>\n",
       "  </thead>\n",
       "  <tbody>\n",
       "    <tr>\n",
       "      <th>2004-04-04 00:00:00</th>\n",
       "      <td>1224.0</td>\n",
       "      <td>56.5</td>\n",
       "    </tr>\n",
       "    <tr>\n",
       "      <th>2004-04-04 01:00:00</th>\n",
       "      <td>1215.0</td>\n",
       "      <td>59.2</td>\n",
       "    </tr>\n",
       "    <tr>\n",
       "      <th>2004-04-04 02:00:00</th>\n",
       "      <td>1115.0</td>\n",
       "      <td>62.4</td>\n",
       "    </tr>\n",
       "    <tr>\n",
       "      <th>2004-04-04 03:00:00</th>\n",
       "      <td>1124.0</td>\n",
       "      <td>65.0</td>\n",
       "    </tr>\n",
       "    <tr>\n",
       "      <th>2004-04-04 04:00:00</th>\n",
       "      <td>1028.0</td>\n",
       "      <td>65.3</td>\n",
       "    </tr>\n",
       "  </tbody>\n",
       "</table>\n",
       "</div>"
      ],
      "text/plain": [
       "                     CO_sensor    RH\n",
       "Date_Time                           \n",
       "2004-04-04 00:00:00     1224.0  56.5\n",
       "2004-04-04 01:00:00     1215.0  59.2\n",
       "2004-04-04 02:00:00     1115.0  62.4\n",
       "2004-04-04 03:00:00     1124.0  65.0\n",
       "2004-04-04 04:00:00     1028.0  65.3"
      ]
     },
     "execution_count": 4,
     "metadata": {},
     "output_type": "execute_result"
    }
   ],
   "source": [
    "df = pd.read_csv('../../Datasets/AirQualityUCI_ready.csv', \n",
    "parse_dates=['Date_Time'], index_col=['Date_Time'], usecols=['CO_sensor','RH', 'Date_Time'])\n",
    "\n",
    "df.sort_index(inplace=True)\n",
    "\n",
    "df=df.loc[\"2004-04-01\":\"2005-04-30\"]\n",
    "\n",
    "df = df.loc[df['CO_sensor']>0]\n",
    "\n",
    "# Add missing timestamps (easier for the demo)\n",
    "df = df.asfreq('1H')\n",
    "\n",
    "# fill missing\n",
    "df = df.fillna(method='ffill')\n",
    "\n",
    "df.head()"
   ]
  },
  {
   "cell_type": "markdown",
   "metadata": {},
   "source": [
    "## Feature Engineering pipeline"
   ]
  },
  {
   "cell_type": "code",
   "execution_count": 2,
   "metadata": {},
   "outputs": [],
   "source": [
    "date_feat = DatetimeFeatures(variables='index', \n",
    "features_to_extract=['hour','month', 'week' ,'weekend','day_of_week','day_of_month'])\n",
    "\n",
    "cyclic_feat = CyclicalFeatures(variables=['hour','month'])\n",
    "\n",
    "lag_feat = LagFeatures(variables=['CO_sensor', 'RH'], freq=['1H', '24H'], missing_values='ignore')\n",
    "\n",
    "window_feat = WindowFeatures(variables=['CO_sensor', 'RH'], window='3H' ,freq='1H', missing_values='ignore')\n",
    "\n",
    "drop_missing = DropMissingData()\n",
    "\n",
    "drop_feat = DropFeatures(features_to_drop=['CO_sensor','RH'])\n",
    "\n",
    "pipe = Pipeline([ \n",
    "    ('date', date_feat),\n",
    "    ('cyclic', cyclic_feat),\n",
    "    ('lag', lag_feat),\n",
    "    ('window', window_feat),\n",
    "    ('drop missing', drop_missing),\n",
    "    ('drop features', drop_feat)\n",
    "])"
   ]
  },
  {
   "cell_type": "markdown",
   "metadata": {},
   "source": [
    "## Split data into train and test\n",
    "\n",
    "We will leave the last month of data as hold-out sample to evaluate the performance of the model.\n",
    "\n",
    "Remember that we need data about the pollutant information at least 24 hours before the first forecast point in the test set to create the input features."
   ]
  },
  {
   "cell_type": "code",
   "execution_count": 5,
   "metadata": {},
   "outputs": [
    {
     "name": "stdout",
     "output_type": "stream",
     "text": [
      "Train Start Date:  2004-04-04 00:00:00 End Date : 2005-03-03 23:00:00\n",
      "Test Start Date:  2005-03-03 00:00:00 End Date : 2005-04-04 14:00:00\n"
     ]
    }
   ],
   "source": [
    "train = df.loc[df.index < \"2005-03-04\"]\n",
    "test = df.loc[pd.to_datetime(\"2005-03-04\")-pd.Timedelta(value='24H'):]\n",
    "\n",
    "y_train = df.loc[train.index,['CO_sensor','RH']]\n",
    "y_test = df.loc[test.index,['CO_sensor','RH']]\n",
    "\n",
    "print('Train Start Date: ',train.index.min(), 'End Date :', train.index.max())\n",
    "print('Test Start Date: ',test.index.min(), 'End Date :', test.index.max())"
   ]
  },
  {
   "cell_type": "markdown",
   "metadata": {},
   "source": [
    "## Apply Feature Engineering"
   ]
  },
  {
   "cell_type": "code",
   "execution_count": 6,
   "metadata": {},
   "outputs": [],
   "source": [
    "X_train = pipe.fit_transform(train)\n",
    "\n",
    "\n",
    "y_train = y_train.loc[X_train.index]\n"
   ]
  },
  {
   "cell_type": "markdown",
   "metadata": {},
   "source": [
    "## Modeling -- Lasso"
   ]
  },
  {
   "cell_type": "code",
   "execution_count": 7,
   "metadata": {},
   "outputs": [
    {
     "data": {
      "text/html": [
       "<style>#sk-container-id-1 {color: black;background-color: white;}#sk-container-id-1 pre{padding: 0;}#sk-container-id-1 div.sk-toggleable {background-color: white;}#sk-container-id-1 label.sk-toggleable__label {cursor: pointer;display: block;width: 100%;margin-bottom: 0;padding: 0.3em;box-sizing: border-box;text-align: center;}#sk-container-id-1 label.sk-toggleable__label-arrow:before {content: \"▸\";float: left;margin-right: 0.25em;color: #696969;}#sk-container-id-1 label.sk-toggleable__label-arrow:hover:before {color: black;}#sk-container-id-1 div.sk-estimator:hover label.sk-toggleable__label-arrow:before {color: black;}#sk-container-id-1 div.sk-toggleable__content {max-height: 0;max-width: 0;overflow: hidden;text-align: left;background-color: #f0f8ff;}#sk-container-id-1 div.sk-toggleable__content pre {margin: 0.2em;color: black;border-radius: 0.25em;background-color: #f0f8ff;}#sk-container-id-1 input.sk-toggleable__control:checked~div.sk-toggleable__content {max-height: 200px;max-width: 100%;overflow: auto;}#sk-container-id-1 input.sk-toggleable__control:checked~label.sk-toggleable__label-arrow:before {content: \"▾\";}#sk-container-id-1 div.sk-estimator input.sk-toggleable__control:checked~label.sk-toggleable__label {background-color: #d4ebff;}#sk-container-id-1 div.sk-label input.sk-toggleable__control:checked~label.sk-toggleable__label {background-color: #d4ebff;}#sk-container-id-1 input.sk-hidden--visually {border: 0;clip: rect(1px 1px 1px 1px);clip: rect(1px, 1px, 1px, 1px);height: 1px;margin: -1px;overflow: hidden;padding: 0;position: absolute;width: 1px;}#sk-container-id-1 div.sk-estimator {font-family: monospace;background-color: #f0f8ff;border: 1px dotted black;border-radius: 0.25em;box-sizing: border-box;margin-bottom: 0.5em;}#sk-container-id-1 div.sk-estimator:hover {background-color: #d4ebff;}#sk-container-id-1 div.sk-parallel-item::after {content: \"\";width: 100%;border-bottom: 1px solid gray;flex-grow: 1;}#sk-container-id-1 div.sk-label:hover label.sk-toggleable__label {background-color: #d4ebff;}#sk-container-id-1 div.sk-serial::before {content: \"\";position: absolute;border-left: 1px solid gray;box-sizing: border-box;top: 0;bottom: 0;left: 50%;z-index: 0;}#sk-container-id-1 div.sk-serial {display: flex;flex-direction: column;align-items: center;background-color: white;padding-right: 0.2em;padding-left: 0.2em;position: relative;}#sk-container-id-1 div.sk-item {position: relative;z-index: 1;}#sk-container-id-1 div.sk-parallel {display: flex;align-items: stretch;justify-content: center;background-color: white;position: relative;}#sk-container-id-1 div.sk-item::before, #sk-container-id-1 div.sk-parallel-item::before {content: \"\";position: absolute;border-left: 1px solid gray;box-sizing: border-box;top: 0;bottom: 0;left: 50%;z-index: -1;}#sk-container-id-1 div.sk-parallel-item {display: flex;flex-direction: column;z-index: 1;position: relative;background-color: white;}#sk-container-id-1 div.sk-parallel-item:first-child::after {align-self: flex-end;width: 50%;}#sk-container-id-1 div.sk-parallel-item:last-child::after {align-self: flex-start;width: 50%;}#sk-container-id-1 div.sk-parallel-item:only-child::after {width: 0;}#sk-container-id-1 div.sk-dashed-wrapped {border: 1px dashed gray;margin: 0 0.4em 0.5em 0.4em;box-sizing: border-box;padding-bottom: 0.4em;background-color: white;}#sk-container-id-1 div.sk-label label {font-family: monospace;font-weight: bold;display: inline-block;line-height: 1.2em;}#sk-container-id-1 div.sk-label-container {text-align: center;}#sk-container-id-1 div.sk-container {/* jupyter's `normalize.less` sets `[hidden] { display: none; }` but bootstrap.min.css set `[hidden] { display: none !important; }` so we also need the `!important` here to be able to override the default hidden behavior on the sphinx rendered scikit-learn.org. See: https://github.com/scikit-learn/scikit-learn/issues/21755 */display: inline-block !important;position: relative;}#sk-container-id-1 div.sk-text-repr-fallback {display: none;}</style><div id=\"sk-container-id-1\" class=\"sk-top-container\"><div class=\"sk-text-repr-fallback\"><pre>MultiOutputRegressor(estimator=Lasso())</pre><b>In a Jupyter environment, please rerun this cell to show the HTML representation or trust the notebook. <br />On GitHub, the HTML representation is unable to render, please try loading this page with nbviewer.org.</b></div><div class=\"sk-container\" hidden><div class=\"sk-item sk-dashed-wrapped\"><div class=\"sk-label-container\"><div class=\"sk-label sk-toggleable\"><input class=\"sk-toggleable__control sk-hidden--visually\" id=\"sk-estimator-id-1\" type=\"checkbox\" ><label for=\"sk-estimator-id-1\" class=\"sk-toggleable__label sk-toggleable__label-arrow\">MultiOutputRegressor</label><div class=\"sk-toggleable__content\"><pre>MultiOutputRegressor(estimator=Lasso())</pre></div></div></div><div class=\"sk-parallel\"><div class=\"sk-parallel-item\"><div class=\"sk-item\"><div class=\"sk-label-container\"><div class=\"sk-label sk-toggleable\"><input class=\"sk-toggleable__control sk-hidden--visually\" id=\"sk-estimator-id-2\" type=\"checkbox\" ><label for=\"sk-estimator-id-2\" class=\"sk-toggleable__label sk-toggleable__label-arrow\">estimator: Lasso</label><div class=\"sk-toggleable__content\"><pre>Lasso()</pre></div></div></div><div class=\"sk-serial\"><div class=\"sk-item\"><div class=\"sk-estimator sk-toggleable\"><input class=\"sk-toggleable__control sk-hidden--visually\" id=\"sk-estimator-id-3\" type=\"checkbox\" ><label for=\"sk-estimator-id-3\" class=\"sk-toggleable__label sk-toggleable__label-arrow\">Lasso</label><div class=\"sk-toggleable__content\"><pre>Lasso()</pre></div></div></div></div></div></div></div></div></div></div>"
      ],
      "text/plain": [
       "MultiOutputRegressor(estimator=Lasso())"
      ]
     },
     "execution_count": 7,
     "metadata": {},
     "output_type": "execute_result"
    }
   ],
   "source": [
    "from sklearn.multioutput import MultiOutputRegressor\n",
    "\n",
    "lasso = MultiOutputRegressor(Lasso())\n",
    "lasso.fit(X_train, y_train)"
   ]
  },
  {
   "cell_type": "markdown",
   "metadata": {},
   "source": [
    "# Recursive multi-step forecasting: test set\n",
    "\n",
    "We will forecast for 24 hours for various points in our dataset. \n",
    "\n",
    "We could do 24 hour forecasts for every point, or instead, we could forecast the next 24 hours at certain intervals.\n",
    "\n",
    "For simplicity, we will forecast 24 hours for every 24 hour interval."
   ]
  },
  {
   "cell_type": "code",
   "execution_count": 12,
   "metadata": {},
   "outputs": [
    {
     "data": {
      "text/plain": [
       "Timestamp('2005-03-04 00:00:00')"
      ]
     },
     "execution_count": 12,
     "metadata": {},
     "output_type": "execute_result"
    }
   ],
   "source": [
    "# The first hour of forecast.\n",
    "\n",
    "date_start = pd.Timestamp(\"2005-03-04\")\n",
    "date_start"
   ]
  },
  {
   "cell_type": "code",
   "execution_count": 13,
   "metadata": {},
   "outputs": [
    {
     "data": {
      "text/plain": [
       "Timestamp('2005-04-03 14:00:00', freq='H')"
      ]
     },
     "execution_count": 13,
     "metadata": {},
     "output_type": "execute_result"
    }
   ],
   "source": [
    "# The last hour of forecast \n",
    "# (24hs before the last timestamp in the test set).\n",
    "\n",
    "date_end = test.index.max() - pd.Timedelta(value='24H')\n",
    "date_end"
   ]
  },
  {
   "cell_type": "code",
   "execution_count": 17,
   "metadata": {},
   "outputs": [
    {
     "data": {
      "text/plain": [
       "DatetimeIndex(['2005-03-04', '2005-03-05', '2005-03-06', '2005-03-07',\n",
       "               '2005-03-08', '2005-03-09', '2005-03-10', '2005-03-11',\n",
       "               '2005-03-12', '2005-03-13', '2005-03-14', '2005-03-15',\n",
       "               '2005-03-16', '2005-03-17', '2005-03-18', '2005-03-19',\n",
       "               '2005-03-20', '2005-03-21', '2005-03-22', '2005-03-23',\n",
       "               '2005-03-24', '2005-03-25', '2005-03-26', '2005-03-27',\n",
       "               '2005-03-28', '2005-03-29', '2005-03-30', '2005-03-31',\n",
       "               '2005-04-01', '2005-04-02', '2005-04-03'],\n",
       "              dtype='datetime64[ns]', freq='D')"
      ]
     },
     "execution_count": 17,
     "metadata": {},
     "output_type": "execute_result"
    }
   ],
   "source": [
    "forecasting_points = pd.date_range(start=date_start, end=date_end, freq='D')\n",
    "forecasting_points"
   ]
  },
  {
   "cell_type": "code",
   "execution_count": 45,
   "metadata": {},
   "outputs": [],
   "source": [
    "# List to collect the MAE, MSE for each 24 hour forecast examined.\n",
    "\n",
    "mae, mse = [],[]\n",
    "\n",
    "for forecasting_point in forecasting_points:\n",
    "\n",
    "    # perpare 24Hrs of data prior to forecasting-point\n",
    "    input_data = test.loc[forecasting_point-pd.Timedelta(value='24H'):forecasting_point].copy()\n",
    "    input_data.loc[forecasting_point]=np.nan\n",
    "    \n",
    "    # forecast 24-steps from this point\n",
    "    index = pd.date_range(start=forecasting_point, periods=24, freq='H')\n",
    "    forecast_df = pd.DataFrame(index=index, columns=['CO_sensor','RH'])\n",
    "    # loop\n",
    "    for i in index:\n",
    "        # forecast\n",
    "        forecast_df.loc[i] = lasso.predict(pipe.transform(input_data))\n",
    "        # feed the prediction back \n",
    "        input_data.loc[i] = forecast_df.loc[i]\n",
    "        # shift the input\n",
    "        input_data = input_data.shift(periods=-1).shift(freq='1H')\n",
    "\n",
    "    y_truth = y_test.loc[forecast_df.index.min():forecast_df.index.max()]\n",
    "    mae.append(mean_absolute_error(y_truth['CO_sensor'], forecast_df['CO_sensor']))\n",
    "    mse.append(mean_squared_error(y_truth['CO_sensor'], forecast_df['CO_sensor']))\n",
    "    \n",
    "    \n",
    "    "
   ]
  },
  {
   "cell_type": "code",
   "execution_count": 49,
   "metadata": {},
   "outputs": [
    {
     "data": {
      "text/html": [
       "<div>\n",
       "<style scoped>\n",
       "    .dataframe tbody tr th:only-of-type {\n",
       "        vertical-align: middle;\n",
       "    }\n",
       "\n",
       "    .dataframe tbody tr th {\n",
       "        vertical-align: top;\n",
       "    }\n",
       "\n",
       "    .dataframe thead th {\n",
       "        text-align: right;\n",
       "    }\n",
       "</style>\n",
       "<table border=\"1\" class=\"dataframe\">\n",
       "  <thead>\n",
       "    <tr style=\"text-align: right;\">\n",
       "      <th></th>\n",
       "      <th>CO_sensor_forecast</th>\n",
       "      <th>RH_forecast</th>\n",
       "      <th>CO_sensor</th>\n",
       "      <th>RH</th>\n",
       "    </tr>\n",
       "  </thead>\n",
       "  <tbody>\n",
       "    <tr>\n",
       "      <th>2005-04-03 00:00:00</th>\n",
       "      <td>981.006719</td>\n",
       "      <td>47.000154</td>\n",
       "      <td>1213.0</td>\n",
       "      <td>80.9</td>\n",
       "    </tr>\n",
       "    <tr>\n",
       "      <th>2005-04-03 01:00:00</th>\n",
       "      <td>955.196776</td>\n",
       "      <td>47.826304</td>\n",
       "      <td>1142.0</td>\n",
       "      <td>81.2</td>\n",
       "    </tr>\n",
       "    <tr>\n",
       "      <th>2005-04-03 02:00:00</th>\n",
       "      <td>928.877399</td>\n",
       "      <td>48.652954</td>\n",
       "      <td>1089.0</td>\n",
       "      <td>80.9</td>\n",
       "    </tr>\n",
       "    <tr>\n",
       "      <th>2005-04-03 03:00:00</th>\n",
       "      <td>917.523255</td>\n",
       "      <td>49.673259</td>\n",
       "      <td>982.0</td>\n",
       "      <td>70.6</td>\n",
       "    </tr>\n",
       "    <tr>\n",
       "      <th>2005-04-03 04:00:00</th>\n",
       "      <td>909.272551</td>\n",
       "      <td>50.303907</td>\n",
       "      <td>888.0</td>\n",
       "      <td>65.1</td>\n",
       "    </tr>\n",
       "  </tbody>\n",
       "</table>\n",
       "</div>"
      ],
      "text/plain": [
       "                    CO_sensor_forecast RH_forecast  CO_sensor    RH\n",
       "2005-04-03 00:00:00         981.006719   47.000154     1213.0  80.9\n",
       "2005-04-03 01:00:00         955.196776   47.826304     1142.0  81.2\n",
       "2005-04-03 02:00:00         928.877399   48.652954     1089.0  80.9\n",
       "2005-04-03 03:00:00         917.523255   49.673259      982.0  70.6\n",
       "2005-04-03 04:00:00         909.272551   50.303907      888.0  65.1"
      ]
     },
     "execution_count": 49,
     "metadata": {},
     "output_type": "execute_result"
    }
   ],
   "source": [
    "# lets see the last forecast and true values\n",
    "temp = forecast_df.merge(y_test, left_index=True, right_index=True, suffixes=['_forecast',''])\n",
    "temp.head()"
   ]
  },
  {
   "cell_type": "code",
   "execution_count": 47,
   "metadata": {},
   "outputs": [
    {
     "data": {
      "text/plain": [
       "186.19939933402554"
      ]
     },
     "execution_count": 47,
     "metadata": {},
     "output_type": "execute_result"
    }
   ],
   "source": [
    "mean_absolute_error(temp['CO_sensor'], temp['CO_sensor_forecast'])"
   ]
  },
  {
   "cell_type": "markdown",
   "metadata": {},
   "source": [
    "## Mean performance across all 24 hr forecast"
   ]
  },
  {
   "cell_type": "code",
   "execution_count": 58,
   "metadata": {},
   "outputs": [
    {
     "name": "stdout",
     "output_type": "stream",
     "text": [
      "MAE : 104.15529795148264  STD : 46.968252499347244\n",
      "MSE : 22436.903511870485  STD : 17255.277937491664\n",
      "RMSE : 135.78580314748748  STD : 63.23858929057675\n"
     ]
    }
   ],
   "source": [
    "print( 'MAE :', np.mean(mae), ' STD :',np.std(mae))\n",
    "print( 'MSE :', np.mean(mse), ' STD :',np.std(mse))\n",
    "print( 'RMSE :', np.mean(np.sqrt(mse)), ' STD :',np.std(np.sqrt(mse)))"
   ]
  },
  {
   "cell_type": "code",
   "execution_count": null,
   "metadata": {},
   "outputs": [],
   "source": []
  }
 ],
 "metadata": {
  "kernelspec": {
   "display_name": "Python 3.9.13 ('timeseries-env': venv)",
   "language": "python",
   "name": "python3"
  },
  "language_info": {
   "codemirror_mode": {
    "name": "ipython",
    "version": 3
   },
   "file_extension": ".py",
   "mimetype": "text/x-python",
   "name": "python",
   "nbconvert_exporter": "python",
   "pygments_lexer": "ipython3",
   "version": "3.9.13"
  },
  "orig_nbformat": 4,
  "vscode": {
   "interpreter": {
    "hash": "5344483434f8feb0f4e4edbcac037dc40f14ec44f0a8519da7d24204004147d4"
   }
  }
 },
 "nbformat": 4,
 "nbformat_minor": 2
}
