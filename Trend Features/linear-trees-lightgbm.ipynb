{
 "cells": [
  {
   "attachments": {},
   "cell_type": "markdown",
   "metadata": {},
   "source": [
    "## Linear trees using LightGBM for forecasting\n",
    "\n",
    "* Timeseries with trend\n",
    "    * Tree based models cannot extrapolate \n",
    "        * Break the timeseries in to it's components\n",
    "            * Forcaste the trend seperately and add it back\n",
    "        * Advanced tree algorithm\n",
    "            * Linear trees : fits a linear model at the leaf \n",
    "\n",
    "#### OPTION:1\n",
    "* $Estimate \\: the \\: trend \\: \\: T_t = \\beta_0 + \\beta_1t + \\beta_2t^2 + ...$\n",
    "    * We can use $PolynomialTrendForecaster$ from sktime for estimating trend\n",
    "* $Detrend \\: the \\: target \\: variable \\: Y_{detrend} = Y_t - T_t$\n",
    "* $Build \\: a \\: forecaster \\: on \\: detrended \\: data \\: \\: Z_{forecast} = Tree(Y_{detrend})$\n",
    "* $Forecast \\: the \\: trend \\: using \\: any \\: other \\: method \\:\\: T_{forecast} = \\beta_0 + \\beta_1t + \\beta_2t^2 + ...$\n",
    "* $Add \\: the \\: trend \\: forecast \\: to \\: the \\: detrended \\: data \\: forecast \\: \\: Y_{forecast} =  Z_{forecast} + T_{forecast}$\n",
    "\n",
    "#### OPTION : 2\n",
    "* Use Advanced tree algorithms like LGBMRegressor that fits a complex model in the leaf nodes\n",
    "    $$model = LGBMRegressor(linear\\_tree=True)$$\n"
   ]
  },
  {
   "cell_type": "code",
   "execution_count": 1,
   "metadata": {},
   "outputs": [],
   "source": [
    "import matplotlib.pyplot as plt\n",
    "import numpy as np\n",
    "import pandas as pd\n",
    "\n",
    "import matplotlib.pyplot as plt\n",
    "import numpy as np\n",
    "import pandas as pd\n",
    "\n",
    "from sktime.forecasting.trend import PolynomialTrendForecaster\n",
    "from sktime.transformations.series.boxcox import BoxCoxTransformer, LogTransformer\n",
    "from sktime.transformations.series.summarize import WindowSummarizer\n",
    "from sktime.transformations.series.detrend import Detrender\n",
    "from sktime.transformations.series.time_since import TimeSince\n",
    "\n",
    "from sklearn.preprocessing import MinMaxScaler, PolynomialFeatures\n",
    "from sklearn.pipeline import make_pipeline, make_union\n",
    "from sklearn.linear_model import LinearRegression, Ridge, Lasso\n",
    "from sklearn.ensemble import HistGradientBoostingRegressor, RandomForestRegressor\n",
    "from sklearn.tree import DecisionTreeRegressor\n",
    "from sklearn.metrics import mean_absolute_error, mean_squared_error, mean_absolute_percentage_error\n",
    "\n",
    "from lightgbm import LGBMRegressor"
   ]
  },
  {
   "attachments": {},
   "cell_type": "markdown",
   "metadata": {},
   "source": [
    "#### The air passengers dataset is the monthly totals of international airline passengers, from 1949 to 1960, in units of 1000s. "
   ]
  },
  {
   "cell_type": "code",
   "execution_count": 2,
   "metadata": {},
   "outputs": [],
   "source": [
    "data = pd.read_csv(\"../../Datasets/example_air_passengers.csv\", parse_dates=['ds'], index_col=['ds'])\n",
    "\n",
    "data.plot(figsize=(15,4))"
   ]
  },
  {
   "attachments": {},
   "cell_type": "markdown",
   "metadata": {},
   "source": [
    "<img src='./plots/air-passengers-data.png'>"
   ]
  },
  {
   "attachments": {},
   "cell_type": "markdown",
   "metadata": {},
   "source": [
    "## Preprocess"
   ]
  },
  {
   "cell_type": "code",
   "execution_count": 22,
   "metadata": {},
   "outputs": [],
   "source": [
    "time_since = TimeSince(keep_original_columns=False, freq='MS')\n",
    "polynomial = PolynomialFeatures(degree=3, interaction_only=False)\n",
    "\n",
    "time_features = make_pipeline(time_since, polynomial)\n",
    "\n",
    "\n",
    "window_summary = WindowSummarizer(\n",
    "    lag_feature={\n",
    "    'lag' : [1,2,3,12],\n",
    "    'mean' : [[1,12]]\n",
    "    },\n",
    "    truncate='bfill',\n",
    "    target_cols=['y'],\n",
    "    \n",
    ")\n",
    "\n",
    "feature_transformer = make_union(time_features, window_summary)\n",
    "\n",
    "feature_transformer_scaled = make_pipeline(feature_transformer, MinMaxScaler())"
   ]
  },
  {
   "attachments": {},
   "cell_type": "markdown",
   "metadata": {},
   "source": [
    "## Train Test Split"
   ]
  },
  {
   "cell_type": "code",
   "execution_count": 23,
   "metadata": {},
   "outputs": [],
   "source": [
    "forecast_start_time = pd.to_datetime(\"1958-01-01\")\n",
    "df_train = data.query(f'index < \"{forecast_start_time}\"').asfreq('MS')\n",
    "df_test = data.query(f'index >= \"{forecast_start_time}\"').asfreq('MS')"
   ]
  },
  {
   "attachments": {},
   "cell_type": "markdown",
   "metadata": {},
   "source": [
    "### Train the model"
   ]
  },
  {
   "cell_type": "code",
   "execution_count": 26,
   "metadata": {},
   "outputs": [],
   "source": [
    "model = LGBMRegressor(boosting_type='gbdt', linear_tree=True, reg_lambda=0.1, n_estimators=100)\n",
    "\n",
    "X = feature_transformer_scaled.fit_transform(df_train)\n",
    "y = df_train['y']\n",
    "\n",
    "model.fit(X,y)\n",
    "\n",
    "train_preds = model.predict(X)\n",
    "train_preds = pd.DataFrame(data=train_preds, index=df_train.index, columns=['y'])"
   ]
  },
  {
   "cell_type": "code",
   "execution_count": 30,
   "metadata": {},
   "outputs": [],
   "source": [
    "ax=df_train.plot(figsize=(15,4))\n",
    "train_preds.plot(ax=ax)\n",
    "ax.legend(['train-data','train_predictions'])"
   ]
  },
  {
   "attachments": {},
   "cell_type": "markdown",
   "metadata": {},
   "source": [
    "<img src='./plots/air-passengers-data-train-set-predictions-lgbdt.png'>"
   ]
  },
  {
   "attachments": {},
   "cell_type": "markdown",
   "metadata": {},
   "source": [
    "### Recursive forecast"
   ]
  },
  {
   "cell_type": "code",
   "execution_count": 37,
   "metadata": {},
   "outputs": [],
   "source": [
    "forecast_horizon = pd.date_range(start=forecast_start_time, periods=len(df_test), freq='MS')\n",
    "\n",
    "# we need 12 months data in the past to create lag features\n",
    "lookback_window_size = pd.DateOffset(months=12)\n",
    "\n",
    "lookback_df = data.query(f'index >= \"{forecast_start_time - lookback_window_size}\"').asfreq('MS')\n",
    "\n",
    "y_test_pred = []\n",
    "for fh in forecast_horizon:\n",
    "    X = lookback_df.loc[:fh]\n",
    "    X = feature_transformer_scaled.transform(X)\n",
    "\n",
    "    y_pred = model.predict([X[-1]])\n",
    "    y_test_pred.append(y_pred)\n"
   ]
  },
  {
   "cell_type": "code",
   "execution_count": 44,
   "metadata": {},
   "outputs": [],
   "source": [
    "y_test_pred_df = pd.DataFrame(data=y_test_pred, index=df_test.index, columns=['y_test_pred'])\n",
    "\n",
    "ax = df_test.plot(figsize=(15,4), marker='.')\n",
    "y_test_pred_df.plot(ax=ax, marker='.')\n",
    "ax.legend(['test-data', 'test-data-predictions']);"
   ]
  },
  {
   "attachments": {},
   "cell_type": "markdown",
   "metadata": {},
   "source": [
    "<img src='./plots/air-passengers-data-test-data-prediciton-lgbdt.png'>"
   ]
  },
  {
   "cell_type": "code",
   "execution_count": 46,
   "metadata": {},
   "outputs": [],
   "source": [
    "mae = mean_absolute_error(y_true=df_test['y'], y_pred=y_test_pred_df['y_test_pred'])\n",
    "rmse = mean_squared_error(y_true=df_test['y'], y_pred=y_test_pred_df['y_test_pred'], squared=False)\n",
    "mape = mean_absolute_percentage_error(y_true=df_test['y'], y_pred=y_test_pred_df['y_test_pred'])"
   ]
  },
  {
   "cell_type": "code",
   "execution_count": 49,
   "metadata": {},
   "outputs": [],
   "source": [
    "\n",
    "ax=df_train.plot(figsize=(15,4))\n",
    "train_preds.plot(ax=ax)\n",
    "\n",
    "df_test.plot(ax=ax, marker='.')\n",
    "y_test_pred_df.plot(ax=ax, marker='.')\n",
    "\n",
    "ax.set(title=f'Forecasting | MSE :{mae :0.2f} | RMSE : {rmse: 0.2f} | MAPE : {mape :0.2f}')\n",
    "ax.legend(['train-data','train_predictions', 'test-data', 'test-data-predictions']);"
   ]
  },
  {
   "attachments": {},
   "cell_type": "markdown",
   "metadata": {},
   "source": [
    "<img src='./plots/air-passengers-data-full-forecast-lgbdt.png'>"
   ]
  },
  {
   "cell_type": "code",
   "execution_count": null,
   "metadata": {},
   "outputs": [],
   "source": []
  }
 ],
 "metadata": {
  "kernelspec": {
   "display_name": "timeseries-env",
   "language": "python",
   "name": "python3"
  },
  "language_info": {
   "codemirror_mode": {
    "name": "ipython",
    "version": 3
   },
   "file_extension": ".py",
   "mimetype": "text/x-python",
   "name": "python",
   "nbconvert_exporter": "python",
   "pygments_lexer": "ipython3",
   "version": "3.9.13"
  },
  "orig_nbformat": 4
 },
 "nbformat": 4,
 "nbformat_minor": 2
}
