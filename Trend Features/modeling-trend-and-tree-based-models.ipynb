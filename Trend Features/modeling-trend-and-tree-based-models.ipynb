{
 "cells": [
  {
   "attachments": {},
   "cell_type": "markdown",
   "metadata": {},
   "source": [
    "## Tree-based model forecasting a time series with trend\n",
    "\n",
    "* Timeseries with trend\n",
    "    * Tree based models cannot extrapolate \n",
    "        * Break the timeseries in to it's components\n",
    "            * Forcaste the trend seperately and add it back\n",
    "        * Advanced tree algorithm\n",
    "            * Linear trees : fits a linear model at the leaf \n",
    "\n",
    "#### OPTION:1\n",
    "* $Estimate \\: the \\: trend \\: \\: T_t = \\beta_0 + \\beta_1t + \\beta_2t^2 + ...$\n",
    "    * We can use $PolynomialTrendForecaster$ from sktime for estimating trend\n",
    "* $Detrend \\: the \\: target \\: variable \\: Y_{detrend} = Y_t - T_t$\n",
    "* $Build \\: a \\: forecaster \\: on \\: detrended \\: data \\: \\: Z_{forecast} = Tree(Y_{detrend})$\n",
    "* $Forecast \\: the \\: trend \\: using \\: any \\: other \\: method \\:\\: T_{forecast} = \\beta_0 + \\beta_1t + \\beta_2t^2 + ...$\n",
    "* $Add \\: the \\: trend \\: forecast \\: to \\: the \\: detrended \\: data \\: forecast \\: \\: Y_{forecast} =  Z_{forecast} + T_{forecast}$\n",
    "\n",
    "#### OPTION : 2\n",
    "* Use Advanced tree algorithms like LGBMRegressor that fits a complex model in the leaf nodes\n",
    "    $$model = LGBMRegressor(linear\\_tree=True)$$\n"
   ]
  },
  {
   "cell_type": "code",
   "execution_count": 212,
   "metadata": {},
   "outputs": [],
   "source": [
    "import matplotlib.pyplot as plt\n",
    "import numpy as np\n",
    "import pandas as pd\n",
    "\n",
    "from sktime.forecasting.trend import PolynomialTrendForecaster\n",
    "from sktime.transformations.series.boxcox import BoxCoxTransformer, LogTransformer\n",
    "from sktime.transformations.series.summarize import WindowSummarizer\n",
    "from sktime.transformations.series.detrend import Detrender\n",
    "from sktime.transformations.series.time_since import TimeSince\n",
    "\n",
    "from sklearn.preprocessing import MinMaxScaler, PolynomialFeatures\n",
    "from sklearn.pipeline import make_pipeline, make_union\n",
    "from sklearn.linear_model import LinearRegression, Ridge, Lasso\n",
    "from sklearn.ensemble import HistGradientBoostingRegressor, RandomForestRegressor\n",
    "from sklearn.tree import DecisionTreeRegressor\n",
    "from sklearn.metrics import mean_absolute_error, mean_squared_error, mean_absolute_percentage_error\n"
   ]
  },
  {
   "attachments": {},
   "cell_type": "markdown",
   "metadata": {},
   "source": [
    "#### The air passengers dataset is the monthly totals of international airline passengers, from 1949 to 1960, in units of 1000s. "
   ]
  },
  {
   "cell_type": "code",
   "execution_count": 3,
   "metadata": {},
   "outputs": [],
   "source": [
    "data = pd.read_csv(\"../../Datasets/example_air_passengers.csv\", parse_dates=['ds'], index_col=['ds'])\n",
    "\n",
    "data.plot(figsize=(15,4))"
   ]
  },
  {
   "attachments": {},
   "cell_type": "markdown",
   "metadata": {},
   "source": [
    "<img src='./plots/air-passengers-data.png'>"
   ]
  },
  {
   "attachments": {},
   "cell_type": "markdown",
   "metadata": {},
   "source": [
    "## How do we extract trend from training data ? , How do we forecast trend into the future?\n",
    "\n",
    "Let's use an `sktime` forecaster to model a polynomial trend:\n",
    "\n",
    "$$T_t = \\beta_0 + \\beta_1t + \\beta_2t^2 + ... + \\beta_dt^d$$\n",
    "\n",
    "where $d$ is the degree of the polynomial and $t$ is time."
   ]
  },
  {
   "cell_type": "code",
   "execution_count": 100,
   "metadata": {},
   "outputs": [],
   "source": [
    "trend_transformer =  PolynomialTrendForecaster(regressor=LinearRegression(), degree=1)\n",
    "# PolynomialTrendForecaster requires that the freq must be set in the dataframe\n",
    "df = data.copy().asfreq('MS')\n",
    "\n",
    "# fit \n",
    "trend_transformer.fit(df['y'])\n",
    "\n",
    "# Forecast\n",
    "fh = pd.date_range(start=df.index.min(), end=df.index.max() + pd.DateOffset(months=12), freq='MS')\n",
    "\n",
    "y_pred = trend_transformer.predict(fh)\n",
    "\n",
    "ax = df.plot(figsize=(15,4))\n",
    "y_pred.plot(ax=ax)\n",
    "ax.set(title='Trend forecast');"
   ]
  },
  {
   "attachments": {},
   "cell_type": "markdown",
   "metadata": {},
   "source": [
    "<img src='./plots/air-passengers-data-trend-forecast-sktime.png'>"
   ]
  },
  {
   "attachments": {},
   "cell_type": "markdown",
   "metadata": {},
   "source": [
    "#### Detrend the data"
   ]
  },
  {
   "cell_type": "code",
   "execution_count": 102,
   "metadata": {},
   "outputs": [],
   "source": [
    "y_detrend = df['y'] - y_pred\n",
    "\n",
    "y_detrend.plot(figsize=(15,4))\n",
    "plt.title('De-trended data');"
   ]
  },
  {
   "attachments": {},
   "cell_type": "markdown",
   "metadata": {},
   "source": [
    "<img src='./plots/air-passengers-data-detrended.png'>"
   ]
  },
  {
   "attachments": {},
   "cell_type": "markdown",
   "metadata": {},
   "source": [
    "#### We can clearly see that the Seasonal variations are increasing over-time. \n",
    "#### Tree based model struggles to extrapolate if timeseries is not stationary.\n",
    "#### Let's stabilize the variance of the timeseries before fitting and detrending.\n",
    "\n",
    "## Stabilize the timeseries using LogTransformer"
   ]
  },
  {
   "cell_type": "code",
   "execution_count": 104,
   "metadata": {},
   "outputs": [],
   "source": [
    "# Transformer\n",
    "log_transform = LogTransformer()\n",
    "# data\n",
    "df = data.copy().asfreq(freq='MS')\n",
    "# stabilized timeseries\n",
    "df_stable = log_transform.fit_transform(df)\n",
    "\n",
    "fig, ax = plt.subplots(nrows=1, ncols=2, figsize=(15,4))\n",
    "df.plot(ax=ax[0], title='Timeseries : Air passengers data')\n",
    "df_stable.plot(ax=ax[1], title='Variance Stabilized')"
   ]
  },
  {
   "attachments": {},
   "cell_type": "markdown",
   "metadata": {},
   "source": [
    "<img src='./plots/air-passengers-data-stationary-plot.png'>"
   ]
  },
  {
   "cell_type": "code",
   "execution_count": 106,
   "metadata": {},
   "outputs": [],
   "source": [
    "# fit PolynomialTrendForecaster on stationary timeseries\n",
    "trend_transformer =  PolynomialTrendForecaster(regressor=LinearRegression(), degree=1)\n",
    "trend_transformer.fit(df_stable)\n",
    "\n",
    "# forecast  | extract trend\n",
    "fh = pd.date_range(start=df_stable.index.min(), end=df_stable.index.max() + pd.DateOffset(months=12), freq='MS')\n",
    "\n",
    "y_pred = trend_transformer.predict(fh=fh)\n",
    "\n",
    "\n",
    "ax  = df_stable.plot(figsize=(15,4))\n",
    "y_pred.plot(ax=ax)\n",
    "ax.legend(['stable-timeseries' , 'predicted-trend'])"
   ]
  },
  {
   "attachments": {},
   "cell_type": "markdown",
   "metadata": {},
   "source": [
    "<img src='./plots/air-passengers-data-stable-trend-forecast.png'>"
   ]
  },
  {
   "attachments": {},
   "cell_type": "markdown",
   "metadata": {},
   "source": [
    "#### Detrend the timeseries"
   ]
  },
  {
   "cell_type": "code",
   "execution_count": 108,
   "metadata": {},
   "outputs": [],
   "source": [
    "y_detrend =  df_stable['y'] - y_pred['y']\n",
    "\n",
    "y_detrend.plot(figsize=(15, 4))\n",
    "plt.title('De-trended data');"
   ]
  },
  {
   "attachments": {},
   "cell_type": "markdown",
   "metadata": {},
   "source": [
    "<img src='./plots/air-passengers-data-stable-detrended.png'>"
   ]
  },
  {
   "attachments": {},
   "cell_type": "markdown",
   "metadata": {},
   "source": [
    "#### Can we automate these steps ? ## How to create a pipline that does this workflow?\n",
    "\n",
    "sktime has a convenient transformer that allows us to de-trend and add the trend back called `Detrender`."
   ]
  },
  {
   "cell_type": "code",
   "execution_count": 84,
   "metadata": {},
   "outputs": [],
   "source": [
    "# data\n",
    "df = data.copy()\n",
    "\n",
    "# stabilize\n",
    "df = log_transform.fit_transform(df)\n",
    "\n",
    "\n",
    "detrender = Detrender(\n",
    "    forecaster=PolynomialTrendForecaster(\n",
    "        regressor=LinearRegression(), degree=1))\n",
    "\n",
    "# fit on stable timeseries : here it fits the PolynomialTrendForecaster\n",
    "detrender.fit(df)\n",
    "\n",
    "# transform : here it calculate the trend and substract it\n",
    "y_detrend = detrender.transform(df)\n"
   ]
  },
  {
   "cell_type": "code",
   "execution_count": 76,
   "metadata": {},
   "outputs": [],
   "source": [
    "fig, ax = plt.subplots(nrows=1, ncols=2, figsize=(15,4))\n",
    "df.plot(ax=ax[0], title=\"Stationary timeseries\")\n",
    "y_detrend.plot(ax=ax[1], title='detrended data')"
   ]
  },
  {
   "attachments": {},
   "cell_type": "markdown",
   "metadata": {},
   "source": [
    "<img src='./plots/air-passengers-data-sktime-stabilize-and-detrend.png'>"
   ]
  },
  {
   "cell_type": "code",
   "execution_count": 97,
   "metadata": {},
   "outputs": [],
   "source": [
    "inverse_transform = detrender.inverse_transform(y_detrend)\n",
    "fig, ax = plt.subplots(nrows=1, ncols=2, figsize=(15,4))\n",
    "y_detrend.plot(ax=ax[0], title=\"detrended data\")\n",
    "inverse_transform.plot(ax=ax[1], title='inverse transform');"
   ]
  },
  {
   "attachments": {},
   "cell_type": "markdown",
   "metadata": {},
   "source": [
    "<img src='./plots/air-passengers-data-sktime-stabilize-and-detrend-inverse-transform.png'>"
   ]
  },
  {
   "attachments": {},
   "cell_type": "markdown",
   "metadata": {},
   "source": [
    "## Pipeline"
   ]
  },
  {
   "cell_type": "code",
   "execution_count": 109,
   "metadata": {},
   "outputs": [],
   "source": [
    "# create a pipeline\n",
    "# by default Detrender use PolynomialTrendForecaster as forecaster\n",
    "# by default PolynomialTrendForecaster use LinearRegression as regressor\n",
    "pipeline = make_pipeline(LogTransformer(), Detrender())\n",
    "\n",
    "# data\n",
    "df = data.copy().asfreq('MS')\n",
    "\n",
    "pipeline.fit(df)\n",
    "\n",
    "y_transformed = pipeline.transform(df)\n",
    "\n",
    "y_inverse_transform = pipeline.inverse_transform(y_transformed)\n"
   ]
  },
  {
   "cell_type": "code",
   "execution_count": 98,
   "metadata": {},
   "outputs": [],
   "source": [
    "fig,ax = plt.subplots(nrows=1, ncols=3, figsize=(18,4))\n",
    "df.plot(ax=ax[0], title='data')\n",
    "y_transformed.plot(ax=ax[1], title=\"pipeline.transform\")\n",
    "y_inverse_transform.plot(ax=ax[2], title='pipeline.inverse_transform');\n"
   ]
  },
  {
   "attachments": {},
   "cell_type": "markdown",
   "metadata": {},
   "source": [
    "<img src='./plots/air-passengers-data-stabilize-detrend-inverse-transform-pipeline.png'>"
   ]
  },
  {
   "attachments": {},
   "cell_type": "markdown",
   "metadata": {},
   "source": [
    "## Forecasting with tree based models"
   ]
  },
  {
   "cell_type": "code",
   "execution_count": 147,
   "metadata": {},
   "outputs": [],
   "source": [
    "# Transformers\n",
    "\n",
    "# makes timeseries stationary and detrend the timeseries\n",
    "target_transformer = make_pipeline(LogTransformer(), Detrender())\n",
    "\n",
    "# time realted features to capture trend\n",
    "time_since = TimeSince(keep_original_columns=False)\n",
    "\n",
    "# This is because it would still allow a tree based model \n",
    "# to segment over time  and isolate changepoints, outliers, \n",
    "# and other interesting periods during training.\n",
    "\n",
    "\n",
    "\n",
    "# Lag features | Window summary | Rolling stats \n",
    "window_summary = WindowSummarizer(\n",
    "    lag_feature={\n",
    "    'lag':[1,2,3,12],\n",
    "    'mean':[[1,12]]\n",
    "    },\n",
    "    truncate='bfill',\n",
    "    target_cols=['y']\n",
    ")\n",
    "\n",
    "\n",
    "features = make_union(time_since, window_summary)\n",
    "\n",
    "features_scaled = make_pipeline(features, MinMaxScaler())"
   ]
  },
  {
   "cell_type": "code",
   "execution_count": 167,
   "metadata": {},
   "outputs": [],
   "source": [
    "# Define time of first forecast, this determines our train / test split\n",
    "forecast_start_time = pd.to_datetime(\"1958-01-01\")\n",
    "\n",
    "# Define number of steps to forecast.\n",
    "num_of_forecast_steps = 36\n",
    "\n",
    "forecast_horizon = pd.date_range(start=forecast_start_time, periods=num_of_forecast_steps, freq='MS')\n",
    "\n",
    "# how far back in time we need to look back for feature engineering purpose\n",
    "look_back_window = pd.DateOffset(months=12)"
   ]
  },
  {
   "cell_type": "code",
   "execution_count": 155,
   "metadata": {},
   "outputs": [],
   "source": [
    "# TRAIN TEST SPLIT\n",
    "df = data.copy().asfreq('MS')\n",
    "df_train = df.loc[:forecast_start_time].copy()\n",
    "df_test = df.loc[forecast_start_time:].copy()\n",
    "\n",
    "# TARGET TRANSFORM\n",
    "df_train_transformed = target_transformer.fit_transform(df_train)\n",
    "df_test_transformed = target_transformer.transform(df_test)\n",
    "\n",
    "# TRAINING\n",
    "model = DecisionTreeRegressor()\n",
    "X = features_scaled.fit_transform(df_train_transformed)\n",
    "y = df_train_transformed['y']\n",
    "model.fit(X, y)\n",
    "y_pred = model.predict(X)\n",
    "y_pred = pd.DataFrame(data=y_pred, index=df_train_transformed.index, columns=['y'])\n",
    "y_pred_transformed = target_transformer.inverse_transform(y_pred)"
   ]
  },
  {
   "cell_type": "code",
   "execution_count": 166,
   "metadata": {},
   "outputs": [],
   "source": [
    "ax = df_train.plot(figsize=(15, 4))\n",
    "y_pred_transformed.plot(ax=ax, linewidth=8, alpha=0.5)\n",
    "y_pred_transformed.plot(ax=ax, linestyle='', marker='.')\n",
    "ax.set(title='In-sample prediciton')\n",
    "ax.legend(['training data', 'in-sample prediction']);"
   ]
  },
  {
   "attachments": {},
   "cell_type": "markdown",
   "metadata": {},
   "source": [
    "<img src='./plots/air-passengers-data-insample-prediction.png'>"
   ]
  },
  {
   "cell_type": "code",
   "execution_count": 193,
   "metadata": {},
   "outputs": [],
   "source": [
    "index = forecast_start_time - look_back_window\n",
    "\n",
    "df_lookback = data.loc[index:].copy().asfreq('MS')\n",
    "\n",
    "df_forecast = pd.DataFrame(index=forecast_horizon)\n",
    "for fh in forecast_horizon:\n",
    "    X = df_lookback.loc[:fh, ['y']]\n",
    "    X = target_transformer.transform(X)\n",
    "    X = features_scaled.transform(X)\n",
    "\n",
    "    forecast = model.predict([X[-1]])\n",
    "    df_forecast.loc[fh, 'y'] = forecast[0]\n",
    "\n",
    "\n",
    "# inverse transform\n",
    "df_forecast = target_transformer.inverse_transform(df_forecast)\n"
   ]
  },
  {
   "cell_type": "code",
   "execution_count": 220,
   "metadata": {},
   "outputs": [],
   "source": [
    "ax = df_test.plot(marker='.', figsize=(15,4))\n",
    "df_forecast.plot(ax=ax, marker='.')\n",
    "ax.legend(['test-data','prediction'])"
   ]
  },
  {
   "attachments": {},
   "cell_type": "markdown",
   "metadata": {},
   "source": [
    "<img src='./plots/air-passengers-data-tree--based-model-forecast-test-set.png'>"
   ]
  },
  {
   "cell_type": "code",
   "execution_count": 217,
   "metadata": {},
   "outputs": [],
   "source": [
    "mae = mean_absolute_error(y_true=df_test['y'], y_pred=df_forecast['y'])\n",
    "rmse = mean_squared_error(y_true=df_test['y'], y_pred=df_forecast['y'], squared=False)\n",
    "mape = mean_absolute_percentage_error(y_true=df_test['y'], y_pred=df_forecast['y'])"
   ]
  },
  {
   "cell_type": "code",
   "execution_count": 221,
   "metadata": {},
   "outputs": [],
   "source": [
    "ax = df_train.plot(figsize=(15, 5))\n",
    "y_pred_transformed.plot(ax=ax,  linestyle='', marker='.', color='r')\n",
    "df_test.plot(marker='.', ax=ax)\n",
    "df_forecast.plot(ax=ax, marker='.')\n",
    "\n",
    "ax.set(title=f'Forecasting | MSE :{mae :0.2f} | RMSE : {rmse: 0.2f} | MAPE : {mape :0.2f}')\n",
    "ax.legend(['training data', 'in-sample prediction', 'test-data','prediction']);\n"
   ]
  },
  {
   "attachments": {},
   "cell_type": "markdown",
   "metadata": {},
   "source": [
    "<img src='./plots/air-passengers-data-forecast-tree-based-model-train-test.png'>"
   ]
  },
  {
   "cell_type": "code",
   "execution_count": null,
   "metadata": {},
   "outputs": [],
   "source": []
  }
 ],
 "metadata": {
  "kernelspec": {
   "display_name": "timeseries-env",
   "language": "python",
   "name": "python3"
  },
  "language_info": {
   "codemirror_mode": {
    "name": "ipython",
    "version": 3
   },
   "file_extension": ".py",
   "mimetype": "text/x-python",
   "name": "python",
   "nbconvert_exporter": "python",
   "pygments_lexer": "ipython3",
   "version": "3.9.13"
  },
  "orig_nbformat": 4
 },
 "nbformat": 4,
 "nbformat_minor": 2
}
