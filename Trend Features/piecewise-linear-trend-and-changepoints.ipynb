{
 "cells": [
  {
   "attachments": {},
   "cell_type": "markdown",
   "metadata": {},
   "source": [
    "## Piecewise Linear Regression & Change-points\n",
    "\n",
    "* Simple changes in trend can be modeled using a Piecewise Linear Regression.\n",
    "* Piecewise Linear Regression amounts to creating new features for every change-points \n",
    "* This enables linear model to handle non-linear trend in timeseries\n",
    "\n",
    "#### PROS\n",
    "* Easy to implement \n",
    "* Provides a method of handling simple non-linear trend\n",
    "\n",
    "#### CONS\n",
    "* Need to manually choose change-points\n",
    "* Mostly used for linear models \n",
    "* If timeseries is highly non-linear, it would be tedious to break it down into change-points"
   ]
  },
  {
   "cell_type": "code",
   "execution_count": 64,
   "metadata": {},
   "outputs": [],
   "source": [
    "import matplotlib.pyplot as plt\n",
    "import numpy as np\n",
    "import pandas as pd\n",
    "\n",
    "from sklearn.preprocessing import MinMaxScaler, PolynomialFeatures\n",
    "from sklearn.linear_model import LinearRegression, Lasso, Ridge, ElasticNet\n",
    "from sklearn.pipeline import make_pipeline, make_union\n",
    "from sklearn.metrics import mean_absolute_error,mean_absolute_percentage_error,mean_squared_error\n",
    "\n",
    "from feature_engine.imputation import DropMissingData\n",
    "from feature_engine.timeseries.forecasting.lag_features import LagFeatures\n",
    "\n",
    "from sktime.transformations.series.time_since import TimeSince\n",
    "from sktime.transformations.series.summarize import WindowSummarizer"
   ]
  },
  {
   "attachments": {},
   "cell_type": "markdown",
   "metadata": {},
   "source": [
    "## Data \n",
    "\n",
    "The retail sales dataset found [here](https://raw.githubusercontent.com/facebook/prophet/master/examples/example_retail_sales.csv).\n"
   ]
  },
  {
   "cell_type": "code",
   "execution_count": 2,
   "metadata": {},
   "outputs": [],
   "source": [
    "data = pd.read_csv(\n",
    "    \"../../Datasets/example_retail_sales.csv\",\n",
    "    parse_dates=[\"ds\"],\n",
    "    index_col=[\"ds\"],\n",
    ")\n",
    "\n",
    "data.plot(figsize=(15,4));"
   ]
  },
  {
   "attachments": {},
   "cell_type": "markdown",
   "metadata": {},
   "source": [
    "<img src='./plots/retail-sales-dataset.png'>"
   ]
  },
  {
   "attachments": {},
   "cell_type": "markdown",
   "metadata": {},
   "source": [
    "## Change points"
   ]
  },
  {
   "cell_type": "code",
   "execution_count": 16,
   "metadata": {},
   "outputs": [],
   "source": [
    "ax = data.plot(figsize=(15,4));\n",
    "changepoints = [\"2008-01-01\", \"2009-04-01\"]\n",
    "ax.vlines(x=changepoints, ymin=ax.get_ylim()[0], ymax=ax.get_ylim()[1], colors=['salmon'])\n",
    "ax.set(title=' & '.join(changepoints)+' : Changepoints');"
   ]
  },
  {
   "attachments": {},
   "cell_type": "markdown",
   "metadata": {},
   "source": [
    "<img src='./plots/retail-sales-dataset-changepoints.png'>"
   ]
  },
  {
   "attachments": {},
   "cell_type": "markdown",
   "metadata": {},
   "source": [
    "#### How do we create features to acheive piecewise linear regression ?"
   ]
  },
  {
   "cell_type": "code",
   "execution_count": 20,
   "metadata": {},
   "outputs": [
    {
     "data": {
      "text/plain": [
       "TimedeltaIndex([   '0 days',   '31 days',   '60 days',   '91 days',\n",
       "                 '121 days',  '152 days',  '182 days',  '213 days',\n",
       "                 '244 days',  '274 days',\n",
       "                ...\n",
       "                '8613 days', '8644 days', '8674 days', '8705 days',\n",
       "                '8735 days', '8766 days', '8797 days', '8826 days',\n",
       "                '8857 days', '8887 days'],\n",
       "               dtype='timedelta64[ns]', name='ds', length=293, freq=None)"
      ]
     },
     "execution_count": 20,
     "metadata": {},
     "output_type": "execute_result"
    }
   ],
   "source": [
    "data.index - pd.to_datetime(\"1992-01-01\")"
   ]
  },
  {
   "cell_type": "code",
   "execution_count": 26,
   "metadata": {},
   "outputs": [
    {
     "data": {
      "text/plain": [
       "Float64Index([  0.0,   1.0,   2.0,   3.0,   4.0,   5.0,   6.0,   7.0,   8.0,\n",
       "                9.0,\n",
       "              ...\n",
       "              283.0, 284.0, 285.0, 286.0, 287.0, 288.0, 289.0, 290.0, 291.0,\n",
       "              292.0],\n",
       "             dtype='float64', name='ds', length=293)"
      ]
     },
     "execution_count": 26,
     "metadata": {},
     "output_type": "execute_result"
    }
   ],
   "source": [
    "# Since our time Frequency is -- `MS` -- \"month start\"\n",
    "# lets convert the time difference to months\n",
    "\n",
    "np.round((data.index - pd.to_datetime(\"1992-01-01\")) / np.timedelta64(1, 'M'))"
   ]
  },
  {
   "cell_type": "code",
   "execution_count": 3,
   "metadata": {},
   "outputs": [
    {
     "data": {
      "text/html": [
       "<div>\n",
       "<style scoped>\n",
       "    .dataframe tbody tr th:only-of-type {\n",
       "        vertical-align: middle;\n",
       "    }\n",
       "\n",
       "    .dataframe tbody tr th {\n",
       "        vertical-align: top;\n",
       "    }\n",
       "\n",
       "    .dataframe thead th {\n",
       "        text-align: right;\n",
       "    }\n",
       "</style>\n",
       "<table border=\"1\" class=\"dataframe\">\n",
       "  <thead>\n",
       "    <tr style=\"text-align: right;\">\n",
       "      <th></th>\n",
       "      <th>y</th>\n",
       "      <th>timse-since-1992-01-01</th>\n",
       "      <th>timse-since-2008-01-01</th>\n",
       "      <th>timse-since-2009-04-01</th>\n",
       "    </tr>\n",
       "    <tr>\n",
       "      <th>ds</th>\n",
       "      <th></th>\n",
       "      <th></th>\n",
       "      <th></th>\n",
       "      <th></th>\n",
       "    </tr>\n",
       "  </thead>\n",
       "  <tbody>\n",
       "    <tr>\n",
       "      <th>1992-01-01</th>\n",
       "      <td>146376</td>\n",
       "      <td>0.0</td>\n",
       "      <td>0.0</td>\n",
       "      <td>0.0</td>\n",
       "    </tr>\n",
       "    <tr>\n",
       "      <th>1992-02-01</th>\n",
       "      <td>147079</td>\n",
       "      <td>1.0</td>\n",
       "      <td>0.0</td>\n",
       "      <td>0.0</td>\n",
       "    </tr>\n",
       "    <tr>\n",
       "      <th>1992-03-01</th>\n",
       "      <td>159336</td>\n",
       "      <td>2.0</td>\n",
       "      <td>0.0</td>\n",
       "      <td>0.0</td>\n",
       "    </tr>\n",
       "    <tr>\n",
       "      <th>1992-04-01</th>\n",
       "      <td>163669</td>\n",
       "      <td>3.0</td>\n",
       "      <td>0.0</td>\n",
       "      <td>0.0</td>\n",
       "    </tr>\n",
       "    <tr>\n",
       "      <th>1992-05-01</th>\n",
       "      <td>170068</td>\n",
       "      <td>4.0</td>\n",
       "      <td>0.0</td>\n",
       "      <td>0.0</td>\n",
       "    </tr>\n",
       "    <tr>\n",
       "      <th>...</th>\n",
       "      <td>...</td>\n",
       "      <td>...</td>\n",
       "      <td>...</td>\n",
       "      <td>...</td>\n",
       "    </tr>\n",
       "    <tr>\n",
       "      <th>2016-01-01</th>\n",
       "      <td>400928</td>\n",
       "      <td>288.0</td>\n",
       "      <td>96.0</td>\n",
       "      <td>81.0</td>\n",
       "    </tr>\n",
       "    <tr>\n",
       "      <th>2016-02-01</th>\n",
       "      <td>413554</td>\n",
       "      <td>289.0</td>\n",
       "      <td>97.0</td>\n",
       "      <td>82.0</td>\n",
       "    </tr>\n",
       "    <tr>\n",
       "      <th>2016-03-01</th>\n",
       "      <td>460093</td>\n",
       "      <td>290.0</td>\n",
       "      <td>98.0</td>\n",
       "      <td>83.0</td>\n",
       "    </tr>\n",
       "    <tr>\n",
       "      <th>2016-04-01</th>\n",
       "      <td>450935</td>\n",
       "      <td>291.0</td>\n",
       "      <td>99.0</td>\n",
       "      <td>84.0</td>\n",
       "    </tr>\n",
       "    <tr>\n",
       "      <th>2016-05-01</th>\n",
       "      <td>471421</td>\n",
       "      <td>292.0</td>\n",
       "      <td>100.0</td>\n",
       "      <td>85.0</td>\n",
       "    </tr>\n",
       "  </tbody>\n",
       "</table>\n",
       "<p>293 rows × 4 columns</p>\n",
       "</div>"
      ],
      "text/plain": [
       "                 y  timse-since-1992-01-01  timse-since-2008-01-01  \\\n",
       "ds                                                                   \n",
       "1992-01-01  146376                     0.0                     0.0   \n",
       "1992-02-01  147079                     1.0                     0.0   \n",
       "1992-03-01  159336                     2.0                     0.0   \n",
       "1992-04-01  163669                     3.0                     0.0   \n",
       "1992-05-01  170068                     4.0                     0.0   \n",
       "...            ...                     ...                     ...   \n",
       "2016-01-01  400928                   288.0                    96.0   \n",
       "2016-02-01  413554                   289.0                    97.0   \n",
       "2016-03-01  460093                   290.0                    98.0   \n",
       "2016-04-01  450935                   291.0                    99.0   \n",
       "2016-05-01  471421                   292.0                   100.0   \n",
       "\n",
       "            timse-since-2009-04-01  \n",
       "ds                                  \n",
       "1992-01-01                     0.0  \n",
       "1992-02-01                     0.0  \n",
       "1992-03-01                     0.0  \n",
       "1992-04-01                     0.0  \n",
       "1992-05-01                     0.0  \n",
       "...                            ...  \n",
       "2016-01-01                    81.0  \n",
       "2016-02-01                    82.0  \n",
       "2016-03-01                    83.0  \n",
       "2016-04-01                    84.0  \n",
       "2016-05-01                    85.0  \n",
       "\n",
       "[293 rows x 4 columns]"
      ]
     },
     "execution_count": 3,
     "metadata": {},
     "output_type": "execute_result"
    }
   ],
   "source": [
    "changepoints = [\n",
    "    \"1992-01-01\",  # start of time series\n",
    "    \"2008-01-01\",  # changepoint\n",
    "    \"2009-04-01\",  # changepoint\n",
    "]\n",
    "\n",
    "df = data.copy()\n",
    "\n",
    "index = data.index\n",
    "for ch in changepoints:\n",
    "    \n",
    "    # Create feature\n",
    "    feature = index - pd.to_datetime(ch)\n",
    "    feature = feature / np.timedelta64(1, 'M')\n",
    "    feature = np.round(feature)\n",
    "\n",
    "    # Clip negative values to zero\n",
    "    feature = np.clip(feature, a_min=0, a_max=None)\n",
    "\n",
    "    # add to dataframe\n",
    "    df[f'timse-since-{ch}'] = feature\n",
    "\n",
    "\n",
    "\n",
    "# check out \n",
    "df"
   ]
  },
  {
   "attachments": {},
   "cell_type": "markdown",
   "metadata": {},
   "source": [
    "## # Creating the features with sktime "
   ]
  },
  {
   "cell_type": "code",
   "execution_count": 4,
   "metadata": {},
   "outputs": [
    {
     "data": {
      "text/html": [
       "<div>\n",
       "<style scoped>\n",
       "    .dataframe tbody tr th:only-of-type {\n",
       "        vertical-align: middle;\n",
       "    }\n",
       "\n",
       "    .dataframe tbody tr th {\n",
       "        vertical-align: top;\n",
       "    }\n",
       "\n",
       "    .dataframe thead th {\n",
       "        text-align: right;\n",
       "    }\n",
       "</style>\n",
       "<table border=\"1\" class=\"dataframe\">\n",
       "  <thead>\n",
       "    <tr style=\"text-align: right;\">\n",
       "      <th></th>\n",
       "      <th>y</th>\n",
       "      <th>time_since_1992-01-01 00:00:00</th>\n",
       "      <th>time_since_2008-01-01 00:00:00</th>\n",
       "      <th>time_since_2009-04-01 00:00:00</th>\n",
       "    </tr>\n",
       "    <tr>\n",
       "      <th>ds</th>\n",
       "      <th></th>\n",
       "      <th></th>\n",
       "      <th></th>\n",
       "      <th></th>\n",
       "    </tr>\n",
       "  </thead>\n",
       "  <tbody>\n",
       "    <tr>\n",
       "      <th>1992-01-01</th>\n",
       "      <td>146376</td>\n",
       "      <td>0</td>\n",
       "      <td>0</td>\n",
       "      <td>0</td>\n",
       "    </tr>\n",
       "    <tr>\n",
       "      <th>1992-02-01</th>\n",
       "      <td>147079</td>\n",
       "      <td>1</td>\n",
       "      <td>0</td>\n",
       "      <td>0</td>\n",
       "    </tr>\n",
       "    <tr>\n",
       "      <th>1992-03-01</th>\n",
       "      <td>159336</td>\n",
       "      <td>2</td>\n",
       "      <td>0</td>\n",
       "      <td>0</td>\n",
       "    </tr>\n",
       "    <tr>\n",
       "      <th>1992-04-01</th>\n",
       "      <td>163669</td>\n",
       "      <td>3</td>\n",
       "      <td>0</td>\n",
       "      <td>0</td>\n",
       "    </tr>\n",
       "    <tr>\n",
       "      <th>1992-05-01</th>\n",
       "      <td>170068</td>\n",
       "      <td>4</td>\n",
       "      <td>0</td>\n",
       "      <td>0</td>\n",
       "    </tr>\n",
       "    <tr>\n",
       "      <th>...</th>\n",
       "      <td>...</td>\n",
       "      <td>...</td>\n",
       "      <td>...</td>\n",
       "      <td>...</td>\n",
       "    </tr>\n",
       "    <tr>\n",
       "      <th>2016-01-01</th>\n",
       "      <td>400928</td>\n",
       "      <td>288</td>\n",
       "      <td>96</td>\n",
       "      <td>81</td>\n",
       "    </tr>\n",
       "    <tr>\n",
       "      <th>2016-02-01</th>\n",
       "      <td>413554</td>\n",
       "      <td>289</td>\n",
       "      <td>97</td>\n",
       "      <td>82</td>\n",
       "    </tr>\n",
       "    <tr>\n",
       "      <th>2016-03-01</th>\n",
       "      <td>460093</td>\n",
       "      <td>290</td>\n",
       "      <td>98</td>\n",
       "      <td>83</td>\n",
       "    </tr>\n",
       "    <tr>\n",
       "      <th>2016-04-01</th>\n",
       "      <td>450935</td>\n",
       "      <td>291</td>\n",
       "      <td>99</td>\n",
       "      <td>84</td>\n",
       "    </tr>\n",
       "    <tr>\n",
       "      <th>2016-05-01</th>\n",
       "      <td>471421</td>\n",
       "      <td>292</td>\n",
       "      <td>100</td>\n",
       "      <td>85</td>\n",
       "    </tr>\n",
       "  </tbody>\n",
       "</table>\n",
       "<p>293 rows × 4 columns</p>\n",
       "</div>"
      ],
      "text/plain": [
       "                 y  time_since_1992-01-01 00:00:00  \\\n",
       "ds                                                   \n",
       "1992-01-01  146376                               0   \n",
       "1992-02-01  147079                               1   \n",
       "1992-03-01  159336                               2   \n",
       "1992-04-01  163669                               3   \n",
       "1992-05-01  170068                               4   \n",
       "...            ...                             ...   \n",
       "2016-01-01  400928                             288   \n",
       "2016-02-01  413554                             289   \n",
       "2016-03-01  460093                             290   \n",
       "2016-04-01  450935                             291   \n",
       "2016-05-01  471421                             292   \n",
       "\n",
       "            time_since_2008-01-01 00:00:00  time_since_2009-04-01 00:00:00  \n",
       "ds                                                                          \n",
       "1992-01-01                               0                               0  \n",
       "1992-02-01                               0                               0  \n",
       "1992-03-01                               0                               0  \n",
       "1992-04-01                               0                               0  \n",
       "1992-05-01                               0                               0  \n",
       "...                                    ...                             ...  \n",
       "2016-01-01                              96                              81  \n",
       "2016-02-01                              97                              82  \n",
       "2016-03-01                              98                              83  \n",
       "2016-04-01                              99                              84  \n",
       "2016-05-01                             100                              85  \n",
       "\n",
       "[293 rows x 4 columns]"
      ]
     },
     "execution_count": 4,
     "metadata": {},
     "output_type": "execute_result"
    }
   ],
   "source": [
    "transformer = TimeSince(\n",
    "    start=changepoints, keep_original_columns=True ,to_numeric=True,\n",
    "    positive_only=True\n",
    ")\n",
    "\n",
    "df = data.copy()\n",
    "\n",
    "transformer.fit_transform(df)"
   ]
  },
  {
   "attachments": {},
   "cell_type": "markdown",
   "metadata": {},
   "source": [
    "## Let's forecast"
   ]
  },
  {
   "cell_type": "code",
   "execution_count": 79,
   "metadata": {},
   "outputs": [],
   "source": [
    "# capture the trend | features for peicewise non linear regression\n",
    "time_since = TimeSince(start=changepoints, positive_only=True, keep_original_columns=False)\n",
    "\n",
    "# create lag-features\n",
    "window_summary = WindowSummarizer(\n",
    "    lag_feature={\n",
    "    'lag':[1], \n",
    "    'mean':[[1, 12]]\n",
    "    },\n",
    "    target_cols='y',\n",
    "    truncate='bfill'\n",
    ")\n",
    "\n",
    "# feature union \n",
    "features = make_union(time_since, window_summary)\n",
    "# scaling\n",
    "features_scaled = make_pipeline(features, MinMaxScaler())"
   ]
  },
  {
   "cell_type": "code",
   "execution_count": 95,
   "metadata": {},
   "outputs": [],
   "source": [
    "# Define time of first forecast, this determines our train / test split\n",
    "forecast_start_time = pd.to_datetime(\"2013-01-01\")\n",
    "\n",
    "# model \n",
    "model = LinearRegression()\n",
    "\n",
    "# Define number of steps to forecast.\n",
    "num_of_forecast_steps = 42\n",
    "\n",
    "# forecast horizon\n",
    "forecast_horizon = pd.date_range(start=forecast_start_time, periods=num_of_forecast_steps, freq='MS')\n",
    "\n",
    "# How much data in the past is needed to create our features\n",
    "look_back_window_size = pd.DateOffset(months=12)"
   ]
  },
  {
   "cell_type": "code",
   "execution_count": 109,
   "metadata": {},
   "outputs": [],
   "source": [
    "# --- CREATE TRAINING & TESTING DATAFRAME  --- #\n",
    "# Ensure we only have training data up to the start\n",
    "# of the forecast.\n",
    "\n",
    "df_train = data.query(f'index < \"{forecast_start_time}\"')\n",
    "df_test = data.query(f'index >= \"{forecast_start_time}\"')\n",
    "\n",
    "train_features = features_scaled.fit_transform(df_train)\n",
    "train_targets = df_train['y']\n",
    "\n",
    "# train the model\n",
    "model.fit(train_features, train_targets)\n",
    "# let's make predictions on train data\n",
    "y_preds_train = pd.DataFrame(\n",
    "    data=model.predict(train_features), index=df_train.index, \n",
    "    columns=['predictions_on_training_data'])\n",
    "\n",
    "\n",
    "# plots\n",
    "ax = df_train.plot(figsize=(15,4))\n",
    "y_preds_train.plot(ax=ax)"
   ]
  },
  {
   "attachments": {},
   "cell_type": "markdown",
   "metadata": {},
   "source": [
    "<img src='./plots/piecewise-regression-retail-sales-prediction-train-set.png'>"
   ]
  },
  {
   "attachments": {},
   "cell_type": "markdown",
   "metadata": {},
   "source": [
    "#### Recursive forecast"
   ]
  },
  {
   "cell_type": "code",
   "execution_count": 106,
   "metadata": {},
   "outputs": [],
   "source": [
    "index = forecast_start_time -look_back_window_size\n",
    "predict_df = data.loc[data.index>=index].copy()\n",
    "predict_df['predictions_on_test_data'] = np.nan\n",
    "\n",
    "for fh in forecast_horizon:\n",
    "    # preprocessing\n",
    "    x = predict_df.loc[:fh, ['y']]\n",
    "    x = features_scaled.transform(x)\n",
    "    x = x[-1]\n",
    "\n",
    "    # get prediction\n",
    "    y_pred = model.predict([x])\n",
    "\n",
    "    predict_df.loc[fh, ['predictions_on_test_data']] = y_pred[0]\n",
    "\n",
    "# predict_df.dropna(inplace=True)\n"
   ]
  },
  {
   "cell_type": "code",
   "execution_count": 110,
   "metadata": {},
   "outputs": [],
   "source": [
    "# plots\n",
    "ax = df_train.plot(figsize=(15,4))\n",
    "y_preds_train.plot(ax=ax)\n",
    "predict_df.plot(ax=ax)"
   ]
  },
  {
   "attachments": {},
   "cell_type": "markdown",
   "metadata": {},
   "source": [
    "#### We can see that the changepoint features can help capture changes in trend in the data when using linear models."
   ]
  },
  {
   "attachments": {},
   "cell_type": "markdown",
   "metadata": {},
   "source": [
    "<img src='./plots/piecewise-regression-retail-sales-prediction-test-set.png'>"
   ]
  },
  {
   "cell_type": "code",
   "execution_count": null,
   "metadata": {},
   "outputs": [],
   "source": []
  }
 ],
 "metadata": {
  "kernelspec": {
   "display_name": "timeseries-env",
   "language": "python",
   "name": "python3"
  },
  "language_info": {
   "codemirror_mode": {
    "name": "ipython",
    "version": 3
   },
   "file_extension": ".py",
   "mimetype": "text/x-python",
   "name": "python",
   "nbconvert_exporter": "python",
   "pygments_lexer": "ipython3",
   "version": "3.9.13"
  },
  "orig_nbformat": 4
 },
 "nbformat": 4,
 "nbformat_minor": 2
}
