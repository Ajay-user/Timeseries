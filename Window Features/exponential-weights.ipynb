{
 "cells": [
  {
   "cell_type": "code",
   "execution_count": 38,
   "metadata": {},
   "outputs": [],
   "source": [
    "import pandas as pd\n",
    "import numpy as np\n",
    "import matplotlib.pyplot as plt\n",
    "\n",
    "from statsmodels.tsa.seasonal import MSTL\n",
    "\n",
    "from sktime.utils.plotting import plot_series"
   ]
  },
  {
   "attachments": {},
   "cell_type": "markdown",
   "metadata": {},
   "source": [
    "### Data\n",
    "We will work with the hourly electricity demand dataset. It is the electricity demand for the state of Victora in Australia from 2002 to the start of 2015. "
   ]
  },
  {
   "cell_type": "code",
   "execution_count": 4,
   "metadata": {},
   "outputs": [],
   "source": [
    "data = pd.read_csv('../../Datasets/victoria_electricity_demand.csv', \n",
    "                   usecols=[\"demand\", \"temperature\", \"date_time\"], \n",
    "                   index_col='date_time', parse_dates=['date_time'])\n",
    "\n",
    "# For this demo we will use a subset of the data\n",
    "data = data.loc[\"2010\":]\n",
    "\n",
    "# plot\n",
    "plot_series(data['demand'])\n",
    "plt.xticks(rotation=30);"
   ]
  },
  {
   "attachments": {},
   "cell_type": "markdown",
   "metadata": {},
   "source": [
    "<img src='./plots/victoria-electricity-deman-2010-2015.png'>"
   ]
  },
  {
   "cell_type": "code",
   "execution_count": 5,
   "metadata": {},
   "outputs": [],
   "source": [
    "df = data.copy()"
   ]
  },
  {
   "attachments": {},
   "cell_type": "markdown",
   "metadata": {},
   "source": [
    "### Computing exponential weights for rolling window features using Pandas\n",
    "\n",
    "$exponential\\:smoothing$\n",
    "\n",
    "$$\\frac{\\alpha y_{t} + (1-\\alpha) y_{t-1} + (1-\\alpha)^2 y_{t-2} + ... + (1-\\alpha)^n y_{t-n} }{\\alpha + (1+\\alpha) + (1+\\alpha)^2 + (1+\\alpha)^3 + .... +(1+\\alpha)^n}$$\n",
    "\n",
    "where $\\alpha$ is the rate and $n$ is the window-size\n",
    "\n"
   ]
  },
  {
   "cell_type": "code",
   "execution_count": 8,
   "metadata": {},
   "outputs": [],
   "source": [
    "# compute exponential weights\n",
    "def compute_exp_weights(alpha, window_size):\n",
    "    weights=np.ones(shape=window_size)\n",
    "    for i in range(window_size):\n",
    "        weights[i] = (1-alpha)**i \n",
    "    return weights[::-1]\n",
    "    "
   ]
  },
  {
   "cell_type": "code",
   "execution_count": 16,
   "metadata": {},
   "outputs": [],
   "source": [
    "w = compute_exp_weights(alpha=0.05, window_size=12)\n",
    "plt.figure(figsize=(15, 3))\n",
    "plt.stem(w)"
   ]
  },
  {
   "attachments": {},
   "cell_type": "markdown",
   "metadata": {},
   "source": [
    "<img src='./plots/exponential-weigts-example.png'>"
   ]
  },
  {
   "cell_type": "code",
   "execution_count": 14,
   "metadata": {},
   "outputs": [],
   "source": [
    "def exponential_weighted_window_mean(x, alpha=0.05):\n",
    "    window_len = len(x)\n",
    "    weights = compute_exp_weights(alpha=alpha, window_size=window_len)\n",
    "    return np.dot(x, weights) / np.sum(weights)"
   ]
  },
  {
   "cell_type": "code",
   "execution_count": 27,
   "metadata": {},
   "outputs": [],
   "source": [
    "rolling_stats_pandas = (\n",
    "    df['demand']\n",
    "    .rolling(window=7*24)\n",
    "    .agg([\"mean\", exponential_weighted_window_mean])\n",
    "    .shift(periods=1, freq='H')\n",
    "    .add_prefix('rolling_')\n",
    ")"
   ]
  },
  {
   "cell_type": "code",
   "execution_count": 36,
   "metadata": {},
   "outputs": [],
   "source": [
    "# rolling_stats_pandas.plot(subplots=True, figsize=(15, 4));"
   ]
  },
  {
   "attachments": {},
   "cell_type": "markdown",
   "metadata": {},
   "source": [
    "<img src='./plots/exponentially-weighted-window_stats.png'>"
   ]
  },
  {
   "attachments": {},
   "cell_type": "markdown",
   "metadata": {},
   "source": [
    "#### Lets look at the last week"
   ]
  },
  {
   "cell_type": "code",
   "execution_count": 37,
   "metadata": {},
   "outputs": [],
   "source": [
    "index = df.iloc[-24*7:].index\n",
    "ax = df.loc[index].plot(y=['demand'], figsize=(15,5))\n",
    "rolling_stats_pandas.loc[index].plot(ax = ax);"
   ]
  },
  {
   "attachments": {},
   "cell_type": "markdown",
   "metadata": {},
   "source": [
    "<img src='./plots/exponentially-weighted-window_stats-feb-22-29-2015.png'>"
   ]
  },
  {
   "attachments": {},
   "cell_type": "markdown",
   "metadata": {},
   "source": [
    "#### The rolling mean with exponential weights is a lot more sensitive to changes in the original data because there is a lot more weight given to recent data points. This means that the daily seasonality causes the exponentially weighted data to oscillate.\n",
    "\n",
    "#### Overall, we can see the weighted mean moves more quickly in response to changing trends in the data.\n",
    "\n",
    "#### If we want to use the weighted window functions to be more responsive to short term **trends** then de-seasonalising the data first may be helpful. Let's try this and see what happens."
   ]
  },
  {
   "attachments": {},
   "cell_type": "markdown",
   "metadata": {},
   "source": [
    "### Smoothing the data after de-trending"
   ]
  },
  {
   "cell_type": "code",
   "execution_count": 62,
   "metadata": {},
   "outputs": [],
   "source": [
    "res = MSTL(endog=df['demand'], periods=[24, 24*7], stl_kwargs={'seasonal_deg':0}).fit()"
   ]
  },
  {
   "cell_type": "code",
   "execution_count": 67,
   "metadata": {},
   "outputs": [],
   "source": [
    "result = (\n",
    "    res.trend.rolling(window=7*24)\n",
    "    .agg(['mean', exponential_weighted_window_mean])\n",
    "    .shift(periods=1, freq='h')\n",
    "    .add_prefix('demand_trend_window_168_')\n",
    ")"
   ]
  },
  {
   "attachments": {},
   "cell_type": "markdown",
   "metadata": {},
   "source": [
    "#### The exponentially weighted window mean clearly responds faster to the changing trend relative to the non-weighted window mean."
   ]
  },
  {
   "cell_type": "code",
   "execution_count": 72,
   "metadata": {},
   "outputs": [],
   "source": [
    "index = df.iloc[-24*7:].index\n",
    "ax = res.trend.loc[index].plot(figsize=(15,5), legend=True, label=\"demand trend\")\n",
    "result.loc[index].plot(ax = ax);"
   ]
  },
  {
   "attachments": {},
   "cell_type": "markdown",
   "metadata": {},
   "source": [
    "<img src='./plots/exponentially-weighted-window_stats-on-demand-trend-feb-22-29-2015.png'>"
   ]
  },
  {
   "attachments": {},
   "cell_type": "markdown",
   "metadata": {},
   "source": [
    "### Smoothing the data after de-trending and de-season"
   ]
  },
  {
   "cell_type": "code",
   "execution_count": 39,
   "metadata": {},
   "outputs": [],
   "source": [
    "res = MSTL(endog=df['demand'], periods=[24, 24*7], stl_kwargs={'seasonal_deg':0}).fit()"
   ]
  },
  {
   "cell_type": "code",
   "execution_count": 60,
   "metadata": {},
   "outputs": [],
   "source": [
    "result = (\n",
    "    res.resid.rolling(window=7*24)\n",
    "    .agg(['mean', exponential_weighted_window_mean])\n",
    "    .shift(periods=1, freq='h')\n",
    "    .add_prefix('demand_window_168_')\n",
    ")"
   ]
  },
  {
   "attachments": {},
   "cell_type": "markdown",
   "metadata": {},
   "source": [
    "### Residuals and exponential window rolling mean"
   ]
  },
  {
   "cell_type": "code",
   "execution_count": 73,
   "metadata": {},
   "outputs": [],
   "source": [
    "index = df.iloc[-24*7:].index\n",
    "ax = res.resid.loc[index].plot(figsize=(15,5), legend=True, label=\"demand de-trend and de-season\")\n",
    "result.loc[index].plot(ax = ax);"
   ]
  },
  {
   "attachments": {},
   "cell_type": "markdown",
   "metadata": {},
   "source": [
    "<img src='./plots/exponentially-weighted-window_stats-on-demand-after-detrend-and-deseason-feb-22-29-2015.png'>"
   ]
  },
  {
   "attachments": {},
   "cell_type": "markdown",
   "metadata": {},
   "source": [
    "### Computing expanding windows features with exponential weights using Pandas `ewm`\n",
    "\n",
    "We want to compute with exponential weights the expanding:\n",
    "- mean\n",
    "- standard deviation\n",
    "\n",
    "As the weights are computed internally in Pandas when using the `ewm` (exponentially weighted moving) method we cannot pass custom functions."
   ]
  },
  {
   "cell_type": "code",
   "execution_count": 74,
   "metadata": {},
   "outputs": [],
   "source": [
    "result_ewm = (\n",
    "    df['demand']\n",
    "    .ewm(alpha=0.05)\n",
    "    .agg(['mean', 'std'])\n",
    "    .shift(periods=1, freq='H')\n",
    "    .add_prefix(\"demand_ewm_0.05_\")\n",
    ")"
   ]
  },
  {
   "cell_type": "code",
   "execution_count": 83,
   "metadata": {},
   "outputs": [],
   "source": [
    "result_ewm.plot(subplots=True, figsize=(15,4));"
   ]
  },
  {
   "attachments": {},
   "cell_type": "markdown",
   "metadata": {},
   "source": [
    "<img src='./plots/pandas-ewm-exponential-weighted-moving.png'>"
   ]
  },
  {
   "attachments": {},
   "cell_type": "markdown",
   "metadata": {},
   "source": [
    "### Custom Metrics\n",
    "\n",
    "If we want to compute custom metrics with exponential weights and an expanding window, we can use `expanding`. Let's illustrate this by manually implementing the expanding mean with exponential weights."
   ]
  },
  {
   "cell_type": "code",
   "execution_count": 78,
   "metadata": {},
   "outputs": [],
   "source": [
    "result_expanding = (\n",
    "    df['demand']\n",
    "    .expanding()\n",
    "    .agg([\"mean\", exponential_weighted_window_mean])\n",
    "    .shift(periods=1, freq=\"H\")\n",
    "    .add_prefix(\"expanding_window_\")\n",
    ")"
   ]
  },
  {
   "cell_type": "code",
   "execution_count": 82,
   "metadata": {},
   "outputs": [],
   "source": [
    "result_expanding.plot(subplots=True, figsize=(16,8));"
   ]
  },
  {
   "attachments": {},
   "cell_type": "markdown",
   "metadata": {},
   "source": [
    "<img src='./plots/expanding--weighted-window-stats-electricity-demand-pandas.png'>"
   ]
  },
  {
   "cell_type": "code",
   "execution_count": null,
   "metadata": {},
   "outputs": [],
   "source": []
  }
 ],
 "metadata": {
  "kernelspec": {
   "display_name": "timeseries-env",
   "language": "python",
   "name": "python3"
  },
  "language_info": {
   "codemirror_mode": {
    "name": "ipython",
    "version": 3
   },
   "file_extension": ".py",
   "mimetype": "text/x-python",
   "name": "python",
   "nbconvert_exporter": "python",
   "pygments_lexer": "ipython3",
   "version": "3.9.13"
  },
  "orig_nbformat": 4
 },
 "nbformat": 4,
 "nbformat_minor": 2
}
