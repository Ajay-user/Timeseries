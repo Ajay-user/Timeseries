{
 "cells": [
  {
   "attachments": {},
   "cell_type": "markdown",
   "metadata": {},
   "source": [
    "## Choosing window features using LASSO"
   ]
  },
  {
   "cell_type": "code",
   "execution_count": 54,
   "metadata": {},
   "outputs": [],
   "source": [
    "\n",
    "import pandas as pd\n",
    "import numpy as np\n",
    "import matplotlib.pyplot as plt\n",
    "\n",
    "from sklearn.preprocessing import StandardScaler\n",
    "from sklearn.linear_model import Lasso\n",
    "from sklearn.pipeline import Pipeline, make_pipeline\n",
    "\n",
    "from feature_engine.timeseries.forecasting import WindowFeatures, LagFeatures, ExpandingWindowFeatures\n",
    "from feature_engine.imputation import DropMissingData\n",
    "\n",
    "from sktime.utils.plotting import plot_series"
   ]
  },
  {
   "attachments": {},
   "cell_type": "markdown",
   "metadata": {},
   "source": [
    "\n",
    "## Data\n",
    "We will work with the hourly electricity demand dataset. It is the electricity demand for the state of Victora in Australia from 2002 to the start of 2015. \n"
   ]
  },
  {
   "cell_type": "code",
   "execution_count": 3,
   "metadata": {},
   "outputs": [],
   "source": [
    "data = pd.read_csv('../../Datasets/victoria_electricity_demand.csv', \n",
    "                   usecols=[\"demand\", \"temperature\", \"date_time\"], \n",
    "                   index_col='date_time', parse_dates=['date_time'])\n",
    "\n",
    "# For this demo we will use a subset of the data\n",
    "data = data.loc[\"2010\":]\n",
    "\n",
    "# plot\n",
    "plot_series(data['demand'])\n",
    "plt.xticks(rotation=30);"
   ]
  },
  {
   "attachments": {},
   "cell_type": "markdown",
   "metadata": {},
   "source": [
    "<img src='./plots/victoria-electricity-deman-2010-2015.png'>"
   ]
  },
  {
   "attachments": {},
   "cell_type": "markdown",
   "metadata": {},
   "source": [
    "#### Lag features\n",
    "* Create recent lags like lag-1, lag-2, lag-3\n",
    "* Create a lag of 24hr\n",
    "* Create a lag of 1-week\n"
   ]
  },
  {
   "cell_type": "code",
   "execution_count": 6,
   "metadata": {},
   "outputs": [],
   "source": [
    "lag_transformer = LagFeatures(variables=['demand', 'temperature'], periods=[1,2,3, 24, 7*24])"
   ]
  },
  {
   "attachments": {},
   "cell_type": "markdown",
   "metadata": {},
   "source": [
    "#### Window Features\n",
    "* Aggregation function \n",
    "    * \"mean\"\n",
    "    * \"std\"\n",
    "    * \"kurt\"\n",
    "    * \"skew\"\n",
    "* Window size\n",
    "    * Daily ( 24hr )\n",
    "    * Weekly ( 24hr * 7days )\n",
    "    * Monthly ( 24hr * 7days * 4)\n",
    "    * Yearly ( 24hr * 7days * 4 * 12 )"
   ]
  },
  {
   "cell_type": "code",
   "execution_count": 7,
   "metadata": {},
   "outputs": [],
   "source": [
    "window_transformer = WindowFeatures( \n",
    "    variables=['demand', 'temperature'], \n",
    "    window=[24, 24*7, 24*7*4, 24*7*4*12],\n",
    "    functions=[\"mean\", \"std\", \"kurt\", \"skew\"],\n",
    "    periods=1, freq='H'    \n",
    ")"
   ]
  },
  {
   "attachments": {},
   "cell_type": "markdown",
   "metadata": {},
   "source": [
    "#### Expanding features\n",
    "\n",
    "* Aggregation function \n",
    "    * \"mean\"\n",
    "    * \"std\"\n",
    "    * \"kurt\"\n",
    "    * \"skew\""
   ]
  },
  {
   "cell_type": "code",
   "execution_count": 8,
   "metadata": {},
   "outputs": [],
   "source": [
    "expanding_transformer = ExpandingWindowFeatures(\n",
    "    variables=['demand','temperature'],\n",
    "    functions=[\"mean\", \"std\", \"kurt\", \"skew\"],\n",
    "    periods=1, freq='H'\n",
    ")"
   ]
  },
  {
   "attachments": {},
   "cell_type": "markdown",
   "metadata": {},
   "source": [
    "#### Drop missing data introduced by window and lag features"
   ]
  },
  {
   "cell_type": "code",
   "execution_count": 9,
   "metadata": {},
   "outputs": [],
   "source": [
    "drop_na_transformer = DropMissingData()"
   ]
  },
  {
   "attachments": {},
   "cell_type": "markdown",
   "metadata": {},
   "source": [
    "#### Feature pipeline"
   ]
  },
  {
   "cell_type": "code",
   "execution_count": 10,
   "metadata": {},
   "outputs": [],
   "source": [
    "feature_pipe = Pipeline(steps=[\n",
    "    ('lags', lag_transformer),\n",
    "    ('window_summary', window_transformer),\n",
    "    ('expanding-window-summary', expanding_transformer),\n",
    "    ('drop-na',drop_na_transformer)\n",
    "])"
   ]
  },
  {
   "cell_type": "code",
   "execution_count": 11,
   "metadata": {},
   "outputs": [],
   "source": [
    "df = feature_pipe.fit_transform(data)"
   ]
  },
  {
   "attachments": {},
   "cell_type": "markdown",
   "metadata": {},
   "source": [
    "#### Split the data into a training set and test set"
   ]
  },
  {
   "cell_type": "code",
   "execution_count": 51,
   "metadata": {},
   "outputs": [
    {
     "name": "stdout",
     "output_type": "stream",
     "text": [
      "Train data ends at : 2015-02-27 23:00:00\n",
      "Test data start at : 2015-02-28 00:00:00\n"
     ]
    }
   ],
   "source": [
    "split_date = df.index[-1] - pd.Timedelta(days=1)\n",
    "\n",
    "train_df = df[df.index <= split_date]\n",
    "test_df = df[df.index > split_date]\n",
    "\n",
    "print('Train data ends at :',train_df.index[-1])\n",
    "print('Test data start at :',test_df.index[0])"
   ]
  },
  {
   "attachments": {},
   "cell_type": "markdown",
   "metadata": {},
   "source": [
    "## Use LASSO for feature selection"
   ]
  },
  {
   "cell_type": "code",
   "execution_count": 53,
   "metadata": {},
   "outputs": [],
   "source": [
    "features = train_df.drop(columns=['demand', 'temperature'])\n",
    "target = train_df['demand']"
   ]
  },
  {
   "cell_type": "code",
   "execution_count": 58,
   "metadata": {},
   "outputs": [],
   "source": [
    "model_pipe =make_pipeline(StandardScaler(), Lasso(alpha=1))\n",
    "model_pipe.fit(features, target)\n",
    "\n",
    "lasso_coef = model_pipe[-1].coef_"
   ]
  },
  {
   "cell_type": "code",
   "execution_count": 63,
   "metadata": {},
   "outputs": [
    {
     "data": {
      "text/html": [
       "<div>\n",
       "<style scoped>\n",
       "    .dataframe tbody tr th:only-of-type {\n",
       "        vertical-align: middle;\n",
       "    }\n",
       "\n",
       "    .dataframe tbody tr th {\n",
       "        vertical-align: top;\n",
       "    }\n",
       "\n",
       "    .dataframe thead th {\n",
       "        text-align: right;\n",
       "    }\n",
       "</style>\n",
       "<table border=\"1\" class=\"dataframe\">\n",
       "  <thead>\n",
       "    <tr style=\"text-align: right;\">\n",
       "      <th></th>\n",
       "      <th>Feature Importance</th>\n",
       "    </tr>\n",
       "  </thead>\n",
       "  <tbody>\n",
       "    <tr>\n",
       "      <th>demand_lag_1</th>\n",
       "      <td>2190.864887</td>\n",
       "    </tr>\n",
       "    <tr>\n",
       "      <th>demand_lag_2</th>\n",
       "      <td>877.442149</td>\n",
       "    </tr>\n",
       "    <tr>\n",
       "      <th>demand_lag_168</th>\n",
       "      <td>214.023662</td>\n",
       "    </tr>\n",
       "    <tr>\n",
       "      <th>temperature_lag_1</th>\n",
       "      <td>191.264622</td>\n",
       "    </tr>\n",
       "    <tr>\n",
       "      <th>demand_window_24_mean</th>\n",
       "      <td>147.228444</td>\n",
       "    </tr>\n",
       "    <tr>\n",
       "      <th>temperature_lag_3</th>\n",
       "      <td>103.872531</td>\n",
       "    </tr>\n",
       "    <tr>\n",
       "      <th>demand_lag_24</th>\n",
       "      <td>102.211620</td>\n",
       "    </tr>\n",
       "    <tr>\n",
       "      <th>demand_window_24_skew</th>\n",
       "      <td>62.945470</td>\n",
       "    </tr>\n",
       "    <tr>\n",
       "      <th>temperature_lag_168</th>\n",
       "      <td>54.882168</td>\n",
       "    </tr>\n",
       "    <tr>\n",
       "      <th>demand_window_168_mean</th>\n",
       "      <td>41.652587</td>\n",
       "    </tr>\n",
       "    <tr>\n",
       "      <th>demand_lag_3</th>\n",
       "      <td>36.143915</td>\n",
       "    </tr>\n",
       "    <tr>\n",
       "      <th>temperature_window_24_mean</th>\n",
       "      <td>32.398650</td>\n",
       "    </tr>\n",
       "    <tr>\n",
       "      <th>demand_window_672_mean</th>\n",
       "      <td>19.909029</td>\n",
       "    </tr>\n",
       "    <tr>\n",
       "      <th>temperature_window_24_std</th>\n",
       "      <td>17.462591</td>\n",
       "    </tr>\n",
       "    <tr>\n",
       "      <th>temperature_window_24_skew</th>\n",
       "      <td>13.720854</td>\n",
       "    </tr>\n",
       "  </tbody>\n",
       "</table>\n",
       "</div>"
      ],
      "text/plain": [
       "                            Feature Importance\n",
       "demand_lag_1                       2190.864887\n",
       "demand_lag_2                        877.442149\n",
       "demand_lag_168                      214.023662\n",
       "temperature_lag_1                   191.264622\n",
       "demand_window_24_mean               147.228444\n",
       "temperature_lag_3                   103.872531\n",
       "demand_lag_24                       102.211620\n",
       "demand_window_24_skew                62.945470\n",
       "temperature_lag_168                  54.882168\n",
       "demand_window_168_mean               41.652587\n",
       "demand_lag_3                         36.143915\n",
       "temperature_window_24_mean           32.398650\n",
       "demand_window_672_mean               19.909029\n",
       "temperature_window_24_std            17.462591\n",
       "temperature_window_24_skew           13.720854"
      ]
     },
     "execution_count": 63,
     "metadata": {},
     "output_type": "execute_result"
    }
   ],
   "source": [
    "feature_importance = pd.DataFrame(data=lasso_coef, columns=['Feature Importance'], index=features.columns)\n",
    "feature_importance.abs().nlargest(n=15, columns=['Feature Importance'])"
   ]
  },
  {
   "attachments": {},
   "cell_type": "markdown",
   "metadata": {},
   "source": [
    "We can see that the lag features are most important but some window features are also selected! This is to be expected as the most recent observations tend to be very predictive of the next immediate observation."
   ]
  }
 ],
 "metadata": {
  "kernelspec": {
   "display_name": "timeseries-env",
   "language": "python",
   "name": "python3"
  },
  "language_info": {
   "codemirror_mode": {
    "name": "ipython",
    "version": 3
   },
   "file_extension": ".py",
   "mimetype": "text/x-python",
   "name": "python",
   "nbconvert_exporter": "python",
   "pygments_lexer": "ipython3",
   "version": "3.9.13"
  },
  "orig_nbformat": 4
 },
 "nbformat": 4,
 "nbformat_minor": 2
}
