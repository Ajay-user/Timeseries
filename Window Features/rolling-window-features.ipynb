{
 "cells": [
  {
   "cell_type": "code",
   "execution_count": 1,
   "metadata": {},
   "outputs": [],
   "source": [
    "import pandas as pd\n",
    "import numpy as np\n",
    "import matplotlib.pyplot as plt\n",
    "\n",
    "\n",
    "from sktime.utils.plotting import plot_series, plot_windows\n",
    "from feature_engine.timeseries.forecasting import WindowFeatures\n",
    "from sktime.transformations.series.summarize import WindowSummarizer"
   ]
  },
  {
   "attachments": {},
   "cell_type": "markdown",
   "metadata": {},
   "source": [
    "### Data\n",
    "We will work with the hourly electricity demand dataset. It is the electricity demand for the state of Victora in Australia from 2002 to the start of 2015. \n"
   ]
  },
  {
   "cell_type": "code",
   "execution_count": 2,
   "metadata": {},
   "outputs": [],
   "source": [
    "data = pd.read_csv('../../Datasets/victoria_electricity_demand.csv', \n",
    "                   usecols=[\"demand\", \"temperature\", \"date_time\"], \n",
    "                   index_col='date_time', parse_dates=['date_time'])\n",
    "\n",
    "# For this demo we will use a subset of the data\n",
    "data = data.loc[\"2010\":]\n",
    "\n",
    "# plot\n",
    "plot_series(data['demand'])\n",
    "plt.xticks(rotation=30);"
   ]
  },
  {
   "attachments": {},
   "cell_type": "markdown",
   "metadata": {},
   "source": [
    "<img src='./plots/victoria-electricity-deman-2010-2015.png'>"
   ]
  },
  {
   "attachments": {},
   "cell_type": "markdown",
   "metadata": {},
   "source": [
    "## Lets look at the demand for year 2014 "
   ]
  },
  {
   "cell_type": "code",
   "execution_count": 30,
   "metadata": {},
   "outputs": [],
   "source": [
    "data.loc[\"2014\"].plot(y=['demand'], figsize=(15,5))"
   ]
  },
  {
   "attachments": {},
   "cell_type": "markdown",
   "metadata": {},
   "source": [
    "<img src='./plots/victoria-electricity-deman-2014.png'>"
   ]
  },
  {
   "attachments": {},
   "cell_type": "markdown",
   "metadata": {},
   "source": [
    "## Lets look at the temperature record of year 2014"
   ]
  },
  {
   "cell_type": "code",
   "execution_count": 32,
   "metadata": {},
   "outputs": [],
   "source": [
    "data.loc[\"2014\"].plot(y=['temperature'], figsize=(15,5))"
   ]
  },
  {
   "attachments": {},
   "cell_type": "markdown",
   "metadata": {},
   "source": [
    "<img src='./plots/victoria-temperature-2014.png'>"
   ]
  },
  {
   "attachments": {},
   "cell_type": "markdown",
   "metadata": {},
   "source": [
    "#### Temperature and Electricity demand is correlated "
   ]
  },
  {
   "cell_type": "code",
   "execution_count": 38,
   "metadata": {},
   "outputs": [],
   "source": [
    "fig, ax = plt.subplots(nrows=2, ncols=1, figsize=(15,10))\n",
    "data.loc[\"2014\"].plot(y=['temperature'], title='Temperature reading 2014', ax=ax[0])\n",
    "data.loc[\"2014\"].plot(y=['demand'], title=\"Electricity demand 2014\", ax=ax[1] )\n",
    "plt.tight_layout()"
   ]
  },
  {
   "attachments": {},
   "cell_type": "markdown",
   "metadata": {},
   "source": [
    "<img src='./plots/victoria-electricity-demand-vs-temperature-2014.png'>"
   ]
  },
  {
   "cell_type": "code",
   "execution_count": 40,
   "metadata": {},
   "outputs": [],
   "source": [
    "fig, ax = plt.subplots(nrows=2, ncols=1, figsize=(15,10))\n",
    "data.loc[\"2015-01-02\"].plot(y=['temperature'], title='Temperature reading 2015-01-02', ax=ax[0])\n",
    "data.loc[\"2015-01-02\"].plot(y=['demand'], title=\"Electricity demand 2015-01-02\", ax=ax[1] )\n",
    "plt.tight_layout()"
   ]
  },
  {
   "attachments": {},
   "cell_type": "markdown",
   "metadata": {},
   "source": [
    "<img src='./plots/victoria-electricity-demand-vs-temperature-2015-01-02.png'>"
   ]
  },
  {
   "cell_type": "code",
   "execution_count": 6,
   "metadata": {},
   "outputs": [],
   "source": [
    "df = data.copy()"
   ]
  },
  {
   "attachments": {},
   "cell_type": "markdown",
   "metadata": {},
   "source": [
    "#### We can see that there is seasonality on different time scales (e.g., daily, weekly, yearly). \n",
    "*  rolling window features can help capture information at these different time scales. \n",
    "\n",
    "\n",
    "We want to compute the rolling:\n",
    "- mean\n",
    "- standard deviation\n",
    "- median absolute deviation\n",
    "\n",
    "The median absolute deviation is not implemented natively in Pandas so we have to create it as a custom metric ourselves.\n",
    "\n",
    "Let's create a function to compute the median absolute deviation which is defined as: $MAD = median(|x_i - median(x)|)$"
   ]
  },
  {
   "cell_type": "code",
   "execution_count": 14,
   "metadata": {},
   "outputs": [],
   "source": [
    "def MAD(x):\n",
    "    return np.median(np.abs(x-np.median(x)))"
   ]
  },
  {
   "cell_type": "code",
   "execution_count": 15,
   "metadata": {},
   "outputs": [
    {
     "data": {
      "text/html": [
       "<div>\n",
       "<style scoped>\n",
       "    .dataframe tbody tr th:only-of-type {\n",
       "        vertical-align: middle;\n",
       "    }\n",
       "\n",
       "    .dataframe tbody tr th {\n",
       "        vertical-align: top;\n",
       "    }\n",
       "\n",
       "    .dataframe thead th {\n",
       "        text-align: right;\n",
       "    }\n",
       "</style>\n",
       "<table border=\"1\" class=\"dataframe\">\n",
       "  <thead>\n",
       "    <tr style=\"text-align: right;\">\n",
       "      <th></th>\n",
       "      <th>demand_window_24_mean</th>\n",
       "      <th>demand_window_24_std</th>\n",
       "      <th>demand_window_24_MAD</th>\n",
       "    </tr>\n",
       "    <tr>\n",
       "      <th>date_time</th>\n",
       "      <th></th>\n",
       "      <th></th>\n",
       "      <th></th>\n",
       "    </tr>\n",
       "  </thead>\n",
       "  <tbody>\n",
       "    <tr>\n",
       "      <th>2010-01-01 01:00:00</th>\n",
       "      <td>NaN</td>\n",
       "      <td>NaN</td>\n",
       "      <td>NaN</td>\n",
       "    </tr>\n",
       "    <tr>\n",
       "      <th>2010-01-01 02:00:00</th>\n",
       "      <td>NaN</td>\n",
       "      <td>NaN</td>\n",
       "      <td>NaN</td>\n",
       "    </tr>\n",
       "    <tr>\n",
       "      <th>2010-01-01 03:00:00</th>\n",
       "      <td>NaN</td>\n",
       "      <td>NaN</td>\n",
       "      <td>NaN</td>\n",
       "    </tr>\n",
       "    <tr>\n",
       "      <th>2010-01-01 04:00:00</th>\n",
       "      <td>NaN</td>\n",
       "      <td>NaN</td>\n",
       "      <td>NaN</td>\n",
       "    </tr>\n",
       "    <tr>\n",
       "      <th>2010-01-01 05:00:00</th>\n",
       "      <td>NaN</td>\n",
       "      <td>NaN</td>\n",
       "      <td>NaN</td>\n",
       "    </tr>\n",
       "  </tbody>\n",
       "</table>\n",
       "</div>"
      ],
      "text/plain": [
       "                     demand_window_24_mean  demand_window_24_std  \\\n",
       "date_time                                                          \n",
       "2010-01-01 01:00:00                    NaN                   NaN   \n",
       "2010-01-01 02:00:00                    NaN                   NaN   \n",
       "2010-01-01 03:00:00                    NaN                   NaN   \n",
       "2010-01-01 04:00:00                    NaN                   NaN   \n",
       "2010-01-01 05:00:00                    NaN                   NaN   \n",
       "\n",
       "                     demand_window_24_MAD  \n",
       "date_time                                  \n",
       "2010-01-01 01:00:00                   NaN  \n",
       "2010-01-01 02:00:00                   NaN  \n",
       "2010-01-01 03:00:00                   NaN  \n",
       "2010-01-01 04:00:00                   NaN  \n",
       "2010-01-01 05:00:00                   NaN  "
      ]
     },
     "execution_count": 15,
     "metadata": {},
     "output_type": "execute_result"
    }
   ],
   "source": [
    "result = (df['demand'].rolling(window=24)\n",
    "          .agg(func=['mean','std',MAD])\n",
    "          .shift(periods=1, freq='H')\n",
    "          .add_prefix('demand_window_24_'))\n",
    "\n",
    "result.head()"
   ]
  },
  {
   "cell_type": "code",
   "execution_count": 18,
   "metadata": {},
   "outputs": [],
   "source": [
    "result.plot(y=['demand_window_24_mean', 'demand_window_24_std', 'demand_window_24_MAD'], subplots=True, figsize=(18, 8), title=['Measure of spread', 'Measure of volatility', 'Median absolute deviation']);"
   ]
  },
  {
   "attachments": {},
   "cell_type": "markdown",
   "metadata": {},
   "source": [
    "<img src='./plots/rolling-stats-pandas-24h-window.png'>"
   ]
  },
  {
   "attachments": {},
   "cell_type": "markdown",
   "metadata": {},
   "source": [
    "#### `min_periods` argument can be used to allow smaller window at the edges"
   ]
  },
  {
   "cell_type": "code",
   "execution_count": 19,
   "metadata": {},
   "outputs": [
    {
     "data": {
      "text/html": [
       "<div>\n",
       "<style scoped>\n",
       "    .dataframe tbody tr th:only-of-type {\n",
       "        vertical-align: middle;\n",
       "    }\n",
       "\n",
       "    .dataframe tbody tr th {\n",
       "        vertical-align: top;\n",
       "    }\n",
       "\n",
       "    .dataframe thead th {\n",
       "        text-align: right;\n",
       "    }\n",
       "</style>\n",
       "<table border=\"1\" class=\"dataframe\">\n",
       "  <thead>\n",
       "    <tr style=\"text-align: right;\">\n",
       "      <th></th>\n",
       "      <th>demand_window_24_mean</th>\n",
       "      <th>demand_window_24_std</th>\n",
       "      <th>demand_window_24_MAD</th>\n",
       "    </tr>\n",
       "    <tr>\n",
       "      <th>date_time</th>\n",
       "      <th></th>\n",
       "      <th></th>\n",
       "      <th></th>\n",
       "    </tr>\n",
       "  </thead>\n",
       "  <tbody>\n",
       "    <tr>\n",
       "      <th>2010-01-01 01:00:00</th>\n",
       "      <td>8314.448682</td>\n",
       "      <td>NaN</td>\n",
       "      <td>0.000000</td>\n",
       "    </tr>\n",
       "    <tr>\n",
       "      <th>2010-01-01 02:00:00</th>\n",
       "      <td>8290.817989</td>\n",
       "      <td>33.418847</td>\n",
       "      <td>23.630693</td>\n",
       "    </tr>\n",
       "    <tr>\n",
       "      <th>2010-01-01 03:00:00</th>\n",
       "      <td>7992.054807</td>\n",
       "      <td>518.012283</td>\n",
       "      <td>47.261386</td>\n",
       "    </tr>\n",
       "    <tr>\n",
       "      <th>2010-01-01 04:00:00</th>\n",
       "      <td>7732.052986</td>\n",
       "      <td>670.294667</td>\n",
       "      <td>459.960119</td>\n",
       "    </tr>\n",
       "    <tr>\n",
       "      <th>2010-01-01 05:00:00</th>\n",
       "      <td>7559.082315</td>\n",
       "      <td>697.542450</td>\n",
       "      <td>527.328810</td>\n",
       "    </tr>\n",
       "  </tbody>\n",
       "</table>\n",
       "</div>"
      ],
      "text/plain": [
       "                     demand_window_24_mean  demand_window_24_std  \\\n",
       "date_time                                                          \n",
       "2010-01-01 01:00:00            8314.448682                   NaN   \n",
       "2010-01-01 02:00:00            8290.817989             33.418847   \n",
       "2010-01-01 03:00:00            7992.054807            518.012283   \n",
       "2010-01-01 04:00:00            7732.052986            670.294667   \n",
       "2010-01-01 05:00:00            7559.082315            697.542450   \n",
       "\n",
       "                     demand_window_24_MAD  \n",
       "date_time                                  \n",
       "2010-01-01 01:00:00              0.000000  \n",
       "2010-01-01 02:00:00             23.630693  \n",
       "2010-01-01 03:00:00             47.261386  \n",
       "2010-01-01 04:00:00            459.960119  \n",
       "2010-01-01 05:00:00            527.328810  "
      ]
     },
     "execution_count": 19,
     "metadata": {},
     "output_type": "execute_result"
    }
   ],
   "source": [
    "result_pandas = (df['demand'].rolling(window=24, min_periods=1)\n",
    "          .agg(func=['mean','std',MAD])\n",
    "          .shift(periods=1, freq='H')\n",
    "          .add_prefix('demand_window_24_'))\n",
    "\n",
    "result_pandas.head()"
   ]
  },
  {
   "cell_type": "code",
   "execution_count": 59,
   "metadata": {},
   "outputs": [],
   "source": [
    "result_pandas.plot(y=['demand_window_24_mean', 'demand_window_24_std', 'demand_window_24_MAD'], subplots=True, figsize=(18, 8), title=['Measure of spread', 'Measure of volatility', 'Median absolute deviation']);"
   ]
  },
  {
   "attachments": {},
   "cell_type": "markdown",
   "metadata": {},
   "source": [
    "<img src='./plots/rolling-stats-pandas-24h-window-with_min_periods.png'>"
   ]
  },
  {
   "cell_type": "code",
   "execution_count": 61,
   "metadata": {},
   "outputs": [],
   "source": [
    "fig, ax = plt.subplots(nrows=3, ncols=1, figsize=(18,8), sharex=True, constrained_layout=True)\n",
    "ax = ax.ravel()\n",
    "cols = ['demand_window_24_std', 'demand_window_24_MAD']\n",
    "title=['Standard Deviation', 'Median Absolute Deviation']\n",
    "\n",
    "df.plot(y=['demand'], ax=ax[0], color='lightblue')\n",
    "result_pandas.plot(y=['demand_window_24_mean'], color='salmon', title='Demand & 24hr window mean', ax=ax[0])\n",
    "for i,frame in enumerate(ax[1:]):\n",
    "    result_pandas.plot(y=[cols[i]], subplots=True, ax=frame, color='steelblue', title=[title[i]], alpha=0.8);\n",
    "\n",
    "fig.suptitle('Electricity Demand | Rolling statistics', size=24)\n"
   ]
  },
  {
   "attachments": {},
   "cell_type": "markdown",
   "metadata": {},
   "source": [
    "<img src='./plots/Electricity-demand-rolling-stats-pandas-mean-std-mad.png'>"
   ]
  },
  {
   "attachments": {},
   "cell_type": "markdown",
   "metadata": {},
   "source": [
    "## Using Feature-engine\n",
    "\n",
    "lets see how we can extract the same information using feature-engine"
   ]
  },
  {
   "cell_type": "code",
   "execution_count": 63,
   "metadata": {},
   "outputs": [],
   "source": [
    "from feature_engine.timeseries.forecasting.window_features import WindowFeatures\n",
    "\n",
    "transformer = WindowFeatures(variables=['demand', 'temperature'],\n",
    "                             window=[24, 7*24, 365*24], functions=['mean', 'std'], freq=\"1H\")\n",
    "\n",
    "result_feature_engine = transformer.fit_transform(df)\n"
   ]
  },
  {
   "cell_type": "code",
   "execution_count": 78,
   "metadata": {},
   "outputs": [],
   "source": [
    "cols = [c for c in result_feature_engine.columns if 'demand' in c]\n",
    "ax = result_feature_engine.plot(y=cols, subplots=True, figsize=(15,10));"
   ]
  },
  {
   "attachments": {},
   "cell_type": "markdown",
   "metadata": {},
   "source": [
    "<img src='./plots/rolling-stats-feature-engine.png'>"
   ]
  },
  {
   "attachments": {},
   "cell_type": "markdown",
   "metadata": {},
   "source": [
    "#### We can see how different window sizes have smoothed over different seasonalities. This allows the model to make use of behaviours seen at different time scales (e.g., if the daily average of the demand is greater than the average of the past year then perhaps this can influence future values of our target variable)."
   ]
  },
  {
   "cell_type": "code",
   "execution_count": 84,
   "metadata": {},
   "outputs": [],
   "source": [
    "result_feature_engine.filter(regex='demand_.*_mean', axis=1).plot(figsize=(16,8), title='Rolling stats');"
   ]
  },
  {
   "attachments": {},
   "cell_type": "markdown",
   "metadata": {},
   "source": [
    "<img src='./plots/feature-engine-rolling-mean.png'>"
   ]
  },
  {
   "attachments": {},
   "cell_type": "markdown",
   "metadata": {},
   "source": [
    "## Using Sktime\n",
    "\n"
   ]
  },
  {
   "cell_type": "code",
   "execution_count": 88,
   "metadata": {},
   "outputs": [],
   "source": [
    "from sktime.transformations.series.summarize import WindowSummarizer\n",
    "\n",
    "transformer = WindowSummarizer(\n",
    "    target_cols=['demand'],\n",
    "    lag_feature={\n",
    "    \"lag\":[1,2,3],\n",
    "    'mean':[[1, 24],[1, 7*24]],\n",
    "    'std':[[1, 24],[1, 7*24]],\n",
    "     MAD:[[1, 24],[1, 7*24]],\n",
    "    }\n",
    ")\n",
    "\n",
    "result_sktime = transformer.fit_transform(df)"
   ]
  },
  {
   "cell_type": "code",
   "execution_count": 95,
   "metadata": {},
   "outputs": [],
   "source": [
    "result_sktime.filter(regex='demand_mean.*').plot(figsize=(18,6), title=\"Rolling mean | Sktime\")"
   ]
  },
  {
   "attachments": {},
   "cell_type": "markdown",
   "metadata": {},
   "source": [
    "<img src='./plots/rolling-stats-sktime.png'>"
   ]
  },
  {
   "cell_type": "code",
   "execution_count": null,
   "metadata": {},
   "outputs": [],
   "source": []
  }
 ],
 "metadata": {
  "kernelspec": {
   "display_name": "timeseries-env",
   "language": "python",
   "name": "python3"
  },
  "language_info": {
   "codemirror_mode": {
    "name": "ipython",
    "version": 3
   },
   "file_extension": ".py",
   "mimetype": "text/x-python",
   "name": "python",
   "nbconvert_exporter": "python",
   "pygments_lexer": "ipython3",
   "version": "3.9.13"
  },
  "orig_nbformat": 4
 },
 "nbformat": 4,
 "nbformat_minor": 2
}
