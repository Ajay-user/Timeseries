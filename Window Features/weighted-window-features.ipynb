{
 "cells": [
  {
   "cell_type": "code",
   "execution_count": 1,
   "metadata": {},
   "outputs": [],
   "source": [
    "import pandas as pd\n",
    "import numpy as np\n",
    "import matplotlib.pyplot as plt\n",
    "\n",
    "\n",
    "from sktime.utils.plotting import plot_series, plot_windows\n",
    "from feature_engine.timeseries.forecasting import WindowFeatures\n",
    "from sktime.transformations.series.summarize import WindowSummarizer"
   ]
  },
  {
   "attachments": {},
   "cell_type": "markdown",
   "metadata": {},
   "source": [
    "### Data\n",
    "We will work with the hourly electricity demand dataset. It is the electricity demand for the state of Victora in Australia from 2002 to the start of 2015. \n"
   ]
  },
  {
   "cell_type": "code",
   "execution_count": 3,
   "metadata": {},
   "outputs": [],
   "source": [
    "data = pd.read_csv('../../Datasets/victoria_electricity_demand.csv', \n",
    "                   usecols=[\"demand\", \"temperature\", \"date_time\"], \n",
    "                   index_col='date_time', parse_dates=['date_time'])\n",
    "\n",
    "# For this demo we will use a subset of the data\n",
    "data = data.loc[\"2010\":]\n",
    "\n",
    "# plot\n",
    "plot_series(data['demand'])\n",
    "plt.xticks(rotation=30);"
   ]
  },
  {
   "attachments": {},
   "cell_type": "markdown",
   "metadata": {},
   "source": [
    "<img src='./plots/victoria-electricity-deman-2010-2015.png'>"
   ]
  },
  {
   "cell_type": "code",
   "execution_count": 4,
   "metadata": {},
   "outputs": [],
   "source": [
    "df = data.copy()"
   ]
  },
  {
   "cell_type": "code",
   "execution_count": 43,
   "metadata": {},
   "outputs": [],
   "source": [
    "def MAD(x):\n",
    "    return np.median(np.abs(x-np.median(x)))\n",
    "\n",
    "\n",
    "result_pandas = (\n",
    "    df['demand']\n",
    "    .rolling(window=24)\n",
    "    .agg(['mean','std', MAD])\n",
    "    .shift(periods=1, freq='H')\n",
    "    .add_prefix('demand_window_24_')\n",
    ")\n"
   ]
  },
  {
   "cell_type": "code",
   "execution_count": 24,
   "metadata": {},
   "outputs": [],
   "source": [
    "result_pandas.plot(figsize=(16, 8), subplots=True);"
   ]
  },
  {
   "attachments": {},
   "cell_type": "markdown",
   "metadata": {},
   "source": [
    "<img src='./plots/rolling-stats-pandas-24h-window.png'>"
   ]
  },
  {
   "attachments": {},
   "cell_type": "markdown",
   "metadata": {},
   "source": [
    "## Computing weighted rolling windows features using Pandas\n",
    "\n",
    "$$weighted \\: mean \\: (\\mu_w)= \\frac{\\sum_i^n w_i x_i} {w_i}$$\n",
    "\n",
    "$$weighted \\: standard \\: deviation  \\: (\\sigma_w)= \\sqrt{ \\frac{ \\sum_i w_i (x_i - \\mu_w)^2 }{ \\sum_i w_i } }$$"
   ]
  },
  {
   "cell_type": "code",
   "execution_count": 55,
   "metadata": {},
   "outputs": [],
   "source": [
    "def weighted_mean(x, weights):\n",
    "    return np.dot(x, weights) / np.sum(weights)\n",
    "\n",
    "def weighted_standard_deviation(x, weights):\n",
    "    mean = weighted_mean(x, weights)\n",
    "    squared_diff = np.square(x-mean)\n",
    "    return np.sqrt ( np.dot(weights, squared_diff) / np.sum(weights) )\n"
   ]
  },
  {
   "attachments": {},
   "cell_type": "markdown",
   "metadata": {},
   "source": [
    "#### Let's compute the rolling weighted mean and standard deviation. The weights and window size are not independent. They must be the same size."
   ]
  },
  {
   "cell_type": "code",
   "execution_count": 25,
   "metadata": {},
   "outputs": [],
   "source": [
    "window_len = 24\n",
    "weights = np.arange(1, window_len+1)\n",
    "\n",
    "result_weighted_mean = (\n",
    "    df['demand']\n",
    "    .rolling(window=window_len)\n",
    "    .apply(weighted_mean, args=(weights,))\n",
    "    .shift(periods=1, freq='H')\n",
    ")\n"
   ]
  },
  {
   "cell_type": "code",
   "execution_count": 56,
   "metadata": {},
   "outputs": [],
   "source": [
    "window_len = 24\n",
    "weights = np.arange(1, window_len+1)\n",
    "\n",
    "result_weighted_std = (\n",
    "    df['demand']\n",
    "    .rolling(window=window_len)\n",
    "    .apply(weighted_standard_deviation, args=(weights,))\n",
    "    .shift(periods=1, freq='H')\n",
    ")"
   ]
  },
  {
   "attachments": {},
   "cell_type": "markdown",
   "metadata": {},
   "source": [
    "#### As the weighted mean is far more sensitive to recent data we can see the weighted mean fluctuates more\n"
   ]
  },
  {
   "cell_type": "code",
   "execution_count": 76,
   "metadata": {},
   "outputs": [],
   "source": [
    "ax = df.plot(y=['demand'], figsize=(16, 6), alpha=0.5)\n",
    "result_weighted_mean.plot( color='seagreen', ax=ax, label='Weighted window 24hr mean')\n",
    "result_pandas.plot(y=['demand_window_24_mean'], color='yellow', ax=ax, alpha=0.5)\n",
    "\n",
    "plt.legend();"
   ]
  },
  {
   "attachments": {},
   "cell_type": "markdown",
   "metadata": {},
   "source": [
    "<img src='./plots/weighted_window_mean_electricity_demand.png'>"
   ]
  },
  {
   "cell_type": "code",
   "execution_count": 77,
   "metadata": {},
   "outputs": [],
   "source": [
    "index = df.iloc[-24:].index\n",
    "ax = df.loc[index].plot(y=['demand'], figsize=(15,5))\n",
    "result_pandas.loc[index].plot(y=['demand_window_24_mean'], ax=ax)\n",
    "result_weighted_mean.loc[index].plot(ax=ax, label=\"weighted_mean_24hr_window\")\n",
    "plt.legend()\n",
    "plt.suptitle(f'Electricity Demand on {index[-1].year}-{index[-1].month}-{index[-1].day}');"
   ]
  },
  {
   "attachments": {},
   "cell_type": "markdown",
   "metadata": {},
   "source": [
    "<img src='./plots/Electricity-demand-rolling-mean-and-weighted_mean-on-28-feb-2015.png'>"
   ]
  },
  {
   "cell_type": "code",
   "execution_count": 93,
   "metadata": {},
   "outputs": [],
   "source": [
    "fig, ax = plt.subplots(nrows=2, ncols=1, figsize=(16, 6), constrained_layout=True)\n",
    "result_weighted_std.plot(ax=ax[0], color='seagreen')\n",
    "result_pandas.plot(y=['demand_window_24_std'], color='blue', alpha=0.5, label=['weighted_standard_deviation'], ax=ax[1])\n",
    "ax[0].legend(['rolling_standard_deviation'])"
   ]
  },
  {
   "attachments": {},
   "cell_type": "markdown",
   "metadata": {},
   "source": [
    "<img src='./plots/weighted_window_STD_of_demand.png'>"
   ]
  },
  {
   "attachments": {},
   "cell_type": "markdown",
   "metadata": {},
   "source": [
    "## Weekly pattern"
   ]
  },
  {
   "cell_type": "code",
   "execution_count": 101,
   "metadata": {},
   "outputs": [],
   "source": [
    "result_weekly = (\n",
    "    df['demand']\n",
    "    .rolling(window=7*24)\n",
    "    .agg(['mean'])\n",
    "    .shift(periods=1, freq='H')\n",
    "    .add_prefix('demand_weekly_window_')\n",
    ")\n",
    "\n",
    "result_weighted_weekly = (\n",
    "    df['demand']\n",
    "    .rolling(window=7*24)\n",
    "    .apply(weighted_mean, args=(np.arange(1,(7*24)+1),))\n",
    "    .shift(periods=1, freq='H')\n",
    ")"
   ]
  },
  {
   "attachments": {},
   "cell_type": "markdown",
   "metadata": {},
   "source": [
    "### As the weighted mean is far more sensitive to recent data we can see that weighted mean fluctuates more due to the daily seasonality.\n"
   ]
  },
  {
   "cell_type": "code",
   "execution_count": 115,
   "metadata": {},
   "outputs": [],
   "source": [
    "index = df.iloc[-7*24:].index\n",
    "ax = df.loc[index].plot(y=['demand'], figsize=(15,4))\n",
    "result_weekly.loc[index].plot(y=['demand_weekly_window_mean'], ax=ax)\n",
    "result_weighted_mean.loc[index].plot(ax=ax, label=\"Weighted mean\")\n",
    "plt.legend()\n",
    "plt.suptitle(t='Weekly pattern', size=24)"
   ]
  },
  {
   "attachments": {},
   "cell_type": "markdown",
   "metadata": {},
   "source": [
    "<img src='./plots/weighted_mean_weekly_window.png'>"
   ]
  },
  {
   "cell_type": "code",
   "execution_count": null,
   "metadata": {},
   "outputs": [],
   "source": []
  },
  {
   "cell_type": "code",
   "execution_count": null,
   "metadata": {},
   "outputs": [],
   "source": []
  },
  {
   "cell_type": "code",
   "execution_count": null,
   "metadata": {},
   "outputs": [],
   "source": []
  }
 ],
 "metadata": {
  "kernelspec": {
   "display_name": "timeseries-env",
   "language": "python",
   "name": "python3"
  },
  "language_info": {
   "codemirror_mode": {
    "name": "ipython",
    "version": 3
   },
   "file_extension": ".py",
   "mimetype": "text/x-python",
   "name": "python",
   "nbconvert_exporter": "python",
   "pygments_lexer": "ipython3",
   "version": "3.9.13"
  },
  "orig_nbformat": 4
 },
 "nbformat": 4,
 "nbformat_minor": 2
}
